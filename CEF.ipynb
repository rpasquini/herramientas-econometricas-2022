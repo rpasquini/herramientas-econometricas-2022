{
  "nbformat": 4,
  "nbformat_minor": 0,
  "metadata": {
    "colab": {
      "name": "CEF.ipynb",
      "provenance": [],
      "authorship_tag": "ABX9TyPJTUPEicui5bdLcC49sZe+",
      "include_colab_link": true
    },
    "kernelspec": {
      "name": "python3",
      "display_name": "Python 3"
    }
  },
  "cells": [
    {
      "cell_type": "markdown",
      "metadata": {
        "id": "view-in-github",
        "colab_type": "text"
      },
      "source": [
        "<a href=\"https://colab.research.google.com/github/rpasquini/herramientas-econometricas-2022/blob/main/CEF.ipynb\" target=\"_parent\"><img src=\"https://colab.research.google.com/assets/colab-badge.svg\" alt=\"Open In Colab\"/></a>"
      ]
    },
    {
      "cell_type": "markdown",
      "source": [
        "\n",
        "# Introducción\n",
        "En este notebook introduciremos algunas de las principales librerías con las que vamos a estar trabajando. Nuestro objetivo inicial es estimar un modelo de regresión simple utilizando datos de alquileres de 2019.\n",
        "\n"
      ],
      "metadata": {
        "id": "ME0820dDfgLT"
      }
    },
    {
      "cell_type": "markdown",
      "source": [
        "## Donde estamos\n",
        "\n",
        "Nuestro ambiente de trabajo ahora es un *notebook* que permite correr codigo, procesar datos, imprimir gráficos, etc. Estos notebooks en general se conocen como \"Jupyter notebooks\" y tienen como particularidad que el  entorno visual en el que trabajan vive en el navegador. En este momento además, el notebook con el que trabajan \"vive en la nube\" de Google Colaboratory. Utiliza recursos de la nube de Google para procesar los datos, etc. Para trabajar con nuestros propios datos tendremos que hacerlos accesibles a Google Colab (subiendo los datos al Colab o subiendo los datos a otro servidor al cual las librerias que usemos puedan acceder)\n",
        "\n",
        "Comentarios relacionados:\n",
        "\n",
        "- Como dijimos el notebook es solo un entorno visual para trabajar con Python. Proponen celdas de texto, y celdas de codigo. Las de codigo son ejecutables, y muestran los resultados a continuacion. \n",
        "\n",
        "- Trabajar en la nube \"Colab\" es conveniente para una clase. También es posible (y a veces necesario) trabajar con un Jupyter Notebook instalado \"localmente\" en sus computadoras.\n",
        "\n",
        "- El ambiente virtual provisto por Google Colab va a borrar todo el contenido que se aloje en la memoria virtual después de un rato de inactividad. Lo unico que se mantiene es lo que está escrito en el notebook (el codigo y el texto explicativo) y los resultados de la ejecucion de celdas. Esto implica que el notebook debe contener todo el codigo desde la carga de los datos hasta su resultado final para que pueda ser reproducido en cualquier momento.  "
      ],
      "metadata": {
        "id": "gvhiY0nmfj_E"
      }
    },
    {
      "cell_type": "markdown",
      "source": [
        "# Librerías con las que vamos a trabajar\n",
        "\n",
        "Vamos a arrancar con estas:\n",
        "\n",
        "- Pandas: Una de las principales librerías para trabajar y manipular datos en Python en forma tabular (llamados **dataframes** y usualmente abreviados **df**) \n",
        "- Geopandas: Una libreria que busca ser similar a Pandas pero adaptada adicionalmente a  datos con una dimensión geográfica. A los objetos de geopandas los llamamos **geodataframes**.\n",
        "- StatsModels: Una librería para procesamientos estadísticos.\n",
        "\n",
        "\n",
        "Al respecto del uso de librerías, además debemos tener en cuenta:\n",
        "\n",
        "- En general para usar las librerías tendremos que  instalarlas (si no están previamente instaladas) e importarlas al ambiente de trabajo en el que estemos (siempre).\n",
        "- Los Notebooks de Colab vienen con algunas librerías preinstaladas. Solo será necesario importarlas. Para las que no, será necesario instalarlas ( usando un comando de instalacion llamado *pip*).\n",
        "- Importamos una libreria con el comando *import* seguido del nombre de la libreria. Desde ahi en mas el nombre de la libreria contendrá el contenido de la misma. Además, como parte del import podemos usar \"as\" para definir otro nombre con el que la llamaremos de ahi en mas, por ejemplo:\n",
        "```\n",
        "  import pandas as pd\n",
        "```\n",
        "importará pandas como *pd*.\n",
        "\n"
      ],
      "metadata": {
        "id": "vcsCswnYfqaX"
      }
    },
    {
      "cell_type": "markdown",
      "source": [
        "# Python\n",
        "Mostramos a continuacion algunas funcionalidades básicas de Python."
      ],
      "metadata": {
        "id": "6JjXbmoZhtDQ"
      }
    },
    {
      "cell_type": "code",
      "source": [
        "a=10\n",
        "b=30\n",
        "a+b"
      ],
      "metadata": {
        "id": "3pGEXZWYh5s6",
        "outputId": "63bc4c11-39ab-4cad-8b04-1b9ad75f1289",
        "colab": {
          "base_uri": "https://localhost:8080/"
        }
      },
      "execution_count": 85,
      "outputs": [
        {
          "output_type": "execute_result",
          "data": {
            "text/plain": [
              "40"
            ]
          },
          "metadata": {},
          "execution_count": 85
        }
      ]
    },
    {
      "cell_type": "code",
      "source": [
        "c=a+b\n",
        "c"
      ],
      "metadata": {
        "id": "2Oz3K2V_iGCt",
        "outputId": "26e86e2d-076e-4600-fb4a-514bcb4d2438",
        "colab": {
          "base_uri": "https://localhost:8080/"
        }
      },
      "execution_count": 86,
      "outputs": [
        {
          "output_type": "execute_result",
          "data": {
            "text/plain": [
              "40"
            ]
          },
          "metadata": {},
          "execution_count": 86
        }
      ]
    },
    {
      "cell_type": "code",
      "metadata": {
        "id": "QKbRffkNpDKO"
      },
      "source": [
        "# Una lista\n",
        "listanumeros=[1,2,5]\n",
        "listapalabras=[\"clase\", \"econometria\",\"python\"]"
      ],
      "execution_count": 87,
      "outputs": []
    },
    {
      "cell_type": "code",
      "source": [
        "listanumeros[0]"
      ],
      "metadata": {
        "id": "BMmHc-vu9QHx",
        "outputId": "6ac1f0f3-a733-4fb9-910c-33b04a5b22ee",
        "colab": {
          "base_uri": "https://localhost:8080/"
        }
      },
      "execution_count": 88,
      "outputs": [
        {
          "output_type": "execute_result",
          "data": {
            "text/plain": [
              "1"
            ]
          },
          "metadata": {},
          "execution_count": 88
        }
      ]
    },
    {
      "cell_type": "code",
      "source": [
        "sum(listanumeros)"
      ],
      "metadata": {
        "id": "brfXk7d6iYdP",
        "outputId": "58824cf2-660c-43cd-a8e9-ea31d072f026",
        "colab": {
          "base_uri": "https://localhost:8080/"
        }
      },
      "execution_count": 89,
      "outputs": [
        {
          "output_type": "execute_result",
          "data": {
            "text/plain": [
              "8"
            ]
          },
          "metadata": {},
          "execution_count": 89
        }
      ]
    },
    {
      "cell_type": "code",
      "source": [
        "len(listanumeros)"
      ],
      "metadata": {
        "id": "8hRVI0tCibzc",
        "outputId": "bbe70478-ea67-4cad-c962-bc0b19fcee25",
        "colab": {
          "base_uri": "https://localhost:8080/"
        }
      },
      "execution_count": 90,
      "outputs": [
        {
          "output_type": "execute_result",
          "data": {
            "text/plain": [
              "3"
            ]
          },
          "metadata": {},
          "execution_count": 90
        }
      ]
    },
    {
      "cell_type": "code",
      "source": [
        "listapalabras[2]"
      ],
      "metadata": {
        "id": "itpxAR9xieKG",
        "outputId": "63c62d00-f389-4824-ab3b-cadfbfdc1f91",
        "colab": {
          "base_uri": "https://localhost:8080/",
          "height": 35
        }
      },
      "execution_count": 91,
      "outputs": [
        {
          "output_type": "execute_result",
          "data": {
            "text/plain": [
              "'python'"
            ],
            "application/vnd.google.colaboratory.intrinsic+json": {
              "type": "string"
            }
          },
          "metadata": {},
          "execution_count": 91
        }
      ]
    },
    {
      "cell_type": "code",
      "source": [
        "# Un diccionario\n",
        "midir={'alpha':100, 'gamma':340}\n",
        "midir['alpha']"
      ],
      "metadata": {
        "id": "a44OAoqtiiDZ",
        "outputId": "a444bfa0-6f80-44ce-a4e3-8a59a4863de2",
        "colab": {
          "base_uri": "https://localhost:8080/"
        }
      },
      "execution_count": 92,
      "outputs": [
        {
          "output_type": "execute_result",
          "data": {
            "text/plain": [
              "100"
            ]
          },
          "metadata": {},
          "execution_count": 92
        }
      ]
    },
    {
      "cell_type": "markdown",
      "source": [
        "# Importamos libreria pandas y los datos"
      ],
      "metadata": {
        "id": "63ABn7OPizdM"
      }
    },
    {
      "cell_type": "code",
      "source": [
        "import pandas as pd"
      ],
      "metadata": {
        "id": "689AU07X58xi"
      },
      "execution_count": 93,
      "outputs": []
    },
    {
      "cell_type": "code",
      "source": [
        "pd"
      ],
      "metadata": {
        "id": "mVDJr3CT6RIf",
        "outputId": "8b129637-84de-4684-f273-36fa9d5b94f8",
        "colab": {
          "base_uri": "https://localhost:8080/"
        }
      },
      "execution_count": 94,
      "outputs": [
        {
          "output_type": "execute_result",
          "data": {
            "text/plain": [
              "<module 'pandas' from '/usr/local/lib/python3.7/dist-packages/pandas/__init__.py'>"
            ]
          },
          "metadata": {},
          "execution_count": 94
        }
      ]
    },
    {
      "cell_type": "code",
      "source": [
        "df=pd.read_csv('https://github.com/rpasquini/herramientas-econometricas/blob/main/datos/eah2016_individual.csv?raw=true')"
      ],
      "metadata": {
        "id": "MycKDbkz6Zwr"
      },
      "execution_count": 95,
      "outputs": []
    },
    {
      "cell_type": "code",
      "source": [
        "df.columns"
      ],
      "metadata": {
        "id": "lF2RjBkX7yzz",
        "outputId": "b5dca852-d470-4d03-eba3-1bde12d0fdc9",
        "colab": {
          "base_uri": "https://localhost:8080/"
        }
      },
      "execution_count": 96,
      "outputs": [
        {
          "output_type": "execute_result",
          "data": {
            "text/plain": [
              "Index(['id', 'nhogar', 'miembro', 'comuna', 'dominio', 'edad', 'sexo',\n",
              "       'parentes_2', 'p5_2', 'p6_a', 'p6_b', 'estado', 'categori', 't13',\n",
              "       't14', 't18', 't28', 't29', 't29a', 't30', 'sem_hs', 't33', 't34',\n",
              "       't35', 't37_cod_2', 't37_coda_2', 't38', 't39', 't40', 't41_cod_2',\n",
              "       't47', 't48', 't51_bis', 'i1', 'i4', 'i6_3', 'i10', 'i11', 'codioph',\n",
              "       'ioph_2', 'codioph_neto', 'ioph_neto_2', 'codios', 'ios_2', 'codioa',\n",
              "       'ioa_2', 'codlab', 'inglab_2', 'codi3_1x', 'i3_1x_2', 'codi3_2x',\n",
              "       'i3_2x_2', 'codi3_8x', 'i3_8x_2', 'codi3_est', 'i3_est_2', 'codi3_otr',\n",
              "       'i3_otr_2', 'codnolab', 'ingnolab_2', 'coding', 'ingtot_2', 'codi_tot',\n",
              "       'itfb_2', 'ipcfb_2', 'e2', 'e4', 'e6', 'e8', 'e12', 'e13', 'e14',\n",
              "       'edad_30', 'nivel', 'aesc', 'm1', 'm1_2', 'm2_anio', 'm3_anio',\n",
              "       'tipcob2_2', 'sn1_1', 'sn1_7', 'sn1_2', 'sn1_3', 'sn1_4', 'sn1_5', 's8',\n",
              "       'sn14', 'sn16', 's28', 's29', 'fexp', 'sexotexto', 'inmigrante',\n",
              "       'logingreso', 'dsex'],\n",
              "      dtype='object')"
            ]
          },
          "metadata": {},
          "execution_count": 96
        }
      ]
    },
    {
      "cell_type": "code",
      "source": [
        "df.shape[1]"
      ],
      "metadata": {
        "id": "shwD8IUm8tEg",
        "outputId": "79a7c24f-9735-4b50-b420-af21dfb3b89b",
        "colab": {
          "base_uri": "https://localhost:8080/"
        }
      },
      "execution_count": 97,
      "outputs": [
        {
          "output_type": "execute_result",
          "data": {
            "text/plain": [
              "96"
            ]
          },
          "metadata": {},
          "execution_count": 97
        }
      ]
    },
    {
      "cell_type": "code",
      "source": [
        "df"
      ],
      "metadata": {
        "id": "jfGX0I3J9EQD",
        "outputId": "117f0c2c-84f8-4164-c22c-b7ff0cf30b7c",
        "colab": {
          "base_uri": "https://localhost:8080/",
          "height": 696
        }
      },
      "execution_count": 98,
      "outputs": [
        {
          "output_type": "execute_result",
          "data": {
            "text/plain": [
              "         id  nhogar  miembro  comuna                                 dominio  \\\n",
              "0         1       1        1      13                            resto ciudad   \n",
              "1         2       1        1       1                            resto ciudad   \n",
              "2         3       1        1       6  inquilinatos hoteles inmuebles tomados   \n",
              "3         4       1        1      14                            resto ciudad   \n",
              "4         5       1        1       2                            resto ciudad   \n",
              "...     ...     ...      ...     ...                                     ...   \n",
              "14507  5943       1        2      10                            resto ciudad   \n",
              "14508  5944       1        1       1                            resto ciudad   \n",
              "14509  5944       1        2       1                            resto ciudad   \n",
              "14510  5945       1        1      13                            resto ciudad   \n",
              "14511  5945       1        2      13                            resto ciudad   \n",
              "\n",
              "       edad   sexo  parentes_2  p5_2  p6_a  ...  s8 sn14       sn16  s28  s29  \\\n",
              "0        18  mujer           1     6    95  ...   2    0  Excelente    2    0   \n",
              "1        18  varon           1     6    95  ...   2    0  Excelente    0    0   \n",
              "2        18  mujer           1     6    95  ...   2    0  Excelente    2    0   \n",
              "3        18  varon           1     6    95  ...   2    0  Excelente    0    0   \n",
              "4        18  varon           1     6    95  ...   2    0      Bueno    0    0   \n",
              "...     ...    ...         ...   ...   ...  ...  ..  ...        ...  ...  ...   \n",
              "14507    45  mujer           9     3     0  ...   2    0  Muy bueno    1    5   \n",
              "14508    99  mujer           1     4     0  ...   2    0  Excelente    1    6   \n",
              "14509    55  mujer           9     2     0  ...   2    0    Regular    1    4   \n",
              "14510   102  varon           1     4     0  ...   2    0      Bueno    0    0   \n",
              "14511    72  mujer           9     5     0  ...   2    0    Regular    1    4   \n",
              "\n",
              "       fexp  sexotexto  inmigrante  logingreso  dsex  \n",
              "0       973      mujer  nativo arg    8.384804     1  \n",
              "1       115      varon  inmigrante    9.104980     0  \n",
              "2       223      mujer  inmigrante    8.482602     1  \n",
              "3       421      varon  nativo arg    9.615806     0  \n",
              "4       199      varon  nativo arg    9.615806     0  \n",
              "...     ...        ...         ...         ...   ...  \n",
              "14507   242      mujer  inmigrante    8.748305     1  \n",
              "14508   112      mujer  nativo arg    9.952278     1  \n",
              "14509   112      mujer  inmigrante    9.210340     1  \n",
              "14510   185      varon  nativo arg    8.922658     0  \n",
              "14511   185      mujer  inmigrante    9.190138     1  \n",
              "\n",
              "[14512 rows x 96 columns]"
            ],
            "text/html": [
              "\n",
              "  <div id=\"df-12c491b2-1800-498d-953e-c514fdeca708\">\n",
              "    <div class=\"colab-df-container\">\n",
              "      <div>\n",
              "<style scoped>\n",
              "    .dataframe tbody tr th:only-of-type {\n",
              "        vertical-align: middle;\n",
              "    }\n",
              "\n",
              "    .dataframe tbody tr th {\n",
              "        vertical-align: top;\n",
              "    }\n",
              "\n",
              "    .dataframe thead th {\n",
              "        text-align: right;\n",
              "    }\n",
              "</style>\n",
              "<table border=\"1\" class=\"dataframe\">\n",
              "  <thead>\n",
              "    <tr style=\"text-align: right;\">\n",
              "      <th></th>\n",
              "      <th>id</th>\n",
              "      <th>nhogar</th>\n",
              "      <th>miembro</th>\n",
              "      <th>comuna</th>\n",
              "      <th>dominio</th>\n",
              "      <th>edad</th>\n",
              "      <th>sexo</th>\n",
              "      <th>parentes_2</th>\n",
              "      <th>p5_2</th>\n",
              "      <th>p6_a</th>\n",
              "      <th>...</th>\n",
              "      <th>s8</th>\n",
              "      <th>sn14</th>\n",
              "      <th>sn16</th>\n",
              "      <th>s28</th>\n",
              "      <th>s29</th>\n",
              "      <th>fexp</th>\n",
              "      <th>sexotexto</th>\n",
              "      <th>inmigrante</th>\n",
              "      <th>logingreso</th>\n",
              "      <th>dsex</th>\n",
              "    </tr>\n",
              "  </thead>\n",
              "  <tbody>\n",
              "    <tr>\n",
              "      <th>0</th>\n",
              "      <td>1</td>\n",
              "      <td>1</td>\n",
              "      <td>1</td>\n",
              "      <td>13</td>\n",
              "      <td>resto ciudad</td>\n",
              "      <td>18</td>\n",
              "      <td>mujer</td>\n",
              "      <td>1</td>\n",
              "      <td>6</td>\n",
              "      <td>95</td>\n",
              "      <td>...</td>\n",
              "      <td>2</td>\n",
              "      <td>0</td>\n",
              "      <td>Excelente</td>\n",
              "      <td>2</td>\n",
              "      <td>0</td>\n",
              "      <td>973</td>\n",
              "      <td>mujer</td>\n",
              "      <td>nativo arg</td>\n",
              "      <td>8.384804</td>\n",
              "      <td>1</td>\n",
              "    </tr>\n",
              "    <tr>\n",
              "      <th>1</th>\n",
              "      <td>2</td>\n",
              "      <td>1</td>\n",
              "      <td>1</td>\n",
              "      <td>1</td>\n",
              "      <td>resto ciudad</td>\n",
              "      <td>18</td>\n",
              "      <td>varon</td>\n",
              "      <td>1</td>\n",
              "      <td>6</td>\n",
              "      <td>95</td>\n",
              "      <td>...</td>\n",
              "      <td>2</td>\n",
              "      <td>0</td>\n",
              "      <td>Excelente</td>\n",
              "      <td>0</td>\n",
              "      <td>0</td>\n",
              "      <td>115</td>\n",
              "      <td>varon</td>\n",
              "      <td>inmigrante</td>\n",
              "      <td>9.104980</td>\n",
              "      <td>0</td>\n",
              "    </tr>\n",
              "    <tr>\n",
              "      <th>2</th>\n",
              "      <td>3</td>\n",
              "      <td>1</td>\n",
              "      <td>1</td>\n",
              "      <td>6</td>\n",
              "      <td>inquilinatos hoteles inmuebles tomados</td>\n",
              "      <td>18</td>\n",
              "      <td>mujer</td>\n",
              "      <td>1</td>\n",
              "      <td>6</td>\n",
              "      <td>95</td>\n",
              "      <td>...</td>\n",
              "      <td>2</td>\n",
              "      <td>0</td>\n",
              "      <td>Excelente</td>\n",
              "      <td>2</td>\n",
              "      <td>0</td>\n",
              "      <td>223</td>\n",
              "      <td>mujer</td>\n",
              "      <td>inmigrante</td>\n",
              "      <td>8.482602</td>\n",
              "      <td>1</td>\n",
              "    </tr>\n",
              "    <tr>\n",
              "      <th>3</th>\n",
              "      <td>4</td>\n",
              "      <td>1</td>\n",
              "      <td>1</td>\n",
              "      <td>14</td>\n",
              "      <td>resto ciudad</td>\n",
              "      <td>18</td>\n",
              "      <td>varon</td>\n",
              "      <td>1</td>\n",
              "      <td>6</td>\n",
              "      <td>95</td>\n",
              "      <td>...</td>\n",
              "      <td>2</td>\n",
              "      <td>0</td>\n",
              "      <td>Excelente</td>\n",
              "      <td>0</td>\n",
              "      <td>0</td>\n",
              "      <td>421</td>\n",
              "      <td>varon</td>\n",
              "      <td>nativo arg</td>\n",
              "      <td>9.615806</td>\n",
              "      <td>0</td>\n",
              "    </tr>\n",
              "    <tr>\n",
              "      <th>4</th>\n",
              "      <td>5</td>\n",
              "      <td>1</td>\n",
              "      <td>1</td>\n",
              "      <td>2</td>\n",
              "      <td>resto ciudad</td>\n",
              "      <td>18</td>\n",
              "      <td>varon</td>\n",
              "      <td>1</td>\n",
              "      <td>6</td>\n",
              "      <td>95</td>\n",
              "      <td>...</td>\n",
              "      <td>2</td>\n",
              "      <td>0</td>\n",
              "      <td>Bueno</td>\n",
              "      <td>0</td>\n",
              "      <td>0</td>\n",
              "      <td>199</td>\n",
              "      <td>varon</td>\n",
              "      <td>nativo arg</td>\n",
              "      <td>9.615806</td>\n",
              "      <td>0</td>\n",
              "    </tr>\n",
              "    <tr>\n",
              "      <th>...</th>\n",
              "      <td>...</td>\n",
              "      <td>...</td>\n",
              "      <td>...</td>\n",
              "      <td>...</td>\n",
              "      <td>...</td>\n",
              "      <td>...</td>\n",
              "      <td>...</td>\n",
              "      <td>...</td>\n",
              "      <td>...</td>\n",
              "      <td>...</td>\n",
              "      <td>...</td>\n",
              "      <td>...</td>\n",
              "      <td>...</td>\n",
              "      <td>...</td>\n",
              "      <td>...</td>\n",
              "      <td>...</td>\n",
              "      <td>...</td>\n",
              "      <td>...</td>\n",
              "      <td>...</td>\n",
              "      <td>...</td>\n",
              "      <td>...</td>\n",
              "    </tr>\n",
              "    <tr>\n",
              "      <th>14507</th>\n",
              "      <td>5943</td>\n",
              "      <td>1</td>\n",
              "      <td>2</td>\n",
              "      <td>10</td>\n",
              "      <td>resto ciudad</td>\n",
              "      <td>45</td>\n",
              "      <td>mujer</td>\n",
              "      <td>9</td>\n",
              "      <td>3</td>\n",
              "      <td>0</td>\n",
              "      <td>...</td>\n",
              "      <td>2</td>\n",
              "      <td>0</td>\n",
              "      <td>Muy bueno</td>\n",
              "      <td>1</td>\n",
              "      <td>5</td>\n",
              "      <td>242</td>\n",
              "      <td>mujer</td>\n",
              "      <td>inmigrante</td>\n",
              "      <td>8.748305</td>\n",
              "      <td>1</td>\n",
              "    </tr>\n",
              "    <tr>\n",
              "      <th>14508</th>\n",
              "      <td>5944</td>\n",
              "      <td>1</td>\n",
              "      <td>1</td>\n",
              "      <td>1</td>\n",
              "      <td>resto ciudad</td>\n",
              "      <td>99</td>\n",
              "      <td>mujer</td>\n",
              "      <td>1</td>\n",
              "      <td>4</td>\n",
              "      <td>0</td>\n",
              "      <td>...</td>\n",
              "      <td>2</td>\n",
              "      <td>0</td>\n",
              "      <td>Excelente</td>\n",
              "      <td>1</td>\n",
              "      <td>6</td>\n",
              "      <td>112</td>\n",
              "      <td>mujer</td>\n",
              "      <td>nativo arg</td>\n",
              "      <td>9.952278</td>\n",
              "      <td>1</td>\n",
              "    </tr>\n",
              "    <tr>\n",
              "      <th>14509</th>\n",
              "      <td>5944</td>\n",
              "      <td>1</td>\n",
              "      <td>2</td>\n",
              "      <td>1</td>\n",
              "      <td>resto ciudad</td>\n",
              "      <td>55</td>\n",
              "      <td>mujer</td>\n",
              "      <td>9</td>\n",
              "      <td>2</td>\n",
              "      <td>0</td>\n",
              "      <td>...</td>\n",
              "      <td>2</td>\n",
              "      <td>0</td>\n",
              "      <td>Regular</td>\n",
              "      <td>1</td>\n",
              "      <td>4</td>\n",
              "      <td>112</td>\n",
              "      <td>mujer</td>\n",
              "      <td>inmigrante</td>\n",
              "      <td>9.210340</td>\n",
              "      <td>1</td>\n",
              "    </tr>\n",
              "    <tr>\n",
              "      <th>14510</th>\n",
              "      <td>5945</td>\n",
              "      <td>1</td>\n",
              "      <td>1</td>\n",
              "      <td>13</td>\n",
              "      <td>resto ciudad</td>\n",
              "      <td>102</td>\n",
              "      <td>varon</td>\n",
              "      <td>1</td>\n",
              "      <td>4</td>\n",
              "      <td>0</td>\n",
              "      <td>...</td>\n",
              "      <td>2</td>\n",
              "      <td>0</td>\n",
              "      <td>Bueno</td>\n",
              "      <td>0</td>\n",
              "      <td>0</td>\n",
              "      <td>185</td>\n",
              "      <td>varon</td>\n",
              "      <td>nativo arg</td>\n",
              "      <td>8.922658</td>\n",
              "      <td>0</td>\n",
              "    </tr>\n",
              "    <tr>\n",
              "      <th>14511</th>\n",
              "      <td>5945</td>\n",
              "      <td>1</td>\n",
              "      <td>2</td>\n",
              "      <td>13</td>\n",
              "      <td>resto ciudad</td>\n",
              "      <td>72</td>\n",
              "      <td>mujer</td>\n",
              "      <td>9</td>\n",
              "      <td>5</td>\n",
              "      <td>0</td>\n",
              "      <td>...</td>\n",
              "      <td>2</td>\n",
              "      <td>0</td>\n",
              "      <td>Regular</td>\n",
              "      <td>1</td>\n",
              "      <td>4</td>\n",
              "      <td>185</td>\n",
              "      <td>mujer</td>\n",
              "      <td>inmigrante</td>\n",
              "      <td>9.190138</td>\n",
              "      <td>1</td>\n",
              "    </tr>\n",
              "  </tbody>\n",
              "</table>\n",
              "<p>14512 rows × 96 columns</p>\n",
              "</div>\n",
              "      <button class=\"colab-df-convert\" onclick=\"convertToInteractive('df-12c491b2-1800-498d-953e-c514fdeca708')\"\n",
              "              title=\"Convert this dataframe to an interactive table.\"\n",
              "              style=\"display:none;\">\n",
              "        \n",
              "  <svg xmlns=\"http://www.w3.org/2000/svg\" height=\"24px\"viewBox=\"0 0 24 24\"\n",
              "       width=\"24px\">\n",
              "    <path d=\"M0 0h24v24H0V0z\" fill=\"none\"/>\n",
              "    <path d=\"M18.56 5.44l.94 2.06.94-2.06 2.06-.94-2.06-.94-.94-2.06-.94 2.06-2.06.94zm-11 1L8.5 8.5l.94-2.06 2.06-.94-2.06-.94L8.5 2.5l-.94 2.06-2.06.94zm10 10l.94 2.06.94-2.06 2.06-.94-2.06-.94-.94-2.06-.94 2.06-2.06.94z\"/><path d=\"M17.41 7.96l-1.37-1.37c-.4-.4-.92-.59-1.43-.59-.52 0-1.04.2-1.43.59L10.3 9.45l-7.72 7.72c-.78.78-.78 2.05 0 2.83L4 21.41c.39.39.9.59 1.41.59.51 0 1.02-.2 1.41-.59l7.78-7.78 2.81-2.81c.8-.78.8-2.07 0-2.86zM5.41 20L4 18.59l7.72-7.72 1.47 1.35L5.41 20z\"/>\n",
              "  </svg>\n",
              "      </button>\n",
              "      \n",
              "  <style>\n",
              "    .colab-df-container {\n",
              "      display:flex;\n",
              "      flex-wrap:wrap;\n",
              "      gap: 12px;\n",
              "    }\n",
              "\n",
              "    .colab-df-convert {\n",
              "      background-color: #E8F0FE;\n",
              "      border: none;\n",
              "      border-radius: 50%;\n",
              "      cursor: pointer;\n",
              "      display: none;\n",
              "      fill: #1967D2;\n",
              "      height: 32px;\n",
              "      padding: 0 0 0 0;\n",
              "      width: 32px;\n",
              "    }\n",
              "\n",
              "    .colab-df-convert:hover {\n",
              "      background-color: #E2EBFA;\n",
              "      box-shadow: 0px 1px 2px rgba(60, 64, 67, 0.3), 0px 1px 3px 1px rgba(60, 64, 67, 0.15);\n",
              "      fill: #174EA6;\n",
              "    }\n",
              "\n",
              "    [theme=dark] .colab-df-convert {\n",
              "      background-color: #3B4455;\n",
              "      fill: #D2E3FC;\n",
              "    }\n",
              "\n",
              "    [theme=dark] .colab-df-convert:hover {\n",
              "      background-color: #434B5C;\n",
              "      box-shadow: 0px 1px 3px 1px rgba(0, 0, 0, 0.15);\n",
              "      filter: drop-shadow(0px 1px 2px rgba(0, 0, 0, 0.3));\n",
              "      fill: #FFFFFF;\n",
              "    }\n",
              "  </style>\n",
              "\n",
              "      <script>\n",
              "        const buttonEl =\n",
              "          document.querySelector('#df-12c491b2-1800-498d-953e-c514fdeca708 button.colab-df-convert');\n",
              "        buttonEl.style.display =\n",
              "          google.colab.kernel.accessAllowed ? 'block' : 'none';\n",
              "\n",
              "        async function convertToInteractive(key) {\n",
              "          const element = document.querySelector('#df-12c491b2-1800-498d-953e-c514fdeca708');\n",
              "          const dataTable =\n",
              "            await google.colab.kernel.invokeFunction('convertToInteractive',\n",
              "                                                     [key], {});\n",
              "          if (!dataTable) return;\n",
              "\n",
              "          const docLinkHtml = 'Like what you see? Visit the ' +\n",
              "            '<a target=\"_blank\" href=https://colab.research.google.com/notebooks/data_table.ipynb>data table notebook</a>'\n",
              "            + ' to learn more about interactive tables.';\n",
              "          element.innerHTML = '';\n",
              "          dataTable['output_type'] = 'display_data';\n",
              "          await google.colab.output.renderOutput(dataTable, element);\n",
              "          const docLink = document.createElement('div');\n",
              "          docLink.innerHTML = docLinkHtml;\n",
              "          element.appendChild(docLink);\n",
              "        }\n",
              "      </script>\n",
              "    </div>\n",
              "  </div>\n",
              "  "
            ]
          },
          "metadata": {},
          "execution_count": 98
        }
      ]
    },
    {
      "cell_type": "code",
      "source": [
        "df[\"edad\"]+df[\"p5_2\"]"
      ],
      "metadata": {
        "id": "KET9T9Gd812k",
        "outputId": "e3082291-04ec-48a7-f8b9-9b868d3aa0cb",
        "colab": {
          "base_uri": "https://localhost:8080/"
        }
      },
      "execution_count": 99,
      "outputs": [
        {
          "output_type": "execute_result",
          "data": {
            "text/plain": [
              "0         24\n",
              "1         24\n",
              "2         24\n",
              "3         24\n",
              "4         24\n",
              "        ... \n",
              "14507     48\n",
              "14508    103\n",
              "14509     57\n",
              "14510    106\n",
              "14511     77\n",
              "Length: 14512, dtype: int64"
            ]
          },
          "metadata": {},
          "execution_count": 99
        }
      ]
    },
    {
      "cell_type": "code",
      "metadata": {
        "id": "nT3bTu57i3qV"
      },
      "source": [
        "import pandas as pd\n",
        "df=pd.read_csv('https://github.com/rpasquini/herramientas-econometricas/blob/main/datos/eah2016_individual.csv?raw=true')"
      ],
      "execution_count": 100,
      "outputs": []
    },
    {
      "cell_type": "code",
      "metadata": {
        "id": "jVg9ciQtyMVj",
        "outputId": "63235222-02ad-41da-fcef-5cf77deb6edb",
        "colab": {
          "base_uri": "https://localhost:8080/",
          "height": 421
        }
      },
      "source": [
        "# dataframe\n",
        "df.head()"
      ],
      "execution_count": 101,
      "outputs": [
        {
          "output_type": "execute_result",
          "data": {
            "text/plain": [
              "   id  nhogar  miembro  comuna                                 dominio  edad  \\\n",
              "0   1       1        1      13                            resto ciudad    18   \n",
              "1   2       1        1       1                            resto ciudad    18   \n",
              "2   3       1        1       6  inquilinatos hoteles inmuebles tomados    18   \n",
              "3   4       1        1      14                            resto ciudad    18   \n",
              "4   5       1        1       2                            resto ciudad    18   \n",
              "\n",
              "    sexo  parentes_2  p5_2  p6_a  ...  s8 sn14       sn16  s28  s29  fexp  \\\n",
              "0  mujer           1     6    95  ...   2    0  Excelente    2    0   973   \n",
              "1  varon           1     6    95  ...   2    0  Excelente    0    0   115   \n",
              "2  mujer           1     6    95  ...   2    0  Excelente    2    0   223   \n",
              "3  varon           1     6    95  ...   2    0  Excelente    0    0   421   \n",
              "4  varon           1     6    95  ...   2    0      Bueno    0    0   199   \n",
              "\n",
              "   sexotexto  inmigrante  logingreso  dsex  \n",
              "0      mujer  nativo arg    8.384804     1  \n",
              "1      varon  inmigrante    9.104980     0  \n",
              "2      mujer  inmigrante    8.482602     1  \n",
              "3      varon  nativo arg    9.615806     0  \n",
              "4      varon  nativo arg    9.615806     0  \n",
              "\n",
              "[5 rows x 96 columns]"
            ],
            "text/html": [
              "\n",
              "  <div id=\"df-15a33187-af11-4da9-8fb7-0d1125b7cfed\">\n",
              "    <div class=\"colab-df-container\">\n",
              "      <div>\n",
              "<style scoped>\n",
              "    .dataframe tbody tr th:only-of-type {\n",
              "        vertical-align: middle;\n",
              "    }\n",
              "\n",
              "    .dataframe tbody tr th {\n",
              "        vertical-align: top;\n",
              "    }\n",
              "\n",
              "    .dataframe thead th {\n",
              "        text-align: right;\n",
              "    }\n",
              "</style>\n",
              "<table border=\"1\" class=\"dataframe\">\n",
              "  <thead>\n",
              "    <tr style=\"text-align: right;\">\n",
              "      <th></th>\n",
              "      <th>id</th>\n",
              "      <th>nhogar</th>\n",
              "      <th>miembro</th>\n",
              "      <th>comuna</th>\n",
              "      <th>dominio</th>\n",
              "      <th>edad</th>\n",
              "      <th>sexo</th>\n",
              "      <th>parentes_2</th>\n",
              "      <th>p5_2</th>\n",
              "      <th>p6_a</th>\n",
              "      <th>...</th>\n",
              "      <th>s8</th>\n",
              "      <th>sn14</th>\n",
              "      <th>sn16</th>\n",
              "      <th>s28</th>\n",
              "      <th>s29</th>\n",
              "      <th>fexp</th>\n",
              "      <th>sexotexto</th>\n",
              "      <th>inmigrante</th>\n",
              "      <th>logingreso</th>\n",
              "      <th>dsex</th>\n",
              "    </tr>\n",
              "  </thead>\n",
              "  <tbody>\n",
              "    <tr>\n",
              "      <th>0</th>\n",
              "      <td>1</td>\n",
              "      <td>1</td>\n",
              "      <td>1</td>\n",
              "      <td>13</td>\n",
              "      <td>resto ciudad</td>\n",
              "      <td>18</td>\n",
              "      <td>mujer</td>\n",
              "      <td>1</td>\n",
              "      <td>6</td>\n",
              "      <td>95</td>\n",
              "      <td>...</td>\n",
              "      <td>2</td>\n",
              "      <td>0</td>\n",
              "      <td>Excelente</td>\n",
              "      <td>2</td>\n",
              "      <td>0</td>\n",
              "      <td>973</td>\n",
              "      <td>mujer</td>\n",
              "      <td>nativo arg</td>\n",
              "      <td>8.384804</td>\n",
              "      <td>1</td>\n",
              "    </tr>\n",
              "    <tr>\n",
              "      <th>1</th>\n",
              "      <td>2</td>\n",
              "      <td>1</td>\n",
              "      <td>1</td>\n",
              "      <td>1</td>\n",
              "      <td>resto ciudad</td>\n",
              "      <td>18</td>\n",
              "      <td>varon</td>\n",
              "      <td>1</td>\n",
              "      <td>6</td>\n",
              "      <td>95</td>\n",
              "      <td>...</td>\n",
              "      <td>2</td>\n",
              "      <td>0</td>\n",
              "      <td>Excelente</td>\n",
              "      <td>0</td>\n",
              "      <td>0</td>\n",
              "      <td>115</td>\n",
              "      <td>varon</td>\n",
              "      <td>inmigrante</td>\n",
              "      <td>9.104980</td>\n",
              "      <td>0</td>\n",
              "    </tr>\n",
              "    <tr>\n",
              "      <th>2</th>\n",
              "      <td>3</td>\n",
              "      <td>1</td>\n",
              "      <td>1</td>\n",
              "      <td>6</td>\n",
              "      <td>inquilinatos hoteles inmuebles tomados</td>\n",
              "      <td>18</td>\n",
              "      <td>mujer</td>\n",
              "      <td>1</td>\n",
              "      <td>6</td>\n",
              "      <td>95</td>\n",
              "      <td>...</td>\n",
              "      <td>2</td>\n",
              "      <td>0</td>\n",
              "      <td>Excelente</td>\n",
              "      <td>2</td>\n",
              "      <td>0</td>\n",
              "      <td>223</td>\n",
              "      <td>mujer</td>\n",
              "      <td>inmigrante</td>\n",
              "      <td>8.482602</td>\n",
              "      <td>1</td>\n",
              "    </tr>\n",
              "    <tr>\n",
              "      <th>3</th>\n",
              "      <td>4</td>\n",
              "      <td>1</td>\n",
              "      <td>1</td>\n",
              "      <td>14</td>\n",
              "      <td>resto ciudad</td>\n",
              "      <td>18</td>\n",
              "      <td>varon</td>\n",
              "      <td>1</td>\n",
              "      <td>6</td>\n",
              "      <td>95</td>\n",
              "      <td>...</td>\n",
              "      <td>2</td>\n",
              "      <td>0</td>\n",
              "      <td>Excelente</td>\n",
              "      <td>0</td>\n",
              "      <td>0</td>\n",
              "      <td>421</td>\n",
              "      <td>varon</td>\n",
              "      <td>nativo arg</td>\n",
              "      <td>9.615806</td>\n",
              "      <td>0</td>\n",
              "    </tr>\n",
              "    <tr>\n",
              "      <th>4</th>\n",
              "      <td>5</td>\n",
              "      <td>1</td>\n",
              "      <td>1</td>\n",
              "      <td>2</td>\n",
              "      <td>resto ciudad</td>\n",
              "      <td>18</td>\n",
              "      <td>varon</td>\n",
              "      <td>1</td>\n",
              "      <td>6</td>\n",
              "      <td>95</td>\n",
              "      <td>...</td>\n",
              "      <td>2</td>\n",
              "      <td>0</td>\n",
              "      <td>Bueno</td>\n",
              "      <td>0</td>\n",
              "      <td>0</td>\n",
              "      <td>199</td>\n",
              "      <td>varon</td>\n",
              "      <td>nativo arg</td>\n",
              "      <td>9.615806</td>\n",
              "      <td>0</td>\n",
              "    </tr>\n",
              "  </tbody>\n",
              "</table>\n",
              "<p>5 rows × 96 columns</p>\n",
              "</div>\n",
              "      <button class=\"colab-df-convert\" onclick=\"convertToInteractive('df-15a33187-af11-4da9-8fb7-0d1125b7cfed')\"\n",
              "              title=\"Convert this dataframe to an interactive table.\"\n",
              "              style=\"display:none;\">\n",
              "        \n",
              "  <svg xmlns=\"http://www.w3.org/2000/svg\" height=\"24px\"viewBox=\"0 0 24 24\"\n",
              "       width=\"24px\">\n",
              "    <path d=\"M0 0h24v24H0V0z\" fill=\"none\"/>\n",
              "    <path d=\"M18.56 5.44l.94 2.06.94-2.06 2.06-.94-2.06-.94-.94-2.06-.94 2.06-2.06.94zm-11 1L8.5 8.5l.94-2.06 2.06-.94-2.06-.94L8.5 2.5l-.94 2.06-2.06.94zm10 10l.94 2.06.94-2.06 2.06-.94-2.06-.94-.94-2.06-.94 2.06-2.06.94z\"/><path d=\"M17.41 7.96l-1.37-1.37c-.4-.4-.92-.59-1.43-.59-.52 0-1.04.2-1.43.59L10.3 9.45l-7.72 7.72c-.78.78-.78 2.05 0 2.83L4 21.41c.39.39.9.59 1.41.59.51 0 1.02-.2 1.41-.59l7.78-7.78 2.81-2.81c.8-.78.8-2.07 0-2.86zM5.41 20L4 18.59l7.72-7.72 1.47 1.35L5.41 20z\"/>\n",
              "  </svg>\n",
              "      </button>\n",
              "      \n",
              "  <style>\n",
              "    .colab-df-container {\n",
              "      display:flex;\n",
              "      flex-wrap:wrap;\n",
              "      gap: 12px;\n",
              "    }\n",
              "\n",
              "    .colab-df-convert {\n",
              "      background-color: #E8F0FE;\n",
              "      border: none;\n",
              "      border-radius: 50%;\n",
              "      cursor: pointer;\n",
              "      display: none;\n",
              "      fill: #1967D2;\n",
              "      height: 32px;\n",
              "      padding: 0 0 0 0;\n",
              "      width: 32px;\n",
              "    }\n",
              "\n",
              "    .colab-df-convert:hover {\n",
              "      background-color: #E2EBFA;\n",
              "      box-shadow: 0px 1px 2px rgba(60, 64, 67, 0.3), 0px 1px 3px 1px rgba(60, 64, 67, 0.15);\n",
              "      fill: #174EA6;\n",
              "    }\n",
              "\n",
              "    [theme=dark] .colab-df-convert {\n",
              "      background-color: #3B4455;\n",
              "      fill: #D2E3FC;\n",
              "    }\n",
              "\n",
              "    [theme=dark] .colab-df-convert:hover {\n",
              "      background-color: #434B5C;\n",
              "      box-shadow: 0px 1px 3px 1px rgba(0, 0, 0, 0.15);\n",
              "      filter: drop-shadow(0px 1px 2px rgba(0, 0, 0, 0.3));\n",
              "      fill: #FFFFFF;\n",
              "    }\n",
              "  </style>\n",
              "\n",
              "      <script>\n",
              "        const buttonEl =\n",
              "          document.querySelector('#df-15a33187-af11-4da9-8fb7-0d1125b7cfed button.colab-df-convert');\n",
              "        buttonEl.style.display =\n",
              "          google.colab.kernel.accessAllowed ? 'block' : 'none';\n",
              "\n",
              "        async function convertToInteractive(key) {\n",
              "          const element = document.querySelector('#df-15a33187-af11-4da9-8fb7-0d1125b7cfed');\n",
              "          const dataTable =\n",
              "            await google.colab.kernel.invokeFunction('convertToInteractive',\n",
              "                                                     [key], {});\n",
              "          if (!dataTable) return;\n",
              "\n",
              "          const docLinkHtml = 'Like what you see? Visit the ' +\n",
              "            '<a target=\"_blank\" href=https://colab.research.google.com/notebooks/data_table.ipynb>data table notebook</a>'\n",
              "            + ' to learn more about interactive tables.';\n",
              "          element.innerHTML = '';\n",
              "          dataTable['output_type'] = 'display_data';\n",
              "          await google.colab.output.renderOutput(dataTable, element);\n",
              "          const docLink = document.createElement('div');\n",
              "          docLink.innerHTML = docLinkHtml;\n",
              "          element.appendChild(docLink);\n",
              "        }\n",
              "      </script>\n",
              "    </div>\n",
              "  </div>\n",
              "  "
            ]
          },
          "metadata": {},
          "execution_count": 101
        }
      ]
    },
    {
      "cell_type": "code",
      "metadata": {
        "id": "_Dg-fDZvspaa",
        "outputId": "e9acfdbd-b492-447e-c93a-9b606ddec450",
        "colab": {
          "base_uri": "https://localhost:8080/"
        }
      },
      "source": [
        "df.shape"
      ],
      "execution_count": 102,
      "outputs": [
        {
          "output_type": "execute_result",
          "data": {
            "text/plain": [
              "(14512, 96)"
            ]
          },
          "metadata": {},
          "execution_count": 102
        }
      ]
    },
    {
      "cell_type": "code",
      "metadata": {
        "id": "PRdSl3qaqb4M",
        "outputId": "9e350f8e-80d8-45c2-e08e-2ba82b0ef807",
        "colab": {
          "base_uri": "https://localhost:8080/"
        }
      },
      "source": [
        "df.columns"
      ],
      "execution_count": 103,
      "outputs": [
        {
          "output_type": "execute_result",
          "data": {
            "text/plain": [
              "Index(['id', 'nhogar', 'miembro', 'comuna', 'dominio', 'edad', 'sexo',\n",
              "       'parentes_2', 'p5_2', 'p6_a', 'p6_b', 'estado', 'categori', 't13',\n",
              "       't14', 't18', 't28', 't29', 't29a', 't30', 'sem_hs', 't33', 't34',\n",
              "       't35', 't37_cod_2', 't37_coda_2', 't38', 't39', 't40', 't41_cod_2',\n",
              "       't47', 't48', 't51_bis', 'i1', 'i4', 'i6_3', 'i10', 'i11', 'codioph',\n",
              "       'ioph_2', 'codioph_neto', 'ioph_neto_2', 'codios', 'ios_2', 'codioa',\n",
              "       'ioa_2', 'codlab', 'inglab_2', 'codi3_1x', 'i3_1x_2', 'codi3_2x',\n",
              "       'i3_2x_2', 'codi3_8x', 'i3_8x_2', 'codi3_est', 'i3_est_2', 'codi3_otr',\n",
              "       'i3_otr_2', 'codnolab', 'ingnolab_2', 'coding', 'ingtot_2', 'codi_tot',\n",
              "       'itfb_2', 'ipcfb_2', 'e2', 'e4', 'e6', 'e8', 'e12', 'e13', 'e14',\n",
              "       'edad_30', 'nivel', 'aesc', 'm1', 'm1_2', 'm2_anio', 'm3_anio',\n",
              "       'tipcob2_2', 'sn1_1', 'sn1_7', 'sn1_2', 'sn1_3', 'sn1_4', 'sn1_5', 's8',\n",
              "       'sn14', 'sn16', 's28', 's29', 'fexp', 'sexotexto', 'inmigrante',\n",
              "       'logingreso', 'dsex'],\n",
              "      dtype='object')"
            ]
          },
          "metadata": {},
          "execution_count": 103
        }
      ]
    },
    {
      "cell_type": "code",
      "source": [
        "df[\"ingtot_2\"]"
      ],
      "metadata": {
        "id": "5hu9ltfH-fih",
        "outputId": "25272cef-552e-409e-f619-29a5eca25a4f",
        "colab": {
          "base_uri": "https://localhost:8080/"
        }
      },
      "execution_count": 104,
      "outputs": [
        {
          "output_type": "execute_result",
          "data": {
            "text/plain": [
              "0         4380\n",
              "1         9000\n",
              "2         4830\n",
              "3        15000\n",
              "4        15000\n",
              "         ...  \n",
              "14507     6300\n",
              "14508    21000\n",
              "14509    10000\n",
              "14510     7500\n",
              "14511     9800\n",
              "Name: ingtot_2, Length: 14512, dtype: int64"
            ]
          },
          "metadata": {},
          "execution_count": 104
        }
      ]
    },
    {
      "cell_type": "code",
      "source": [
        "df.ingtot_2"
      ],
      "metadata": {
        "id": "Y9-SqtyT-n7d",
        "outputId": "cb56ef16-435b-40f2-fcea-3410ac268337",
        "colab": {
          "base_uri": "https://localhost:8080/"
        }
      },
      "execution_count": 105,
      "outputs": [
        {
          "output_type": "execute_result",
          "data": {
            "text/plain": [
              "0         4380\n",
              "1         9000\n",
              "2         4830\n",
              "3        15000\n",
              "4        15000\n",
              "         ...  \n",
              "14507     6300\n",
              "14508    21000\n",
              "14509    10000\n",
              "14510     7500\n",
              "14511     9800\n",
              "Name: ingtot_2, Length: 14512, dtype: int64"
            ]
          },
          "metadata": {},
          "execution_count": 105
        }
      ]
    },
    {
      "cell_type": "code",
      "source": [
        "df[\"ingtot_2\"].hist()"
      ],
      "metadata": {
        "id": "A1uZHVZ-_Bw4",
        "outputId": "6743863f-0ab6-4136-d6f2-56cd1e4c71ad",
        "colab": {
          "base_uri": "https://localhost:8080/",
          "height": 283
        }
      },
      "execution_count": 106,
      "outputs": [
        {
          "output_type": "execute_result",
          "data": {
            "text/plain": [
              "<matplotlib.axes._subplots.AxesSubplot at 0x7fa96062a410>"
            ]
          },
          "metadata": {},
          "execution_count": 106
        },
        {
          "output_type": "display_data",
          "data": {
            "text/plain": [
              "<Figure size 432x288 with 1 Axes>"
            ],
            "image/png": "[encoded data removed]"
          },
          "metadata": {
            "needs_background": "light"
          }
        }
      ]
    },
    {
      "cell_type": "code",
      "source": [
        "df[\"ingtot_2\"].describe()"
      ],
      "metadata": {
        "id": "Sxiltytn_gQM",
        "outputId": "f93d12d1-9080-4c7c-d813-b7d7bd304b96",
        "colab": {
          "base_uri": "https://localhost:8080/"
        }
      },
      "execution_count": 107,
      "outputs": [
        {
          "output_type": "execute_result",
          "data": {
            "text/plain": [
              "count     14512.000000\n",
              "mean      10386.681850\n",
              "std       13396.598595\n",
              "min           0.000000\n",
              "25%           0.000000\n",
              "50%        7000.000000\n",
              "75%       15000.000000\n",
              "max      276000.000000\n",
              "Name: ingtot_2, dtype: float64"
            ]
          },
          "metadata": {},
          "execution_count": 107
        }
      ]
    },
    {
      "cell_type": "code",
      "source": [
        "df[\"ingtot_2\"]==0"
      ],
      "metadata": {
        "id": "x5oXzqVLi9mZ",
        "outputId": "327423a8-bb19-4895-cdd2-2921be3a6245",
        "colab": {
          "base_uri": "https://localhost:8080/"
        }
      },
      "execution_count": 108,
      "outputs": [
        {
          "output_type": "execute_result",
          "data": {
            "text/plain": [
              "0        False\n",
              "1        False\n",
              "2        False\n",
              "3        False\n",
              "4        False\n",
              "         ...  \n",
              "14507    False\n",
              "14508    False\n",
              "14509    False\n",
              "14510    False\n",
              "14511    False\n",
              "Name: ingtot_2, Length: 14512, dtype: bool"
            ]
          },
          "metadata": {},
          "execution_count": 108
        }
      ]
    },
    {
      "cell_type": "code",
      "source": [
        "import numpy as np"
      ],
      "metadata": {
        "id": "2FBrRkm4_3jr"
      },
      "execution_count": 109,
      "outputs": []
    },
    {
      "cell_type": "code",
      "source": [
        "ricardo2=np.log(df[\"ingtot_2\"])"
      ],
      "metadata": {
        "id": "dB6HsaeaAI6q",
        "outputId": "64558f93-4e30-4fb8-cefe-d39ab26687f4",
        "colab": {
          "base_uri": "https://localhost:8080/"
        }
      },
      "execution_count": 110,
      "outputs": [
        {
          "output_type": "stream",
          "name": "stderr",
          "text": [
            "/usr/local/lib/python3.7/dist-packages/pandas/core/arraylike.py:364: RuntimeWarning: divide by zero encountered in log\n",
            "  result = getattr(ufunc, method)(*inputs, **kwargs)\n"
          ]
        }
      ]
    },
    {
      "cell_type": "code",
      "source": [
        "df['logingreso']=np.log(df[\"ingtot_2\"])"
      ],
      "metadata": {
        "id": "5RFLZnumAkF3"
      },
      "execution_count": 111,
      "outputs": []
    },
    {
      "cell_type": "code",
      "source": [
        "df['logingreso']"
      ],
      "metadata": {
        "id": "SBkpUm1hAwnV",
        "outputId": "7e8d9ed0-523e-4ac3-d3fc-78c45cb3bb2f",
        "colab": {
          "base_uri": "https://localhost:8080/"
        }
      },
      "execution_count": 112,
      "outputs": [
        {
          "output_type": "execute_result",
          "data": {
            "text/plain": [
              "0        8.384804\n",
              "1        9.104980\n",
              "2        8.482602\n",
              "3        9.615805\n",
              "4        9.615805\n",
              "           ...   \n",
              "14507    8.748305\n",
              "14508    9.952278\n",
              "14509    9.210340\n",
              "14510    8.922658\n",
              "14511    9.190138\n",
              "Name: logingreso, Length: 14512, dtype: float64"
            ]
          },
          "metadata": {},
          "execution_count": 112
        }
      ]
    },
    {
      "cell_type": "code",
      "source": [
        "df.columns"
      ],
      "metadata": {
        "id": "KT2pn24yAymQ",
        "outputId": "fe65f0fa-0a87-4c79-fada-c80838ddef74",
        "colab": {
          "base_uri": "https://localhost:8080/"
        }
      },
      "execution_count": 113,
      "outputs": [
        {
          "output_type": "execute_result",
          "data": {
            "text/plain": [
              "Index(['id', 'nhogar', 'miembro', 'comuna', 'dominio', 'edad', 'sexo',\n",
              "       'parentes_2', 'p5_2', 'p6_a', 'p6_b', 'estado', 'categori', 't13',\n",
              "       't14', 't18', 't28', 't29', 't29a', 't30', 'sem_hs', 't33', 't34',\n",
              "       't35', 't37_cod_2', 't37_coda_2', 't38', 't39', 't40', 't41_cod_2',\n",
              "       't47', 't48', 't51_bis', 'i1', 'i4', 'i6_3', 'i10', 'i11', 'codioph',\n",
              "       'ioph_2', 'codioph_neto', 'ioph_neto_2', 'codios', 'ios_2', 'codioa',\n",
              "       'ioa_2', 'codlab', 'inglab_2', 'codi3_1x', 'i3_1x_2', 'codi3_2x',\n",
              "       'i3_2x_2', 'codi3_8x', 'i3_8x_2', 'codi3_est', 'i3_est_2', 'codi3_otr',\n",
              "       'i3_otr_2', 'codnolab', 'ingnolab_2', 'coding', 'ingtot_2', 'codi_tot',\n",
              "       'itfb_2', 'ipcfb_2', 'e2', 'e4', 'e6', 'e8', 'e12', 'e13', 'e14',\n",
              "       'edad_30', 'nivel', 'aesc', 'm1', 'm1_2', 'm2_anio', 'm3_anio',\n",
              "       'tipcob2_2', 'sn1_1', 'sn1_7', 'sn1_2', 'sn1_3', 'sn1_4', 'sn1_5', 's8',\n",
              "       'sn14', 'sn16', 's28', 's29', 'fexp', 'sexotexto', 'inmigrante',\n",
              "       'logingreso', 'dsex'],\n",
              "      dtype='object')"
            ]
          },
          "metadata": {},
          "execution_count": 113
        }
      ]
    },
    {
      "cell_type": "code",
      "source": [
        "df=df.loc[df['ingtot_2']!=0]"
      ],
      "metadata": {
        "id": "-V_RdphgjLAy"
      },
      "execution_count": 114,
      "outputs": []
    },
    {
      "cell_type": "code",
      "metadata": {
        "id": "J3KSrbYBrs-v",
        "outputId": "b867f4e4-588e-46c2-cf48-5e1710487e1b",
        "colab": {
          "base_uri": "https://localhost:8080/",
          "height": 283
        }
      },
      "source": [
        "df['logingreso'].hist()"
      ],
      "execution_count": 115,
      "outputs": [
        {
          "output_type": "execute_result",
          "data": {
            "text/plain": [
              "<matplotlib.axes._subplots.AxesSubplot at 0x7fa9607558d0>"
            ]
          },
          "metadata": {},
          "execution_count": 115
        },
        {
          "output_type": "display_data",
          "data": {
            "text/plain": [
              "<Figure size 432x288 with 1 Axes>"
            ],
            "image/png": "[encoded data removed]"
          },
          "metadata": {
            "needs_background": "light"
          }
        }
      ]
    },
    {
      "cell_type": "code",
      "source": [
        "df[\"ingtot_2\"].mean()"
      ],
      "metadata": {
        "id": "dyVIFtkVA54r",
        "outputId": "7b4d0d53-2f03-4a62-da2a-d820a5d58acf",
        "colab": {
          "base_uri": "https://localhost:8080/"
        }
      },
      "execution_count": 116,
      "outputs": [
        {
          "output_type": "execute_result",
          "data": {
            "text/plain": [
              "14904.729259369129"
            ]
          },
          "metadata": {},
          "execution_count": 116
        }
      ]
    },
    {
      "cell_type": "code",
      "source": [
        "df.loc[df[\"sexo\"]==\"mujer\"]"
      ],
      "metadata": {
        "id": "hvZhdQ38BycE",
        "outputId": "e983a43a-7f57-4ed1-dfaf-30d577a4e5b4",
        "colab": {
          "base_uri": "https://localhost:8080/",
          "height": 696
        }
      },
      "execution_count": 117,
      "outputs": [
        {
          "output_type": "execute_result",
          "data": {
            "text/plain": [
              "         id  nhogar  miembro  comuna                                 dominio  \\\n",
              "0         1       1        1      13                            resto ciudad   \n",
              "2         3       1        1       6  inquilinatos hoteles inmuebles tomados   \n",
              "5         6       1        1      13                            resto ciudad   \n",
              "7         7       1        1       7                            resto ciudad   \n",
              "10        7       2        1       7                            resto ciudad   \n",
              "...     ...     ...      ...     ...                                     ...   \n",
              "14506  5943       1        1      10                            resto ciudad   \n",
              "14507  5943       1        2      10                            resto ciudad   \n",
              "14508  5944       1        1       1                            resto ciudad   \n",
              "14509  5944       1        2       1                            resto ciudad   \n",
              "14511  5945       1        2      13                            resto ciudad   \n",
              "\n",
              "       edad   sexo  parentes_2  p5_2  p6_a  ...  s8 sn14       sn16  s28  s29  \\\n",
              "0        18  mujer           1     6    95  ...   2    0  Excelente    2    0   \n",
              "2        18  mujer           1     6    95  ...   2    0  Excelente    2    0   \n",
              "5        18  mujer           1     6    95  ...   2    0      Bueno    2    0   \n",
              "7        18  mujer           1     3    95  ...   2    0      Bueno    1    2   \n",
              "10       56  mujer           1     3     0  ...   2    0       Malo    1    1   \n",
              "...     ...    ...         ...   ...   ...  ...  ..  ...        ...  ...  ...   \n",
              "14506    99  mujer           1     4     0  ...   2    0      Bueno    1    2   \n",
              "14507    45  mujer           9     3     0  ...   2    0  Muy bueno    1    5   \n",
              "14508    99  mujer           1     4     0  ...   2    0  Excelente    1    6   \n",
              "14509    55  mujer           9     2     0  ...   2    0    Regular    1    4   \n",
              "14511    72  mujer           9     5     0  ...   2    0    Regular    1    4   \n",
              "\n",
              "       fexp  sexotexto  inmigrante  logingreso  dsex  \n",
              "0       973      mujer  nativo arg    8.384804     1  \n",
              "2       223      mujer  inmigrante    8.482602     1  \n",
              "5       314      mujer  nativo arg    8.612503     1  \n",
              "7       272      mujer  nativo arg    7.901007     1  \n",
              "10      272      mujer         NaN    8.665613     1  \n",
              "...     ...        ...         ...         ...   ...  \n",
              "14506   242      mujer  nativo arg    8.496990     1  \n",
              "14507   242      mujer  inmigrante    8.748305     1  \n",
              "14508   112      mujer  nativo arg    9.952278     1  \n",
              "14509   112      mujer  inmigrante    9.210340     1  \n",
              "14511   185      mujer  inmigrante    9.190138     1  \n",
              "\n",
              "[5324 rows x 96 columns]"
            ],
            "text/html": [
              "\n",
              "  <div id=\"df-dd016a02-e8bd-467e-a21e-055310d8325e\">\n",
              "    <div class=\"colab-df-container\">\n",
              "      <div>\n",
              "<style scoped>\n",
              "    .dataframe tbody tr th:only-of-type {\n",
              "        vertical-align: middle;\n",
              "    }\n",
              "\n",
              "    .dataframe tbody tr th {\n",
              "        vertical-align: top;\n",
              "    }\n",
              "\n",
              "    .dataframe thead th {\n",
              "        text-align: right;\n",
              "    }\n",
              "</style>\n",
              "<table border=\"1\" class=\"dataframe\">\n",
              "  <thead>\n",
              "    <tr style=\"text-align: right;\">\n",
              "      <th></th>\n",
              "      <th>id</th>\n",
              "      <th>nhogar</th>\n",
              "      <th>miembro</th>\n",
              "      <th>comuna</th>\n",
              "      <th>dominio</th>\n",
              "      <th>edad</th>\n",
              "      <th>sexo</th>\n",
              "      <th>parentes_2</th>\n",
              "      <th>p5_2</th>\n",
              "      <th>p6_a</th>\n",
              "      <th>...</th>\n",
              "      <th>s8</th>\n",
              "      <th>sn14</th>\n",
              "      <th>sn16</th>\n",
              "      <th>s28</th>\n",
              "      <th>s29</th>\n",
              "      <th>fexp</th>\n",
              "      <th>sexotexto</th>\n",
              "      <th>inmigrante</th>\n",
              "      <th>logingreso</th>\n",
              "      <th>dsex</th>\n",
              "    </tr>\n",
              "  </thead>\n",
              "  <tbody>\n",
              "    <tr>\n",
              "      <th>0</th>\n",
              "      <td>1</td>\n",
              "      <td>1</td>\n",
              "      <td>1</td>\n",
              "      <td>13</td>\n",
              "      <td>resto ciudad</td>\n",
              "      <td>18</td>\n",
              "      <td>mujer</td>\n",
              "      <td>1</td>\n",
              "      <td>6</td>\n",
              "      <td>95</td>\n",
              "      <td>...</td>\n",
              "      <td>2</td>\n",
              "      <td>0</td>\n",
              "      <td>Excelente</td>\n",
              "      <td>2</td>\n",
              "      <td>0</td>\n",
              "      <td>973</td>\n",
              "      <td>mujer</td>\n",
              "      <td>nativo arg</td>\n",
              "      <td>8.384804</td>\n",
              "      <td>1</td>\n",
              "    </tr>\n",
              "    <tr>\n",
              "      <th>2</th>\n",
              "      <td>3</td>\n",
              "      <td>1</td>\n",
              "      <td>1</td>\n",
              "      <td>6</td>\n",
              "      <td>inquilinatos hoteles inmuebles tomados</td>\n",
              "      <td>18</td>\n",
              "      <td>mujer</td>\n",
              "      <td>1</td>\n",
              "      <td>6</td>\n",
              "      <td>95</td>\n",
              "      <td>...</td>\n",
              "      <td>2</td>\n",
              "      <td>0</td>\n",
              "      <td>Excelente</td>\n",
              "      <td>2</td>\n",
              "      <td>0</td>\n",
              "      <td>223</td>\n",
              "      <td>mujer</td>\n",
              "      <td>inmigrante</td>\n",
              "      <td>8.482602</td>\n",
              "      <td>1</td>\n",
              "    </tr>\n",
              "    <tr>\n",
              "      <th>5</th>\n",
              "      <td>6</td>\n",
              "      <td>1</td>\n",
              "      <td>1</td>\n",
              "      <td>13</td>\n",
              "      <td>resto ciudad</td>\n",
              "      <td>18</td>\n",
              "      <td>mujer</td>\n",
              "      <td>1</td>\n",
              "      <td>6</td>\n",
              "      <td>95</td>\n",
              "      <td>...</td>\n",
              "      <td>2</td>\n",
              "      <td>0</td>\n",
              "      <td>Bueno</td>\n",
              "      <td>2</td>\n",
              "      <td>0</td>\n",
              "      <td>314</td>\n",
              "      <td>mujer</td>\n",
              "      <td>nativo arg</td>\n",
              "      <td>8.612503</td>\n",
              "      <td>1</td>\n",
              "    </tr>\n",
              "    <tr>\n",
              "      <th>7</th>\n",
              "      <td>7</td>\n",
              "      <td>1</td>\n",
              "      <td>1</td>\n",
              "      <td>7</td>\n",
              "      <td>resto ciudad</td>\n",
              "      <td>18</td>\n",
              "      <td>mujer</td>\n",
              "      <td>1</td>\n",
              "      <td>3</td>\n",
              "      <td>95</td>\n",
              "      <td>...</td>\n",
              "      <td>2</td>\n",
              "      <td>0</td>\n",
              "      <td>Bueno</td>\n",
              "      <td>1</td>\n",
              "      <td>2</td>\n",
              "      <td>272</td>\n",
              "      <td>mujer</td>\n",
              "      <td>nativo arg</td>\n",
              "      <td>7.901007</td>\n",
              "      <td>1</td>\n",
              "    </tr>\n",
              "    <tr>\n",
              "      <th>10</th>\n",
              "      <td>7</td>\n",
              "      <td>2</td>\n",
              "      <td>1</td>\n",
              "      <td>7</td>\n",
              "      <td>resto ciudad</td>\n",
              "      <td>56</td>\n",
              "      <td>mujer</td>\n",
              "      <td>1</td>\n",
              "      <td>3</td>\n",
              "      <td>0</td>\n",
              "      <td>...</td>\n",
              "      <td>2</td>\n",
              "      <td>0</td>\n",
              "      <td>Malo</td>\n",
              "      <td>1</td>\n",
              "      <td>1</td>\n",
              "      <td>272</td>\n",
              "      <td>mujer</td>\n",
              "      <td>NaN</td>\n",
              "      <td>8.665613</td>\n",
              "      <td>1</td>\n",
              "    </tr>\n",
              "    <tr>\n",
              "      <th>...</th>\n",
              "      <td>...</td>\n",
              "      <td>...</td>\n",
              "      <td>...</td>\n",
              "      <td>...</td>\n",
              "      <td>...</td>\n",
              "      <td>...</td>\n",
              "      <td>...</td>\n",
              "      <td>...</td>\n",
              "      <td>...</td>\n",
              "      <td>...</td>\n",
              "      <td>...</td>\n",
              "      <td>...</td>\n",
              "      <td>...</td>\n",
              "      <td>...</td>\n",
              "      <td>...</td>\n",
              "      <td>...</td>\n",
              "      <td>...</td>\n",
              "      <td>...</td>\n",
              "      <td>...</td>\n",
              "      <td>...</td>\n",
              "      <td>...</td>\n",
              "    </tr>\n",
              "    <tr>\n",
              "      <th>14506</th>\n",
              "      <td>5943</td>\n",
              "      <td>1</td>\n",
              "      <td>1</td>\n",
              "      <td>10</td>\n",
              "      <td>resto ciudad</td>\n",
              "      <td>99</td>\n",
              "      <td>mujer</td>\n",
              "      <td>1</td>\n",
              "      <td>4</td>\n",
              "      <td>0</td>\n",
              "      <td>...</td>\n",
              "      <td>2</td>\n",
              "      <td>0</td>\n",
              "      <td>Bueno</td>\n",
              "      <td>1</td>\n",
              "      <td>2</td>\n",
              "      <td>242</td>\n",
              "      <td>mujer</td>\n",
              "      <td>nativo arg</td>\n",
              "      <td>8.496990</td>\n",
              "      <td>1</td>\n",
              "    </tr>\n",
              "    <tr>\n",
              "      <th>14507</th>\n",
              "      <td>5943</td>\n",
              "      <td>1</td>\n",
              "      <td>2</td>\n",
              "      <td>10</td>\n",
              "      <td>resto ciudad</td>\n",
              "      <td>45</td>\n",
              "      <td>mujer</td>\n",
              "      <td>9</td>\n",
              "      <td>3</td>\n",
              "      <td>0</td>\n",
              "      <td>...</td>\n",
              "      <td>2</td>\n",
              "      <td>0</td>\n",
              "      <td>Muy bueno</td>\n",
              "      <td>1</td>\n",
              "      <td>5</td>\n",
              "      <td>242</td>\n",
              "      <td>mujer</td>\n",
              "      <td>inmigrante</td>\n",
              "      <td>8.748305</td>\n",
              "      <td>1</td>\n",
              "    </tr>\n",
              "    <tr>\n",
              "      <th>14508</th>\n",
              "      <td>5944</td>\n",
              "      <td>1</td>\n",
              "      <td>1</td>\n",
              "      <td>1</td>\n",
              "      <td>resto ciudad</td>\n",
              "      <td>99</td>\n",
              "      <td>mujer</td>\n",
              "      <td>1</td>\n",
              "      <td>4</td>\n",
              "      <td>0</td>\n",
              "      <td>...</td>\n",
              "      <td>2</td>\n",
              "      <td>0</td>\n",
              "      <td>Excelente</td>\n",
              "      <td>1</td>\n",
              "      <td>6</td>\n",
              "      <td>112</td>\n",
              "      <td>mujer</td>\n",
              "      <td>nativo arg</td>\n",
              "      <td>9.952278</td>\n",
              "      <td>1</td>\n",
              "    </tr>\n",
              "    <tr>\n",
              "      <th>14509</th>\n",
              "      <td>5944</td>\n",
              "      <td>1</td>\n",
              "      <td>2</td>\n",
              "      <td>1</td>\n",
              "      <td>resto ciudad</td>\n",
              "      <td>55</td>\n",
              "      <td>mujer</td>\n",
              "      <td>9</td>\n",
              "      <td>2</td>\n",
              "      <td>0</td>\n",
              "      <td>...</td>\n",
              "      <td>2</td>\n",
              "      <td>0</td>\n",
              "      <td>Regular</td>\n",
              "      <td>1</td>\n",
              "      <td>4</td>\n",
              "      <td>112</td>\n",
              "      <td>mujer</td>\n",
              "      <td>inmigrante</td>\n",
              "      <td>9.210340</td>\n",
              "      <td>1</td>\n",
              "    </tr>\n",
              "    <tr>\n",
              "      <th>14511</th>\n",
              "      <td>5945</td>\n",
              "      <td>1</td>\n",
              "      <td>2</td>\n",
              "      <td>13</td>\n",
              "      <td>resto ciudad</td>\n",
              "      <td>72</td>\n",
              "      <td>mujer</td>\n",
              "      <td>9</td>\n",
              "      <td>5</td>\n",
              "      <td>0</td>\n",
              "      <td>...</td>\n",
              "      <td>2</td>\n",
              "      <td>0</td>\n",
              "      <td>Regular</td>\n",
              "      <td>1</td>\n",
              "      <td>4</td>\n",
              "      <td>185</td>\n",
              "      <td>mujer</td>\n",
              "      <td>inmigrante</td>\n",
              "      <td>9.190138</td>\n",
              "      <td>1</td>\n",
              "    </tr>\n",
              "  </tbody>\n",
              "</table>\n",
              "<p>5324 rows × 96 columns</p>\n",
              "</div>\n",
              "      <button class=\"colab-df-convert\" onclick=\"convertToInteractive('df-dd016a02-e8bd-467e-a21e-055310d8325e')\"\n",
              "              title=\"Convert this dataframe to an interactive table.\"\n",
              "              style=\"display:none;\">\n",
              "        \n",
              "  <svg xmlns=\"http://www.w3.org/2000/svg\" height=\"24px\"viewBox=\"0 0 24 24\"\n",
              "       width=\"24px\">\n",
              "    <path d=\"M0 0h24v24H0V0z\" fill=\"none\"/>\n",
              "    <path d=\"M18.56 5.44l.94 2.06.94-2.06 2.06-.94-2.06-.94-.94-2.06-.94 2.06-2.06.94zm-11 1L8.5 8.5l.94-2.06 2.06-.94-2.06-.94L8.5 2.5l-.94 2.06-2.06.94zm10 10l.94 2.06.94-2.06 2.06-.94-2.06-.94-.94-2.06-.94 2.06-2.06.94z\"/><path d=\"M17.41 7.96l-1.37-1.37c-.4-.4-.92-.59-1.43-.59-.52 0-1.04.2-1.43.59L10.3 9.45l-7.72 7.72c-.78.78-.78 2.05 0 2.83L4 21.41c.39.39.9.59 1.41.59.51 0 1.02-.2 1.41-.59l7.78-7.78 2.81-2.81c.8-.78.8-2.07 0-2.86zM5.41 20L4 18.59l7.72-7.72 1.47 1.35L5.41 20z\"/>\n",
              "  </svg>\n",
              "      </button>\n",
              "      \n",
              "  <style>\n",
              "    .colab-df-container {\n",
              "      display:flex;\n",
              "      flex-wrap:wrap;\n",
              "      gap: 12px;\n",
              "    }\n",
              "\n",
              "    .colab-df-convert {\n",
              "      background-color: #E8F0FE;\n",
              "      border: none;\n",
              "      border-radius: 50%;\n",
              "      cursor: pointer;\n",
              "      display: none;\n",
              "      fill: #1967D2;\n",
              "      height: 32px;\n",
              "      padding: 0 0 0 0;\n",
              "      width: 32px;\n",
              "    }\n",
              "\n",
              "    .colab-df-convert:hover {\n",
              "      background-color: #E2EBFA;\n",
              "      box-shadow: 0px 1px 2px rgba(60, 64, 67, 0.3), 0px 1px 3px 1px rgba(60, 64, 67, 0.15);\n",
              "      fill: #174EA6;\n",
              "    }\n",
              "\n",
              "    [theme=dark] .colab-df-convert {\n",
              "      background-color: #3B4455;\n",
              "      fill: #D2E3FC;\n",
              "    }\n",
              "\n",
              "    [theme=dark] .colab-df-convert:hover {\n",
              "      background-color: #434B5C;\n",
              "      box-shadow: 0px 1px 3px 1px rgba(0, 0, 0, 0.15);\n",
              "      filter: drop-shadow(0px 1px 2px rgba(0, 0, 0, 0.3));\n",
              "      fill: #FFFFFF;\n",
              "    }\n",
              "  </style>\n",
              "\n",
              "      <script>\n",
              "        const buttonEl =\n",
              "          document.querySelector('#df-dd016a02-e8bd-467e-a21e-055310d8325e button.colab-df-convert');\n",
              "        buttonEl.style.display =\n",
              "          google.colab.kernel.accessAllowed ? 'block' : 'none';\n",
              "\n",
              "        async function convertToInteractive(key) {\n",
              "          const element = document.querySelector('#df-dd016a02-e8bd-467e-a21e-055310d8325e');\n",
              "          const dataTable =\n",
              "            await google.colab.kernel.invokeFunction('convertToInteractive',\n",
              "                                                     [key], {});\n",
              "          if (!dataTable) return;\n",
              "\n",
              "          const docLinkHtml = 'Like what you see? Visit the ' +\n",
              "            '<a target=\"_blank\" href=https://colab.research.google.com/notebooks/data_table.ipynb>data table notebook</a>'\n",
              "            + ' to learn more about interactive tables.';\n",
              "          element.innerHTML = '';\n",
              "          dataTable['output_type'] = 'display_data';\n",
              "          await google.colab.output.renderOutput(dataTable, element);\n",
              "          const docLink = document.createElement('div');\n",
              "          docLink.innerHTML = docLinkHtml;\n",
              "          element.appendChild(docLink);\n",
              "        }\n",
              "      </script>\n",
              "    </div>\n",
              "  </div>\n",
              "  "
            ]
          },
          "metadata": {},
          "execution_count": 117
        }
      ]
    },
    {
      "cell_type": "code",
      "source": [
        "df.loc[(df[\"sexo\"]==\"mujer\") & (df[\"edad\"]>18)]"
      ],
      "metadata": {
        "id": "sYioWAIlC0zs",
        "outputId": "242da74b-e641-43e7-e542-15213449df94",
        "colab": {
          "base_uri": "https://localhost:8080/",
          "height": 696
        }
      },
      "execution_count": 118,
      "outputs": [
        {
          "output_type": "execute_result",
          "data": {
            "text/plain": [
              "         id  nhogar  miembro  comuna                                 dominio  \\\n",
              "10        7       2        1       7                            resto ciudad   \n",
              "12        8       1        2       4                            resto ciudad   \n",
              "14        9       1        2       1                            resto ciudad   \n",
              "16       10       1        1       3  inquilinatos hoteles inmuebles tomados   \n",
              "17       11       1        1      14                            resto ciudad   \n",
              "...     ...     ...      ...     ...                                     ...   \n",
              "14506  5943       1        1      10                            resto ciudad   \n",
              "14507  5943       1        2      10                            resto ciudad   \n",
              "14508  5944       1        1       1                            resto ciudad   \n",
              "14509  5944       1        2       1                            resto ciudad   \n",
              "14511  5945       1        2      13                            resto ciudad   \n",
              "\n",
              "       edad   sexo  parentes_2  p5_2  p6_a  ...  s8 sn14       sn16  s28  s29  \\\n",
              "10       56  mujer           1     3     0  ...   2    0       Malo    1    1   \n",
              "12       20  mujer           7     6    95  ...   2    0  Muy bueno    2    0   \n",
              "14       22  mujer           7     3    95  ...   2    0  Muy bueno    1    1   \n",
              "16       19  mujer           1     6    95  ...   2    0      Bueno    2    0   \n",
              "17       19  mujer           1     6    95  ...   2    0  Muy bueno    2    0   \n",
              "...     ...    ...         ...   ...   ...  ...  ..  ...        ...  ...  ...   \n",
              "14506    99  mujer           1     4     0  ...   2    0      Bueno    1    2   \n",
              "14507    45  mujer           9     3     0  ...   2    0  Muy bueno    1    5   \n",
              "14508    99  mujer           1     4     0  ...   2    0  Excelente    1    6   \n",
              "14509    55  mujer           9     2     0  ...   2    0    Regular    1    4   \n",
              "14511    72  mujer           9     5     0  ...   2    0    Regular    1    4   \n",
              "\n",
              "       fexp  sexotexto  inmigrante  logingreso  dsex  \n",
              "10      272      mujer         NaN    8.665613     1  \n",
              "12      139      mujer  nativo arg    8.294050     1  \n",
              "14      126      mujer  nativo arg    9.259131     1  \n",
              "16      202      mujer  inmigrante    9.392662     1  \n",
              "17      383      mujer  nativo arg    9.305651     1  \n",
              "...     ...        ...         ...         ...   ...  \n",
              "14506   242      mujer  nativo arg    8.496990     1  \n",
              "14507   242      mujer  inmigrante    8.748305     1  \n",
              "14508   112      mujer  nativo arg    9.952278     1  \n",
              "14509   112      mujer  inmigrante    9.210340     1  \n",
              "14511   185      mujer  inmigrante    9.190138     1  \n",
              "\n",
              "[5252 rows x 96 columns]"
            ],
            "text/html": [
              "\n",
              "  <div id=\"df-3380dd5a-9535-402a-8bad-4de3501a4af9\">\n",
              "    <div class=\"colab-df-container\">\n",
              "      <div>\n",
              "<style scoped>\n",
              "    .dataframe tbody tr th:only-of-type {\n",
              "        vertical-align: middle;\n",
              "    }\n",
              "\n",
              "    .dataframe tbody tr th {\n",
              "        vertical-align: top;\n",
              "    }\n",
              "\n",
              "    .dataframe thead th {\n",
              "        text-align: right;\n",
              "    }\n",
              "</style>\n",
              "<table border=\"1\" class=\"dataframe\">\n",
              "  <thead>\n",
              "    <tr style=\"text-align: right;\">\n",
              "      <th></th>\n",
              "      <th>id</th>\n",
              "      <th>nhogar</th>\n",
              "      <th>miembro</th>\n",
              "      <th>comuna</th>\n",
              "      <th>dominio</th>\n",
              "      <th>edad</th>\n",
              "      <th>sexo</th>\n",
              "      <th>parentes_2</th>\n",
              "      <th>p5_2</th>\n",
              "      <th>p6_a</th>\n",
              "      <th>...</th>\n",
              "      <th>s8</th>\n",
              "      <th>sn14</th>\n",
              "      <th>sn16</th>\n",
              "      <th>s28</th>\n",
              "      <th>s29</th>\n",
              "      <th>fexp</th>\n",
              "      <th>sexotexto</th>\n",
              "      <th>inmigrante</th>\n",
              "      <th>logingreso</th>\n",
              "      <th>dsex</th>\n",
              "    </tr>\n",
              "  </thead>\n",
              "  <tbody>\n",
              "    <tr>\n",
              "      <th>10</th>\n",
              "      <td>7</td>\n",
              "      <td>2</td>\n",
              "      <td>1</td>\n",
              "      <td>7</td>\n",
              "      <td>resto ciudad</td>\n",
              "      <td>56</td>\n",
              "      <td>mujer</td>\n",
              "      <td>1</td>\n",
              "      <td>3</td>\n",
              "      <td>0</td>\n",
              "      <td>...</td>\n",
              "      <td>2</td>\n",
              "      <td>0</td>\n",
              "      <td>Malo</td>\n",
              "      <td>1</td>\n",
              "      <td>1</td>\n",
              "      <td>272</td>\n",
              "      <td>mujer</td>\n",
              "      <td>NaN</td>\n",
              "      <td>8.665613</td>\n",
              "      <td>1</td>\n",
              "    </tr>\n",
              "    <tr>\n",
              "      <th>12</th>\n",
              "      <td>8</td>\n",
              "      <td>1</td>\n",
              "      <td>2</td>\n",
              "      <td>4</td>\n",
              "      <td>resto ciudad</td>\n",
              "      <td>20</td>\n",
              "      <td>mujer</td>\n",
              "      <td>7</td>\n",
              "      <td>6</td>\n",
              "      <td>95</td>\n",
              "      <td>...</td>\n",
              "      <td>2</td>\n",
              "      <td>0</td>\n",
              "      <td>Muy bueno</td>\n",
              "      <td>2</td>\n",
              "      <td>0</td>\n",
              "      <td>139</td>\n",
              "      <td>mujer</td>\n",
              "      <td>nativo arg</td>\n",
              "      <td>8.294050</td>\n",
              "      <td>1</td>\n",
              "    </tr>\n",
              "    <tr>\n",
              "      <th>14</th>\n",
              "      <td>9</td>\n",
              "      <td>1</td>\n",
              "      <td>2</td>\n",
              "      <td>1</td>\n",
              "      <td>resto ciudad</td>\n",
              "      <td>22</td>\n",
              "      <td>mujer</td>\n",
              "      <td>7</td>\n",
              "      <td>3</td>\n",
              "      <td>95</td>\n",
              "      <td>...</td>\n",
              "      <td>2</td>\n",
              "      <td>0</td>\n",
              "      <td>Muy bueno</td>\n",
              "      <td>1</td>\n",
              "      <td>1</td>\n",
              "      <td>126</td>\n",
              "      <td>mujer</td>\n",
              "      <td>nativo arg</td>\n",
              "      <td>9.259131</td>\n",
              "      <td>1</td>\n",
              "    </tr>\n",
              "    <tr>\n",
              "      <th>16</th>\n",
              "      <td>10</td>\n",
              "      <td>1</td>\n",
              "      <td>1</td>\n",
              "      <td>3</td>\n",
              "      <td>inquilinatos hoteles inmuebles tomados</td>\n",
              "      <td>19</td>\n",
              "      <td>mujer</td>\n",
              "      <td>1</td>\n",
              "      <td>6</td>\n",
              "      <td>95</td>\n",
              "      <td>...</td>\n",
              "      <td>2</td>\n",
              "      <td>0</td>\n",
              "      <td>Bueno</td>\n",
              "      <td>2</td>\n",
              "      <td>0</td>\n",
              "      <td>202</td>\n",
              "      <td>mujer</td>\n",
              "      <td>inmigrante</td>\n",
              "      <td>9.392662</td>\n",
              "      <td>1</td>\n",
              "    </tr>\n",
              "    <tr>\n",
              "      <th>17</th>\n",
              "      <td>11</td>\n",
              "      <td>1</td>\n",
              "      <td>1</td>\n",
              "      <td>14</td>\n",
              "      <td>resto ciudad</td>\n",
              "      <td>19</td>\n",
              "      <td>mujer</td>\n",
              "      <td>1</td>\n",
              "      <td>6</td>\n",
              "      <td>95</td>\n",
              "      <td>...</td>\n",
              "      <td>2</td>\n",
              "      <td>0</td>\n",
              "      <td>Muy bueno</td>\n",
              "      <td>2</td>\n",
              "      <td>0</td>\n",
              "      <td>383</td>\n",
              "      <td>mujer</td>\n",
              "      <td>nativo arg</td>\n",
              "      <td>9.305651</td>\n",
              "      <td>1</td>\n",
              "    </tr>\n",
              "    <tr>\n",
              "      <th>...</th>\n",
              "      <td>...</td>\n",
              "      <td>...</td>\n",
              "      <td>...</td>\n",
              "      <td>...</td>\n",
              "      <td>...</td>\n",
              "      <td>...</td>\n",
              "      <td>...</td>\n",
              "      <td>...</td>\n",
              "      <td>...</td>\n",
              "      <td>...</td>\n",
              "      <td>...</td>\n",
              "      <td>...</td>\n",
              "      <td>...</td>\n",
              "      <td>...</td>\n",
              "      <td>...</td>\n",
              "      <td>...</td>\n",
              "      <td>...</td>\n",
              "      <td>...</td>\n",
              "      <td>...</td>\n",
              "      <td>...</td>\n",
              "      <td>...</td>\n",
              "    </tr>\n",
              "    <tr>\n",
              "      <th>14506</th>\n",
              "      <td>5943</td>\n",
              "      <td>1</td>\n",
              "      <td>1</td>\n",
              "      <td>10</td>\n",
              "      <td>resto ciudad</td>\n",
              "      <td>99</td>\n",
              "      <td>mujer</td>\n",
              "      <td>1</td>\n",
              "      <td>4</td>\n",
              "      <td>0</td>\n",
              "      <td>...</td>\n",
              "      <td>2</td>\n",
              "      <td>0</td>\n",
              "      <td>Bueno</td>\n",
              "      <td>1</td>\n",
              "      <td>2</td>\n",
              "      <td>242</td>\n",
              "      <td>mujer</td>\n",
              "      <td>nativo arg</td>\n",
              "      <td>8.496990</td>\n",
              "      <td>1</td>\n",
              "    </tr>\n",
              "    <tr>\n",
              "      <th>14507</th>\n",
              "      <td>5943</td>\n",
              "      <td>1</td>\n",
              "      <td>2</td>\n",
              "      <td>10</td>\n",
              "      <td>resto ciudad</td>\n",
              "      <td>45</td>\n",
              "      <td>mujer</td>\n",
              "      <td>9</td>\n",
              "      <td>3</td>\n",
              "      <td>0</td>\n",
              "      <td>...</td>\n",
              "      <td>2</td>\n",
              "      <td>0</td>\n",
              "      <td>Muy bueno</td>\n",
              "      <td>1</td>\n",
              "      <td>5</td>\n",
              "      <td>242</td>\n",
              "      <td>mujer</td>\n",
              "      <td>inmigrante</td>\n",
              "      <td>8.748305</td>\n",
              "      <td>1</td>\n",
              "    </tr>\n",
              "    <tr>\n",
              "      <th>14508</th>\n",
              "      <td>5944</td>\n",
              "      <td>1</td>\n",
              "      <td>1</td>\n",
              "      <td>1</td>\n",
              "      <td>resto ciudad</td>\n",
              "      <td>99</td>\n",
              "      <td>mujer</td>\n",
              "      <td>1</td>\n",
              "      <td>4</td>\n",
              "      <td>0</td>\n",
              "      <td>...</td>\n",
              "      <td>2</td>\n",
              "      <td>0</td>\n",
              "      <td>Excelente</td>\n",
              "      <td>1</td>\n",
              "      <td>6</td>\n",
              "      <td>112</td>\n",
              "      <td>mujer</td>\n",
              "      <td>nativo arg</td>\n",
              "      <td>9.952278</td>\n",
              "      <td>1</td>\n",
              "    </tr>\n",
              "    <tr>\n",
              "      <th>14509</th>\n",
              "      <td>5944</td>\n",
              "      <td>1</td>\n",
              "      <td>2</td>\n",
              "      <td>1</td>\n",
              "      <td>resto ciudad</td>\n",
              "      <td>55</td>\n",
              "      <td>mujer</td>\n",
              "      <td>9</td>\n",
              "      <td>2</td>\n",
              "      <td>0</td>\n",
              "      <td>...</td>\n",
              "      <td>2</td>\n",
              "      <td>0</td>\n",
              "      <td>Regular</td>\n",
              "      <td>1</td>\n",
              "      <td>4</td>\n",
              "      <td>112</td>\n",
              "      <td>mujer</td>\n",
              "      <td>inmigrante</td>\n",
              "      <td>9.210340</td>\n",
              "      <td>1</td>\n",
              "    </tr>\n",
              "    <tr>\n",
              "      <th>14511</th>\n",
              "      <td>5945</td>\n",
              "      <td>1</td>\n",
              "      <td>2</td>\n",
              "      <td>13</td>\n",
              "      <td>resto ciudad</td>\n",
              "      <td>72</td>\n",
              "      <td>mujer</td>\n",
              "      <td>9</td>\n",
              "      <td>5</td>\n",
              "      <td>0</td>\n",
              "      <td>...</td>\n",
              "      <td>2</td>\n",
              "      <td>0</td>\n",
              "      <td>Regular</td>\n",
              "      <td>1</td>\n",
              "      <td>4</td>\n",
              "      <td>185</td>\n",
              "      <td>mujer</td>\n",
              "      <td>inmigrante</td>\n",
              "      <td>9.190138</td>\n",
              "      <td>1</td>\n",
              "    </tr>\n",
              "  </tbody>\n",
              "</table>\n",
              "<p>5252 rows × 96 columns</p>\n",
              "</div>\n",
              "      <button class=\"colab-df-convert\" onclick=\"convertToInteractive('df-3380dd5a-9535-402a-8bad-4de3501a4af9')\"\n",
              "              title=\"Convert this dataframe to an interactive table.\"\n",
              "              style=\"display:none;\">\n",
              "        \n",
              "  <svg xmlns=\"http://www.w3.org/2000/svg\" height=\"24px\"viewBox=\"0 0 24 24\"\n",
              "       width=\"24px\">\n",
              "    <path d=\"M0 0h24v24H0V0z\" fill=\"none\"/>\n",
              "    <path d=\"M18.56 5.44l.94 2.06.94-2.06 2.06-.94-2.06-.94-.94-2.06-.94 2.06-2.06.94zm-11 1L8.5 8.5l.94-2.06 2.06-.94-2.06-.94L8.5 2.5l-.94 2.06-2.06.94zm10 10l.94 2.06.94-2.06 2.06-.94-2.06-.94-.94-2.06-.94 2.06-2.06.94z\"/><path d=\"M17.41 7.96l-1.37-1.37c-.4-.4-.92-.59-1.43-.59-.52 0-1.04.2-1.43.59L10.3 9.45l-7.72 7.72c-.78.78-.78 2.05 0 2.83L4 21.41c.39.39.9.59 1.41.59.51 0 1.02-.2 1.41-.59l7.78-7.78 2.81-2.81c.8-.78.8-2.07 0-2.86zM5.41 20L4 18.59l7.72-7.72 1.47 1.35L5.41 20z\"/>\n",
              "  </svg>\n",
              "      </button>\n",
              "      \n",
              "  <style>\n",
              "    .colab-df-container {\n",
              "      display:flex;\n",
              "      flex-wrap:wrap;\n",
              "      gap: 12px;\n",
              "    }\n",
              "\n",
              "    .colab-df-convert {\n",
              "      background-color: #E8F0FE;\n",
              "      border: none;\n",
              "      border-radius: 50%;\n",
              "      cursor: pointer;\n",
              "      display: none;\n",
              "      fill: #1967D2;\n",
              "      height: 32px;\n",
              "      padding: 0 0 0 0;\n",
              "      width: 32px;\n",
              "    }\n",
              "\n",
              "    .colab-df-convert:hover {\n",
              "      background-color: #E2EBFA;\n",
              "      box-shadow: 0px 1px 2px rgba(60, 64, 67, 0.3), 0px 1px 3px 1px rgba(60, 64, 67, 0.15);\n",
              "      fill: #174EA6;\n",
              "    }\n",
              "\n",
              "    [theme=dark] .colab-df-convert {\n",
              "      background-color: #3B4455;\n",
              "      fill: #D2E3FC;\n",
              "    }\n",
              "\n",
              "    [theme=dark] .colab-df-convert:hover {\n",
              "      background-color: #434B5C;\n",
              "      box-shadow: 0px 1px 3px 1px rgba(0, 0, 0, 0.15);\n",
              "      filter: drop-shadow(0px 1px 2px rgba(0, 0, 0, 0.3));\n",
              "      fill: #FFFFFF;\n",
              "    }\n",
              "  </style>\n",
              "\n",
              "      <script>\n",
              "        const buttonEl =\n",
              "          document.querySelector('#df-3380dd5a-9535-402a-8bad-4de3501a4af9 button.colab-df-convert');\n",
              "        buttonEl.style.display =\n",
              "          google.colab.kernel.accessAllowed ? 'block' : 'none';\n",
              "\n",
              "        async function convertToInteractive(key) {\n",
              "          const element = document.querySelector('#df-3380dd5a-9535-402a-8bad-4de3501a4af9');\n",
              "          const dataTable =\n",
              "            await google.colab.kernel.invokeFunction('convertToInteractive',\n",
              "                                                     [key], {});\n",
              "          if (!dataTable) return;\n",
              "\n",
              "          const docLinkHtml = 'Like what you see? Visit the ' +\n",
              "            '<a target=\"_blank\" href=https://colab.research.google.com/notebooks/data_table.ipynb>data table notebook</a>'\n",
              "            + ' to learn more about interactive tables.';\n",
              "          element.innerHTML = '';\n",
              "          dataTable['output_type'] = 'display_data';\n",
              "          await google.colab.output.renderOutput(dataTable, element);\n",
              "          const docLink = document.createElement('div');\n",
              "          docLink.innerHTML = docLinkHtml;\n",
              "          element.appendChild(docLink);\n",
              "        }\n",
              "      </script>\n",
              "    </div>\n",
              "  </div>\n",
              "  "
            ]
          },
          "metadata": {},
          "execution_count": 118
        }
      ]
    },
    {
      "cell_type": "code",
      "source": [
        "df.loc[(df[\"sexo\"]==\"mujer\") | (df[\"edad\"]>18)]"
      ],
      "metadata": {
        "id": "PDKKMoASEAoC",
        "outputId": "be581f59-d17e-445b-dbd3-7b7b1804935e",
        "colab": {
          "base_uri": "https://localhost:8080/",
          "height": 696
        }
      },
      "execution_count": 119,
      "outputs": [
        {
          "output_type": "execute_result",
          "data": {
            "text/plain": [
              "         id  nhogar  miembro  comuna                                 dominio  \\\n",
              "0         1       1        1      13                            resto ciudad   \n",
              "2         3       1        1       6  inquilinatos hoteles inmuebles tomados   \n",
              "5         6       1        1      13                            resto ciudad   \n",
              "6         6       1        2      13                            resto ciudad   \n",
              "7         7       1        1       7                            resto ciudad   \n",
              "...     ...     ...      ...     ...                                     ...   \n",
              "14507  5943       1        2      10                            resto ciudad   \n",
              "14508  5944       1        1       1                            resto ciudad   \n",
              "14509  5944       1        2       1                            resto ciudad   \n",
              "14510  5945       1        1      13                            resto ciudad   \n",
              "14511  5945       1        2      13                            resto ciudad   \n",
              "\n",
              "       edad   sexo  parentes_2  p5_2  p6_a  ...  s8 sn14       sn16  s28  s29  \\\n",
              "0        18  mujer           1     6    95  ...   2    0  Excelente    2    0   \n",
              "2        18  mujer           1     6    95  ...   2    0  Excelente    2    0   \n",
              "5        18  mujer           1     6    95  ...   2    0      Bueno    2    0   \n",
              "6        24  varon           7     6    95  ...   2    0  Excelente    0    0   \n",
              "7        18  mujer           1     3    95  ...   2    0      Bueno    1    2   \n",
              "...     ...    ...         ...   ...   ...  ...  ..  ...        ...  ...  ...   \n",
              "14507    45  mujer           9     3     0  ...   2    0  Muy bueno    1    5   \n",
              "14508    99  mujer           1     4     0  ...   2    0  Excelente    1    6   \n",
              "14509    55  mujer           9     2     0  ...   2    0    Regular    1    4   \n",
              "14510   102  varon           1     4     0  ...   2    0      Bueno    0    0   \n",
              "14511    72  mujer           9     5     0  ...   2    0    Regular    1    4   \n",
              "\n",
              "       fexp  sexotexto  inmigrante  logingreso  dsex  \n",
              "0       973      mujer  nativo arg    8.384804     1  \n",
              "2       223      mujer  inmigrante    8.482602     1  \n",
              "5       314      mujer  nativo arg    8.612503     1  \n",
              "6       314      varon  nativo arg    9.798127     0  \n",
              "7       272      mujer  nativo arg    7.901007     1  \n",
              "...     ...        ...         ...         ...   ...  \n",
              "14507   242      mujer  inmigrante    8.748305     1  \n",
              "14508   112      mujer  nativo arg    9.952278     1  \n",
              "14509   112      mujer  inmigrante    9.210340     1  \n",
              "14510   185      varon  nativo arg    8.922658     0  \n",
              "14511   185      mujer  inmigrante    9.190138     1  \n",
              "\n",
              "[10040 rows x 96 columns]"
            ],
            "text/html": [
              "\n",
              "  <div id=\"df-82364cf3-3b11-4c86-b6e0-3399f071bc29\">\n",
              "    <div class=\"colab-df-container\">\n",
              "      <div>\n",
              "<style scoped>\n",
              "    .dataframe tbody tr th:only-of-type {\n",
              "        vertical-align: middle;\n",
              "    }\n",
              "\n",
              "    .dataframe tbody tr th {\n",
              "        vertical-align: top;\n",
              "    }\n",
              "\n",
              "    .dataframe thead th {\n",
              "        text-align: right;\n",
              "    }\n",
              "</style>\n",
              "<table border=\"1\" class=\"dataframe\">\n",
              "  <thead>\n",
              "    <tr style=\"text-align: right;\">\n",
              "      <th></th>\n",
              "      <th>id</th>\n",
              "      <th>nhogar</th>\n",
              "      <th>miembro</th>\n",
              "      <th>comuna</th>\n",
              "      <th>dominio</th>\n",
              "      <th>edad</th>\n",
              "      <th>sexo</th>\n",
              "      <th>parentes_2</th>\n",
              "      <th>p5_2</th>\n",
              "      <th>p6_a</th>\n",
              "      <th>...</th>\n",
              "      <th>s8</th>\n",
              "      <th>sn14</th>\n",
              "      <th>sn16</th>\n",
              "      <th>s28</th>\n",
              "      <th>s29</th>\n",
              "      <th>fexp</th>\n",
              "      <th>sexotexto</th>\n",
              "      <th>inmigrante</th>\n",
              "      <th>logingreso</th>\n",
              "      <th>dsex</th>\n",
              "    </tr>\n",
              "  </thead>\n",
              "  <tbody>\n",
              "    <tr>\n",
              "      <th>0</th>\n",
              "      <td>1</td>\n",
              "      <td>1</td>\n",
              "      <td>1</td>\n",
              "      <td>13</td>\n",
              "      <td>resto ciudad</td>\n",
              "      <td>18</td>\n",
              "      <td>mujer</td>\n",
              "      <td>1</td>\n",
              "      <td>6</td>\n",
              "      <td>95</td>\n",
              "      <td>...</td>\n",
              "      <td>2</td>\n",
              "      <td>0</td>\n",
              "      <td>Excelente</td>\n",
              "      <td>2</td>\n",
              "      <td>0</td>\n",
              "      <td>973</td>\n",
              "      <td>mujer</td>\n",
              "      <td>nativo arg</td>\n",
              "      <td>8.384804</td>\n",
              "      <td>1</td>\n",
              "    </tr>\n",
              "    <tr>\n",
              "      <th>2</th>\n",
              "      <td>3</td>\n",
              "      <td>1</td>\n",
              "      <td>1</td>\n",
              "      <td>6</td>\n",
              "      <td>inquilinatos hoteles inmuebles tomados</td>\n",
              "      <td>18</td>\n",
              "      <td>mujer</td>\n",
              "      <td>1</td>\n",
              "      <td>6</td>\n",
              "      <td>95</td>\n",
              "      <td>...</td>\n",
              "      <td>2</td>\n",
              "      <td>0</td>\n",
              "      <td>Excelente</td>\n",
              "      <td>2</td>\n",
              "      <td>0</td>\n",
              "      <td>223</td>\n",
              "      <td>mujer</td>\n",
              "      <td>inmigrante</td>\n",
              "      <td>8.482602</td>\n",
              "      <td>1</td>\n",
              "    </tr>\n",
              "    <tr>\n",
              "      <th>5</th>\n",
              "      <td>6</td>\n",
              "      <td>1</td>\n",
              "      <td>1</td>\n",
              "      <td>13</td>\n",
              "      <td>resto ciudad</td>\n",
              "      <td>18</td>\n",
              "      <td>mujer</td>\n",
              "      <td>1</td>\n",
              "      <td>6</td>\n",
              "      <td>95</td>\n",
              "      <td>...</td>\n",
              "      <td>2</td>\n",
              "      <td>0</td>\n",
              "      <td>Bueno</td>\n",
              "      <td>2</td>\n",
              "      <td>0</td>\n",
              "      <td>314</td>\n",
              "      <td>mujer</td>\n",
              "      <td>nativo arg</td>\n",
              "      <td>8.612503</td>\n",
              "      <td>1</td>\n",
              "    </tr>\n",
              "    <tr>\n",
              "      <th>6</th>\n",
              "      <td>6</td>\n",
              "      <td>1</td>\n",
              "      <td>2</td>\n",
              "      <td>13</td>\n",
              "      <td>resto ciudad</td>\n",
              "      <td>24</td>\n",
              "      <td>varon</td>\n",
              "      <td>7</td>\n",
              "      <td>6</td>\n",
              "      <td>95</td>\n",
              "      <td>...</td>\n",
              "      <td>2</td>\n",
              "      <td>0</td>\n",
              "      <td>Excelente</td>\n",
              "      <td>0</td>\n",
              "      <td>0</td>\n",
              "      <td>314</td>\n",
              "      <td>varon</td>\n",
              "      <td>nativo arg</td>\n",
              "      <td>9.798127</td>\n",
              "      <td>0</td>\n",
              "    </tr>\n",
              "    <tr>\n",
              "      <th>7</th>\n",
              "      <td>7</td>\n",
              "      <td>1</td>\n",
              "      <td>1</td>\n",
              "      <td>7</td>\n",
              "      <td>resto ciudad</td>\n",
              "      <td>18</td>\n",
              "      <td>mujer</td>\n",
              "      <td>1</td>\n",
              "      <td>3</td>\n",
              "      <td>95</td>\n",
              "      <td>...</td>\n",
              "      <td>2</td>\n",
              "      <td>0</td>\n",
              "      <td>Bueno</td>\n",
              "      <td>1</td>\n",
              "      <td>2</td>\n",
              "      <td>272</td>\n",
              "      <td>mujer</td>\n",
              "      <td>nativo arg</td>\n",
              "      <td>7.901007</td>\n",
              "      <td>1</td>\n",
              "    </tr>\n",
              "    <tr>\n",
              "      <th>...</th>\n",
              "      <td>...</td>\n",
              "      <td>...</td>\n",
              "      <td>...</td>\n",
              "      <td>...</td>\n",
              "      <td>...</td>\n",
              "      <td>...</td>\n",
              "      <td>...</td>\n",
              "      <td>...</td>\n",
              "      <td>...</td>\n",
              "      <td>...</td>\n",
              "      <td>...</td>\n",
              "      <td>...</td>\n",
              "      <td>...</td>\n",
              "      <td>...</td>\n",
              "      <td>...</td>\n",
              "      <td>...</td>\n",
              "      <td>...</td>\n",
              "      <td>...</td>\n",
              "      <td>...</td>\n",
              "      <td>...</td>\n",
              "      <td>...</td>\n",
              "    </tr>\n",
              "    <tr>\n",
              "      <th>14507</th>\n",
              "      <td>5943</td>\n",
              "      <td>1</td>\n",
              "      <td>2</td>\n",
              "      <td>10</td>\n",
              "      <td>resto ciudad</td>\n",
              "      <td>45</td>\n",
              "      <td>mujer</td>\n",
              "      <td>9</td>\n",
              "      <td>3</td>\n",
              "      <td>0</td>\n",
              "      <td>...</td>\n",
              "      <td>2</td>\n",
              "      <td>0</td>\n",
              "      <td>Muy bueno</td>\n",
              "      <td>1</td>\n",
              "      <td>5</td>\n",
              "      <td>242</td>\n",
              "      <td>mujer</td>\n",
              "      <td>inmigrante</td>\n",
              "      <td>8.748305</td>\n",
              "      <td>1</td>\n",
              "    </tr>\n",
              "    <tr>\n",
              "      <th>14508</th>\n",
              "      <td>5944</td>\n",
              "      <td>1</td>\n",
              "      <td>1</td>\n",
              "      <td>1</td>\n",
              "      <td>resto ciudad</td>\n",
              "      <td>99</td>\n",
              "      <td>mujer</td>\n",
              "      <td>1</td>\n",
              "      <td>4</td>\n",
              "      <td>0</td>\n",
              "      <td>...</td>\n",
              "      <td>2</td>\n",
              "      <td>0</td>\n",
              "      <td>Excelente</td>\n",
              "      <td>1</td>\n",
              "      <td>6</td>\n",
              "      <td>112</td>\n",
              "      <td>mujer</td>\n",
              "      <td>nativo arg</td>\n",
              "      <td>9.952278</td>\n",
              "      <td>1</td>\n",
              "    </tr>\n",
              "    <tr>\n",
              "      <th>14509</th>\n",
              "      <td>5944</td>\n",
              "      <td>1</td>\n",
              "      <td>2</td>\n",
              "      <td>1</td>\n",
              "      <td>resto ciudad</td>\n",
              "      <td>55</td>\n",
              "      <td>mujer</td>\n",
              "      <td>9</td>\n",
              "      <td>2</td>\n",
              "      <td>0</td>\n",
              "      <td>...</td>\n",
              "      <td>2</td>\n",
              "      <td>0</td>\n",
              "      <td>Regular</td>\n",
              "      <td>1</td>\n",
              "      <td>4</td>\n",
              "      <td>112</td>\n",
              "      <td>mujer</td>\n",
              "      <td>inmigrante</td>\n",
              "      <td>9.210340</td>\n",
              "      <td>1</td>\n",
              "    </tr>\n",
              "    <tr>\n",
              "      <th>14510</th>\n",
              "      <td>5945</td>\n",
              "      <td>1</td>\n",
              "      <td>1</td>\n",
              "      <td>13</td>\n",
              "      <td>resto ciudad</td>\n",
              "      <td>102</td>\n",
              "      <td>varon</td>\n",
              "      <td>1</td>\n",
              "      <td>4</td>\n",
              "      <td>0</td>\n",
              "      <td>...</td>\n",
              "      <td>2</td>\n",
              "      <td>0</td>\n",
              "      <td>Bueno</td>\n",
              "      <td>0</td>\n",
              "      <td>0</td>\n",
              "      <td>185</td>\n",
              "      <td>varon</td>\n",
              "      <td>nativo arg</td>\n",
              "      <td>8.922658</td>\n",
              "      <td>0</td>\n",
              "    </tr>\n",
              "    <tr>\n",
              "      <th>14511</th>\n",
              "      <td>5945</td>\n",
              "      <td>1</td>\n",
              "      <td>2</td>\n",
              "      <td>13</td>\n",
              "      <td>resto ciudad</td>\n",
              "      <td>72</td>\n",
              "      <td>mujer</td>\n",
              "      <td>9</td>\n",
              "      <td>5</td>\n",
              "      <td>0</td>\n",
              "      <td>...</td>\n",
              "      <td>2</td>\n",
              "      <td>0</td>\n",
              "      <td>Regular</td>\n",
              "      <td>1</td>\n",
              "      <td>4</td>\n",
              "      <td>185</td>\n",
              "      <td>mujer</td>\n",
              "      <td>inmigrante</td>\n",
              "      <td>9.190138</td>\n",
              "      <td>1</td>\n",
              "    </tr>\n",
              "  </tbody>\n",
              "</table>\n",
              "<p>10040 rows × 96 columns</p>\n",
              "</div>\n",
              "      <button class=\"colab-df-convert\" onclick=\"convertToInteractive('df-82364cf3-3b11-4c86-b6e0-3399f071bc29')\"\n",
              "              title=\"Convert this dataframe to an interactive table.\"\n",
              "              style=\"display:none;\">\n",
              "        \n",
              "  <svg xmlns=\"http://www.w3.org/2000/svg\" height=\"24px\"viewBox=\"0 0 24 24\"\n",
              "       width=\"24px\">\n",
              "    <path d=\"M0 0h24v24H0V0z\" fill=\"none\"/>\n",
              "    <path d=\"M18.56 5.44l.94 2.06.94-2.06 2.06-.94-2.06-.94-.94-2.06-.94 2.06-2.06.94zm-11 1L8.5 8.5l.94-2.06 2.06-.94-2.06-.94L8.5 2.5l-.94 2.06-2.06.94zm10 10l.94 2.06.94-2.06 2.06-.94-2.06-.94-.94-2.06-.94 2.06-2.06.94z\"/><path d=\"M17.41 7.96l-1.37-1.37c-.4-.4-.92-.59-1.43-.59-.52 0-1.04.2-1.43.59L10.3 9.45l-7.72 7.72c-.78.78-.78 2.05 0 2.83L4 21.41c.39.39.9.59 1.41.59.51 0 1.02-.2 1.41-.59l7.78-7.78 2.81-2.81c.8-.78.8-2.07 0-2.86zM5.41 20L4 18.59l7.72-7.72 1.47 1.35L5.41 20z\"/>\n",
              "  </svg>\n",
              "      </button>\n",
              "      \n",
              "  <style>\n",
              "    .colab-df-container {\n",
              "      display:flex;\n",
              "      flex-wrap:wrap;\n",
              "      gap: 12px;\n",
              "    }\n",
              "\n",
              "    .colab-df-convert {\n",
              "      background-color: #E8F0FE;\n",
              "      border: none;\n",
              "      border-radius: 50%;\n",
              "      cursor: pointer;\n",
              "      display: none;\n",
              "      fill: #1967D2;\n",
              "      height: 32px;\n",
              "      padding: 0 0 0 0;\n",
              "      width: 32px;\n",
              "    }\n",
              "\n",
              "    .colab-df-convert:hover {\n",
              "      background-color: #E2EBFA;\n",
              "      box-shadow: 0px 1px 2px rgba(60, 64, 67, 0.3), 0px 1px 3px 1px rgba(60, 64, 67, 0.15);\n",
              "      fill: #174EA6;\n",
              "    }\n",
              "\n",
              "    [theme=dark] .colab-df-convert {\n",
              "      background-color: #3B4455;\n",
              "      fill: #D2E3FC;\n",
              "    }\n",
              "\n",
              "    [theme=dark] .colab-df-convert:hover {\n",
              "      background-color: #434B5C;\n",
              "      box-shadow: 0px 1px 3px 1px rgba(0, 0, 0, 0.15);\n",
              "      filter: drop-shadow(0px 1px 2px rgba(0, 0, 0, 0.3));\n",
              "      fill: #FFFFFF;\n",
              "    }\n",
              "  </style>\n",
              "\n",
              "      <script>\n",
              "        const buttonEl =\n",
              "          document.querySelector('#df-82364cf3-3b11-4c86-b6e0-3399f071bc29 button.colab-df-convert');\n",
              "        buttonEl.style.display =\n",
              "          google.colab.kernel.accessAllowed ? 'block' : 'none';\n",
              "\n",
              "        async function convertToInteractive(key) {\n",
              "          const element = document.querySelector('#df-82364cf3-3b11-4c86-b6e0-3399f071bc29');\n",
              "          const dataTable =\n",
              "            await google.colab.kernel.invokeFunction('convertToInteractive',\n",
              "                                                     [key], {});\n",
              "          if (!dataTable) return;\n",
              "\n",
              "          const docLinkHtml = 'Like what you see? Visit the ' +\n",
              "            '<a target=\"_blank\" href=https://colab.research.google.com/notebooks/data_table.ipynb>data table notebook</a>'\n",
              "            + ' to learn more about interactive tables.';\n",
              "          element.innerHTML = '';\n",
              "          dataTable['output_type'] = 'display_data';\n",
              "          await google.colab.output.renderOutput(dataTable, element);\n",
              "          const docLink = document.createElement('div');\n",
              "          docLink.innerHTML = docLinkHtml;\n",
              "          element.appendChild(docLink);\n",
              "        }\n",
              "      </script>\n",
              "    </div>\n",
              "  </div>\n",
              "  "
            ]
          },
          "metadata": {},
          "execution_count": 119
        }
      ]
    },
    {
      "cell_type": "code",
      "source": [],
      "metadata": {
        "id": "tGsgGyDrENro"
      },
      "execution_count": 119,
      "outputs": []
    },
    {
      "cell_type": "code",
      "source": [
        "df[\"edad\"]>18"
      ],
      "metadata": {
        "id": "SJca3RltDbSt",
        "outputId": "37583f8d-3749-49a2-a387-835a72f0a799",
        "colab": {
          "base_uri": "https://localhost:8080/"
        }
      },
      "execution_count": 120,
      "outputs": [
        {
          "output_type": "execute_result",
          "data": {
            "text/plain": [
              "0        False\n",
              "1        False\n",
              "2        False\n",
              "3        False\n",
              "4        False\n",
              "         ...  \n",
              "14507     True\n",
              "14508     True\n",
              "14509     True\n",
              "14510     True\n",
              "14511     True\n",
              "Name: edad, Length: 10113, dtype: bool"
            ]
          },
          "metadata": {},
          "execution_count": 120
        }
      ]
    },
    {
      "cell_type": "code",
      "source": [
        "#df[]"
      ],
      "metadata": {
        "id": "M9wW4xvtBX1l"
      },
      "execution_count": 121,
      "outputs": []
    },
    {
      "cell_type": "code",
      "metadata": {
        "id": "V21a44QYtWaO",
        "outputId": "ea7b8fea-4988-456a-eaf8-7f5c4a493105",
        "colab": {
          "base_uri": "https://localhost:8080/"
        }
      },
      "source": [
        "df['logingreso']"
      ],
      "execution_count": 122,
      "outputs": [
        {
          "output_type": "execute_result",
          "data": {
            "text/plain": [
              "0        8.384804\n",
              "1        9.104980\n",
              "2        8.482602\n",
              "3        9.615805\n",
              "4        9.615805\n",
              "           ...   \n",
              "14507    8.748305\n",
              "14508    9.952278\n",
              "14509    9.210340\n",
              "14510    8.922658\n",
              "14511    9.190138\n",
              "Name: logingreso, Length: 10113, dtype: float64"
            ]
          },
          "metadata": {},
          "execution_count": 122
        }
      ]
    },
    {
      "cell_type": "code",
      "metadata": {
        "id": "4qrHGDQbt-nQ",
        "outputId": "9290a8de-77fa-4737-a484-18d49befdc13",
        "colab": {
          "base_uri": "https://localhost:8080/",
          "height": 283
        }
      },
      "source": [
        "df.logingreso.hist()"
      ],
      "execution_count": 123,
      "outputs": [
        {
          "output_type": "execute_result",
          "data": {
            "text/plain": [
              "<matplotlib.axes._subplots.AxesSubplot at 0x7fa9604e1550>"
            ]
          },
          "metadata": {},
          "execution_count": 123
        },
        {
          "output_type": "display_data",
          "data": {
            "text/plain": [
              "<Figure size 432x288 with 1 Axes>"
            ],
            "image/png": "[encoded data removed]"
          },
          "metadata": {
            "needs_background": "light"
          }
        }
      ]
    },
    {
      "cell_type": "code",
      "metadata": {
        "id": "gzXSGe89waHl",
        "outputId": "2229667f-50de-43b5-8cd6-6a0b0a9c0f16",
        "colab": {
          "base_uri": "https://localhost:8080/",
          "height": 392
        }
      },
      "source": [
        "# pueden agrandar el grafico usando lo siguiente:\n",
        "import matplotlib.pyplot as plt\n",
        "plt.rcParams[\"figure.figsize\"] = (6,6)\n",
        "df.logingreso.hist(bins=20)"
      ],
      "execution_count": 124,
      "outputs": [
        {
          "output_type": "execute_result",
          "data": {
            "text/plain": [
              "<matplotlib.axes._subplots.AxesSubplot at 0x7fa960450f50>"
            ]
          },
          "metadata": {},
          "execution_count": 124
        },
        {
          "output_type": "display_data",
          "data": {
            "text/plain": [
              "<Figure size 432x432 with 1 Axes>"
            ],
            "image/png": "[encoded data removed]"
          },
          "metadata": {
            "needs_background": "light"
          }
        }
      ]
    },
    {
      "cell_type": "code",
      "metadata": {
        "id": "1xhj015Wy5To",
        "outputId": "752bd2b0-7139-4cf8-8ebc-e9e8f4648159",
        "colab": {
          "base_uri": "https://localhost:8080/",
          "height": 392
        }
      },
      "source": [
        "df.logingreso.hist(cumulative=True, density=1, bins=100)"
      ],
      "execution_count": 125,
      "outputs": [
        {
          "output_type": "execute_result",
          "data": {
            "text/plain": [
              "<matplotlib.axes._subplots.AxesSubplot at 0x7fa96037dcd0>"
            ]
          },
          "metadata": {},
          "execution_count": 125
        },
        {
          "output_type": "display_data",
          "data": {
            "text/plain": [
              "<Figure size 432x432 with 1 Axes>"
            ],
            "image/png": "[encoded data removed]"
          },
          "metadata": {
            "needs_background": "light"
          }
        }
      ]
    },
    {
      "cell_type": "code",
      "metadata": {
        "id": "ljsKuF_otptd",
        "outputId": "79206ad5-d060-487d-c885-e3fb4a9a9bf3",
        "colab": {
          "base_uri": "https://localhost:8080/"
        }
      },
      "source": [
        "df.logingreso.mean()"
      ],
      "execution_count": 126,
      "outputs": [
        {
          "output_type": "execute_result",
          "data": {
            "text/plain": [
              "9.282120426552103"
            ]
          },
          "metadata": {},
          "execution_count": 126
        }
      ]
    },
    {
      "cell_type": "code",
      "metadata": {
        "id": "hNWVZaPzuQx8",
        "outputId": "479b92dc-f885-4928-f8b5-2c374803520c",
        "colab": {
          "base_uri": "https://localhost:8080/"
        }
      },
      "source": [
        "df.sexo=='mujer'"
      ],
      "execution_count": 127,
      "outputs": [
        {
          "output_type": "execute_result",
          "data": {
            "text/plain": [
              "0         True\n",
              "1        False\n",
              "2         True\n",
              "3        False\n",
              "4        False\n",
              "         ...  \n",
              "14507     True\n",
              "14508     True\n",
              "14509     True\n",
              "14510    False\n",
              "14511     True\n",
              "Name: sexo, Length: 10113, dtype: bool"
            ]
          },
          "metadata": {},
          "execution_count": 127
        }
      ]
    },
    {
      "cell_type": "markdown",
      "metadata": {
        "id": "X1JUfBK01C_X"
      },
      "source": [
        "# \"Filtrando\" el Dataframe \n",
        "Seleccionamos las filas del dataframe en base a una condicion logica usando el método .loc \\\\\n",
        "Dentro del .loc tenemos que especificar una condición lógica\n"
      ]
    },
    {
      "cell_type": "markdown",
      "metadata": {
        "id": "eU8hNrV40014"
      },
      "source": [
        "Aqui van algunos ejemplos mas sobre como filtrar el dataframe"
      ]
    },
    {
      "cell_type": "code",
      "metadata": {
        "id": "9e-8kinTxgNS",
        "outputId": "ceed5bde-e786-4bb1-dc9e-d416fbb562fe",
        "colab": {
          "base_uri": "https://localhost:8080/"
        }
      },
      "source": [
        "# Ejemplo: promedio de logingreso de personas mayores a 40 años\n",
        "\n",
        "df.loc[df.edad>=40].logingreso.mean()"
      ],
      "execution_count": 128,
      "outputs": [
        {
          "output_type": "execute_result",
          "data": {
            "text/plain": [
              "9.35795335849025"
            ]
          },
          "metadata": {},
          "execution_count": 128
        }
      ]
    },
    {
      "cell_type": "code",
      "metadata": {
        "id": "33waEOd6yC2p",
        "outputId": "1c46b5d7-0324-427b-90bd-df35250e0426",
        "colab": {
          "base_uri": "https://localhost:8080/"
        }
      },
      "source": [
        "# Ejemplo: promedio de logingreso de varones y mayores a 40 años\n",
        "\n",
        "df.loc[(df.sexo=='varon') & (df.edad>=40)].logingreso.mean()"
      ],
      "execution_count": 129,
      "outputs": [
        {
          "output_type": "execute_result",
          "data": {
            "text/plain": [
              "9.550831881911979"
            ]
          },
          "metadata": {},
          "execution_count": 129
        }
      ]
    },
    {
      "cell_type": "code",
      "metadata": {
        "id": "H3j6zSw4zW1O",
        "outputId": "4b6c0fff-7cc9-44cb-ee9b-40ba98421e59",
        "colab": {
          "base_uri": "https://localhost:8080/"
        }
      },
      "source": [
        "# Ejemplo: promedio de logingreso de varones o mayores a 40 años\n",
        "df.loc[(df.sexo=='varon') | (df.edad>=40) ].logingreso.mean()"
      ],
      "execution_count": 130,
      "outputs": [
        {
          "output_type": "execute_result",
          "data": {
            "text/plain": [
              "9.343912623487702"
            ]
          },
          "metadata": {},
          "execution_count": 130
        }
      ]
    },
    {
      "cell_type": "markdown",
      "metadata": {
        "id": "YnSuc-vkcgmU"
      },
      "source": [
        "## Filtrando el dataframe\n",
        "\n",
        "\n",
        "Para escribir una condicion recuerden que pueden utilizar los siguientes lógicos:\n",
        "\n",
        "==    para chequear la  condicion \"equivale a\" o \"igual a\" va doble igual\n",
        "\n",
        "!= distinto a\n",
        " \n",
        "\\> mayor a \\\\\n",
        "\n",
        "\\> = mayor o igual a\n",
        "\n",
        "< menor a\n",
        "\n",
        "<= menor o igual a\n",
        "\n",
        "En el caso de querer usar dos condiciones o más:\n",
        "\n",
        "(esta condicion) & (esta condicion) Se cumple esta condicion Y esta otra\n",
        "\n",
        "(esta condicion) | (esta condicion) Se cumple esta condicion O esta otra\n",
        "\n",
        "Recuerden que las condiciones tiene que ir en parentesis!\n",
        "\n",
        "\n",
        "\n"
      ]
    },
    {
      "cell_type": "markdown",
      "metadata": {
        "id": "pImuoa1auWgA"
      },
      "source": [
        "# Aplicando el CEF\n",
        "\n",
        "Vamos a explorar ahore el ingreso esperado de varones y mujeres. Usando el modelo CEF tendríamos:\n",
        "\n",
        "$$E[y|sexo=\\text{varon}]$$\n",
        "\n",
        "y\n",
        "\n",
        "$$E[y|sexo=\\text{mujer}]$$\n"
      ]
    },
    {
      "cell_type": "code",
      "metadata": {
        "id": "34G8nX_ow5ve",
        "outputId": "ee377066-a8ca-4c0b-b41b-fb021e0c1428",
        "colab": {
          "base_uri": "https://localhost:8080/"
        }
      },
      "source": [
        "df.loc[df.sexo=='varon'].logingreso.mean()"
      ],
      "execution_count": 131,
      "outputs": [
        {
          "output_type": "execute_result",
          "data": {
            "text/plain": [
              "9.444136001549921"
            ]
          },
          "metadata": {},
          "execution_count": 131
        }
      ]
    },
    {
      "cell_type": "code",
      "metadata": {
        "id": "iKqmxGt0uces",
        "outputId": "1bf54bc0-2946-4a54-fe76-785415b6285b",
        "colab": {
          "base_uri": "https://localhost:8080/"
        }
      },
      "source": [
        "df.loc[df.sexo=='mujer'].logingreso.mean()"
      ],
      "execution_count": 132,
      "outputs": [
        {
          "output_type": "execute_result",
          "data": {
            "text/plain": [
              "9.136385530108724"
            ]
          },
          "metadata": {},
          "execution_count": 132
        }
      ]
    },
    {
      "cell_type": "code",
      "metadata": {
        "id": "OE5iOwkA2-bN"
      },
      "source": [],
      "execution_count": 132,
      "outputs": []
    },
    {
      "cell_type": "markdown",
      "metadata": {
        "id": "EveVpZBc3Aq1"
      },
      "source": [
        "# Un metodo alternativo para contruir medias por grupos usando groupby"
      ]
    },
    {
      "cell_type": "code",
      "metadata": {
        "id": "YKqzX__JrjxC",
        "outputId": "ba6daeda-97b2-476f-b33d-96356d7cf031",
        "colab": {
          "base_uri": "https://localhost:8080/",
          "height": 237
        }
      },
      "source": [
        "df.groupby(by='sexo').mean()"
      ],
      "execution_count": 133,
      "outputs": [
        {
          "output_type": "execute_result",
          "data": {
            "text/plain": [
              "                id    nhogar   miembro    comuna       edad  parentes_2  \\\n",
              "sexo                                                                      \n",
              "mujer  3108.302404  1.007137  1.685763  7.196657  49.900826    1.994553   \n",
              "varon  2854.199833  1.010232  1.515765  7.331593  46.261015    1.721445   \n",
              "\n",
              "           p5_2      p6_a      p6_b  categori  ...     sn1_3     sn1_4  \\\n",
              "sexo                                           ...                       \n",
              "mujer  3.250563  6.740609  4.709992  1.769910  ...  1.840533  1.984974   \n",
              "varon  3.002506  6.662560  4.410942  2.170182  ...  1.851744  1.986010   \n",
              "\n",
              "          sn1_5        s8      sn14       s28       s29        fexp  \\\n",
              "sexo                                                                  \n",
              "mujer  1.979902  1.904207  0.182757  1.325507  1.647446  212.109692   \n",
              "varon  1.988933  1.928169  0.125496  0.000000  0.000000  204.478806   \n",
              "\n",
              "       logingreso  dsex  \n",
              "sexo                     \n",
              "mujer    9.136386   1.0  \n",
              "varon    9.444136   0.0  \n",
              "\n",
              "[2 rows x 87 columns]"
            ],
            "text/html": [
              "\n",
              "  <div id=\"df-d5d92f93-c25b-4ead-bbf9-7ea91b7770d5\">\n",
              "    <div class=\"colab-df-container\">\n",
              "      <div>\n",
              "<style scoped>\n",
              "    .dataframe tbody tr th:only-of-type {\n",
              "        vertical-align: middle;\n",
              "    }\n",
              "\n",
              "    .dataframe tbody tr th {\n",
              "        vertical-align: top;\n",
              "    }\n",
              "\n",
              "    .dataframe thead th {\n",
              "        text-align: right;\n",
              "    }\n",
              "</style>\n",
              "<table border=\"1\" class=\"dataframe\">\n",
              "  <thead>\n",
              "    <tr style=\"text-align: right;\">\n",
              "      <th></th>\n",
              "      <th>id</th>\n",
              "      <th>nhogar</th>\n",
              "      <th>miembro</th>\n",
              "      <th>comuna</th>\n",
              "      <th>edad</th>\n",
              "      <th>parentes_2</th>\n",
              "      <th>p5_2</th>\n",
              "      <th>p6_a</th>\n",
              "      <th>p6_b</th>\n",
              "      <th>categori</th>\n",
              "      <th>...</th>\n",
              "      <th>sn1_3</th>\n",
              "      <th>sn1_4</th>\n",
              "      <th>sn1_5</th>\n",
              "      <th>s8</th>\n",
              "      <th>sn14</th>\n",
              "      <th>s28</th>\n",
              "      <th>s29</th>\n",
              "      <th>fexp</th>\n",
              "      <th>logingreso</th>\n",
              "      <th>dsex</th>\n",
              "    </tr>\n",
              "    <tr>\n",
              "      <th>sexo</th>\n",
              "      <th></th>\n",
              "      <th></th>\n",
              "      <th></th>\n",
              "      <th></th>\n",
              "      <th></th>\n",
              "      <th></th>\n",
              "      <th></th>\n",
              "      <th></th>\n",
              "      <th></th>\n",
              "      <th></th>\n",
              "      <th></th>\n",
              "      <th></th>\n",
              "      <th></th>\n",
              "      <th></th>\n",
              "      <th></th>\n",
              "      <th></th>\n",
              "      <th></th>\n",
              "      <th></th>\n",
              "      <th></th>\n",
              "      <th></th>\n",
              "      <th></th>\n",
              "    </tr>\n",
              "  </thead>\n",
              "  <tbody>\n",
              "    <tr>\n",
              "      <th>mujer</th>\n",
              "      <td>3108.302404</td>\n",
              "      <td>1.007137</td>\n",
              "      <td>1.685763</td>\n",
              "      <td>7.196657</td>\n",
              "      <td>49.900826</td>\n",
              "      <td>1.994553</td>\n",
              "      <td>3.250563</td>\n",
              "      <td>6.740609</td>\n",
              "      <td>4.709992</td>\n",
              "      <td>1.769910</td>\n",
              "      <td>...</td>\n",
              "      <td>1.840533</td>\n",
              "      <td>1.984974</td>\n",
              "      <td>1.979902</td>\n",
              "      <td>1.904207</td>\n",
              "      <td>0.182757</td>\n",
              "      <td>1.325507</td>\n",
              "      <td>1.647446</td>\n",
              "      <td>212.109692</td>\n",
              "      <td>9.136386</td>\n",
              "      <td>1.0</td>\n",
              "    </tr>\n",
              "    <tr>\n",
              "      <th>varon</th>\n",
              "      <td>2854.199833</td>\n",
              "      <td>1.010232</td>\n",
              "      <td>1.515765</td>\n",
              "      <td>7.331593</td>\n",
              "      <td>46.261015</td>\n",
              "      <td>1.721445</td>\n",
              "      <td>3.002506</td>\n",
              "      <td>6.662560</td>\n",
              "      <td>4.410942</td>\n",
              "      <td>2.170182</td>\n",
              "      <td>...</td>\n",
              "      <td>1.851744</td>\n",
              "      <td>1.986010</td>\n",
              "      <td>1.988933</td>\n",
              "      <td>1.928169</td>\n",
              "      <td>0.125496</td>\n",
              "      <td>0.000000</td>\n",
              "      <td>0.000000</td>\n",
              "      <td>204.478806</td>\n",
              "      <td>9.444136</td>\n",
              "      <td>0.0</td>\n",
              "    </tr>\n",
              "  </tbody>\n",
              "</table>\n",
              "<p>2 rows × 87 columns</p>\n",
              "</div>\n",
              "      <button class=\"colab-df-convert\" onclick=\"convertToInteractive('df-d5d92f93-c25b-4ead-bbf9-7ea91b7770d5')\"\n",
              "              title=\"Convert this dataframe to an interactive table.\"\n",
              "              style=\"display:none;\">\n",
              "        \n",
              "  <svg xmlns=\"http://www.w3.org/2000/svg\" height=\"24px\"viewBox=\"0 0 24 24\"\n",
              "       width=\"24px\">\n",
              "    <path d=\"M0 0h24v24H0V0z\" fill=\"none\"/>\n",
              "    <path d=\"M18.56 5.44l.94 2.06.94-2.06 2.06-.94-2.06-.94-.94-2.06-.94 2.06-2.06.94zm-11 1L8.5 8.5l.94-2.06 2.06-.94-2.06-.94L8.5 2.5l-.94 2.06-2.06.94zm10 10l.94 2.06.94-2.06 2.06-.94-2.06-.94-.94-2.06-.94 2.06-2.06.94z\"/><path d=\"M17.41 7.96l-1.37-1.37c-.4-.4-.92-.59-1.43-.59-.52 0-1.04.2-1.43.59L10.3 9.45l-7.72 7.72c-.78.78-.78 2.05 0 2.83L4 21.41c.39.39.9.59 1.41.59.51 0 1.02-.2 1.41-.59l7.78-7.78 2.81-2.81c.8-.78.8-2.07 0-2.86zM5.41 20L4 18.59l7.72-7.72 1.47 1.35L5.41 20z\"/>\n",
              "  </svg>\n",
              "      </button>\n",
              "      \n",
              "  <style>\n",
              "    .colab-df-container {\n",
              "      display:flex;\n",
              "      flex-wrap:wrap;\n",
              "      gap: 12px;\n",
              "    }\n",
              "\n",
              "    .colab-df-convert {\n",
              "      background-color: #E8F0FE;\n",
              "      border: none;\n",
              "      border-radius: 50%;\n",
              "      cursor: pointer;\n",
              "      display: none;\n",
              "      fill: #1967D2;\n",
              "      height: 32px;\n",
              "      padding: 0 0 0 0;\n",
              "      width: 32px;\n",
              "    }\n",
              "\n",
              "    .colab-df-convert:hover {\n",
              "      background-color: #E2EBFA;\n",
              "      box-shadow: 0px 1px 2px rgba(60, 64, 67, 0.3), 0px 1px 3px 1px rgba(60, 64, 67, 0.15);\n",
              "      fill: #174EA6;\n",
              "    }\n",
              "\n",
              "    [theme=dark] .colab-df-convert {\n",
              "      background-color: #3B4455;\n",
              "      fill: #D2E3FC;\n",
              "    }\n",
              "\n",
              "    [theme=dark] .colab-df-convert:hover {\n",
              "      background-color: #434B5C;\n",
              "      box-shadow: 0px 1px 3px 1px rgba(0, 0, 0, 0.15);\n",
              "      filter: drop-shadow(0px 1px 2px rgba(0, 0, 0, 0.3));\n",
              "      fill: #FFFFFF;\n",
              "    }\n",
              "  </style>\n",
              "\n",
              "      <script>\n",
              "        const buttonEl =\n",
              "          document.querySelector('#df-d5d92f93-c25b-4ead-bbf9-7ea91b7770d5 button.colab-df-convert');\n",
              "        buttonEl.style.display =\n",
              "          google.colab.kernel.accessAllowed ? 'block' : 'none';\n",
              "\n",
              "        async function convertToInteractive(key) {\n",
              "          const element = document.querySelector('#df-d5d92f93-c25b-4ead-bbf9-7ea91b7770d5');\n",
              "          const dataTable =\n",
              "            await google.colab.kernel.invokeFunction('convertToInteractive',\n",
              "                                                     [key], {});\n",
              "          if (!dataTable) return;\n",
              "\n",
              "          const docLinkHtml = 'Like what you see? Visit the ' +\n",
              "            '<a target=\"_blank\" href=https://colab.research.google.com/notebooks/data_table.ipynb>data table notebook</a>'\n",
              "            + ' to learn more about interactive tables.';\n",
              "          element.innerHTML = '';\n",
              "          dataTable['output_type'] = 'display_data';\n",
              "          await google.colab.output.renderOutput(dataTable, element);\n",
              "          const docLink = document.createElement('div');\n",
              "          docLink.innerHTML = docLinkHtml;\n",
              "          element.appendChild(docLink);\n",
              "        }\n",
              "      </script>\n",
              "    </div>\n",
              "  </div>\n",
              "  "
            ]
          },
          "metadata": {},
          "execution_count": 133
        }
      ]
    },
    {
      "cell_type": "code",
      "metadata": {
        "id": "RCC1p-dMq9Jl",
        "outputId": "ade382b6-de61-4f61-9050-917654bfc06a",
        "colab": {
          "base_uri": "https://localhost:8080/"
        }
      },
      "source": [
        "df.groupby(by='sexo')['logingreso'].mean()"
      ],
      "execution_count": 134,
      "outputs": [
        {
          "output_type": "execute_result",
          "data": {
            "text/plain": [
              "sexo\n",
              "mujer    9.136386\n",
              "varon    9.444136\n",
              "Name: logingreso, dtype: float64"
            ]
          },
          "metadata": {},
          "execution_count": 134
        }
      ]
    },
    {
      "cell_type": "code",
      "metadata": {
        "id": "3WaR7abA3LN3"
      },
      "source": [],
      "execution_count": 134,
      "outputs": []
    },
    {
      "cell_type": "markdown",
      "metadata": {
        "id": "doYyzTOr3Omu"
      },
      "source": [
        "# Ejemplo más avanzado: creando una tabla de promedios y luego grafico las funciones CEF segun sexo y escolaridad"
      ]
    },
    {
      "cell_type": "code",
      "metadata": {
        "id": "Ebv_DeCasS-W"
      },
      "source": [
        "df_means=df.groupby(['sexo','aesc'],as_index=False)['logingreso'].mean()\n",
        "df_means=df_means.loc[df_means.aesc<20]\n",
        "#.plot(x='aesc',y='logingreso')"
      ],
      "execution_count": 135,
      "outputs": []
    },
    {
      "cell_type": "code",
      "metadata": {
        "id": "5iC3AfX7r1Ks",
        "outputId": "37aab952-6ccd-4d54-c25c-f6104d5d971d",
        "colab": {
          "base_uri": "https://localhost:8080/",
          "height": 406
        }
      },
      "source": [
        "import matplotlib.pyplot as plt\n",
        "base=df_means.loc[df_means.sexo=='varon'].plot(x='aesc',y='logingreso', style='o', label='varon')\n",
        "df_means.loc[df_means.sexo=='mujer'].plot(x='aesc',y='logingreso', style='o', ax=base, label='mujer')"
      ],
      "execution_count": 136,
      "outputs": [
        {
          "output_type": "execute_result",
          "data": {
            "text/plain": [
              "<matplotlib.axes._subplots.AxesSubplot at 0x7fa960580510>"
            ]
          },
          "metadata": {},
          "execution_count": 136
        },
        {
          "output_type": "display_data",
          "data": {
            "text/plain": [
              "<Figure size 432x432 with 1 Axes>"
            ],
            "image/png": "[encoded data removed]"
          },
          "metadata": {
            "needs_background": "light"
          }
        }
      ]
    },
    {
      "cell_type": "markdown",
      "metadata": {
        "id": "jpLKXlWw3xCg"
      },
      "source": [
        "Creando una variable dummy"
      ]
    },
    {
      "cell_type": "code",
      "metadata": {
        "id": "5wPIwFnCfa4W"
      },
      "source": [
        "df.loc[df['sexo'] == 'varon', 'dmujer'] = 0\n",
        "df.loc[df['sexo'] == 'mujer', 'dmujer'] = 1"
      ],
      "execution_count": 137,
      "outputs": []
    },
    {
      "cell_type": "markdown",
      "metadata": {
        "id": "rr2sfj-UdQQ2"
      },
      "source": [
        "## OLS\n",
        "\n",
        "Statsmodels es la librería de operaciones estadísticas que usaremos para estimar OLS"
      ]
    },
    {
      "cell_type": "code",
      "metadata": {
        "id": "I9qvql6adR-y"
      },
      "source": [
        "import statsmodels.api as sm"
      ],
      "execution_count": 151,
      "outputs": []
    },
    {
      "cell_type": "markdown",
      "metadata": {
        "id": "1KwGkaLFdiqt"
      },
      "source": [
        "Estimar la regresion va a requerir varios pasos que voy a resumir en una funcion.\n",
        "\n",
        "Asegurarme de que los datos (las filas en cuestion) que voy a estar usando no tienen datos missing en ninguna variable. \\\\\n",
        "Separar a la variable a explicar (dependiente) de la(s) explicativas \\\\\n",
        "Si la regresión va a tener una constante, como en nuestro caso, agregar a las variables explicativas una columna de 1s (unos). \\\\\n",
        "Asignar a una variable el nombre del modelo y las especificaciones del mismo  \\\\\n",
        "Correr el modelo con el metodo fit() y guardar los resultados en otra variable\n",
        "Imprimir los resultados en pantalla (imprimir los contenidos de la variable del paso anterior)"
      ]
    },
    {
      "cell_type": "code",
      "metadata": {
        "id": "0DoC3j5ZdpJ_"
      },
      "source": [
        "def regress(lista, data):\n",
        "  \"\"\" \n",
        "  Funcion que realiza la regresion OLS\n",
        "  La primera variable de la lista es la dependiente, el resto son las explicativas\n",
        "  data es la base de datos\n",
        "  \"\"\"\n",
        "  datos=data[lista]\n",
        "  # el metodo dropna() me permite eliminar las filas que tienen algun valor missing\n",
        "  datos=datos.dropna()\n",
        "  Y=datos[lista[0]]\n",
        "  X=datos[lista[1:]]\n",
        "  X=sm.add_constant(X)\n",
        "  modelo=sm.OLS(Y,X)\n",
        "  resultados=modelo.fit()\n",
        "  print(resultados.summary())"
      ],
      "execution_count": 152,
      "outputs": []
    },
    {
      "cell_type": "code",
      "metadata": {
        "id": "my9f8-_keMlw",
        "outputId": "d062874b-ceb9-4e37-9052-6eb7c09ac6e7",
        "colab": {
          "base_uri": "https://localhost:8080/"
        }
      },
      "source": [
        "regress(['logingreso','dmujer'],data=df)"
      ],
      "execution_count": 153,
      "outputs": [
        {
          "output_type": "stream",
          "name": "stdout",
          "text": [
            "                            OLS Regression Results                            \n",
            "==============================================================================\n",
            "Dep. Variable:             logingreso   R-squared:                       0.032\n",
            "Model:                            OLS   Adj. R-squared:                  0.032\n",
            "Method:                 Least Squares   F-statistic:                     332.5\n",
            "Date:                Wed, 12 Oct 2022   Prob (F-statistic):           4.01e-73\n",
            "Time:                        18:57:53   Log-Likelihood:                -12674.\n",
            "No. Observations:               10113   AIC:                         2.535e+04\n",
            "Df Residuals:                   10111   BIC:                         2.537e+04\n",
            "Df Model:                           1                                         \n",
            "Covariance Type:            nonrobust                                         \n",
            "==============================================================================\n",
            "                 coef    std err          t      P>|t|      [0.025      0.975]\n",
            "------------------------------------------------------------------------------\n",
            "const          9.4441      0.012    771.247      0.000       9.420       9.468\n",
            "dmujer        -0.3078      0.017    -18.235      0.000      -0.341      -0.275\n",
            "==============================================================================\n",
            "Omnibus:                     1137.319   Durbin-Watson:                   1.487\n",
            "Prob(Omnibus):                  0.000   Jarque-Bera (JB):             2488.274\n",
            "Skew:                          -0.693   Prob(JB):                         0.00\n",
            "Kurtosis:                       4.996   Cond. No.                         2.68\n",
            "==============================================================================\n",
            "\n",
            "Notes:\n",
            "[1] Standard Errors assume that the covariance matrix of the errors is correctly specified.\n"
          ]
        },
        {
          "output_type": "stream",
          "name": "stderr",
          "text": [
            "/usr/local/lib/python3.7/dist-packages/statsmodels/tsa/tsatools.py:142: FutureWarning: In a future version of pandas all arguments of concat except for the argument 'objs' will be keyword-only\n",
            "  x = pd.concat(x[::order], 1)\n"
          ]
        }
      ]
    },
    {
      "cell_type": "code",
      "metadata": {
        "id": "9FjGWMny0FHN"
      },
      "source": [
        "df['dinmigrante'] = 0\n",
        "df.loc[df['inmigrante'] == 'inmigrante', 'dinmigrante'] = 1"
      ],
      "execution_count": 154,
      "outputs": []
    },
    {
      "cell_type": "code",
      "metadata": {
        "id": "hwNzJjVP_tGL",
        "outputId": "67ba9bac-568b-4526-bf16-e86aecb63f33",
        "colab": {
          "base_uri": "https://localhost:8080/"
        }
      },
      "source": [
        "df.loc[(df['sexo'] == 'varon')&(df['inmigrante'] != 'inmigrante')].logingreso.mean()"
      ],
      "execution_count": 155,
      "outputs": [
        {
          "output_type": "execute_result",
          "data": {
            "text/plain": [
              "9.50509170628835"
            ]
          },
          "metadata": {},
          "execution_count": 155
        }
      ]
    },
    {
      "cell_type": "code",
      "metadata": {
        "id": "EadC4C6r7Lnx",
        "outputId": "0b31ab16-ccb1-42fa-8658-e06f1cafedeb",
        "colab": {
          "base_uri": "https://localhost:8080/"
        }
      },
      "source": [
        "df.loc[(df['sexo'] == 'mujer')&(df['inmigrante'] != 'inmigrante')].logingreso.mean()"
      ],
      "execution_count": 156,
      "outputs": [
        {
          "output_type": "execute_result",
          "data": {
            "text/plain": [
              "9.209591040354109"
            ]
          },
          "metadata": {},
          "execution_count": 156
        }
      ]
    },
    {
      "cell_type": "code",
      "metadata": {
        "id": "xIMQoTDtAI64",
        "outputId": "e8599b6b-70d6-4523-ca68-c7203742395b",
        "colab": {
          "base_uri": "https://localhost:8080/"
        }
      },
      "source": [
        "df.loc[(df['sexo'] == 'varon')&(df['inmigrante'] == 'inmigrante')].logingreso.mean()"
      ],
      "execution_count": 157,
      "outputs": [
        {
          "output_type": "execute_result",
          "data": {
            "text/plain": [
              "9.261624758838526"
            ]
          },
          "metadata": {},
          "execution_count": 157
        }
      ]
    },
    {
      "cell_type": "code",
      "metadata": {
        "id": "uVJ6T42vAdKF",
        "outputId": "a0d5e723-e8bc-4ac0-db61-48f83f7bdfc7",
        "colab": {
          "base_uri": "https://localhost:8080/"
        }
      },
      "source": [
        "df.loc[(df['sexo'] == 'mujer')&(df['inmigrante'] == 'inmigrante')].logingreso.mean()"
      ],
      "execution_count": 158,
      "outputs": [
        {
          "output_type": "execute_result",
          "data": {
            "text/plain": [
              "8.9385575657043"
            ]
          },
          "metadata": {},
          "execution_count": 158
        }
      ]
    },
    {
      "cell_type": "code",
      "metadata": {
        "id": "f-z0lrzC7vAY",
        "outputId": "bbd4b988-bae5-4dc5-bcda-89121364b90f",
        "colab": {
          "base_uri": "https://localhost:8080/"
        }
      },
      "source": [
        "regress(['logingreso','dmujer','dinmigrante'],data=df)"
      ],
      "execution_count": 159,
      "outputs": [
        {
          "output_type": "stream",
          "name": "stdout",
          "text": [
            "                            OLS Regression Results                            \n",
            "==============================================================================\n",
            "Dep. Variable:             logingreso   R-squared:                       0.049\n",
            "Model:                            OLS   Adj. R-squared:                  0.049\n",
            "Method:                 Least Squares   F-statistic:                     261.4\n",
            "Date:                Wed, 12 Oct 2022   Prob (F-statistic):          1.98e-111\n",
            "Time:                        18:57:54   Log-Likelihood:                -12583.\n",
            "No. Observations:               10113   AIC:                         2.517e+04\n",
            "Df Residuals:                   10110   BIC:                         2.519e+04\n",
            "Df Model:                           2                                         \n",
            "Covariance Type:            nonrobust                                         \n",
            "===============================================================================\n",
            "                  coef    std err          t      P>|t|      [0.025      0.975]\n",
            "-------------------------------------------------------------------------------\n",
            "const           9.5088      0.013    729.363      0.000       9.483       9.534\n",
            "dmujer         -0.3027      0.017    -18.090      0.000      -0.335      -0.270\n",
            "dinmigrante    -0.2583      0.019    -13.577      0.000      -0.296      -0.221\n",
            "==============================================================================\n",
            "Omnibus:                     1165.681   Durbin-Watson:                   1.519\n",
            "Prob(Omnibus):                  0.000   Jarque-Bera (JB):             2615.035\n",
            "Skew:                          -0.700   Prob(JB):                         0.00\n",
            "Kurtosis:                       5.061   Cond. No.                         2.94\n",
            "==============================================================================\n",
            "\n",
            "Notes:\n",
            "[1] Standard Errors assume that the covariance matrix of the errors is correctly specified.\n"
          ]
        },
        {
          "output_type": "stream",
          "name": "stderr",
          "text": [
            "/usr/local/lib/python3.7/dist-packages/statsmodels/tsa/tsatools.py:142: FutureWarning: In a future version of pandas all arguments of concat except for the argument 'objs' will be keyword-only\n",
            "  x = pd.concat(x[::order], 1)\n"
          ]
        }
      ]
    },
    {
      "cell_type": "code",
      "metadata": {
        "id": "gGsJRBhWCK07",
        "outputId": "8b5a098e-f655-4ba6-f7a1-00cf42b34d14",
        "colab": {
          "base_uri": "https://localhost:8080/"
        }
      },
      "source": [
        "#prediccion para la mujer inmigrante\n",
        "9.5088-0.3027-0.2583"
      ],
      "execution_count": 160,
      "outputs": [
        {
          "output_type": "execute_result",
          "data": {
            "text/plain": [
              "8.9478"
            ]
          },
          "metadata": {},
          "execution_count": 160
        }
      ]
    },
    {
      "cell_type": "code",
      "metadata": {
        "id": "zZgN9vI_BYBi"
      },
      "source": [
        "df['dmujerinmigrante'] =df['dmujer']*df['dinmigrante'] "
      ],
      "execution_count": 161,
      "outputs": []
    },
    {
      "cell_type": "code",
      "metadata": {
        "id": "DyHpuOfHBgbm",
        "outputId": "1ddf41d0-a9bd-4273-f7b8-daf8bd21a2a0",
        "colab": {
          "base_uri": "https://localhost:8080/"
        }
      },
      "source": [
        "regress(['logingreso','dmujer','dinmigrante','dmujerinmigrante' ],data=df)\n",
        "# me permite computar directamente el diferencial de la mujer inmigrante, que de otra manera quedaria resumido en el promedio"
      ],
      "execution_count": 162,
      "outputs": [
        {
          "output_type": "stream",
          "name": "stdout",
          "text": [
            "                            OLS Regression Results                            \n",
            "==============================================================================\n",
            "Dep. Variable:             logingreso   R-squared:                       0.049\n",
            "Model:                            OLS   Adj. R-squared:                  0.049\n",
            "Method:                 Least Squares   F-statistic:                     174.5\n",
            "Date:                Wed, 12 Oct 2022   Prob (F-statistic):          2.78e-110\n",
            "Time:                        18:57:54   Log-Likelihood:                -12583.\n",
            "No. Observations:               10113   AIC:                         2.517e+04\n",
            "Df Residuals:                   10109   BIC:                         2.520e+04\n",
            "Df Model:                           3                                         \n",
            "Covariance Type:            nonrobust                                         \n",
            "====================================================================================\n",
            "                       coef    std err          t      P>|t|      [0.025      0.975]\n",
            "------------------------------------------------------------------------------------\n",
            "const                9.5051      0.014    678.116      0.000       9.478       9.533\n",
            "dmujer              -0.2955      0.019    -15.199      0.000      -0.334      -0.257\n",
            "dinmigrante         -0.2435      0.028     -8.691      0.000      -0.298      -0.189\n",
            "dmujerinmigrante    -0.0276      0.038     -0.722      0.470      -0.102       0.047\n",
            "==============================================================================\n",
            "Omnibus:                     1163.411   Durbin-Watson:                   1.519\n",
            "Prob(Omnibus):                  0.000   Jarque-Bera (JB):             2609.900\n",
            "Skew:                          -0.699   Prob(JB):                         0.00\n",
            "Kurtosis:                       5.059   Cond. No.                         6.67\n",
            "==============================================================================\n",
            "\n",
            "Notes:\n",
            "[1] Standard Errors assume that the covariance matrix of the errors is correctly specified.\n"
          ]
        },
        {
          "output_type": "stream",
          "name": "stderr",
          "text": [
            "/usr/local/lib/python3.7/dist-packages/statsmodels/tsa/tsatools.py:142: FutureWarning: In a future version of pandas all arguments of concat except for the argument 'objs' will be keyword-only\n",
            "  x = pd.concat(x[::order], 1)\n"
          ]
        }
      ]
    },
    {
      "cell_type": "code",
      "metadata": {
        "id": "MhZcfrJkCZD2",
        "outputId": "f8c236ba-aa3f-4efe-fa34-0a5f48b61feb",
        "colab": {
          "base_uri": "https://localhost:8080/"
        }
      },
      "source": [
        "9.5051-0.2955-0.2435-0.0276"
      ],
      "execution_count": 163,
      "outputs": [
        {
          "output_type": "execute_result",
          "data": {
            "text/plain": [
              "8.938500000000001"
            ]
          },
          "metadata": {},
          "execution_count": 163
        }
      ]
    }
  ]
}