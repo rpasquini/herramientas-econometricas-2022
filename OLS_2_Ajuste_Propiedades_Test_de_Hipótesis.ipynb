{
  "nbformat": 4,
  "nbformat_minor": 0,
  "metadata": {
    "colab": {
      "name": "OLS 2 Ajuste Propiedades Test de Hipótesis.ipynb",
      "provenance": [],
      "authorship_tag": "ABX9TyMoUpUACoW1hVw+QOinlq+P",
      "include_colab_link": true
    },
    "kernelspec": {
      "name": "python3",
      "display_name": "Python 3"
    }
  },
  "cells": [
    {
      "cell_type": "markdown",
      "metadata": {
        "id": "view-in-github",
        "colab_type": "text"
      },
      "source": [
        "<a href=\"https://colab.research.google.com/github/rpasquini/herramientas-econometricas-2022/blob/main/OLS_2_Ajuste_Propiedades_Test_de_Hip%C3%B3tesis.ipynb\" target=\"_parent\"><img src=\"https://colab.research.google.com/assets/colab-badge.svg\" alt=\"Open In Colab\"/></a>"
      ]
    },
    {
      "cell_type": "code",
      "metadata": {
        "id": "NNmORTIw0Z_t"
      },
      "source": [
        "import statsmodels.api as sm\n",
        "import matplotlib.pyplot as plt\n",
        "import numpy as np\n",
        "import pandas as pd"
      ],
      "execution_count": 1,
      "outputs": []
    },
    {
      "cell_type": "code",
      "metadata": {
        "id": "OTliy8gp0cuf"
      },
      "source": [
        "df=pd.read_csv('https://github.com/rpasquini/herramientas-econometricas/blob/main/datos/eah2016_individual.csv?raw=true')"
      ],
      "execution_count": 2,
      "outputs": []
    },
    {
      "cell_type": "code",
      "source": [
        "df.head(10)"
      ],
      "metadata": {
        "id": "0tNm9iblTvdT",
        "outputId": "f00f721f-0bb9-46e6-b9d5-976bfcfe8f42",
        "colab": {
          "base_uri": "https://localhost:8080/",
          "height": 454
        }
      },
      "execution_count": 3,
      "outputs": [
        {
          "output_type": "execute_result",
          "data": {
            "text/plain": [
              "   id  nhogar  miembro  comuna                                 dominio  edad  \\\n",
              "0   1       1        1      13                            resto ciudad    18   \n",
              "1   2       1        1       1                            resto ciudad    18   \n",
              "2   3       1        1       6  inquilinatos hoteles inmuebles tomados    18   \n",
              "3   4       1        1      14                            resto ciudad    18   \n",
              "4   5       1        1       2                            resto ciudad    18   \n",
              "5   6       1        1      13                            resto ciudad    18   \n",
              "6   6       1        2      13                            resto ciudad    24   \n",
              "7   7       1        1       7                            resto ciudad    18   \n",
              "8   7       1        2       7                            resto ciudad     2   \n",
              "9   7       1        3       7                            resto ciudad     1   \n",
              "\n",
              "    sexo  parentes_2  p5_2  p6_a  ...  s8 sn14       sn16  s28  s29  fexp  \\\n",
              "0  mujer           1     6    95  ...   2    0  Excelente    2    0   973   \n",
              "1  varon           1     6    95  ...   2    0  Excelente    0    0   115   \n",
              "2  mujer           1     6    95  ...   2    0  Excelente    2    0   223   \n",
              "3  varon           1     6    95  ...   2    0  Excelente    0    0   421   \n",
              "4  varon           1     6    95  ...   2    0      Bueno    0    0   199   \n",
              "5  mujer           1     6    95  ...   2    0      Bueno    2    0   314   \n",
              "6  varon           7     6    95  ...   2    0  Excelente    0    0   314   \n",
              "7  mujer           1     3    95  ...   2    0      Bueno    1    2   272   \n",
              "8  varon           3     0    95  ...   2    0  Excelente    0    0   272   \n",
              "9  varon           3     0    95  ...   2    0  Excelente    0    0   272   \n",
              "\n",
              "   sexotexto  inmigrante  logingreso  dsex  \n",
              "0      mujer  nativo arg    8.384804     1  \n",
              "1      varon  inmigrante    9.104980     0  \n",
              "2      mujer  inmigrante    8.482602     1  \n",
              "3      varon  nativo arg    9.615806     0  \n",
              "4      varon  nativo arg    9.615806     0  \n",
              "5      mujer  nativo arg    8.612503     1  \n",
              "6      varon  nativo arg    9.798127     0  \n",
              "7      mujer  nativo arg    7.901007     1  \n",
              "8      varon  nativo arg         NaN     0  \n",
              "9      varon  nativo arg         NaN     0  \n",
              "\n",
              "[10 rows x 96 columns]"
            ],
            "text/html": [
              "\n",
              "  <div id=\"df-0d6f2b68-4725-4b4a-b887-ee137d97c142\">\n",
              "    <div class=\"colab-df-container\">\n",
              "      <div>\n",
              "<style scoped>\n",
              "    .dataframe tbody tr th:only-of-type {\n",
              "        vertical-align: middle;\n",
              "    }\n",
              "\n",
              "    .dataframe tbody tr th {\n",
              "        vertical-align: top;\n",
              "    }\n",
              "\n",
              "    .dataframe thead th {\n",
              "        text-align: right;\n",
              "    }\n",
              "</style>\n",
              "<table border=\"1\" class=\"dataframe\">\n",
              "  <thead>\n",
              "    <tr style=\"text-align: right;\">\n",
              "      <th></th>\n",
              "      <th>id</th>\n",
              "      <th>nhogar</th>\n",
              "      <th>miembro</th>\n",
              "      <th>comuna</th>\n",
              "      <th>dominio</th>\n",
              "      <th>edad</th>\n",
              "      <th>sexo</th>\n",
              "      <th>parentes_2</th>\n",
              "      <th>p5_2</th>\n",
              "      <th>p6_a</th>\n",
              "      <th>...</th>\n",
              "      <th>s8</th>\n",
              "      <th>sn14</th>\n",
              "      <th>sn16</th>\n",
              "      <th>s28</th>\n",
              "      <th>s29</th>\n",
              "      <th>fexp</th>\n",
              "      <th>sexotexto</th>\n",
              "      <th>inmigrante</th>\n",
              "      <th>logingreso</th>\n",
              "      <th>dsex</th>\n",
              "    </tr>\n",
              "  </thead>\n",
              "  <tbody>\n",
              "    <tr>\n",
              "      <th>0</th>\n",
              "      <td>1</td>\n",
              "      <td>1</td>\n",
              "      <td>1</td>\n",
              "      <td>13</td>\n",
              "      <td>resto ciudad</td>\n",
              "      <td>18</td>\n",
              "      <td>mujer</td>\n",
              "      <td>1</td>\n",
              "      <td>6</td>\n",
              "      <td>95</td>\n",
              "      <td>...</td>\n",
              "      <td>2</td>\n",
              "      <td>0</td>\n",
              "      <td>Excelente</td>\n",
              "      <td>2</td>\n",
              "      <td>0</td>\n",
              "      <td>973</td>\n",
              "      <td>mujer</td>\n",
              "      <td>nativo arg</td>\n",
              "      <td>8.384804</td>\n",
              "      <td>1</td>\n",
              "    </tr>\n",
              "    <tr>\n",
              "      <th>1</th>\n",
              "      <td>2</td>\n",
              "      <td>1</td>\n",
              "      <td>1</td>\n",
              "      <td>1</td>\n",
              "      <td>resto ciudad</td>\n",
              "      <td>18</td>\n",
              "      <td>varon</td>\n",
              "      <td>1</td>\n",
              "      <td>6</td>\n",
              "      <td>95</td>\n",
              "      <td>...</td>\n",
              "      <td>2</td>\n",
              "      <td>0</td>\n",
              "      <td>Excelente</td>\n",
              "      <td>0</td>\n",
              "      <td>0</td>\n",
              "      <td>115</td>\n",
              "      <td>varon</td>\n",
              "      <td>inmigrante</td>\n",
              "      <td>9.104980</td>\n",
              "      <td>0</td>\n",
              "    </tr>\n",
              "    <tr>\n",
              "      <th>2</th>\n",
              "      <td>3</td>\n",
              "      <td>1</td>\n",
              "      <td>1</td>\n",
              "      <td>6</td>\n",
              "      <td>inquilinatos hoteles inmuebles tomados</td>\n",
              "      <td>18</td>\n",
              "      <td>mujer</td>\n",
              "      <td>1</td>\n",
              "      <td>6</td>\n",
              "      <td>95</td>\n",
              "      <td>...</td>\n",
              "      <td>2</td>\n",
              "      <td>0</td>\n",
              "      <td>Excelente</td>\n",
              "      <td>2</td>\n",
              "      <td>0</td>\n",
              "      <td>223</td>\n",
              "      <td>mujer</td>\n",
              "      <td>inmigrante</td>\n",
              "      <td>8.482602</td>\n",
              "      <td>1</td>\n",
              "    </tr>\n",
              "    <tr>\n",
              "      <th>3</th>\n",
              "      <td>4</td>\n",
              "      <td>1</td>\n",
              "      <td>1</td>\n",
              "      <td>14</td>\n",
              "      <td>resto ciudad</td>\n",
              "      <td>18</td>\n",
              "      <td>varon</td>\n",
              "      <td>1</td>\n",
              "      <td>6</td>\n",
              "      <td>95</td>\n",
              "      <td>...</td>\n",
              "      <td>2</td>\n",
              "      <td>0</td>\n",
              "      <td>Excelente</td>\n",
              "      <td>0</td>\n",
              "      <td>0</td>\n",
              "      <td>421</td>\n",
              "      <td>varon</td>\n",
              "      <td>nativo arg</td>\n",
              "      <td>9.615806</td>\n",
              "      <td>0</td>\n",
              "    </tr>\n",
              "    <tr>\n",
              "      <th>4</th>\n",
              "      <td>5</td>\n",
              "      <td>1</td>\n",
              "      <td>1</td>\n",
              "      <td>2</td>\n",
              "      <td>resto ciudad</td>\n",
              "      <td>18</td>\n",
              "      <td>varon</td>\n",
              "      <td>1</td>\n",
              "      <td>6</td>\n",
              "      <td>95</td>\n",
              "      <td>...</td>\n",
              "      <td>2</td>\n",
              "      <td>0</td>\n",
              "      <td>Bueno</td>\n",
              "      <td>0</td>\n",
              "      <td>0</td>\n",
              "      <td>199</td>\n",
              "      <td>varon</td>\n",
              "      <td>nativo arg</td>\n",
              "      <td>9.615806</td>\n",
              "      <td>0</td>\n",
              "    </tr>\n",
              "    <tr>\n",
              "      <th>5</th>\n",
              "      <td>6</td>\n",
              "      <td>1</td>\n",
              "      <td>1</td>\n",
              "      <td>13</td>\n",
              "      <td>resto ciudad</td>\n",
              "      <td>18</td>\n",
              "      <td>mujer</td>\n",
              "      <td>1</td>\n",
              "      <td>6</td>\n",
              "      <td>95</td>\n",
              "      <td>...</td>\n",
              "      <td>2</td>\n",
              "      <td>0</td>\n",
              "      <td>Bueno</td>\n",
              "      <td>2</td>\n",
              "      <td>0</td>\n",
              "      <td>314</td>\n",
              "      <td>mujer</td>\n",
              "      <td>nativo arg</td>\n",
              "      <td>8.612503</td>\n",
              "      <td>1</td>\n",
              "    </tr>\n",
              "    <tr>\n",
              "      <th>6</th>\n",
              "      <td>6</td>\n",
              "      <td>1</td>\n",
              "      <td>2</td>\n",
              "      <td>13</td>\n",
              "      <td>resto ciudad</td>\n",
              "      <td>24</td>\n",
              "      <td>varon</td>\n",
              "      <td>7</td>\n",
              "      <td>6</td>\n",
              "      <td>95</td>\n",
              "      <td>...</td>\n",
              "      <td>2</td>\n",
              "      <td>0</td>\n",
              "      <td>Excelente</td>\n",
              "      <td>0</td>\n",
              "      <td>0</td>\n",
              "      <td>314</td>\n",
              "      <td>varon</td>\n",
              "      <td>nativo arg</td>\n",
              "      <td>9.798127</td>\n",
              "      <td>0</td>\n",
              "    </tr>\n",
              "    <tr>\n",
              "      <th>7</th>\n",
              "      <td>7</td>\n",
              "      <td>1</td>\n",
              "      <td>1</td>\n",
              "      <td>7</td>\n",
              "      <td>resto ciudad</td>\n",
              "      <td>18</td>\n",
              "      <td>mujer</td>\n",
              "      <td>1</td>\n",
              "      <td>3</td>\n",
              "      <td>95</td>\n",
              "      <td>...</td>\n",
              "      <td>2</td>\n",
              "      <td>0</td>\n",
              "      <td>Bueno</td>\n",
              "      <td>1</td>\n",
              "      <td>2</td>\n",
              "      <td>272</td>\n",
              "      <td>mujer</td>\n",
              "      <td>nativo arg</td>\n",
              "      <td>7.901007</td>\n",
              "      <td>1</td>\n",
              "    </tr>\n",
              "    <tr>\n",
              "      <th>8</th>\n",
              "      <td>7</td>\n",
              "      <td>1</td>\n",
              "      <td>2</td>\n",
              "      <td>7</td>\n",
              "      <td>resto ciudad</td>\n",
              "      <td>2</td>\n",
              "      <td>varon</td>\n",
              "      <td>3</td>\n",
              "      <td>0</td>\n",
              "      <td>95</td>\n",
              "      <td>...</td>\n",
              "      <td>2</td>\n",
              "      <td>0</td>\n",
              "      <td>Excelente</td>\n",
              "      <td>0</td>\n",
              "      <td>0</td>\n",
              "      <td>272</td>\n",
              "      <td>varon</td>\n",
              "      <td>nativo arg</td>\n",
              "      <td>NaN</td>\n",
              "      <td>0</td>\n",
              "    </tr>\n",
              "    <tr>\n",
              "      <th>9</th>\n",
              "      <td>7</td>\n",
              "      <td>1</td>\n",
              "      <td>3</td>\n",
              "      <td>7</td>\n",
              "      <td>resto ciudad</td>\n",
              "      <td>1</td>\n",
              "      <td>varon</td>\n",
              "      <td>3</td>\n",
              "      <td>0</td>\n",
              "      <td>95</td>\n",
              "      <td>...</td>\n",
              "      <td>2</td>\n",
              "      <td>0</td>\n",
              "      <td>Excelente</td>\n",
              "      <td>0</td>\n",
              "      <td>0</td>\n",
              "      <td>272</td>\n",
              "      <td>varon</td>\n",
              "      <td>nativo arg</td>\n",
              "      <td>NaN</td>\n",
              "      <td>0</td>\n",
              "    </tr>\n",
              "  </tbody>\n",
              "</table>\n",
              "<p>10 rows × 96 columns</p>\n",
              "</div>\n",
              "      <button class=\"colab-df-convert\" onclick=\"convertToInteractive('df-0d6f2b68-4725-4b4a-b887-ee137d97c142')\"\n",
              "              title=\"Convert this dataframe to an interactive table.\"\n",
              "              style=\"display:none;\">\n",
              "        \n",
              "  <svg xmlns=\"http://www.w3.org/2000/svg\" height=\"24px\"viewBox=\"0 0 24 24\"\n",
              "       width=\"24px\">\n",
              "    <path d=\"M0 0h24v24H0V0z\" fill=\"none\"/>\n",
              "    <path d=\"M18.56 5.44l.94 2.06.94-2.06 2.06-.94-2.06-.94-.94-2.06-.94 2.06-2.06.94zm-11 1L8.5 8.5l.94-2.06 2.06-.94-2.06-.94L8.5 2.5l-.94 2.06-2.06.94zm10 10l.94 2.06.94-2.06 2.06-.94-2.06-.94-.94-2.06-.94 2.06-2.06.94z\"/><path d=\"M17.41 7.96l-1.37-1.37c-.4-.4-.92-.59-1.43-.59-.52 0-1.04.2-1.43.59L10.3 9.45l-7.72 7.72c-.78.78-.78 2.05 0 2.83L4 21.41c.39.39.9.59 1.41.59.51 0 1.02-.2 1.41-.59l7.78-7.78 2.81-2.81c.8-.78.8-2.07 0-2.86zM5.41 20L4 18.59l7.72-7.72 1.47 1.35L5.41 20z\"/>\n",
              "  </svg>\n",
              "      </button>\n",
              "      \n",
              "  <style>\n",
              "    .colab-df-container {\n",
              "      display:flex;\n",
              "      flex-wrap:wrap;\n",
              "      gap: 12px;\n",
              "    }\n",
              "\n",
              "    .colab-df-convert {\n",
              "      background-color: #E8F0FE;\n",
              "      border: none;\n",
              "      border-radius: 50%;\n",
              "      cursor: pointer;\n",
              "      display: none;\n",
              "      fill: #1967D2;\n",
              "      height: 32px;\n",
              "      padding: 0 0 0 0;\n",
              "      width: 32px;\n",
              "    }\n",
              "\n",
              "    .colab-df-convert:hover {\n",
              "      background-color: #E2EBFA;\n",
              "      box-shadow: 0px 1px 2px rgba(60, 64, 67, 0.3), 0px 1px 3px 1px rgba(60, 64, 67, 0.15);\n",
              "      fill: #174EA6;\n",
              "    }\n",
              "\n",
              "    [theme=dark] .colab-df-convert {\n",
              "      background-color: #3B4455;\n",
              "      fill: #D2E3FC;\n",
              "    }\n",
              "\n",
              "    [theme=dark] .colab-df-convert:hover {\n",
              "      background-color: #434B5C;\n",
              "      box-shadow: 0px 1px 3px 1px rgba(0, 0, 0, 0.15);\n",
              "      filter: drop-shadow(0px 1px 2px rgba(0, 0, 0, 0.3));\n",
              "      fill: #FFFFFF;\n",
              "    }\n",
              "  </style>\n",
              "\n",
              "      <script>\n",
              "        const buttonEl =\n",
              "          document.querySelector('#df-0d6f2b68-4725-4b4a-b887-ee137d97c142 button.colab-df-convert');\n",
              "        buttonEl.style.display =\n",
              "          google.colab.kernel.accessAllowed ? 'block' : 'none';\n",
              "\n",
              "        async function convertToInteractive(key) {\n",
              "          const element = document.querySelector('#df-0d6f2b68-4725-4b4a-b887-ee137d97c142');\n",
              "          const dataTable =\n",
              "            await google.colab.kernel.invokeFunction('convertToInteractive',\n",
              "                                                     [key], {});\n",
              "          if (!dataTable) return;\n",
              "\n",
              "          const docLinkHtml = 'Like what you see? Visit the ' +\n",
              "            '<a target=\"_blank\" href=https://colab.research.google.com/notebooks/data_table.ipynb>data table notebook</a>'\n",
              "            + ' to learn more about interactive tables.';\n",
              "          element.innerHTML = '';\n",
              "          dataTable['output_type'] = 'display_data';\n",
              "          await google.colab.output.renderOutput(dataTable, element);\n",
              "          const docLink = document.createElement('div');\n",
              "          docLink.innerHTML = docLinkHtml;\n",
              "          element.appendChild(docLink);\n",
              "        }\n",
              "      </script>\n",
              "    </div>\n",
              "  </div>\n",
              "  "
            ]
          },
          "metadata": {},
          "execution_count": 3
        }
      ]
    },
    {
      "cell_type": "code",
      "source": [
        "df.columns"
      ],
      "metadata": {
        "id": "NAvtfN3AUZZq",
        "outputId": "d84b4645-92aa-4a2e-ae75-fe8090284cbf",
        "colab": {
          "base_uri": "https://localhost:8080/"
        }
      },
      "execution_count": 4,
      "outputs": [
        {
          "output_type": "execute_result",
          "data": {
            "text/plain": [
              "Index(['id', 'nhogar', 'miembro', 'comuna', 'dominio', 'edad', 'sexo',\n",
              "       'parentes_2', 'p5_2', 'p6_a', 'p6_b', 'estado', 'categori', 't13',\n",
              "       't14', 't18', 't28', 't29', 't29a', 't30', 'sem_hs', 't33', 't34',\n",
              "       't35', 't37_cod_2', 't37_coda_2', 't38', 't39', 't40', 't41_cod_2',\n",
              "       't47', 't48', 't51_bis', 'i1', 'i4', 'i6_3', 'i10', 'i11', 'codioph',\n",
              "       'ioph_2', 'codioph_neto', 'ioph_neto_2', 'codios', 'ios_2', 'codioa',\n",
              "       'ioa_2', 'codlab', 'inglab_2', 'codi3_1x', 'i3_1x_2', 'codi3_2x',\n",
              "       'i3_2x_2', 'codi3_8x', 'i3_8x_2', 'codi3_est', 'i3_est_2', 'codi3_otr',\n",
              "       'i3_otr_2', 'codnolab', 'ingnolab_2', 'coding', 'ingtot_2', 'codi_tot',\n",
              "       'itfb_2', 'ipcfb_2', 'e2', 'e4', 'e6', 'e8', 'e12', 'e13', 'e14',\n",
              "       'edad_30', 'nivel', 'aesc', 'm1', 'm1_2', 'm2_anio', 'm3_anio',\n",
              "       'tipcob2_2', 'sn1_1', 'sn1_7', 'sn1_2', 'sn1_3', 'sn1_4', 'sn1_5', 's8',\n",
              "       'sn14', 'sn16', 's28', 's29', 'fexp', 'sexotexto', 'inmigrante',\n",
              "       'logingreso', 'dsex'],\n",
              "      dtype='object')"
            ]
          },
          "metadata": {},
          "execution_count": 4
        }
      ]
    },
    {
      "cell_type": "code",
      "source": [
        "df['ingtot_2'].hist()"
      ],
      "metadata": {
        "id": "LbVyjkzUVpYG",
        "outputId": "6d844281-7009-433c-a959-3eb7590eaac8",
        "colab": {
          "base_uri": "https://localhost:8080/",
          "height": 283
        }
      },
      "execution_count": 5,
      "outputs": [
        {
          "output_type": "execute_result",
          "data": {
            "text/plain": [
              "<matplotlib.axes._subplots.AxesSubplot at 0x7f77cbd44b50>"
            ]
          },
          "metadata": {},
          "execution_count": 5
        },
        {
          "output_type": "display_data",
          "data": {
            "text/plain": [
              "<Figure size 432x288 with 1 Axes>"
            ],
            "image/png": "[encoded data removed]"
          },
          "metadata": {
            "needs_background": "light"
          }
        }
      ]
    },
    {
      "cell_type": "code",
      "source": [
        "df['ingtot_2'].describe()"
      ],
      "metadata": {
        "id": "J_H45JFXV2Ch",
        "outputId": "c9ec0c2e-aba8-4754-cd34-2fba6ca3b9e9",
        "colab": {
          "base_uri": "https://localhost:8080/"
        }
      },
      "execution_count": 6,
      "outputs": [
        {
          "output_type": "execute_result",
          "data": {
            "text/plain": [
              "count     14512.000000\n",
              "mean      10386.681850\n",
              "std       13396.598595\n",
              "min           0.000000\n",
              "25%           0.000000\n",
              "50%        7000.000000\n",
              "75%       15000.000000\n",
              "max      276000.000000\n",
              "Name: ingtot_2, dtype: float64"
            ]
          },
          "metadata": {},
          "execution_count": 6
        }
      ]
    },
    {
      "cell_type": "markdown",
      "source": [
        "$ingtot=\\beta_0+\\beta_1 aesc +\\epsilon$"
      ],
      "metadata": {
        "id": "8bn5rUmmWrsV"
      }
    },
    {
      "cell_type": "code",
      "source": [],
      "metadata": {
        "id": "8q0umE_nYv2V"
      },
      "execution_count": 6,
      "outputs": []
    },
    {
      "cell_type": "code",
      "source": [
        "df['aesc'].hist()"
      ],
      "metadata": {
        "id": "R2L_ObIXW3KH",
        "outputId": "b6a2de1f-2621-4722-817d-ff31630928be",
        "colab": {
          "base_uri": "https://localhost:8080/",
          "height": 283
        }
      },
      "execution_count": 7,
      "outputs": [
        {
          "output_type": "execute_result",
          "data": {
            "text/plain": [
              "<matplotlib.axes._subplots.AxesSubplot at 0x7f77cbc56110>"
            ]
          },
          "metadata": {},
          "execution_count": 7
        },
        {
          "output_type": "display_data",
          "data": {
            "text/plain": [
              "<Figure size 432x288 with 1 Axes>"
            ],
            "image/png": "[encoded data removed]"
          },
          "metadata": {
            "needs_background": "light"
          }
        }
      ]
    },
    {
      "cell_type": "code",
      "source": [
        "df=df.loc[df['aesc']!=99]"
      ],
      "metadata": {
        "id": "7jGvB68sXIxA"
      },
      "execution_count": 8,
      "outputs": []
    },
    {
      "cell_type": "code",
      "metadata": {
        "id": "ymxAvnv7vXrV",
        "outputId": "da8ca542-d3ac-4c73-c748-7d85ba0289be",
        "colab": {
          "base_uri": "https://localhost:8080/",
          "height": 286
        }
      },
      "source": [
        "df['aesc'].hist()"
      ],
      "execution_count": 9,
      "outputs": [
        {
          "output_type": "execute_result",
          "data": {
            "text/plain": [
              "<matplotlib.axes._subplots.AxesSubplot at 0x7f77cb7271d0>"
            ]
          },
          "metadata": {},
          "execution_count": 9
        },
        {
          "output_type": "display_data",
          "data": {
            "text/plain": [
              "<Figure size 432x288 with 1 Axes>"
            ],
            "image/png": "[encoded data removed]"
          },
          "metadata": {
            "needs_background": "light"
          }
        }
      ]
    },
    {
      "cell_type": "code",
      "source": [
        "def regress(lista, data):\n",
        "  \"\"\" \n",
        "  Funcion que realiza la regresion OLS\n",
        "  La primera variable de la lista es la dependiente, el resto son las explicativas\n",
        "  data es la base de datos\n",
        "  \"\"\"\n",
        "  datos=data[lista]\n",
        "  # el metodo dropna() me permite eliminar las filas que tienen algun valor missing\n",
        "  datos=datos.dropna()\n",
        "  Y=datos[lista[0]]\n",
        "  X=datos[lista[1:]]\n",
        "  X=sm.add_constant(X)\n",
        "  modelo=sm.OLS(Y,X)\n",
        "  resultados=modelo.fit()\n",
        "  print(resultados.summary())\n",
        "  return resultados"
      ],
      "metadata": {
        "id": "YgARpGj8YEyZ"
      },
      "execution_count": 10,
      "outputs": []
    },
    {
      "cell_type": "code",
      "source": [
        "misresultados=regress(['ingtot_2','aesc'],data=df)"
      ],
      "metadata": {
        "id": "a41PC3paYNDC",
        "outputId": "1326aac7-d5a1-4120-974a-26b20b7d796c",
        "colab": {
          "base_uri": "https://localhost:8080/"
        }
      },
      "execution_count": 11,
      "outputs": [
        {
          "output_type": "stream",
          "name": "stdout",
          "text": [
            "                            OLS Regression Results                            \n",
            "==============================================================================\n",
            "Dep. Variable:               ingtot_2   R-squared:                       0.259\n",
            "Model:                            OLS   Adj. R-squared:                  0.259\n",
            "Method:                 Least Squares   F-statistic:                     5048.\n",
            "Date:                Fri, 14 Oct 2022   Prob (F-statistic):               0.00\n",
            "Time:                        22:58:10   Log-Likelihood:            -1.5567e+05\n",
            "No. Observations:               14450   AIC:                         3.113e+05\n",
            "Df Residuals:                   14448   BIC:                         3.114e+05\n",
            "Df Model:                           1                                         \n",
            "Covariance Type:            nonrobust                                         \n",
            "==============================================================================\n",
            "                 coef    std err          t      P>|t|      [0.025      0.975]\n",
            "------------------------------------------------------------------------------\n",
            "const      -3138.4311    213.503    -14.700      0.000   -3556.925   -2719.938\n",
            "aesc        1284.5470     18.080     71.048      0.000    1249.108    1319.986\n",
            "==============================================================================\n",
            "Omnibus:                    14341.799   Durbin-Watson:                   1.858\n",
            "Prob(Omnibus):                  0.000   Jarque-Bera (JB):          1995669.594\n",
            "Skew:                           4.529   Prob(JB):                         0.00\n",
            "Kurtosis:                      59.856   Cond. No.                         26.4\n",
            "==============================================================================\n",
            "\n",
            "Notes:\n",
            "[1] Standard Errors assume that the covariance matrix of the errors is correctly specified.\n"
          ]
        },
        {
          "output_type": "stream",
          "name": "stderr",
          "text": [
            "/usr/local/lib/python3.7/dist-packages/statsmodels/tsa/tsatools.py:142: FutureWarning: In a future version of pandas all arguments of concat except for the argument 'objs' will be keyword-only\n",
            "  x = pd.concat(x[::order], 1)\n"
          ]
        }
      ]
    },
    {
      "cell_type": "code",
      "source": [
        "prediccion_ingreso=misresultados.predict()"
      ],
      "metadata": {
        "id": "BFcdCkIMZ5T4"
      },
      "execution_count": 12,
      "outputs": []
    },
    {
      "cell_type": "code",
      "source": [
        "residuos_estimados=df['ingtot_2']-prediccion_ingreso"
      ],
      "metadata": {
        "id": "-rSGMMVVYx2V"
      },
      "execution_count": 13,
      "outputs": []
    },
    {
      "cell_type": "code",
      "source": [
        "residuos_estimados.hist()"
      ],
      "metadata": {
        "id": "QXrM_Y_EaX4y",
        "outputId": "ae0051fa-2702-40a2-92b8-04f7c161ca08",
        "colab": {
          "base_uri": "https://localhost:8080/",
          "height": 283
        }
      },
      "execution_count": 14,
      "outputs": [
        {
          "output_type": "execute_result",
          "data": {
            "text/plain": [
              "<matplotlib.axes._subplots.AxesSubplot at 0x7f77cb6845d0>"
            ]
          },
          "metadata": {},
          "execution_count": 14
        },
        {
          "output_type": "display_data",
          "data": {
            "text/plain": [
              "<Figure size 432x288 with 1 Axes>"
            ],
            "image/png": "[encoded data removed]"
          },
          "metadata": {
            "needs_background": "light"
          }
        }
      ]
    },
    {
      "cell_type": "code",
      "source": [
        "df=df.loc[df['ingtot_2']>0]"
      ],
      "metadata": {
        "id": "zAQtyy1NeWgj"
      },
      "execution_count": 15,
      "outputs": []
    },
    {
      "cell_type": "code",
      "source": [
        "df['logingreso']=np.log(df['ingtot_2'])"
      ],
      "metadata": {
        "id": "2SV2supKdnVN",
        "colab": {
          "base_uri": "https://localhost:8080/"
        },
        "outputId": "7fd0026e-5d26-4a1f-bab4-24634d286f5a"
      },
      "execution_count": 16,
      "outputs": [
        {
          "output_type": "stream",
          "name": "stderr",
          "text": [
            "/usr/local/lib/python3.7/dist-packages/ipykernel_launcher.py:1: SettingWithCopyWarning: \n",
            "A value is trying to be set on a copy of a slice from a DataFrame.\n",
            "Try using .loc[row_indexer,col_indexer] = value instead\n",
            "\n",
            "See the caveats in the documentation: https://pandas.pydata.org/pandas-docs/stable/user_guide/indexing.html#returning-a-view-versus-a-copy\n",
            "  \"\"\"Entry point for launching an IPython kernel.\n"
          ]
        }
      ]
    },
    {
      "cell_type": "code",
      "source": [
        "df['logingreso'].describe()"
      ],
      "metadata": {
        "id": "H-0A-i1Bd2QL",
        "outputId": "1e019a05-faaf-4c75-fd7f-841382b45d18",
        "colab": {
          "base_uri": "https://localhost:8080/"
        }
      },
      "execution_count": 17,
      "outputs": [
        {
          "output_type": "execute_result",
          "data": {
            "text/plain": [
              "count    10082.000000\n",
              "mean         9.283468\n",
              "std          0.860776\n",
              "min          3.178054\n",
              "25%          8.699515\n",
              "50%          9.375855\n",
              "75%          9.862666\n",
              "max         12.528156\n",
              "Name: logingreso, dtype: float64"
            ]
          },
          "metadata": {},
          "execution_count": 17
        }
      ]
    },
    {
      "cell_type": "code",
      "source": [
        "misresultados2=regress(['logingreso','aesc'],df)"
      ],
      "metadata": {
        "id": "fPDC6KjAepD3",
        "outputId": "85f8ad2f-8b1b-4e60-cb3c-63901adb8bad",
        "colab": {
          "base_uri": "https://localhost:8080/"
        }
      },
      "execution_count": 18,
      "outputs": [
        {
          "output_type": "stream",
          "name": "stdout",
          "text": [
            "                            OLS Regression Results                            \n",
            "==============================================================================\n",
            "Dep. Variable:             logingreso   R-squared:                       0.199\n",
            "Model:                            OLS   Adj. R-squared:                  0.199\n",
            "Method:                 Least Squares   F-statistic:                     2507.\n",
            "Date:                Fri, 14 Oct 2022   Prob (F-statistic):               0.00\n",
            "Time:                        22:58:10   Log-Likelihood:                -11674.\n",
            "No. Observations:               10082   AIC:                         2.335e+04\n",
            "Df Residuals:                   10080   BIC:                         2.337e+04\n",
            "Df Model:                           1                                         \n",
            "Covariance Type:            nonrobust                                         \n",
            "==============================================================================\n",
            "                 coef    std err          t      P>|t|      [0.025      0.975]\n",
            "------------------------------------------------------------------------------\n",
            "const          8.0118      0.027    301.990      0.000       7.960       8.064\n",
            "aesc           0.1011      0.002     50.075      0.000       0.097       0.105\n",
            "==============================================================================\n",
            "Omnibus:                     1714.578   Durbin-Watson:                   1.798\n",
            "Prob(Omnibus):                  0.000   Jarque-Bera (JB):             4442.591\n",
            "Skew:                          -0.935   Prob(JB):                         0.00\n",
            "Kurtosis:                       5.660   Cond. No.                         45.7\n",
            "==============================================================================\n",
            "\n",
            "Notes:\n",
            "[1] Standard Errors assume that the covariance matrix of the errors is correctly specified.\n"
          ]
        },
        {
          "output_type": "stream",
          "name": "stderr",
          "text": [
            "/usr/local/lib/python3.7/dist-packages/statsmodels/tsa/tsatools.py:142: FutureWarning: In a future version of pandas all arguments of concat except for the argument 'objs' will be keyword-only\n",
            "  x = pd.concat(x[::order], 1)\n"
          ]
        }
      ]
    },
    {
      "cell_type": "code",
      "source": [
        "residuos_pred=df['logingreso']-misresultados2.predict()"
      ],
      "metadata": {
        "id": "e9qkSzCqfLCz"
      },
      "execution_count": 19,
      "outputs": []
    },
    {
      "cell_type": "code",
      "source": [
        "residuos_pred.hist()"
      ],
      "metadata": {
        "id": "aY5VSniEepYF",
        "outputId": "280c7331-8213-4604-c814-ad178a6f8db6",
        "colab": {
          "base_uri": "https://localhost:8080/",
          "height": 283
        }
      },
      "execution_count": 20,
      "outputs": [
        {
          "output_type": "execute_result",
          "data": {
            "text/plain": [
              "<matplotlib.axes._subplots.AxesSubplot at 0x7f77c8da3e10>"
            ]
          },
          "metadata": {},
          "execution_count": 20
        },
        {
          "output_type": "display_data",
          "data": {
            "text/plain": [
              "<Figure size 432x288 with 1 Axes>"
            ],
            "image/png": "[encoded data removed]"
          },
          "metadata": {
            "needs_background": "light"
          }
        }
      ]
    },
    {
      "cell_type": "code",
      "source": [
        "misresultados2.mse_resid"
      ],
      "metadata": {
        "id": "OrOTnpWriYZ0",
        "outputId": "c02cf3b6-8b34-43f3-e3fb-15ec1f83df75",
        "colab": {
          "base_uri": "https://localhost:8080/"
        }
      },
      "execution_count": 21,
      "outputs": [
        {
          "output_type": "execute_result",
          "data": {
            "text/plain": [
              "0.5933966058835762"
            ]
          },
          "metadata": {},
          "execution_count": 21
        }
      ]
    },
    {
      "cell_type": "code",
      "metadata": {
        "id": "X2MRv2sjvlKK",
        "outputId": "c16e5546-95c0-4025-aa96-5a26a8559708",
        "colab": {
          "base_uri": "https://localhost:8080/",
          "height": 283
        }
      },
      "source": [
        "df.aesc.hist(bins=40)"
      ],
      "execution_count": 22,
      "outputs": [
        {
          "output_type": "execute_result",
          "data": {
            "text/plain": [
              "<matplotlib.axes._subplots.AxesSubplot at 0x7f77c8d3a810>"
            ]
          },
          "metadata": {},
          "execution_count": 22
        },
        {
          "output_type": "display_data",
          "data": {
            "text/plain": [
              "<Figure size 432x288 with 1 Axes>"
            ],
            "image/png": "[encoded data removed]"
          },
          "metadata": {
            "needs_background": "light"
          }
        }
      ]
    },
    {
      "cell_type": "code",
      "metadata": {
        "id": "oqCjibXA0viR"
      },
      "source": [
        "def regress(lista, data):\n",
        "  \"\"\" \n",
        "  Funcion que realiza la regresion OLS\n",
        "  La primera variable de la lista es la dependiente, el resto son las explicativas\n",
        "  data es la base de datos\n",
        "  \"\"\"\n",
        "  datos=data[lista]\n",
        "  # el metodo dropna() me permite eliminar las filas que tienen algun valor missing\n",
        "  datos=datos.dropna()\n",
        "  Y=datos[lista[0]]\n",
        "  X=datos[lista[1:]]\n",
        "  X=sm.add_constant(X)\n",
        "  modelo=sm.OLS(Y,X)\n",
        "  resultados=modelo.fit()\n",
        "  print(resultados.summary())\n",
        "  return resultados"
      ],
      "execution_count": 23,
      "outputs": []
    },
    {
      "cell_type": "code",
      "metadata": {
        "id": "Sg_K-vCB1F_-",
        "outputId": "5f32b16b-f5e5-4df0-ae20-0aba8c0601de",
        "colab": {
          "base_uri": "https://localhost:8080/"
        }
      },
      "source": [
        "resultados=regress(['logingreso','aesc'],data=df)"
      ],
      "execution_count": 24,
      "outputs": [
        {
          "output_type": "stream",
          "name": "stdout",
          "text": [
            "                            OLS Regression Results                            \n",
            "==============================================================================\n",
            "Dep. Variable:             logingreso   R-squared:                       0.199\n",
            "Model:                            OLS   Adj. R-squared:                  0.199\n",
            "Method:                 Least Squares   F-statistic:                     2507.\n",
            "Date:                Fri, 14 Oct 2022   Prob (F-statistic):               0.00\n",
            "Time:                        22:58:10   Log-Likelihood:                -11674.\n",
            "No. Observations:               10082   AIC:                         2.335e+04\n",
            "Df Residuals:                   10080   BIC:                         2.337e+04\n",
            "Df Model:                           1                                         \n",
            "Covariance Type:            nonrobust                                         \n",
            "==============================================================================\n",
            "                 coef    std err          t      P>|t|      [0.025      0.975]\n",
            "------------------------------------------------------------------------------\n",
            "const          8.0118      0.027    301.990      0.000       7.960       8.064\n",
            "aesc           0.1011      0.002     50.075      0.000       0.097       0.105\n",
            "==============================================================================\n",
            "Omnibus:                     1714.578   Durbin-Watson:                   1.798\n",
            "Prob(Omnibus):                  0.000   Jarque-Bera (JB):             4442.591\n",
            "Skew:                          -0.935   Prob(JB):                         0.00\n",
            "Kurtosis:                       5.660   Cond. No.                         45.7\n",
            "==============================================================================\n",
            "\n",
            "Notes:\n",
            "[1] Standard Errors assume that the covariance matrix of the errors is correctly specified.\n"
          ]
        },
        {
          "output_type": "stream",
          "name": "stderr",
          "text": [
            "/usr/local/lib/python3.7/dist-packages/statsmodels/tsa/tsatools.py:142: FutureWarning: In a future version of pandas all arguments of concat except for the argument 'objs' will be keyword-only\n",
            "  x = pd.concat(x[::order], 1)\n"
          ]
        }
      ]
    },
    {
      "cell_type": "code",
      "metadata": {
        "id": "4jyDpmY40I8-",
        "outputId": "ed4be8d2-7187-4733-bebf-83543ae23511",
        "colab": {
          "base_uri": "https://localhost:8080/"
        }
      },
      "source": [
        "resultados.params['aesc']"
      ],
      "execution_count": 25,
      "outputs": [
        {
          "output_type": "execute_result",
          "data": {
            "text/plain": [
              "0.10108264507335257"
            ]
          },
          "metadata": {},
          "execution_count": 25
        }
      ]
    },
    {
      "cell_type": "code",
      "metadata": {
        "id": "mahOOQFj0Thc",
        "outputId": "8ac7b339-0feb-424d-bd63-9e846270a5b5",
        "colab": {
          "base_uri": "https://localhost:8080/"
        }
      },
      "source": [
        "resultados.predict()"
      ],
      "execution_count": 26,
      "outputs": [
        {
          "output_type": "execute_result",
          "data": {
            "text/plain": [
              "array([9.22474507, 9.22474507, 9.22474507, ..., 8.41608391, 9.22474507,\n",
              "       9.12366242])"
            ]
          },
          "metadata": {},
          "execution_count": 26
        }
      ]
    },
    {
      "cell_type": "markdown",
      "metadata": {
        "id": "S9dlbmRICHfI"
      },
      "source": [
        "# Predicción"
      ]
    },
    {
      "cell_type": "markdown",
      "metadata": {
        "id": "ONHB57OpCWiR"
      },
      "source": [
        "$\\hat{Y}=\\hat{\\beta_0}+\\hat{\\beta_1}*X$"
      ]
    },
    {
      "cell_type": "code",
      "metadata": {
        "id": "la4qtvGUCNgJ",
        "outputId": "fd77f583-20de-4bcf-de9c-41a130865ded",
        "colab": {
          "base_uri": "https://localhost:8080/"
        }
      },
      "source": [
        "# 10 años de escolaridad\n",
        "8.0118+0.1011*10"
      ],
      "execution_count": 27,
      "outputs": [
        {
          "output_type": "execute_result",
          "data": {
            "text/plain": [
              "9.022799999999998"
            ]
          },
          "metadata": {},
          "execution_count": 27
        }
      ]
    },
    {
      "cell_type": "code",
      "metadata": {
        "id": "G60RKQOvCrW5",
        "outputId": "816e7eb5-e1a1-40b7-9b47-a5cb75791828",
        "colab": {
          "base_uri": "https://localhost:8080/"
        }
      },
      "source": [
        "# 10 años de escolaridad levantando los parametros de los resultados del ajuste\n",
        "resultados.params['const']+resultados.params['aesc']*10"
      ],
      "execution_count": 28,
      "outputs": [
        {
          "output_type": "execute_result",
          "data": {
            "text/plain": [
              "9.02257977872712"
            ]
          },
          "metadata": {},
          "execution_count": 28
        }
      ]
    },
    {
      "cell_type": "code",
      "metadata": {
        "id": "8PzA4iHtDLSw",
        "outputId": "38a46b84-50f6-414b-8a60-ef7b80f1c418",
        "colab": {
          "base_uri": "https://localhost:8080/"
        }
      },
      "source": [
        "# Predicciones para observaciones en la data\n",
        "resultados.params['const']+resultados.params['aesc']*df.aesc"
      ],
      "execution_count": 29,
      "outputs": [
        {
          "output_type": "execute_result",
          "data": {
            "text/plain": [
              "0        9.224745\n",
              "1        9.224745\n",
              "2        9.224745\n",
              "3        9.224745\n",
              "4        9.224745\n",
              "           ...   \n",
              "14507    8.820414\n",
              "14508    9.527993\n",
              "14509    8.416084\n",
              "14510    9.224745\n",
              "14511    9.123662\n",
              "Name: aesc, Length: 10082, dtype: float64"
            ]
          },
          "metadata": {},
          "execution_count": 29
        }
      ]
    },
    {
      "cell_type": "code",
      "metadata": {
        "id": "NWU5mDsvDhBf",
        "outputId": "503ef900-64f6-4f10-f752-c713240ef850",
        "colab": {
          "base_uri": "https://localhost:8080/"
        }
      },
      "source": [
        "resultados.predict()"
      ],
      "execution_count": 30,
      "outputs": [
        {
          "output_type": "execute_result",
          "data": {
            "text/plain": [
              "array([9.22474507, 9.22474507, 9.22474507, ..., 8.41608391, 9.22474507,\n",
              "       9.12366242])"
            ]
          },
          "metadata": {},
          "execution_count": 30
        }
      ]
    },
    {
      "cell_type": "code",
      "metadata": {
        "id": "iMdWCqIh1Lm4",
        "outputId": "c7a636a6-9283-4861-e164-0ffc4bf3ccdc",
        "colab": {
          "base_uri": "https://localhost:8080/"
        }
      },
      "source": [
        "df.logingreso-resultados.predict()"
      ],
      "execution_count": 31,
      "outputs": [
        {
          "output_type": "execute_result",
          "data": {
            "text/plain": [
              "0       -0.839941\n",
              "1       -0.119765\n",
              "2       -0.742143\n",
              "3        0.391060\n",
              "4        0.391060\n",
              "           ...   \n",
              "14507   -0.072110\n",
              "14508    0.424285\n",
              "14509    0.794256\n",
              "14510   -0.302087\n",
              "14511    0.066475\n",
              "Name: logingreso, Length: 10082, dtype: float64"
            ]
          },
          "metadata": {},
          "execution_count": 31
        }
      ]
    },
    {
      "cell_type": "code",
      "metadata": {
        "id": "Cw17S2gYDrhp",
        "outputId": "4cfa550f-bdb5-4c6b-90ca-38b3496a2020",
        "colab": {
          "base_uri": "https://localhost:8080/",
          "height": 0
        }
      },
      "source": [
        "# Ploteamos prediccion con matplolib\n",
        "plt.scatter(df.aesc, resultados.predict())"
      ],
      "execution_count": 32,
      "outputs": [
        {
          "output_type": "execute_result",
          "data": {
            "text/plain": [
              "<matplotlib.collections.PathCollection at 0x7f77cb702810>"
            ]
          },
          "metadata": {},
          "execution_count": 32
        },
        {
          "output_type": "display_data",
          "data": {
            "text/plain": [
              "<Figure size 432x288 with 1 Axes>"
            ],
            "image/png": "[encoded data removed]"
          },
          "metadata": {
            "needs_background": "light"
          }
        }
      ]
    },
    {
      "cell_type": "code",
      "metadata": {
        "id": "MIFvCC4syPnZ",
        "outputId": "145474d4-9f5e-467f-e740-9ee86171625a",
        "colab": {
          "base_uri": "https://localhost:8080/",
          "height": 0
        }
      },
      "source": [
        "plt.scatter(df.aesc, df.logingreso, color='green')\n",
        "\n",
        "plt.plot(df.aesc, resultados.predict(), color= \"red\", marker='.', linestyle=':')\n",
        "\n",
        "plt.ylim(0,15)\n"
      ],
      "execution_count": 33,
      "outputs": [
        {
          "output_type": "execute_result",
          "data": {
            "text/plain": [
              "(0.0, 15.0)"
            ]
          },
          "metadata": {},
          "execution_count": 33
        },
        {
          "output_type": "display_data",
          "data": {
            "text/plain": [
              "<Figure size 432x288 with 1 Axes>"
            ],
            "image/png": "[encoded data removed]"
          },
          "metadata": {
            "needs_background": "light"
          }
        }
      ]
    },
    {
      "cell_type": "code",
      "metadata": {
        "id": "QuoymAZp3_tU",
        "outputId": "f856b9d1-df71-405b-c86d-884145897a99",
        "colab": {
          "base_uri": "https://localhost:8080/"
        }
      },
      "source": [
        "resultados.predict()"
      ],
      "execution_count": 34,
      "outputs": [
        {
          "output_type": "execute_result",
          "data": {
            "text/plain": [
              "array([9.22474507, 9.22474507, 9.22474507, ..., 8.41608391, 9.22474507,\n",
              "       9.12366242])"
            ]
          },
          "metadata": {},
          "execution_count": 34
        }
      ]
    },
    {
      "cell_type": "markdown",
      "metadata": {
        "id": "QZRn9Kqu4Kyf"
      },
      "source": [
        "# Error Cuadrático Medio\n"
      ]
    },
    {
      "cell_type": "code",
      "metadata": {
        "id": "kF_enYAB1f8Z",
        "outputId": "a9b60eda-d6a3-4343-b92b-8d7293d848e0",
        "colab": {
          "base_uri": "https://localhost:8080/"
        }
      },
      "source": [
        "resultados.mse_resid"
      ],
      "execution_count": 35,
      "outputs": [
        {
          "output_type": "execute_result",
          "data": {
            "text/plain": [
              "0.5933966058835762"
            ]
          },
          "metadata": {},
          "execution_count": 35
        }
      ]
    },
    {
      "cell_type": "markdown",
      "metadata": {
        "id": "hl56Qpf43A49"
      },
      "source": [
        "Error Cuadrático Medio (MSE) a mano\n",
        "\n",
        "$MSE=\\sqrt{\\frac{\\sum^n_{i=1} e_i^2}{n-2}}$ donde\n",
        "\n",
        "$e=y-\\hat{y}$\n",
        "\n"
      ]
    },
    {
      "cell_type": "code",
      "metadata": {
        "id": "uQngrpST12tx",
        "outputId": "d3a73689-722f-4c57-b088-69f5d07389fd",
        "colab": {
          "base_uri": "https://localhost:8080/"
        }
      },
      "source": [
        "ypred = resultados.predict()\n",
        "residuos=df.logingreso-ypred\n",
        "rss=np.sum(residuos**2)\n",
        "MSE=(rss/(resultados.nobs-2))\n",
        "MSE"
      ],
      "execution_count": 36,
      "outputs": [
        {
          "output_type": "execute_result",
          "data": {
            "text/plain": [
              "0.5933966058835762"
            ]
          },
          "metadata": {},
          "execution_count": 36
        }
      ]
    },
    {
      "cell_type": "code",
      "metadata": {
        "id": "MLzHND1dJzv8",
        "outputId": "f3d5b902-5ed3-469b-b690-12d96644c776",
        "colab": {
          "base_uri": "https://localhost:8080/"
        }
      },
      "source": [
        "MSE**0.5"
      ],
      "execution_count": 37,
      "outputs": [
        {
          "output_type": "execute_result",
          "data": {
            "text/plain": [
              "0.7703224038567074"
            ]
          },
          "metadata": {},
          "execution_count": 37
        }
      ]
    },
    {
      "cell_type": "code",
      "metadata": {
        "id": "7327gR3F4X0e",
        "outputId": "077950d6-56c3-48bb-8b43-711840d3ffab",
        "colab": {
          "base_uri": "https://localhost:8080/"
        }
      },
      "source": [
        "residuos2=residuos*residuos\n",
        "residuos2.describe()"
      ],
      "execution_count": 38,
      "outputs": [
        {
          "output_type": "execute_result",
          "data": {
            "text/plain": [
              "count    1.008200e+04\n",
              "mean     5.932789e-01\n",
              "std      1.280786e+00\n",
              "min      7.095860e-10\n",
              "25%      3.775541e-02\n",
              "50%      1.961222e-01\n",
              "75%      5.991575e-01\n",
              "max      3.779512e+01\n",
              "Name: logingreso, dtype: float64"
            ]
          },
          "metadata": {},
          "execution_count": 38
        }
      ]
    },
    {
      "cell_type": "code",
      "metadata": {
        "id": "BDcE_OXPE3gM",
        "outputId": "7f136fc1-c9cc-46a1-da60-ea088a200209",
        "colab": {
          "base_uri": "https://localhost:8080/"
        }
      },
      "source": [
        "residuos.describe()"
      ],
      "execution_count": 39,
      "outputs": [
        {
          "output_type": "execute_result",
          "data": {
            "text/plain": [
              "count    1.008200e+04\n",
              "mean     5.851300e-15\n",
              "std      7.702842e-01\n",
              "min     -6.147774e+00\n",
              "25%     -3.715083e-01\n",
              "50%      8.090548e-02\n",
              "75%      4.910085e-01\n",
              "max      2.984093e+00\n",
              "Name: logingreso, dtype: float64"
            ]
          },
          "metadata": {},
          "execution_count": 39
        }
      ]
    },
    {
      "cell_type": "markdown",
      "metadata": {
        "id": "48PRmVlhJxBC"
      },
      "source": [
        "# Propiedades de los estimadores cuando los errores son normales"
      ]
    },
    {
      "cell_type": "markdown",
      "metadata": {
        "id": "7FAwtdmpKN-U"
      },
      "source": [
        "¿Cuál es el beta que espero obtener si los errores de nuestro fueran errores normales?\n",
        "Simulamos las estimaciones de los coeficientes beta en presencia de errores normales  \n",
        "\n"
      ]
    },
    {
      "cell_type": "code",
      "metadata": {
        "id": "JcwYaNioLTFZ",
        "outputId": "d40954ad-ca71-4be3-c119-5a47cdba2172",
        "colab": {
          "base_uri": "https://localhost:8080/",
          "height": 371
        }
      },
      "source": [
        "e_simu= np.random.normal(0,0.6,10082)\n",
        "plt.hist(e_simu)\n"
      ],
      "execution_count": 40,
      "outputs": [
        {
          "output_type": "execute_result",
          "data": {
            "text/plain": [
              "(array([  10.,   66.,  483., 1559., 2818., 2911., 1659.,  473.,   94.,\n",
              "           9.]),\n",
              " array([-2.38791611, -1.9142671 , -1.44061809, -0.96696907, -0.49332006,\n",
              "        -0.01967105,  0.45397796,  0.92762698,  1.40127599,  1.874925  ,\n",
              "         2.34857401]),\n",
              " <a list of 10 Patch objects>)"
            ]
          },
          "metadata": {},
          "execution_count": 40
        },
        {
          "output_type": "display_data",
          "data": {
            "text/plain": [
              "<Figure size 432x288 with 1 Axes>"
            ],
            "image/png": "[encoded data removed]"
          },
          "metadata": {
            "needs_background": "light"
          }
        }
      ]
    },
    {
      "cell_type": "code",
      "metadata": {
        "id": "xuqh7kr2FGNr",
        "outputId": "bb5b564b-e660-49ff-8719-1957adb58442",
        "colab": {
          "base_uri": "https://localhost:8080/"
        }
      },
      "source": [
        "def simu():\n",
        "  e_simu = np.random.normal(0,0.6,10082)\n",
        "  X=df.aesc\n",
        "  y_simu=resultados.params['const']+resultados.params['aesc']*X+e_simu\n",
        "  model_simu=sm.OLS(y_simu,X)\n",
        "  resultados_simu=model_simu.fit()\n",
        "  #print(resultados_simu.summary())\n",
        "  #print(resultados_simu.params['bedrooms'])\n",
        "  return resultados_simu.params['aesc']\n",
        "simu()"
      ],
      "execution_count": 41,
      "outputs": [
        {
          "output_type": "execute_result",
          "data": {
            "text/plain": [
              "0.6852662048416036"
            ]
          },
          "metadata": {},
          "execution_count": 41
        }
      ]
    },
    {
      "cell_type": "code",
      "metadata": {
        "id": "xc0V-YE2G5xO",
        "outputId": "9522e039-303a-471a-ecd9-7878bd54d91d",
        "colab": {
          "base_uri": "https://localhost:8080/"
        }
      },
      "source": [
        "betacoefs=[]\n",
        "for i in range(0,2000):\n",
        "  beta=simu()\n",
        "  betacoefs.append(beta)\n",
        "print(betacoefs)\n"
      ],
      "execution_count": 42,
      "outputs": [
        {
          "output_type": "stream",
          "name": "stdout",
          "text": [
            "[0.6852997135071851, 0.6853335658696862, 0.6845268738009129, 0.6847336292418282, 0.6839347035962586, 0.6848599803399882, 0.6850070561655137, 0.6845824611363716, 0.6852260715997831, 0.6847211079609545, 0.6850049304861403, 0.6846763004174307, 0.6843938107973168, 0.6844906827634272, 0.684764697554376, 0.6844238530711838, 0.6852683089059949, 0.685251394941561, 0.6847860663418124, 0.6842884197225807, 0.6852389565017978, 0.6843739990696911, 0.6854757298553084, 0.6848560315083382, 0.6841110891751747, 0.68481811155807, 0.6843678732228737, 0.6847536144148123, 0.6845439936463804, 0.6846508130098552, 0.6853781698570518, 0.6851302836679496, 0.6840880745375425, 0.684534235991488, 0.685125320204806, 0.6850495303991866, 0.6843799391510943, 0.6845484467681711, 0.6848475494041482, 0.6845802646289185, 0.6851608800973514, 0.6845836419452294, 0.6845453708312996, 0.6851960855754485, 0.6846492902317343, 0.684541364942021, 0.6839496036123983, 0.6844170727924133, 0.6844875442549654, 0.6843573630013173, 0.6839137619686357, 0.6849618404912334, 0.6847106941537076, 0.6851763806889737, 0.6842546187304834, 0.684989426915152, 0.6848879895019406, 0.6852349369846651, 0.6842440074765617, 0.6839508927125528, 0.6844546263751368, 0.6853850396725915, 0.6849367299103362, 0.6843952004064165, 0.6843942225210611, 0.6846102876544213, 0.6846773177898972, 0.6841511537724656, 0.6857337245619666, 0.6852598397978475, 0.6841591277103491, 0.6847118154452538, 0.6850180432811085, 0.6843574753695396, 0.6847243559050504, 0.6842105487697512, 0.6839901825398348, 0.6854802063294674, 0.683133608294126, 0.6848351407431711, 0.6844725412221865, 0.6848701290042715, 0.685484529414988, 0.6845543118098738, 0.6847708997476587, 0.6849127272856051, 0.6847567104603307, 0.684378455972549, 0.6839970971491462, 0.6848052825899027, 0.6845603243277942, 0.6840924354714712, 0.6847130640455702, 0.6843468518019087, 0.6851583462616013, 0.6831722606839228, 0.6846281460983108, 0.6844947846873054, 0.6847399606257608, 0.6853055204397287, 0.6841168380986925, 0.6843700160423224, 0.6847385688595062, 0.6838911898629028, 0.6844307922018259, 0.6847840129896542, 0.6846397825747541, 0.6845487327975137, 0.6836583161094527, 0.6848441639520276, 0.6846416608040085, 0.6848897031190253, 0.6846826041758545, 0.6846460649915903, 0.6850079598262675, 0.6842990974723828, 0.6839497762040527, 0.684793410966545, 0.6847728629006995, 0.6842741194007367, 0.6852241454058572, 0.6844752530924512, 0.684294783828877, 0.6848668690314745, 0.6851857559337244, 0.6854115168753725, 0.6845636325420636, 0.6849990639574153, 0.6850182440366219, 0.6847980004454898, 0.6845018830222577, 0.6846622382891365, 0.6838522391716939, 0.6848392469158733, 0.6841378522808457, 0.6842497363109703, 0.6843670088337832, 0.6849571231465645, 0.68399302855081, 0.6847612788286388, 0.684269985527602, 0.6846456453532124, 0.6843157817698577, 0.6841423413974238, 0.6837930790427029, 0.684833896913998, 0.6846613018872736, 0.6845654427662966, 0.6848827284778796, 0.68571241028859, 0.6855967528232445, 0.6848443360594594, 0.6844997701097174, 0.6850612933784357, 0.6847110172118991, 0.6845833505978491, 0.6855347363550436, 0.6840359172580373, 0.6848556663687941, 0.6849558889668914, 0.6848366750686985, 0.6851662707885382, 0.6851324096294138, 0.6842129955256593, 0.6842448746820722, 0.6842005172855412, 0.6846274411718909, 0.6843085503358268, 0.684552179043594, 0.6850527630306127, 0.6848393385825349, 0.6841026395049004, 0.6841330842153188, 0.6850558999991023, 0.6848515309393366, 0.6844849485337319, 0.683805867386738, 0.6848775943989482, 0.6842782270572842, 0.684592237463115, 0.6840397938842376, 0.6845901616933974, 0.6848552311474916, 0.6847222753104723, 0.68486625844196, 0.6843794129808678, 0.684675539893872, 0.6851491670065464, 0.6846006183117987, 0.6846736914160814, 0.6852847814677363, 0.6841863484546289, 0.6844891510687794, 0.6844522036188954, 0.6847730180344599, 0.6848497402067334, 0.6847089961396738, 0.6843792196908529, 0.6842572039352348, 0.6850743658876769, 0.6845118818979332, 0.6847376306237251, 0.6841057404197882, 0.6837708678729777, 0.6846235779796275, 0.6844207152377308, 0.6844083846729809, 0.6848521009772406, 0.6850997182051395, 0.6852723359963914, 0.6845989230829749, 0.6848589625215031, 0.6839811606220731, 0.6848862439809272, 0.684748643134249, 0.6854992305277043, 0.6846332576229703, 0.6841506153371523, 0.68409334369062, 0.683836170000927, 0.684361399994688, 0.6848736291224704, 0.6848504106549695, 0.6846535023390476, 0.6843043984757454, 0.684732665683489, 0.6849386391044774, 0.6849654792834976, 0.6852550112040978, 0.6852023858872549, 0.6843630090249653, 0.6847698139455514, 0.6845085142119304, 0.6838864625964151, 0.6849023843353499, 0.6843198498428114, 0.6845038892066126, 0.6845253163513263, 0.6848024838674862, 0.6847705916057409, 0.684447326632412, 0.6843837424487789, 0.6849389768063194, 0.6853944308100554, 0.6845606700350648, 0.6846867169212015, 0.6848520146390693, 0.6850686234816419, 0.6848871025996243, 0.6849959280441873, 0.684798145952403, 0.6851788390797253, 0.6848875684049355, 0.6844800695016233, 0.6844946238856124, 0.684805703879251, 0.6844865548762662, 0.6846072641077424, 0.6843413917031788, 0.6847979146320906, 0.6849604974461405, 0.6847082568568008, 0.684401500374541, 0.6841300221469314, 0.6839971193911597, 0.6838633454779699, 0.6850608344269986, 0.6842785328466354, 0.684892141342517, 0.6849708780263919, 0.6844760470994622, 0.6850957364967843, 0.684726745031349, 0.6851316571786112, 0.6846665008516449, 0.684483518818604, 0.6847136649801252, 0.684371834367181, 0.6843399189835885, 0.6849040399347137, 0.68503904175407, 0.6852980749141617, 0.6840907191454355, 0.6847261292358148, 0.684475112941827, 0.6844039742785131, 0.6847726899772282, 0.684334411385817, 0.6849204519293544, 0.6846011947203772, 0.6851921697861021, 0.6853085143824797, 0.6845176422003154, 0.6839885864068997, 0.6850340128363773, 0.6844319381377625, 0.6834333698625624, 0.6842679871484734, 0.6845843481446972, 0.68465509852944, 0.6845724681557352, 0.6854229256001203, 0.6848205959071361, 0.6846960975582077, 0.6847243136676869, 0.6847113898422283, 0.6836569870914448, 0.6847596586137661, 0.6848956548753553, 0.6850091976883874, 0.6848860123900029, 0.6844547773938275, 0.6852826667137537, 0.6848938815914238, 0.685291765938757, 0.6843871131031808, 0.6842921872209564, 0.6846702075408995, 0.6840915195872883, 0.6845976222885248, 0.6842659150557431, 0.6851602388280561, 0.6847510360894231, 0.6843466245019657, 0.6848285443912181, 0.6848524731916252, 0.685122913618199, 0.6848745865056577, 0.6847424542641536, 0.684410175014748, 0.684552621904658, 0.6853204834045087, 0.6840623309019375, 0.6849147384594689, 0.6850690188490796, 0.6846929653557705, 0.6847087438691768, 0.684936043734768, 0.684843161071536, 0.6843796429081108, 0.6842965222952007, 0.6851189748501546, 0.6851042173441996, 0.6849932159880018, 0.6854687110922021, 0.6845005528186346, 0.6844986476560111, 0.6849981641664624, 0.6852732241198217, 0.6846610158168134, 0.6847678709381315, 0.6847811346590311, 0.6844890883933865, 0.6839384067001002, 0.6845777194558971, 0.6845040233022168, 0.6853819356120456, 0.6847655274124129, 0.685345811576094, 0.6848997104967421, 0.6843603607185669, 0.6854336880307187, 0.684825090891727, 0.6834585534328209, 0.6842678213997343, 0.6838920611259075, 0.6842542112604124, 0.6844259322574151, 0.6848603117287486, 0.6854049632138342, 0.6839391561013034, 0.6841122719350423, 0.6850264282155708, 0.6842111277059972, 0.6842956584304971, 0.6841431918024325, 0.6848475502052204, 0.6840278211402596, 0.6851440689417923, 0.6844953635928723, 0.6850028649331855, 0.684211259923107, 0.6845579800598434, 0.6851810177598726, 0.6852663630305028, 0.6844271158989448, 0.6848896627025451, 0.6846335150788301, 0.6842696497635956, 0.6838602873150148, 0.684788232257164, 0.6843595562122999, 0.6846081987399859, 0.6848404872808029, 0.6846443815816745, 0.6844333868227647, 0.683859105785922, 0.6847391682932698, 0.6839995951003657, 0.6840538259496053, 0.6845475407799002, 0.6842383329749162, 0.6841238740496114, 0.6850300142972424, 0.6851896823758612, 0.6842181061391484, 0.6839056574505408, 0.6842294347037123, 0.6846120982206547, 0.6835009684605992, 0.6852381910825676, 0.6844000324653721, 0.6844985283554839, 0.685019251637536, 0.6843863920588553, 0.684935935264101, 0.684327045658786, 0.6845655502151204, 0.6849457460854259, 0.6841972388426885, 0.6846670455775785, 0.6845448830238822, 0.6853141747730471, 0.6845761300923683, 0.6850287293696746, 0.6852926034665685, 0.6847164721535623, 0.6847907447184054, 0.6843942445520543, 0.68466779848443, 0.6834469696655856, 0.6844349002566722, 0.6848777876686984, 0.6846785317816658, 0.6848904714846706, 0.6845235429393056, 0.6848213402981633, 0.6849976758286258, 0.6849735415954994, 0.6845883545149185, 0.6837239925111236, 0.6855156398888814, 0.6842290851170438, 0.6847211673236513, 0.683672161430499, 0.6849749996943553, 0.6845932990549837, 0.6846986354971993, 0.6838223415185007, 0.6838785804181189, 0.6846894098858782, 0.6847644741872161, 0.6853579251854909, 0.6850170499791107, 0.6845571253053895, 0.6841981882991222, 0.6842929782308607, 0.6844377195577975, 0.6845888300919165, 0.6846786548966703, 0.6844739964933013, 0.6847258829406693, 0.684429672044321, 0.6851561416496733, 0.6840366719603883, 0.6851190311366677, 0.6844879223667775, 0.6846719257946986, 0.6851859297057926, 0.6840765447055658, 0.6845884118562102, 0.6841182924107941, 0.6842796746889239, 0.6847920816485408, 0.6837900947762583, 0.6847865361419616, 0.684528791803171, 0.6852329443934186, 0.6838648155161404, 0.6843817154974364, 0.6842946023795556, 0.6850078364626118, 0.6850775602141508, 0.6841766938603442, 0.6848274206311207, 0.684412278372917, 0.6852706364837668, 0.6846477337444933, 0.6843061645668382, 0.6857576617516673, 0.684398561997042, 0.6855445063719039, 0.685501930843756, 0.6850376879869944, 0.6840612968700897, 0.685177107576487, 0.6846546905116423, 0.6840261478834965, 0.683853652524409, 0.6844039520154425, 0.6849711499916888, 0.685263426308686, 0.6838428409130368, 0.684339015696107, 0.6856263169478063, 0.6842413785998949, 0.6838939118426034, 0.6845714041432003, 0.6851191845433571, 0.6842269992328873, 0.6851678155613403, 0.6837576350873005, 0.6851723794509489, 0.6839833005925096, 0.6848237086088553, 0.6853926336801122, 0.6850489771132606, 0.6847875571496431, 0.6851363319927413, 0.6842566530059581, 0.6851493717620383, 0.6845881599022535, 0.6853915288447658, 0.6846422555093704, 0.6843421741603273, 0.6852832309104275, 0.6848716659504277, 0.6851158506454317, 0.6851103165831431, 0.6846434082846813, 0.684296145977668, 0.6849197446075886, 0.6843077328033547, 0.6849502121062798, 0.685128855235647, 0.6847845083965793, 0.6847192273379268, 0.6852582997396159, 0.6841928546020617, 0.6848020100562495, 0.6847587506348225, 0.6843776647946849, 0.6848669652162016, 0.6848125402464689, 0.6848681341851832, 0.6847674779879712, 0.6852166608403054, 0.6845934511376477, 0.6842141209726198, 0.6846566858325327, 0.6845443444489014, 0.6852925318777823, 0.6841967679712293, 0.6840226069685571, 0.6844835088139605, 0.6855217642635956, 0.6844097556708513, 0.6839708871917028, 0.6840331566865989, 0.684704604311456, 0.6845576950569618, 0.6848012601281359, 0.6851403910255285, 0.6851932950148791, 0.6847692797775398, 0.6843982173094278, 0.6847209777648651, 0.684756982605703, 0.684404912587556, 0.6849971493686715, 0.6850372424610806, 0.6849296481596011, 0.6849590825228664, 0.6846718093755528, 0.6841009663434598, 0.6847771361594914, 0.6851823635352872, 0.6850074029577925, 0.68443630575502, 0.6846853823017927, 0.6851847691845727, 0.6841643518799359, 0.6854179178619408, 0.6840538415158787, 0.6841541464701866, 0.6842029512042254, 0.6850386567107447, 0.6844170267943366, 0.6851483818037528, 0.6851127628545712, 0.6853996849027195, 0.685555543968402, 0.6851106714023223, 0.6849692943002534, 0.6849409490547822, 0.6846945830250177, 0.6847358282727561, 0.6849841202005313, 0.6853139815701809, 0.6833110057734784, 0.6844243837632107, 0.6843512865055699, 0.684795622765052, 0.6843914170610086, 0.685269943787872, 0.6848941992650921, 0.6846427003720432, 0.6846888128781397, 0.6844043602287573, 0.6844077784935212, 0.684960130308444, 0.6847184502003559, 0.6852271177859517, 0.684191049632973, 0.6850657187659632, 0.6840007265706165, 0.6855127601745463, 0.6848254772514928, 0.6844392214759925, 0.68459563743132, 0.6848205346249896, 0.6851350474030935, 0.6837402320697954, 0.6847654891666082, 0.6853832604588425, 0.6848111581749913, 0.6853233308677469, 0.6832226279938167, 0.683476682918267, 0.6839566106590669, 0.6843274497678424, 0.6846997943266839, 0.6845209409904607, 0.6843993500596135, 0.6841142033734884, 0.6849297600533855, 0.6841473676920236, 0.6848683306744888, 0.6841284812004167, 0.6850054907610631, 0.6844260412037602, 0.6847113498147125, 0.6846391641493548, 0.6843043242772641, 0.6839388730118743, 0.6848539378622422, 0.6845895042951997, 0.683701426484274, 0.685636601853814, 0.6851073628727515, 0.6844714206413685, 0.6841952995735465, 0.6857068945995596, 0.6845938476343358, 0.6844159811728089, 0.6841055823386439, 0.6842769033576006, 0.6843712238542954, 0.685065168153906, 0.6843336903390501, 0.6850490158459857, 0.6851499388212545, 0.6841047866229935, 0.6849084950425974, 0.6846509417584405, 0.6849469204071958, 0.6847262210975276, 0.6849423411617879, 0.684844263820754, 0.6844792949912564, 0.684665821770015, 0.6853022975233864, 0.6850250062683576, 0.6852725836942182, 0.6848183812928115, 0.6845920611931957, 0.6840378482893897, 0.6847491727052635, 0.6850947383338266, 0.6849718951433832, 0.6848046297097001, 0.6851267216432118, 0.6843775880551266, 0.6846040495399692, 0.6850480096712463, 0.6842718644340708, 0.6854365716488988, 0.6849860875242902, 0.6844778900656148, 0.6846602587087595, 0.6845829116082809, 0.6843422433973014, 0.6852005316820877, 0.6852687489492928, 0.6848131586259575, 0.684207941333586, 0.6849688838431709, 0.684075841893629, 0.6855984823974097, 0.6845320057120354, 0.6849026225254444, 0.6844733730438981, 0.6847205577180107, 0.6850118808787522, 0.6838003148050051, 0.6847548616750563, 0.6835543006855853, 0.6853119841236159, 0.6852755780661854, 0.6852856561583849, 0.6843878546945195, 0.6845775415859829, 0.684298034679047, 0.6846240506390562, 0.6852226557951726, 0.6848720816418912, 0.6847757498024609, 0.6845725690835072, 0.6844134578278623, 0.6855838074601175, 0.6843868582272775, 0.6842951840014232, 0.6847872581438228, 0.6847962851132527, 0.6843773503648567, 0.6851262804280425, 0.6838814213325595, 0.6848339743276085, 0.6837900722902153, 0.6839762733334145, 0.6847404205930488, 0.6845169306811791, 0.6846972169825027, 0.684017055036868, 0.6847917406139177, 0.6846540800053227, 0.6845290278611669, 0.6849997873623159, 0.6837146792176025, 0.6847738216966377, 0.6847243627830419, 0.6842412925761804, 0.6845151884147764, 0.684846835448086, 0.6863254791399047, 0.6841565250923292, 0.6850354352429072, 0.6858499520966705, 0.6840026656755248, 0.6843033217991245, 0.6847864544376137, 0.6847585834892143, 0.6844757515551176, 0.6849979326029826, 0.6842484572463892, 0.6852527415534455, 0.6848219100974617, 0.68480448498398, 0.6850381416774727, 0.6853555323508753, 0.6848550676103482, 0.6846713597676817, 0.6856858644448582, 0.6852795063992333, 0.6852549204139233, 0.6851276364666985, 0.6841350018989637, 0.6843352744096207, 0.6851689553181015, 0.6845949155080073, 0.684478700448071, 0.684695350048375, 0.6845666593054038, 0.6841235913163575, 0.6845335420150331, 0.6841996803280641, 0.6855547254311553, 0.6846775863378334, 0.6841970900748682, 0.684725021521083, 0.6842217813855785, 0.6838279193324375, 0.6841064806064692, 0.6844228292049079, 0.6843830884524227, 0.6849157943266497, 0.6849866567643035, 0.6844154064591257, 0.6846147441269206, 0.6846374308779779, 0.6851092674434989, 0.6848996293778337, 0.6847595509304161, 0.6843981532053913, 0.683883377358731, 0.6853229740901627, 0.6847269111864024, 0.684606723858068, 0.6840053866725417, 0.6845430651616501, 0.6845625790597154, 0.684347979953075, 0.6845367072005571, 0.6841968929304387, 0.6844475874854663, 0.6841199384774161, 0.6847412105220062, 0.685201464395693, 0.684586077579231, 0.6842090540970271, 0.6842616787151188, 0.6845267752395141, 0.6836703432085006, 0.6850085520996604, 0.6845009265548057, 0.6849699060014927, 0.6840611750979166, 0.6848691779476729, 0.6856535306185371, 0.6838842480990308, 0.684381305684012, 0.6839503694119354, 0.6844631308218114, 0.6847747087447534, 0.6850190074534342, 0.6841055063969896, 0.6848436758837273, 0.6843479635325354, 0.6846895259064376, 0.6845017150584615, 0.6852607345327919, 0.6852362338900087, 0.6845246720711191, 0.6850732579592228, 0.6842086388503752, 0.6847061531635913, 0.684910963229572, 0.6843297998317129, 0.6846160596042854, 0.6840617495682852, 0.6848552258805664, 0.6844536396977274, 0.6837342476603105, 0.6844205811249202, 0.6843606614736071, 0.684412204000822, 0.6842234893599923, 0.6845472222377791, 0.6849443225379954, 0.6851672029802571, 0.6840884621833679, 0.6847879006431545, 0.6841322911317889, 0.6841091533722736, 0.6847512676704353, 0.6833493095495012, 0.6855421749190489, 0.6849235658053293, 0.685103126714707, 0.6848980938667912, 0.6836708961991098, 0.6842960636426794, 0.6857430238983977, 0.6850097545485483, 0.6843558588488965, 0.6845944854164092, 0.6852400451002276, 0.6853164965875607, 0.685011645089652, 0.6838952259984239, 0.6844821261565723, 0.6845694851929787, 0.6850606159139949, 0.6844764211630407, 0.6835846553686582, 0.6847791068155885, 0.684021429791005, 0.6848445609768468, 0.6844003730725284, 0.6846119337714348, 0.6846065622468773, 0.6847764179776802, 0.6846106063103681, 0.6842975703670366, 0.6847375262402247, 0.6858664869381224, 0.684667860949102, 0.683608350112221, 0.6844928238108395, 0.6843923423633663, 0.6844069838024258, 0.6849049332368515, 0.6844116653051583, 0.6849558753451354, 0.684052389780635, 0.6846574292805696, 0.685444065550566, 0.6855628830785164, 0.6839872882848795, 0.6846449519806994, 0.6840345629082354, 0.6842673418336445, 0.6842480173353256, 0.6846734692681014, 0.6844762277146462, 0.685054285705503, 0.6843890574226976, 0.6838122842609569, 0.685103707715064, 0.6846176601068472, 0.6843699640874527, 0.684728058325498, 0.6842992207517529, 0.6839368291717023, 0.6845759005831826, 0.6848104217030793, 0.6841929603528232, 0.6848089495923888, 0.6842955003188586, 0.6846151336481199, 0.6847617385561207, 0.684812750126212, 0.684786912457765, 0.6852071022346735, 0.6844674359706774, 0.685512599892095, 0.6840062454003204, 0.6848277812439979, 0.6847841760063753, 0.6848115472309886, 0.6846001836405824, 0.6847329782240956, 0.6840437710699803, 0.6847099109216678, 0.6838696497280009, 0.6843845852311379, 0.6850833529404011, 0.684082524762389, 0.68456580067083, 0.6843175780328887, 0.68417387462445, 0.6843572278340375, 0.6851588767694061, 0.6844089369351836, 0.6848062518933753, 0.6839216817349432, 0.6841469494424675, 0.6853668265596267, 0.6849520454932587, 0.684696064705862, 0.6855474636210465, 0.6847567074412313, 0.6850320893362254, 0.6845089415240089, 0.6844835100881651, 0.6842823423601273, 0.6845728652271685, 0.6842939759893235, 0.6838698134426469, 0.6850514310236541, 0.6842757934255361, 0.6847982701221325, 0.6839168123591663, 0.6853943386892168, 0.6844614947864829, 0.6848789627875714, 0.6841375400537516, 0.6845799041939011, 0.6853806716489761, 0.6846816339305347, 0.6839080456762445, 0.6842226259530322, 0.684296681321976, 0.6844983968512276, 0.6842939516046193, 0.6846928270515218, 0.6843096879557061, 0.685377963553447, 0.6838540179372092, 0.6850166821889904, 0.6852373731382997, 0.6849593744653568, 0.6846929405703774, 0.6839085671496508, 0.6850012262099069, 0.6850281097786515, 0.6847280219985892, 0.684739835423533, 0.6850253505405404, 0.684871178739674, 0.6846676334534509, 0.6845585242442813, 0.6846146874599988, 0.6845905951852382, 0.6847637996110498, 0.6844564599152752, 0.6843541359083514, 0.6847529765838336, 0.6848918214744223, 0.6853067071310603, 0.6845426535035987, 0.6844743398121627, 0.6844644293147046, 0.6845754932834589, 0.6854881210205298, 0.6849414759954553, 0.6850932610569769, 0.6848723090567828, 0.6844696973078405, 0.6851266367659452, 0.6843481217808262, 0.6841516798205978, 0.6847719502484131, 0.6844309788110545, 0.6848173827480034, 0.6850285304431041, 0.6843725822006415, 0.6847679851462389, 0.684205801533339, 0.6843306827833273, 0.6846447305796126, 0.6852567082441898, 0.6847473169277858, 0.6852065430880414, 0.6850303811588927, 0.6854676018222862, 0.6850414371099351, 0.6843529753217172, 0.6844015905449954, 0.6845327665261899, 0.6843523116164336, 0.6847956193345888, 0.6846453168475606, 0.6843852023433556, 0.6842277410824298, 0.6846520738185493, 0.6848513795323472, 0.6848676461139136, 0.6848239560917077, 0.6846442684953763, 0.6854333607051375, 0.6848604212377166, 0.6842038362710978, 0.6846048454040599, 0.684863886218908, 0.6847033412785781, 0.6853142805194776, 0.6846311196141703, 0.6843781156164832, 0.6851479965414822, 0.684778495185692, 0.6845423773433381, 0.6847509461700585, 0.6846159335033825, 0.6844974832670783, 0.6837133431258324, 0.6847646237368081, 0.6846388035732066, 0.6840577528812932, 0.6852043209882968, 0.6841625098535691, 0.6847488613260455, 0.6842100525417052, 0.6843278457895419, 0.6842842576947823, 0.684815048499671, 0.6847994719658381, 0.6854551871386958, 0.6847452835813694, 0.6843393406522249, 0.6855950436239733, 0.6847880413614804, 0.6847576808075764, 0.6849672509742503, 0.6840941143987892, 0.6840596057875327, 0.6852355880993247, 0.6842985446589238, 0.6845865512087097, 0.6840947112511009, 0.6847794539088967, 0.68469446129922, 0.6845301307323646, 0.6853751547677831, 0.685038713460224, 0.6862979108394733, 0.6842083227568414, 0.6841294427123419, 0.6840260369417275, 0.6851110169606687, 0.6851941290288879, 0.6843931829217882, 0.6845598073175692, 0.6844260059010935, 0.6842379061290247, 0.6845274495533009, 0.6854838070191629, 0.6845264489721496, 0.6836944612328092, 0.6842298308868209, 0.6850843195025947, 0.6850518151891192, 0.6842284975802577, 0.6845102883166834, 0.6852797608231902, 0.6838890131961204, 0.6848741951159194, 0.6842977950941308, 0.6845270764907893, 0.6855630255145664, 0.6842316308422198, 0.6846364220149926, 0.6850018647527225, 0.6841558598024045, 0.685276235000804, 0.6840973646984136, 0.6845321150358836, 0.6853157302834154, 0.684462430162158, 0.6846146278483756, 0.6848715082072683, 0.6850456499580929, 0.684532305744451, 0.6848346784681391, 0.6845694243790926, 0.6842504430683678, 0.6847329323561704, 0.6837541885981527, 0.6849688101433826, 0.6839803682888819, 0.68466352082708, 0.6854846114306993, 0.6852936760123789, 0.6842773287015502, 0.6842378365856658, 0.6847767368242876, 0.6843272880302518, 0.6847693074533141, 0.684673396931218, 0.6851072197528417, 0.6844732519000528, 0.684532045550321, 0.6849417220249308, 0.6844661346824994, 0.6849651982106141, 0.6853322668965732, 0.6853563607741435, 0.6852663968776117, 0.68443979742342, 0.6846567626778035, 0.685456958392106, 0.6841444142446118, 0.6845232873175628, 0.6851168759737628, 0.683469053043904, 0.6850638346287155, 0.6842955918467848, 0.6856630287356242, 0.6840668281712659, 0.6842094011952984, 0.6834101517221247, 0.6845671249294683, 0.6848721011527814, 0.6848862528523412, 0.6849327493394995, 0.6858192364737018, 0.6847312748335002, 0.684654061153072, 0.6848450020935661, 0.6850881491558624, 0.6846535994265257, 0.6844369845365749, 0.6851252208320213, 0.684559078322325, 0.6835851530706781, 0.6849150085904409, 0.6849155703895453, 0.6846790111517641, 0.6847864326971931, 0.6855851411688817, 0.6851102571726593, 0.6848578974230811, 0.6847702933714328, 0.6850735623308819, 0.6848790366095401, 0.6854891935047389, 0.6843672631138149, 0.6846076027651318, 0.6847251335195326, 0.6844911226379544, 0.6836664211239962, 0.684523904990692, 0.6846232826302403, 0.6840268209945068, 0.6835938839481243, 0.6849441756486595, 0.6841985284571551, 0.6852712067621072, 0.6846138657743746, 0.6843789813817154, 0.6852383371585817, 0.6851935327408138, 0.6856483356036928, 0.6849439799209192, 0.6848754945632108, 0.6832275825617219, 0.6842295854825275, 0.6848752042920199, 0.6847570039808557, 0.684800902282674, 0.6842935195790436, 0.6848480922573734, 0.6848219964971971, 0.6851274039742397, 0.6846039098848333, 0.6852274839547505, 0.6843631218543573, 0.6841084279766022, 0.6843909326482814, 0.6843545685424082, 0.6853170741168576, 0.684755727518569, 0.6853871452657296, 0.6845609519991853, 0.6843490086711053, 0.685308478256136, 0.6839215945759292, 0.6842026789786165, 0.6844285577658973, 0.6855971811836971, 0.6843775406876202, 0.6848357127949072, 0.6845670471075838, 0.6846876195023919, 0.6849997126480671, 0.6849989419571343, 0.6848928397070555, 0.6842955159650363, 0.6854004169253871, 0.684448850380569, 0.6852541273407426, 0.6842000030624925, 0.6854509135944928, 0.6844079329826822, 0.6832829445848063, 0.6846586562833208, 0.684988911687664, 0.6842507949263453, 0.684336865179793, 0.6840091659146426, 0.6844093242107199, 0.6849215482613098, 0.6848222969914723, 0.6844838627553952, 0.6841532142566914, 0.6847456059328532, 0.6854698765797527, 0.684893804185843, 0.6841631296305353, 0.6843490315465504, 0.6846816854472018, 0.6852012397165187, 0.6846297589950132, 0.684163351187816, 0.6844099162747949, 0.6853559193274149, 0.6840421039951837, 0.684246760367361, 0.6847612476393716, 0.6848218064181228, 0.6849138857938218, 0.6851522196125708, 0.6847903060428355, 0.6845510329578979, 0.6841397443849034, 0.6851939488472412, 0.6844062947151537, 0.6837611555788057, 0.6844140790706821, 0.6843564652071377, 0.6846107730598081, 0.6848802486996003, 0.6845557100306953, 0.6852665864536162, 0.6846939850024578, 0.6845065035055178, 0.6845075570063017, 0.68631330377227, 0.6842846814931526, 0.6847312632818647, 0.6853419717911571, 0.684805245335353, 0.684739299470807, 0.684075593777438, 0.6846534636104842, 0.6846084305042133, 0.6849444140415284, 0.6851417752000393, 0.6847571300154387, 0.6845229431482155, 0.6852648400882088, 0.6845668952826423, 0.6851410203736066, 0.6849652752838902, 0.6846072858618042, 0.6841775297586277, 0.6854074244592088, 0.6848745647361951, 0.6845799276422346, 0.6838643587873079, 0.6852537886188352, 0.684633974408007, 0.6847767401433453, 0.6849083735605126, 0.6853872321413884, 0.6843374259987364, 0.6853492478517734, 0.6844474346551939, 0.6839250306813154, 0.6850159481376176, 0.6853268357928695, 0.6849700902974729, 0.6847936125900308, 0.6850493113691147, 0.6845862745184328, 0.6841795893245606, 0.6846679216809006, 0.6850173224855259, 0.6842622044976234, 0.6848536385578815, 0.6836066187236778, 0.6845168520020402, 0.6853399261153216, 0.6847916290555558, 0.6845904406788414, 0.6853873902967842, 0.6849633752274955, 0.6845183422753608, 0.6847120040735555, 0.6838339083866765, 0.6855945899920357, 0.6843695515448656, 0.6837815658487945, 0.6834334452126325, 0.6853195264005986, 0.6856508202459406, 0.6846150040578758, 0.6850334276773914, 0.684398731997799, 0.684422046193493, 0.6848729898557635, 0.6846903856376909, 0.684566869953515, 0.6850148079354124, 0.6850143121710818, 0.6847273961669185, 0.6843349782247146, 0.6845401911797053, 0.684808152089786, 0.6846278360716176, 0.6837081347963285, 0.685200786478708, 0.6850909235738548, 0.6842484212446031, 0.684751216917371, 0.6846604956443859, 0.6850724565324975, 0.6844408600321006, 0.6846079763814839, 0.6850610935932975, 0.6844438287499371, 0.6852903692254415, 0.6842238120011724, 0.684885156989952, 0.6844319503743861, 0.6848504909564033, 0.6846620466409754, 0.6850297308647895, 0.6845652688215286, 0.6840329308925263, 0.6847610285653909, 0.6846312849814671, 0.6841677128824541, 0.6839712464917584, 0.6850196077419385, 0.6848528738250501, 0.6850311237171125, 0.6848878425744127, 0.684192328338115, 0.6855586985469064, 0.6850248360001212, 0.6851938204482855, 0.6850868787103228, 0.6850566532138532, 0.6846481389487264, 0.6839741734474027, 0.6855092665130271, 0.6834896422823367, 0.6847871294943243, 0.6840303113541557, 0.6848575242221694, 0.684325196387457, 0.6842523065516648, 0.6834265599726205, 0.6850069712497044, 0.6845097489105778, 0.6844618772916791, 0.6846297979791738, 0.6839450055368084, 0.6841961602646809, 0.6839029089664544, 0.6853157834812063, 0.6848407238095342, 0.6849248144404202, 0.6845367586166442, 0.684398322139208, 0.6848419794425351, 0.6851373388758006, 0.6845189484031977, 0.6848798253068795, 0.6844902810051318, 0.684943433261324, 0.6852035603517328, 0.6847707627166728, 0.6843626936577545, 0.6847152621674724, 0.6845096728044519, 0.6842771552058519, 0.6847621481297032, 0.6841343493947777, 0.6841888993670944, 0.6840258280580287, 0.6846409140739738, 0.6852631514542286, 0.6848682311214764, 0.6846430888726789, 0.6854543050117818, 0.6843252392969058, 0.6846721744229205, 0.6847796974647012, 0.6841348376150785, 0.6844763584752256, 0.6849247321688667, 0.6847615472482054, 0.6850133542307266, 0.684982517292231, 0.6843933397233803, 0.6852287620221014, 0.6842370411119632, 0.6843633771226164, 0.684791450672883, 0.6848940051716741, 0.6847078040082859, 0.6847862425594926, 0.6852877974106859, 0.6844407658529732, 0.6850336948415167, 0.6844638800334627, 0.6850146189360492, 0.6850364870413055, 0.6845221112554083, 0.6848179181262839, 0.6849939021878884, 0.684974708490109, 0.6845385565530173, 0.6847515272118712, 0.6846810849161286, 0.6848726608619526, 0.6845545185892894, 0.684425551416302, 0.685461338567902, 0.6848888943100184, 0.6845883518991889, 0.6845809257726212, 0.6852277730270768, 0.6851662479043183, 0.6843656872070756, 0.6850843423710666, 0.6849505345035473, 0.6852241728948267, 0.6848809294897118, 0.6845338072061069, 0.6845079500435862, 0.6847170603813205, 0.6846676010910233, 0.6849534023787784, 0.6848559464903751, 0.6845000803143029, 0.6845858245248071, 0.685235102207286, 0.6849061311445025, 0.6849187690013185, 0.684223118413065, 0.6842821365647966, 0.684749966696423, 0.6843895437849389, 0.6843187724910298, 0.6845730159495734, 0.6845357435035817, 0.6846093919640945, 0.6841695040747877, 0.6846171947870563, 0.6848664407846161, 0.6847980919879909, 0.6842187800823613, 0.6850959809360961, 0.6847392008794694, 0.6854702575045254, 0.6850586559254073, 0.6851135996713231, 0.6843884474236765, 0.6848113956833972, 0.6844426547143984, 0.6850598786453215, 0.6841248628999481, 0.6846241355385572, 0.6851079765194228, 0.6849352710661439, 0.6847176016646324, 0.6840248619387153, 0.6848826266591207, 0.6842901919513769, 0.6844912394740477, 0.6844030613645915, 0.6853807171863431, 0.6844292987574295, 0.6846738656556041, 0.6845109175902284, 0.6862152578639078, 0.6848635452839904, 0.6846101708864862, 0.6847860292347647, 0.6845261368429696, 0.6845271869221233, 0.6840556018559505, 0.6840866684725795, 0.6844180727455134, 0.6843958652028459, 0.6848183244629436, 0.6853278081383339, 0.6848000292692095, 0.6844602668484359, 0.6843969690972503, 0.6848491013831164, 0.6848887813901896, 0.6848351316003285, 0.6849462678500463, 0.6848675294368467, 0.6846054244376345, 0.6842189979058133, 0.6850490373754556, 0.6848272476025525, 0.6849544774719434, 0.6844047983054156, 0.6831177456412023, 0.6850854457682867, 0.6846736257814603, 0.6842953066731123, 0.6844786582901896, 0.6848039802754178, 0.68439120227127, 0.6851468291467329, 0.6848238895947427, 0.6843287858523499, 0.6852156269458594, 0.6846795296222237, 0.6845918666341477, 0.685009385039381, 0.684937488358853, 0.6844783221339941, 0.68498193862955, 0.6844380964498085, 0.6838233597427217, 0.6848275720403153, 0.6846683193158493, 0.6851031056150154, 0.6841172846449111, 0.6856150041658423, 0.6850442589896975, 0.6849806877856599, 0.6843233539790428, 0.6854794655858938, 0.6847148134522008, 0.6845313316932413, 0.6844728980043729, 0.6845740608198393, 0.6850164574958053, 0.6844511540327023, 0.6849036824124881, 0.684806412224704, 0.6850072755423811, 0.6844003905435635, 0.6845596093563759, 0.6844569971154468, 0.6842604335361993, 0.6850036259078215, 0.6848112411568033, 0.6852275506046278, 0.684156926464986, 0.6840565567553271, 0.6842556391668861, 0.6849144762783481, 0.6841765557554753, 0.6844953230419325, 0.6844932640191721, 0.6850791243819786, 0.6845481009874403, 0.684822516076605, 0.6851508469464258, 0.6847651939760435, 0.6850870353492493, 0.6840401948307259, 0.6845057204967042, 0.6843215452014109, 0.6847926982446891, 0.684977866324915, 0.6844998401761886, 0.6844116802756316, 0.6848627118656451, 0.6846099162536412, 0.6845187623080791, 0.6848263253503846, 0.6845339349677313, 0.6845742806949524, 0.6840826868937567, 0.6844068792575667, 0.6849172147899767, 0.6846812717863375, 0.6849603608775452, 0.6852005666771365, 0.6848263343625416, 0.6847439349063547, 0.684376278873126, 0.684391348694515, 0.6845579554226839, 0.685006554969153, 0.684614599814944, 0.6845642454377358, 0.6844126980659277, 0.6835467624167181, 0.6847309158550172, 0.6844979818931657, 0.6855466225156082, 0.6844945117915544, 0.6837250780499384, 0.6846940171837395, 0.6844820717240977, 0.6849712938316557, 0.6835828372952065, 0.6839957565550939, 0.6842952049030582, 0.6854099034883006, 0.684678878059745, 0.6852591206014744, 0.6847661125317096, 0.6846169964827473, 0.6841338480190212, 0.684635238719324, 0.6852203023861609, 0.6849355897399649, 0.6845280656638892, 0.6844538346665703, 0.684448460439495, 0.6840092308992558, 0.6842518454501937, 0.6853040472700973, 0.6843494555342966, 0.6852041039343828, 0.6847151087352641, 0.6841912919344268, 0.6853266466698605, 0.6852544361744612, 0.6845764745437029, 0.6844350444254902, 0.6849980404580545, 0.6844616062551052, 0.68492739141028, 0.6848457529280116, 0.6840998852669237, 0.6841071082419115, 0.6855850152710613, 0.6836932106341063, 0.6849615277332318, 0.6841999500246977, 0.6849961898646035, 0.6843784990791385, 0.6839540454248465, 0.683972158076907, 0.6846931934164919, 0.684884989566525, 0.6847688458565663, 0.6854599397288573, 0.6847283771318422, 0.684070525060108, 0.6848276055449367, 0.6853701607695484, 0.6843651907749184, 0.6843942984100537, 0.6845423557580429, 0.6842229070456792, 0.6841189864608409, 0.6847500981860912, 0.684716498507458, 0.6848732129939494, 0.6842063824988325, 0.6846775987490945, 0.6844606262170247, 0.6847483596894728, 0.6846906936002026, 0.6845823235129243, 0.6846344878595806, 0.6844224778811565, 0.6845916343685298, 0.6844383155220557, 0.6841261581337592, 0.6845319758209449, 0.6847183922993941, 0.6852477989631001, 0.6832936752736165, 0.6849307298033271, 0.6850089365985508, 0.6845691412202801, 0.6842443285000509, 0.6846138339362801, 0.6842833848390967, 0.6843605149599061, 0.6851251959113123, 0.6843180814542736, 0.683512059679478, 0.6840883230292472, 0.6852975729573689, 0.6849912679117944, 0.6847611673617418, 0.685277687344882, 0.6845706857252705, 0.6846318051942168, 0.6842580189409104, 0.6840938819794458, 0.6846803777945935, 0.6854439946325486, 0.6846708507885848, 0.6837868663658218, 0.6850227866785861, 0.6849069634642322, 0.6841080235998938, 0.6836646677262267, 0.6847026100020102, 0.6846413219170795, 0.6853551651991786, 0.6847106625976671, 0.6850224261933031, 0.6845858122662083, 0.6847057824590428, 0.684049244176382, 0.68450400483556, 0.6847572239563335, 0.6853487877323816, 0.6844807013066265, 0.6840764523053349, 0.6838880479900762, 0.6853998722913681, 0.684344794308709, 0.6841449032118194, 0.6844534616555586, 0.6850161675198154, 0.6844869237929225, 0.6851795406579338, 0.6853504622702761, 0.6851188665776407, 0.6849144984339224, 0.6841700361949401, 0.6845734365086926, 0.683980923968554, 0.6842121508062811, 0.6842728411929659, 0.6837903350686807, 0.6858415209163169, 0.684214991463556, 0.6850574867832208, 0.685384023710671, 0.6851781195788567, 0.6843562993867265, 0.6851874764917869, 0.6849878596382317, 0.6850473986770143, 0.6842907555288538, 0.6849294165073385, 0.6841330256438634, 0.685060672966328, 0.6852445634452481, 0.6844427357879777, 0.685259564661973, 0.6854365750610287, 0.684809314043511, 0.6842943799016926, 0.6854745331215688, 0.683688331000966, 0.6845651207829695, 0.6843037785939161, 0.6856289764127366, 0.6852168068983491, 0.6844838508390084, 0.6847131170094967, 0.6850345547057299, 0.6839531329981481, 0.6849473142598093, 0.683888105347801, 0.6850870009778793, 0.6839680663908819, 0.6846169373819797, 0.6841925288654431, 0.6843649645051554, 0.6844065492287431, 0.6846864152486755, 0.6851326400177872, 0.6843569596101194, 0.6852503015433326, 0.685310796922386, 0.6852637556435386, 0.6841971647872358, 0.6853134617024985, 0.6846355665406791, 0.6845344153611861, 0.6843039631151644, 0.6848820985404427, 0.6846126933468777, 0.6842084417577018, 0.6843789790435653, 0.6848498795457543, 0.6840197256206535, 0.684656572587873, 0.6846884848873716, 0.6853478117647562, 0.6852020693478132, 0.685006542755658, 0.6845183896670505, 0.685490360820131, 0.6841178042324223, 0.6848430899142998, 0.6843410139832562, 0.6849929248194202, 0.6847006194936862, 0.6850514229533552, 0.684570485930844, 0.6843880479019289, 0.6848539964963322, 0.6849925257121414, 0.6845269301018342, 0.6839987208712079, 0.6843429050326273, 0.6844676027394969, 0.6840383386837577, 0.68543660417554, 0.6840661104664313, 0.6839778074387555, 0.6841826334776829, 0.6845121928901406, 0.6856674023831953, 0.6851178982233477, 0.6847866052282037, 0.6840906683365907, 0.6842208477209624, 0.6849405692757189, 0.685127335516424, 0.6849909771754235, 0.6842775636832787, 0.6846518321755148, 0.6844364549420867, 0.6851113024554767, 0.6852376516270144, 0.6849679003476131, 0.6846961768169646, 0.6846458739234937, 0.6845264041910113, 0.6855220780202722, 0.6856880311147912, 0.6840543608642047, 0.6844540384082273, 0.6842908233067171, 0.6844651487171413, 0.6845231390420274, 0.6850208818905812, 0.6851106252102569, 0.6852419967343837, 0.684383066773018, 0.6847704175784036, 0.6851318440656193, 0.6850800441503049, 0.6846561476609481, 0.6852038878087372, 0.6849889218898917, 0.6839862497435574, 0.6851363571154934, 0.683963047129152, 0.6847769961606482, 0.684495015871428, 0.6853110677664768, 0.6842477040481241, 0.6847705824416763, 0.6845674608986037, 0.6844193340848055, 0.6850318902841694, 0.6845444786052928, 0.6849013909821443, 0.6846807552136959, 0.6848961515009356, 0.684628560690793, 0.6849851256060097, 0.6840802371552912, 0.6853573310991259, 0.6851539959221671, 0.6846792057892561, 0.6846536278519586, 0.6850522244480821, 0.6839997498459782, 0.6850007977421638, 0.6852474773155881, 0.6844429193713375, 0.6849937736339977, 0.6856335166210843, 0.6850877922267755, 0.6838924048404105, 0.6845740605837787, 0.6846201985678845, 0.684377401375736, 0.6846619817135904, 0.6843158732181491, 0.6847110422755591, 0.6842794329320683, 0.685111097864323, 0.6846634332356158, 0.6846302407116108, 0.6843513236690858, 0.6847500201507128, 0.6851735980766851, 0.6838675128424715, 0.6840750982210455, 0.684508678424647, 0.6842172570215206, 0.6853122845132792, 0.683189682147533, 0.6842715900480922, 0.6841212261349522, 0.6844704141446738, 0.6842087874395832, 0.6846809259719178, 0.6845078933148607, 0.6847087608219928, 0.6843137017211007, 0.6841487537214526, 0.6851267966463936, 0.6853901764559842, 0.6851798691167532, 0.6838364671080701, 0.6847554241043408, 0.6848286167630573, 0.6847342364634885, 0.6847891346652459, 0.6850557308944785, 0.685122928859666, 0.6844801172397834, 0.6846246631825785, 0.6845784955906802, 0.6837590749745803, 0.683543828770379, 0.6850153842024727, 0.6847079338607247, 0.684238527888315, 0.6847689082508982, 0.6841790320064114, 0.684982801010577, 0.6840570786719216, 0.6848036194759839, 0.6837679427650871, 0.684626682751291, 0.6846779916625618, 0.6840568065838895, 0.6852079981777763, 0.684860878724465, 0.685014054790416, 0.6842692918088822, 0.6848288873604116, 0.6846327138690651, 0.6849903185403035, 0.6846143144623142, 0.6844618036731578, 0.6850921037261968, 0.6843728649441987, 0.6838490568182813, 0.6852158348446584, 0.6845036543702057, 0.6845799213773927, 0.685266590535889, 0.6846999302369585, 0.6851721310951261, 0.6847581460879146, 0.6845002982935573, 0.6848854739706797, 0.6851896368185674, 0.6852160400971338]\n"
          ]
        }
      ]
    },
    {
      "cell_type": "code",
      "metadata": {
        "id": "MN6lNag1I1uv",
        "outputId": "29ecfa1b-50f3-4444-89f6-c07e97d0a717",
        "colab": {
          "base_uri": "https://localhost:8080/",
          "height": 316
        }
      },
      "source": [
        "pd.DataFrame(betacoefs).hist()"
      ],
      "execution_count": 43,
      "outputs": [
        {
          "output_type": "execute_result",
          "data": {
            "text/plain": [
              "array([[<matplotlib.axes._subplots.AxesSubplot object at 0x7f77c8a9db50>]],\n",
              "      dtype=object)"
            ]
          },
          "metadata": {},
          "execution_count": 43
        },
        {
          "output_type": "display_data",
          "data": {
            "text/plain": [
              "<Figure size 432x288 with 1 Axes>"
            ],
            "image/png": "[encoded data removed]"
          },
          "metadata": {
            "needs_background": "light"
          }
        }
      ]
    },
    {
      "cell_type": "code",
      "metadata": {
        "id": "LZcQ70HqJTIu",
        "outputId": "bd7c31a1-6194-445d-8bc2-ee8a1350ec84",
        "colab": {
          "base_uri": "https://localhost:8080/",
          "height": 354
        }
      },
      "source": [
        "import matplotlib.pyplot as plt\n",
        "plt.hist(betacoefs)"
      ],
      "execution_count": 44,
      "outputs": [
        {
          "output_type": "execute_result",
          "data": {
            "text/plain": [
              "(array([ 14.,  37., 140., 367., 547., 510., 279.,  91.,  11.,   4.]),\n",
              " array([0.68311775, 0.68343852, 0.68375929, 0.68408007, 0.68440084,\n",
              "        0.68472161, 0.68504239, 0.68536316, 0.68568393, 0.68600471,\n",
              "        0.68632548]),\n",
              " <a list of 10 Patch objects>)"
            ]
          },
          "metadata": {},
          "execution_count": 44
        },
        {
          "output_type": "display_data",
          "data": {
            "text/plain": [
              "<Figure size 432x288 with 1 Axes>"
            ],
            "image/png": "[encoded data removed]"
          },
          "metadata": {
            "needs_background": "light"
          }
        }
      ]
    },
    {
      "cell_type": "markdown",
      "metadata": {
        "id": "l8MelTxsLrzq"
      },
      "source": [
        "# Cómo son los residuos (errores estimados) en mis datos?\n"
      ]
    },
    {
      "cell_type": "code",
      "metadata": {
        "id": "n4sZ7Av3LnnM",
        "outputId": "08458629-18c3-460e-fc30-fd70a134e9a1",
        "colab": {
          "base_uri": "https://localhost:8080/",
          "height": 283
        }
      },
      "source": [
        "residuos.hist()"
      ],
      "execution_count": 45,
      "outputs": [
        {
          "output_type": "execute_result",
          "data": {
            "text/plain": [
              "<matplotlib.axes._subplots.AxesSubplot at 0x7f77c89d0550>"
            ]
          },
          "metadata": {},
          "execution_count": 45
        },
        {
          "output_type": "display_data",
          "data": {
            "text/plain": [
              "<Figure size 432x288 with 1 Axes>"
            ],
            "image/png": "[encoded data removed]"
          },
          "metadata": {
            "needs_background": "light"
          }
        }
      ]
    },
    {
      "cell_type": "code",
      "source": [],
      "metadata": {
        "id": "I1rKfUV-r5rn"
      },
      "execution_count": 45,
      "outputs": []
    },
    {
      "cell_type": "markdown",
      "source": [
        "# Ajustando el Estimador de Varianzas y Covarianzas"
      ],
      "metadata": {
        "id": "CzYS-e88r66g"
      }
    },
    {
      "cell_type": "code",
      "metadata": {
        "id": "RpIU-4Iq4ciC"
      },
      "source": [
        "def regress(lista, data, variance=\"homoskcedastic\"):\n",
        "  \"\"\" \n",
        "  Funcion que realiza la regresion OLS. Esta version posibilita cambiar la varianza\n",
        "  lista: La primera variable de la lista es la dependiente, el resto son las explicativas\n",
        "  data:  Es la base de datos\n",
        "  variance: Acepta las opciones \"White\" y \"Scaled-White\"\n",
        "  \"\"\"\n",
        "  datos=data[lista]\n",
        "  # el metodo dropna() me permite eliminar las filas que tienen algun valor missing\n",
        "  datos=datos.dropna()\n",
        "  Y=datos[lista[0]]\n",
        "  X=datos[lista[1:]]\n",
        "  X=sm.add_constant(X)\n",
        "  modelo=sm.OLS(Y,X)\n",
        "  if variance==\"white\":\n",
        "    resultados=modelo.fit(cov_type='HC0')\n",
        "  elif variance==\"scaled-white\":\n",
        "    resultados=modelo.fit(cov_type='HC1')\n",
        "  elif variance==\"macKinnon_and_white\":\n",
        "    resultados=modelo.fit(cov_type='HC2')   \n",
        "  elif variance==\"jacknife\":\n",
        "    resultados=modelo.fit(cov_type='HC3')\n",
        "  else:\n",
        "    resultados=modelo.fit()\n",
        "  print(resultados.summary())\n",
        "  return resultados"
      ],
      "execution_count": 68,
      "outputs": []
    },
    {
      "cell_type": "code",
      "metadata": {
        "id": "6OmqjpVW4miA",
        "outputId": "b392072d-49b6-4a79-930f-0bd468e5044d",
        "colab": {
          "base_uri": "https://localhost:8080/"
        }
      },
      "source": [
        "regress(['logingreso','aesc'],data=df)"
      ],
      "execution_count": 63,
      "outputs": [
        {
          "output_type": "stream",
          "name": "stdout",
          "text": [
            "                            OLS Regression Results                            \n",
            "==============================================================================\n",
            "Dep. Variable:             logingreso   R-squared:                       0.199\n",
            "Model:                            OLS   Adj. R-squared:                  0.199\n",
            "Method:                 Least Squares   F-statistic:                     2507.\n",
            "Date:                Fri, 14 Oct 2022   Prob (F-statistic):               0.00\n",
            "Time:                        23:07:30   Log-Likelihood:                -11674.\n",
            "No. Observations:               10082   AIC:                         2.335e+04\n",
            "Df Residuals:                   10080   BIC:                         2.337e+04\n",
            "Df Model:                           1                                         \n",
            "Covariance Type:            nonrobust                                         \n",
            "==============================================================================\n",
            "                 coef    std err          t      P>|t|      [0.025      0.975]\n",
            "------------------------------------------------------------------------------\n",
            "const          8.0118      0.027    301.990      0.000       7.960       8.064\n",
            "aesc           0.1011      0.002     50.075      0.000       0.097       0.105\n",
            "==============================================================================\n",
            "Omnibus:                     1714.578   Durbin-Watson:                   1.798\n",
            "Prob(Omnibus):                  0.000   Jarque-Bera (JB):             4442.591\n",
            "Skew:                          -0.935   Prob(JB):                         0.00\n",
            "Kurtosis:                       5.660   Cond. No.                         45.7\n",
            "==============================================================================\n",
            "\n",
            "Notes:\n",
            "[1] Standard Errors assume that the covariance matrix of the errors is correctly specified.\n"
          ]
        },
        {
          "output_type": "stream",
          "name": "stderr",
          "text": [
            "/usr/local/lib/python3.7/dist-packages/statsmodels/tsa/tsatools.py:142: FutureWarning: In a future version of pandas all arguments of concat except for the argument 'objs' will be keyword-only\n",
            "  x = pd.concat(x[::order], 1)\n"
          ]
        },
        {
          "output_type": "execute_result",
          "data": {
            "text/plain": [
              "<statsmodels.regression.linear_model.RegressionResultsWrapper at 0x7f77c8924d90>"
            ]
          },
          "metadata": {},
          "execution_count": 63
        }
      ]
    },
    {
      "cell_type": "code",
      "source": [
        "regress(['logingreso','aesc'],data=df, variance='white')"
      ],
      "metadata": {
        "colab": {
          "base_uri": "https://localhost:8080/"
        },
        "id": "R9uGPjaduXI6",
        "outputId": "711e35c9-3ab2-4194-833a-b869e2fcc371"
      },
      "execution_count": 66,
      "outputs": [
        {
          "output_type": "stream",
          "name": "stdout",
          "text": [
            "                            OLS Regression Results                            \n",
            "==============================================================================\n",
            "Dep. Variable:             logingreso   R-squared:                       0.199\n",
            "Model:                            OLS   Adj. R-squared:                  0.199\n",
            "Method:                 Least Squares   F-statistic:                     2573.\n",
            "Date:                Fri, 14 Oct 2022   Prob (F-statistic):               0.00\n",
            "Time:                        23:08:23   Log-Likelihood:                -11674.\n",
            "No. Observations:               10082   AIC:                         2.335e+04\n",
            "Df Residuals:                   10080   BIC:                         2.337e+04\n",
            "Df Model:                           1                                         \n",
            "Covariance Type:                  HC0                                         \n",
            "==============================================================================\n",
            "                 coef    std err          z      P>|z|      [0.025      0.975]\n",
            "------------------------------------------------------------------------------\n",
            "const          8.0118      0.027    298.103      0.000       7.959       8.064\n",
            "aesc           0.1011      0.002     50.723      0.000       0.097       0.105\n",
            "==============================================================================\n",
            "Omnibus:                     1714.578   Durbin-Watson:                   1.798\n",
            "Prob(Omnibus):                  0.000   Jarque-Bera (JB):             4442.591\n",
            "Skew:                          -0.935   Prob(JB):                         0.00\n",
            "Kurtosis:                       5.660   Cond. No.                         45.7\n",
            "==============================================================================\n",
            "\n",
            "Notes:\n",
            "[1] Standard Errors are heteroscedasticity robust (HC0)\n"
          ]
        },
        {
          "output_type": "stream",
          "name": "stderr",
          "text": [
            "/usr/local/lib/python3.7/dist-packages/statsmodels/tsa/tsatools.py:142: FutureWarning: In a future version of pandas all arguments of concat except for the argument 'objs' will be keyword-only\n",
            "  x = pd.concat(x[::order], 1)\n"
          ]
        },
        {
          "output_type": "execute_result",
          "data": {
            "text/plain": [
              "<statsmodels.regression.linear_model.RegressionResultsWrapper at 0x7f77c7d46c10>"
            ]
          },
          "metadata": {},
          "execution_count": 66
        }
      ]
    },
    {
      "cell_type": "code",
      "source": [
        "regress(['logingreso','aesc'],data=df, variance='scaled-white')"
      ],
      "metadata": {
        "colab": {
          "base_uri": "https://localhost:8080/"
        },
        "id": "2AlxkmILwYt2",
        "outputId": "389227c4-9ce2-4091-c433-9631c5db850c"
      },
      "execution_count": 69,
      "outputs": [
        {
          "output_type": "stream",
          "name": "stdout",
          "text": [
            "                            OLS Regression Results                            \n",
            "==============================================================================\n",
            "Dep. Variable:             logingreso   R-squared:                       0.199\n",
            "Model:                            OLS   Adj. R-squared:                  0.199\n",
            "Method:                 Least Squares   F-statistic:                     2572.\n",
            "Date:                Fri, 14 Oct 2022   Prob (F-statistic):               0.00\n",
            "Time:                        23:24:47   Log-Likelihood:                -11674.\n",
            "No. Observations:               10082   AIC:                         2.335e+04\n",
            "Df Residuals:                   10080   BIC:                         2.337e+04\n",
            "Df Model:                           1                                         \n",
            "Covariance Type:                  HC1                                         \n",
            "==============================================================================\n",
            "                 coef    std err          z      P>|z|      [0.025      0.975]\n",
            "------------------------------------------------------------------------------\n",
            "const          8.0118      0.027    298.073      0.000       7.959       8.064\n",
            "aesc           0.1011      0.002     50.718      0.000       0.097       0.105\n",
            "==============================================================================\n",
            "Omnibus:                     1714.578   Durbin-Watson:                   1.798\n",
            "Prob(Omnibus):                  0.000   Jarque-Bera (JB):             4442.591\n",
            "Skew:                          -0.935   Prob(JB):                         0.00\n",
            "Kurtosis:                       5.660   Cond. No.                         45.7\n",
            "==============================================================================\n",
            "\n",
            "Notes:\n",
            "[1] Standard Errors are heteroscedasticity robust (HC1)\n"
          ]
        },
        {
          "output_type": "stream",
          "name": "stderr",
          "text": [
            "/usr/local/lib/python3.7/dist-packages/statsmodels/tsa/tsatools.py:142: FutureWarning: In a future version of pandas all arguments of concat except for the argument 'objs' will be keyword-only\n",
            "  x = pd.concat(x[::order], 1)\n"
          ]
        },
        {
          "output_type": "execute_result",
          "data": {
            "text/plain": [
              "<statsmodels.regression.linear_model.RegressionResultsWrapper at 0x7f77c7d44990>"
            ]
          },
          "metadata": {},
          "execution_count": 69
        }
      ]
    }
  ]
}