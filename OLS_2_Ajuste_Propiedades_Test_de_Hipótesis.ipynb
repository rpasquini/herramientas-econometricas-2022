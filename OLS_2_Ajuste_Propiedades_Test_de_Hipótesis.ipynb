{
  "nbformat": 4,
  "nbformat_minor": 0,
  "metadata": {
    "colab": {
      "name": "OLS 2 Ajuste Propiedades Test de Hipótesis.ipynb",
      "provenance": [],
      "authorship_tag": "ABX9TyN9+4we8kvU0SBy9efUK6Cf",
      "include_colab_link": true
    },
    "kernelspec": {
      "name": "python3",
      "display_name": "Python 3"
    }
  },
  "cells": [
    {
      "cell_type": "markdown",
      "metadata": {
        "id": "view-in-github",
        "colab_type": "text"
      },
      "source": [
        "<a href=\"https://colab.research.google.com/github/rpasquini/herramientas-econometricas-2022/blob/main/OLS_2_Ajuste_Propiedades_Test_de_Hip%C3%B3tesis.ipynb\" target=\"_parent\"><img src=\"https://colab.research.google.com/assets/colab-badge.svg\" alt=\"Open In Colab\"/></a>"
      ]
    },
    {
      "cell_type": "code",
      "metadata": {
        "id": "NNmORTIw0Z_t"
      },
      "source": [
        "import statsmodels.api as sm\n",
        "import matplotlib.pyplot as plt\n",
        "import numpy as np\n",
        "import pandas as pd"
      ],
      "execution_count": 1,
      "outputs": []
    },
    {
      "cell_type": "code",
      "metadata": {
        "id": "OTliy8gp0cuf"
      },
      "source": [
        "df=pd.read_csv('https://github.com/rpasquini/herramientas-econometricas/blob/main/datos/eah2016_individual.csv?raw=true')"
      ],
      "execution_count": 2,
      "outputs": []
    },
    {
      "cell_type": "code",
      "source": [
        "df.head(10)"
      ],
      "metadata": {
        "id": "0tNm9iblTvdT",
        "outputId": "ca29039b-0882-4899-d1b8-c240e9f0e108",
        "colab": {
          "base_uri": "https://localhost:8080/",
          "height": 665
        }
      },
      "execution_count": 4,
      "outputs": [
        {
          "output_type": "execute_result",
          "data": {
            "text/plain": [
              "   id  nhogar  miembro  comuna                                 dominio  edad  \\\n",
              "0   1       1        1      13                            resto ciudad    18   \n",
              "1   2       1        1       1                            resto ciudad    18   \n",
              "2   3       1        1       6  inquilinatos hoteles inmuebles tomados    18   \n",
              "3   4       1        1      14                            resto ciudad    18   \n",
              "4   5       1        1       2                            resto ciudad    18   \n",
              "5   6       1        1      13                            resto ciudad    18   \n",
              "6   6       1        2      13                            resto ciudad    24   \n",
              "7   7       1        1       7                            resto ciudad    18   \n",
              "8   7       1        2       7                            resto ciudad     2   \n",
              "9   7       1        3       7                            resto ciudad     1   \n",
              "\n",
              "    sexo  parentes_2  p5_2  p6_a  ...  s8 sn14       sn16  s28  s29  fexp  \\\n",
              "0  mujer           1     6    95  ...   2    0  Excelente    2    0   973   \n",
              "1  varon           1     6    95  ...   2    0  Excelente    0    0   115   \n",
              "2  mujer           1     6    95  ...   2    0  Excelente    2    0   223   \n",
              "3  varon           1     6    95  ...   2    0  Excelente    0    0   421   \n",
              "4  varon           1     6    95  ...   2    0      Bueno    0    0   199   \n",
              "5  mujer           1     6    95  ...   2    0      Bueno    2    0   314   \n",
              "6  varon           7     6    95  ...   2    0  Excelente    0    0   314   \n",
              "7  mujer           1     3    95  ...   2    0      Bueno    1    2   272   \n",
              "8  varon           3     0    95  ...   2    0  Excelente    0    0   272   \n",
              "9  varon           3     0    95  ...   2    0  Excelente    0    0   272   \n",
              "\n",
              "   sexotexto  inmigrante  logingreso  dsex  \n",
              "0      mujer  nativo arg    8.384804     1  \n",
              "1      varon  inmigrante    9.104980     0  \n",
              "2      mujer  inmigrante    8.482602     1  \n",
              "3      varon  nativo arg    9.615806     0  \n",
              "4      varon  nativo arg    9.615806     0  \n",
              "5      mujer  nativo arg    8.612503     1  \n",
              "6      varon  nativo arg    9.798127     0  \n",
              "7      mujer  nativo arg    7.901007     1  \n",
              "8      varon  nativo arg         NaN     0  \n",
              "9      varon  nativo arg         NaN     0  \n",
              "\n",
              "[10 rows x 96 columns]"
            ],
            "text/html": [
              "\n",
              "  <div id=\"df-ade58966-1f30-40cf-82a2-53edcb091e60\">\n",
              "    <div class=\"colab-df-container\">\n",
              "      <div>\n",
              "<style scoped>\n",
              "    .dataframe tbody tr th:only-of-type {\n",
              "        vertical-align: middle;\n",
              "    }\n",
              "\n",
              "    .dataframe tbody tr th {\n",
              "        vertical-align: top;\n",
              "    }\n",
              "\n",
              "    .dataframe thead th {\n",
              "        text-align: right;\n",
              "    }\n",
              "</style>\n",
              "<table border=\"1\" class=\"dataframe\">\n",
              "  <thead>\n",
              "    <tr style=\"text-align: right;\">\n",
              "      <th></th>\n",
              "      <th>id</th>\n",
              "      <th>nhogar</th>\n",
              "      <th>miembro</th>\n",
              "      <th>comuna</th>\n",
              "      <th>dominio</th>\n",
              "      <th>edad</th>\n",
              "      <th>sexo</th>\n",
              "      <th>parentes_2</th>\n",
              "      <th>p5_2</th>\n",
              "      <th>p6_a</th>\n",
              "      <th>...</th>\n",
              "      <th>s8</th>\n",
              "      <th>sn14</th>\n",
              "      <th>sn16</th>\n",
              "      <th>s28</th>\n",
              "      <th>s29</th>\n",
              "      <th>fexp</th>\n",
              "      <th>sexotexto</th>\n",
              "      <th>inmigrante</th>\n",
              "      <th>logingreso</th>\n",
              "      <th>dsex</th>\n",
              "    </tr>\n",
              "  </thead>\n",
              "  <tbody>\n",
              "    <tr>\n",
              "      <th>0</th>\n",
              "      <td>1</td>\n",
              "      <td>1</td>\n",
              "      <td>1</td>\n",
              "      <td>13</td>\n",
              "      <td>resto ciudad</td>\n",
              "      <td>18</td>\n",
              "      <td>mujer</td>\n",
              "      <td>1</td>\n",
              "      <td>6</td>\n",
              "      <td>95</td>\n",
              "      <td>...</td>\n",
              "      <td>2</td>\n",
              "      <td>0</td>\n",
              "      <td>Excelente</td>\n",
              "      <td>2</td>\n",
              "      <td>0</td>\n",
              "      <td>973</td>\n",
              "      <td>mujer</td>\n",
              "      <td>nativo arg</td>\n",
              "      <td>8.384804</td>\n",
              "      <td>1</td>\n",
              "    </tr>\n",
              "    <tr>\n",
              "      <th>1</th>\n",
              "      <td>2</td>\n",
              "      <td>1</td>\n",
              "      <td>1</td>\n",
              "      <td>1</td>\n",
              "      <td>resto ciudad</td>\n",
              "      <td>18</td>\n",
              "      <td>varon</td>\n",
              "      <td>1</td>\n",
              "      <td>6</td>\n",
              "      <td>95</td>\n",
              "      <td>...</td>\n",
              "      <td>2</td>\n",
              "      <td>0</td>\n",
              "      <td>Excelente</td>\n",
              "      <td>0</td>\n",
              "      <td>0</td>\n",
              "      <td>115</td>\n",
              "      <td>varon</td>\n",
              "      <td>inmigrante</td>\n",
              "      <td>9.104980</td>\n",
              "      <td>0</td>\n",
              "    </tr>\n",
              "    <tr>\n",
              "      <th>2</th>\n",
              "      <td>3</td>\n",
              "      <td>1</td>\n",
              "      <td>1</td>\n",
              "      <td>6</td>\n",
              "      <td>inquilinatos hoteles inmuebles tomados</td>\n",
              "      <td>18</td>\n",
              "      <td>mujer</td>\n",
              "      <td>1</td>\n",
              "      <td>6</td>\n",
              "      <td>95</td>\n",
              "      <td>...</td>\n",
              "      <td>2</td>\n",
              "      <td>0</td>\n",
              "      <td>Excelente</td>\n",
              "      <td>2</td>\n",
              "      <td>0</td>\n",
              "      <td>223</td>\n",
              "      <td>mujer</td>\n",
              "      <td>inmigrante</td>\n",
              "      <td>8.482602</td>\n",
              "      <td>1</td>\n",
              "    </tr>\n",
              "    <tr>\n",
              "      <th>3</th>\n",
              "      <td>4</td>\n",
              "      <td>1</td>\n",
              "      <td>1</td>\n",
              "      <td>14</td>\n",
              "      <td>resto ciudad</td>\n",
              "      <td>18</td>\n",
              "      <td>varon</td>\n",
              "      <td>1</td>\n",
              "      <td>6</td>\n",
              "      <td>95</td>\n",
              "      <td>...</td>\n",
              "      <td>2</td>\n",
              "      <td>0</td>\n",
              "      <td>Excelente</td>\n",
              "      <td>0</td>\n",
              "      <td>0</td>\n",
              "      <td>421</td>\n",
              "      <td>varon</td>\n",
              "      <td>nativo arg</td>\n",
              "      <td>9.615806</td>\n",
              "      <td>0</td>\n",
              "    </tr>\n",
              "    <tr>\n",
              "      <th>4</th>\n",
              "      <td>5</td>\n",
              "      <td>1</td>\n",
              "      <td>1</td>\n",
              "      <td>2</td>\n",
              "      <td>resto ciudad</td>\n",
              "      <td>18</td>\n",
              "      <td>varon</td>\n",
              "      <td>1</td>\n",
              "      <td>6</td>\n",
              "      <td>95</td>\n",
              "      <td>...</td>\n",
              "      <td>2</td>\n",
              "      <td>0</td>\n",
              "      <td>Bueno</td>\n",
              "      <td>0</td>\n",
              "      <td>0</td>\n",
              "      <td>199</td>\n",
              "      <td>varon</td>\n",
              "      <td>nativo arg</td>\n",
              "      <td>9.615806</td>\n",
              "      <td>0</td>\n",
              "    </tr>\n",
              "    <tr>\n",
              "      <th>5</th>\n",
              "      <td>6</td>\n",
              "      <td>1</td>\n",
              "      <td>1</td>\n",
              "      <td>13</td>\n",
              "      <td>resto ciudad</td>\n",
              "      <td>18</td>\n",
              "      <td>mujer</td>\n",
              "      <td>1</td>\n",
              "      <td>6</td>\n",
              "      <td>95</td>\n",
              "      <td>...</td>\n",
              "      <td>2</td>\n",
              "      <td>0</td>\n",
              "      <td>Bueno</td>\n",
              "      <td>2</td>\n",
              "      <td>0</td>\n",
              "      <td>314</td>\n",
              "      <td>mujer</td>\n",
              "      <td>nativo arg</td>\n",
              "      <td>8.612503</td>\n",
              "      <td>1</td>\n",
              "    </tr>\n",
              "    <tr>\n",
              "      <th>6</th>\n",
              "      <td>6</td>\n",
              "      <td>1</td>\n",
              "      <td>2</td>\n",
              "      <td>13</td>\n",
              "      <td>resto ciudad</td>\n",
              "      <td>24</td>\n",
              "      <td>varon</td>\n",
              "      <td>7</td>\n",
              "      <td>6</td>\n",
              "      <td>95</td>\n",
              "      <td>...</td>\n",
              "      <td>2</td>\n",
              "      <td>0</td>\n",
              "      <td>Excelente</td>\n",
              "      <td>0</td>\n",
              "      <td>0</td>\n",
              "      <td>314</td>\n",
              "      <td>varon</td>\n",
              "      <td>nativo arg</td>\n",
              "      <td>9.798127</td>\n",
              "      <td>0</td>\n",
              "    </tr>\n",
              "    <tr>\n",
              "      <th>7</th>\n",
              "      <td>7</td>\n",
              "      <td>1</td>\n",
              "      <td>1</td>\n",
              "      <td>7</td>\n",
              "      <td>resto ciudad</td>\n",
              "      <td>18</td>\n",
              "      <td>mujer</td>\n",
              "      <td>1</td>\n",
              "      <td>3</td>\n",
              "      <td>95</td>\n",
              "      <td>...</td>\n",
              "      <td>2</td>\n",
              "      <td>0</td>\n",
              "      <td>Bueno</td>\n",
              "      <td>1</td>\n",
              "      <td>2</td>\n",
              "      <td>272</td>\n",
              "      <td>mujer</td>\n",
              "      <td>nativo arg</td>\n",
              "      <td>7.901007</td>\n",
              "      <td>1</td>\n",
              "    </tr>\n",
              "    <tr>\n",
              "      <th>8</th>\n",
              "      <td>7</td>\n",
              "      <td>1</td>\n",
              "      <td>2</td>\n",
              "      <td>7</td>\n",
              "      <td>resto ciudad</td>\n",
              "      <td>2</td>\n",
              "      <td>varon</td>\n",
              "      <td>3</td>\n",
              "      <td>0</td>\n",
              "      <td>95</td>\n",
              "      <td>...</td>\n",
              "      <td>2</td>\n",
              "      <td>0</td>\n",
              "      <td>Excelente</td>\n",
              "      <td>0</td>\n",
              "      <td>0</td>\n",
              "      <td>272</td>\n",
              "      <td>varon</td>\n",
              "      <td>nativo arg</td>\n",
              "      <td>NaN</td>\n",
              "      <td>0</td>\n",
              "    </tr>\n",
              "    <tr>\n",
              "      <th>9</th>\n",
              "      <td>7</td>\n",
              "      <td>1</td>\n",
              "      <td>3</td>\n",
              "      <td>7</td>\n",
              "      <td>resto ciudad</td>\n",
              "      <td>1</td>\n",
              "      <td>varon</td>\n",
              "      <td>3</td>\n",
              "      <td>0</td>\n",
              "      <td>95</td>\n",
              "      <td>...</td>\n",
              "      <td>2</td>\n",
              "      <td>0</td>\n",
              "      <td>Excelente</td>\n",
              "      <td>0</td>\n",
              "      <td>0</td>\n",
              "      <td>272</td>\n",
              "      <td>varon</td>\n",
              "      <td>nativo arg</td>\n",
              "      <td>NaN</td>\n",
              "      <td>0</td>\n",
              "    </tr>\n",
              "  </tbody>\n",
              "</table>\n",
              "<p>10 rows × 96 columns</p>\n",
              "</div>\n",
              "      <button class=\"colab-df-convert\" onclick=\"convertToInteractive('df-ade58966-1f30-40cf-82a2-53edcb091e60')\"\n",
              "              title=\"Convert this dataframe to an interactive table.\"\n",
              "              style=\"display:none;\">\n",
              "        \n",
              "  <svg xmlns=\"http://www.w3.org/2000/svg\" height=\"24px\"viewBox=\"0 0 24 24\"\n",
              "       width=\"24px\">\n",
              "    <path d=\"M0 0h24v24H0V0z\" fill=\"none\"/>\n",
              "    <path d=\"M18.56 5.44l.94 2.06.94-2.06 2.06-.94-2.06-.94-.94-2.06-.94 2.06-2.06.94zm-11 1L8.5 8.5l.94-2.06 2.06-.94-2.06-.94L8.5 2.5l-.94 2.06-2.06.94zm10 10l.94 2.06.94-2.06 2.06-.94-2.06-.94-.94-2.06-.94 2.06-2.06.94z\"/><path d=\"M17.41 7.96l-1.37-1.37c-.4-.4-.92-.59-1.43-.59-.52 0-1.04.2-1.43.59L10.3 9.45l-7.72 7.72c-.78.78-.78 2.05 0 2.83L4 21.41c.39.39.9.59 1.41.59.51 0 1.02-.2 1.41-.59l7.78-7.78 2.81-2.81c.8-.78.8-2.07 0-2.86zM5.41 20L4 18.59l7.72-7.72 1.47 1.35L5.41 20z\"/>\n",
              "  </svg>\n",
              "      </button>\n",
              "      \n",
              "  <style>\n",
              "    .colab-df-container {\n",
              "      display:flex;\n",
              "      flex-wrap:wrap;\n",
              "      gap: 12px;\n",
              "    }\n",
              "\n",
              "    .colab-df-convert {\n",
              "      background-color: #E8F0FE;\n",
              "      border: none;\n",
              "      border-radius: 50%;\n",
              "      cursor: pointer;\n",
              "      display: none;\n",
              "      fill: #1967D2;\n",
              "      height: 32px;\n",
              "      padding: 0 0 0 0;\n",
              "      width: 32px;\n",
              "    }\n",
              "\n",
              "    .colab-df-convert:hover {\n",
              "      background-color: #E2EBFA;\n",
              "      box-shadow: 0px 1px 2px rgba(60, 64, 67, 0.3), 0px 1px 3px 1px rgba(60, 64, 67, 0.15);\n",
              "      fill: #174EA6;\n",
              "    }\n",
              "\n",
              "    [theme=dark] .colab-df-convert {\n",
              "      background-color: #3B4455;\n",
              "      fill: #D2E3FC;\n",
              "    }\n",
              "\n",
              "    [theme=dark] .colab-df-convert:hover {\n",
              "      background-color: #434B5C;\n",
              "      box-shadow: 0px 1px 3px 1px rgba(0, 0, 0, 0.15);\n",
              "      filter: drop-shadow(0px 1px 2px rgba(0, 0, 0, 0.3));\n",
              "      fill: #FFFFFF;\n",
              "    }\n",
              "  </style>\n",
              "\n",
              "      <script>\n",
              "        const buttonEl =\n",
              "          document.querySelector('#df-ade58966-1f30-40cf-82a2-53edcb091e60 button.colab-df-convert');\n",
              "        buttonEl.style.display =\n",
              "          google.colab.kernel.accessAllowed ? 'block' : 'none';\n",
              "\n",
              "        async function convertToInteractive(key) {\n",
              "          const element = document.querySelector('#df-ade58966-1f30-40cf-82a2-53edcb091e60');\n",
              "          const dataTable =\n",
              "            await google.colab.kernel.invokeFunction('convertToInteractive',\n",
              "                                                     [key], {});\n",
              "          if (!dataTable) return;\n",
              "\n",
              "          const docLinkHtml = 'Like what you see? Visit the ' +\n",
              "            '<a target=\"_blank\" href=https://colab.research.google.com/notebooks/data_table.ipynb>data table notebook</a>'\n",
              "            + ' to learn more about interactive tables.';\n",
              "          element.innerHTML = '';\n",
              "          dataTable['output_type'] = 'display_data';\n",
              "          await google.colab.output.renderOutput(dataTable, element);\n",
              "          const docLink = document.createElement('div');\n",
              "          docLink.innerHTML = docLinkHtml;\n",
              "          element.appendChild(docLink);\n",
              "        }\n",
              "      </script>\n",
              "    </div>\n",
              "  </div>\n",
              "  "
            ]
          },
          "metadata": {},
          "execution_count": 4
        }
      ]
    },
    {
      "cell_type": "code",
      "source": [
        "df.columns"
      ],
      "metadata": {
        "id": "NAvtfN3AUZZq",
        "outputId": "a4d80fbd-ca78-4803-d6e7-3b8cfb7cbcbe",
        "colab": {
          "base_uri": "https://localhost:8080/"
        }
      },
      "execution_count": 5,
      "outputs": [
        {
          "output_type": "execute_result",
          "data": {
            "text/plain": [
              "Index(['id', 'nhogar', 'miembro', 'comuna', 'dominio', 'edad', 'sexo',\n",
              "       'parentes_2', 'p5_2', 'p6_a', 'p6_b', 'estado', 'categori', 't13',\n",
              "       't14', 't18', 't28', 't29', 't29a', 't30', 'sem_hs', 't33', 't34',\n",
              "       't35', 't37_cod_2', 't37_coda_2', 't38', 't39', 't40', 't41_cod_2',\n",
              "       't47', 't48', 't51_bis', 'i1', 'i4', 'i6_3', 'i10', 'i11', 'codioph',\n",
              "       'ioph_2', 'codioph_neto', 'ioph_neto_2', 'codios', 'ios_2', 'codioa',\n",
              "       'ioa_2', 'codlab', 'inglab_2', 'codi3_1x', 'i3_1x_2', 'codi3_2x',\n",
              "       'i3_2x_2', 'codi3_8x', 'i3_8x_2', 'codi3_est', 'i3_est_2', 'codi3_otr',\n",
              "       'i3_otr_2', 'codnolab', 'ingnolab_2', 'coding', 'ingtot_2', 'codi_tot',\n",
              "       'itfb_2', 'ipcfb_2', 'e2', 'e4', 'e6', 'e8', 'e12', 'e13', 'e14',\n",
              "       'edad_30', 'nivel', 'aesc', 'm1', 'm1_2', 'm2_anio', 'm3_anio',\n",
              "       'tipcob2_2', 'sn1_1', 'sn1_7', 'sn1_2', 'sn1_3', 'sn1_4', 'sn1_5', 's8',\n",
              "       'sn14', 'sn16', 's28', 's29', 'fexp', 'sexotexto', 'inmigrante',\n",
              "       'logingreso', 'dsex'],\n",
              "      dtype='object')"
            ]
          },
          "metadata": {},
          "execution_count": 5
        }
      ]
    },
    {
      "cell_type": "code",
      "source": [
        "df['ingtot_2'].hist()"
      ],
      "metadata": {
        "id": "LbVyjkzUVpYG",
        "outputId": "104bfff3-508f-408e-b096-18a4d5273426",
        "colab": {
          "base_uri": "https://localhost:8080/",
          "height": 283
        }
      },
      "execution_count": 7,
      "outputs": [
        {
          "output_type": "execute_result",
          "data": {
            "text/plain": [
              "<matplotlib.axes._subplots.AxesSubplot at 0x7f0333154890>"
            ]
          },
          "metadata": {},
          "execution_count": 7
        },
        {
          "output_type": "display_data",
          "data": {
            "text/plain": [
              "<Figure size 432x288 with 1 Axes>"
            ],
            "image/png": "[encoded data removed]"
          },
          "metadata": {
            "needs_background": "light"
          }
        }
      ]
    },
    {
      "cell_type": "code",
      "source": [
        "df['ingtot_2'].describe()"
      ],
      "metadata": {
        "id": "J_H45JFXV2Ch",
        "outputId": "9b41d8c7-066e-4eca-b8ec-279680c72dc1",
        "colab": {
          "base_uri": "https://localhost:8080/"
        }
      },
      "execution_count": 8,
      "outputs": [
        {
          "output_type": "execute_result",
          "data": {
            "text/plain": [
              "count     14512.000000\n",
              "mean      10386.681850\n",
              "std       13396.598595\n",
              "min           0.000000\n",
              "25%           0.000000\n",
              "50%        7000.000000\n",
              "75%       15000.000000\n",
              "max      276000.000000\n",
              "Name: ingtot_2, dtype: float64"
            ]
          },
          "metadata": {},
          "execution_count": 8
        }
      ]
    },
    {
      "cell_type": "markdown",
      "source": [
        "$ingtot=\\beta_0+\\beta_1 aesc +\\epsilon$"
      ],
      "metadata": {
        "id": "8bn5rUmmWrsV"
      }
    },
    {
      "cell_type": "code",
      "source": [],
      "metadata": {
        "id": "8q0umE_nYv2V"
      },
      "execution_count": null,
      "outputs": []
    },
    {
      "cell_type": "code",
      "source": [
        "df['aesc'].hist()"
      ],
      "metadata": {
        "id": "R2L_ObIXW3KH",
        "outputId": "2d6631b0-55c5-40ca-bd60-32ca47d3684c",
        "colab": {
          "base_uri": "https://localhost:8080/",
          "height": 283
        }
      },
      "execution_count": 9,
      "outputs": [
        {
          "output_type": "execute_result",
          "data": {
            "text/plain": [
              "<matplotlib.axes._subplots.AxesSubplot at 0x7f03331541d0>"
            ]
          },
          "metadata": {},
          "execution_count": 9
        },
        {
          "output_type": "display_data",
          "data": {
            "text/plain": [
              "<Figure size 432x288 with 1 Axes>"
            ],
            "image/png": "[encoded data removed]"
          },
          "metadata": {
            "needs_background": "light"
          }
        }
      ]
    },
    {
      "cell_type": "code",
      "source": [
        "df=df.loc[df['aesc']!=99]"
      ],
      "metadata": {
        "id": "7jGvB68sXIxA"
      },
      "execution_count": 14,
      "outputs": []
    },
    {
      "cell_type": "code",
      "metadata": {
        "id": "ymxAvnv7vXrV",
        "outputId": "ba4e223d-2040-410b-d4f1-20fd75941086",
        "colab": {
          "base_uri": "https://localhost:8080/",
          "height": 286
        }
      },
      "source": [
        "df['aesc'].hist()"
      ],
      "execution_count": 16,
      "outputs": [
        {
          "output_type": "execute_result",
          "data": {
            "text/plain": [
              "<matplotlib.axes._subplots.AxesSubplot at 0x7f0330c7ee90>"
            ]
          },
          "metadata": {},
          "execution_count": 16
        },
        {
          "output_type": "display_data",
          "data": {
            "text/plain": [
              "<Figure size 432x288 with 1 Axes>"
            ],
            "image/png": "[encoded data removed]"
          },
          "metadata": {
            "needs_background": "light"
          }
        }
      ]
    },
    {
      "cell_type": "code",
      "source": [
        "def regress(lista, data):\n",
        "  \"\"\" \n",
        "  Funcion que realiza la regresion OLS\n",
        "  La primera variable de la lista es la dependiente, el resto son las explicativas\n",
        "  data es la base de datos\n",
        "  \"\"\"\n",
        "  datos=data[lista]\n",
        "  # el metodo dropna() me permite eliminar las filas que tienen algun valor missing\n",
        "  datos=datos.dropna()\n",
        "  Y=datos[lista[0]]\n",
        "  X=datos[lista[1:]]\n",
        "  X=sm.add_constant(X)\n",
        "  modelo=sm.OLS(Y,X)\n",
        "  resultados=modelo.fit()\n",
        "  print(resultados.summary())\n",
        "  return resultados"
      ],
      "metadata": {
        "id": "YgARpGj8YEyZ"
      },
      "execution_count": 17,
      "outputs": []
    },
    {
      "cell_type": "code",
      "source": [
        "misresultados=regress(['ingtot_2','aesc'],data=df)"
      ],
      "metadata": {
        "id": "a41PC3paYNDC",
        "outputId": "91b94e7b-3e1d-4714-e26e-0812cb526420",
        "colab": {
          "base_uri": "https://localhost:8080/"
        }
      },
      "execution_count": 20,
      "outputs": [
        {
          "output_type": "stream",
          "name": "stdout",
          "text": [
            "                            OLS Regression Results                            \n",
            "==============================================================================\n",
            "Dep. Variable:               ingtot_2   R-squared:                       0.259\n",
            "Model:                            OLS   Adj. R-squared:                  0.259\n",
            "Method:                 Least Squares   F-statistic:                     5048.\n",
            "Date:                Fri, 14 Oct 2022   Prob (F-statistic):               0.00\n",
            "Time:                        12:10:50   Log-Likelihood:            -1.5567e+05\n",
            "No. Observations:               14450   AIC:                         3.113e+05\n",
            "Df Residuals:                   14448   BIC:                         3.114e+05\n",
            "Df Model:                           1                                         \n",
            "Covariance Type:            nonrobust                                         \n",
            "==============================================================================\n",
            "                 coef    std err          t      P>|t|      [0.025      0.975]\n",
            "------------------------------------------------------------------------------\n",
            "const      -3138.4311    213.503    -14.700      0.000   -3556.925   -2719.938\n",
            "aesc        1284.5470     18.080     71.048      0.000    1249.108    1319.986\n",
            "==============================================================================\n",
            "Omnibus:                    14341.799   Durbin-Watson:                   1.858\n",
            "Prob(Omnibus):                  0.000   Jarque-Bera (JB):          1995669.594\n",
            "Skew:                           4.529   Prob(JB):                         0.00\n",
            "Kurtosis:                      59.856   Cond. No.                         26.4\n",
            "==============================================================================\n",
            "\n",
            "Notes:\n",
            "[1] Standard Errors assume that the covariance matrix of the errors is correctly specified.\n"
          ]
        },
        {
          "output_type": "stream",
          "name": "stderr",
          "text": [
            "/usr/local/lib/python3.7/dist-packages/statsmodels/tsa/tsatools.py:142: FutureWarning: In a future version of pandas all arguments of concat except for the argument 'objs' will be keyword-only\n",
            "  x = pd.concat(x[::order], 1)\n"
          ]
        }
      ]
    },
    {
      "cell_type": "code",
      "source": [
        "prediccion_ingreso=misresultados.predict()"
      ],
      "metadata": {
        "id": "BFcdCkIMZ5T4"
      },
      "execution_count": 23,
      "outputs": []
    },
    {
      "cell_type": "code",
      "source": [
        "residuos_estimados=df['ingtot_2']-prediccion_ingreso"
      ],
      "metadata": {
        "id": "-rSGMMVVYx2V"
      },
      "execution_count": 24,
      "outputs": []
    },
    {
      "cell_type": "code",
      "source": [
        "residuos_estimados.hist()"
      ],
      "metadata": {
        "id": "QXrM_Y_EaX4y",
        "outputId": "cadec5b0-5fa0-4072-81ec-425df55a668f",
        "colab": {
          "base_uri": "https://localhost:8080/",
          "height": 283
        }
      },
      "execution_count": 26,
      "outputs": [
        {
          "output_type": "execute_result",
          "data": {
            "text/plain": [
              "<matplotlib.axes._subplots.AxesSubplot at 0x7f032e26e150>"
            ]
          },
          "metadata": {},
          "execution_count": 26
        },
        {
          "output_type": "display_data",
          "data": {
            "text/plain": [
              "<Figure size 432x288 with 1 Axes>"
            ],
            "image/png": "[encoded data removed]"
          },
          "metadata": {
            "needs_background": "light"
          }
        }
      ]
    },
    {
      "cell_type": "code",
      "source": [
        "df=df.loc[df['ingtot_2']>0]"
      ],
      "metadata": {
        "id": "zAQtyy1NeWgj"
      },
      "execution_count": 32,
      "outputs": []
    },
    {
      "cell_type": "code",
      "source": [
        "df['logingreso']=np.log(df['ingtot_2'])"
      ],
      "metadata": {
        "id": "2SV2supKdnVN"
      },
      "execution_count": 33,
      "outputs": []
    },
    {
      "cell_type": "code",
      "source": [
        "df['logingreso'].describe()"
      ],
      "metadata": {
        "id": "H-0A-i1Bd2QL",
        "outputId": "0b928cac-0689-4f3c-b2df-a55603616431",
        "colab": {
          "base_uri": "https://localhost:8080/"
        }
      },
      "execution_count": 34,
      "outputs": [
        {
          "output_type": "execute_result",
          "data": {
            "text/plain": [
              "count    10082.000000\n",
              "mean         9.283468\n",
              "std          0.860776\n",
              "min          3.178054\n",
              "25%          8.699515\n",
              "50%          9.375855\n",
              "75%          9.862666\n",
              "max         12.528156\n",
              "Name: logingreso, dtype: float64"
            ]
          },
          "metadata": {},
          "execution_count": 34
        }
      ]
    },
    {
      "cell_type": "code",
      "source": [
        "misresultados2=regress(['logingreso','aesc'],df)"
      ],
      "metadata": {
        "id": "fPDC6KjAepD3",
        "outputId": "d0cda204-45e1-44dc-e8c5-23c269a50bfe",
        "colab": {
          "base_uri": "https://localhost:8080/"
        }
      },
      "execution_count": 36,
      "outputs": [
        {
          "output_type": "stream",
          "name": "stdout",
          "text": [
            "                            OLS Regression Results                            \n",
            "==============================================================================\n",
            "Dep. Variable:             logingreso   R-squared:                       0.199\n",
            "Model:                            OLS   Adj. R-squared:                  0.199\n",
            "Method:                 Least Squares   F-statistic:                     2507.\n",
            "Date:                Fri, 14 Oct 2022   Prob (F-statistic):               0.00\n",
            "Time:                        12:33:54   Log-Likelihood:                -11674.\n",
            "No. Observations:               10082   AIC:                         2.335e+04\n",
            "Df Residuals:                   10080   BIC:                         2.337e+04\n",
            "Df Model:                           1                                         \n",
            "Covariance Type:            nonrobust                                         \n",
            "==============================================================================\n",
            "                 coef    std err          t      P>|t|      [0.025      0.975]\n",
            "------------------------------------------------------------------------------\n",
            "const          8.0118      0.027    301.990      0.000       7.960       8.064\n",
            "aesc           0.1011      0.002     50.075      0.000       0.097       0.105\n",
            "==============================================================================\n",
            "Omnibus:                     1714.578   Durbin-Watson:                   1.798\n",
            "Prob(Omnibus):                  0.000   Jarque-Bera (JB):             4442.591\n",
            "Skew:                          -0.935   Prob(JB):                         0.00\n",
            "Kurtosis:                       5.660   Cond. No.                         45.7\n",
            "==============================================================================\n",
            "\n",
            "Notes:\n",
            "[1] Standard Errors assume that the covariance matrix of the errors is correctly specified.\n"
          ]
        },
        {
          "output_type": "stream",
          "name": "stderr",
          "text": [
            "/usr/local/lib/python3.7/dist-packages/statsmodels/tsa/tsatools.py:142: FutureWarning: In a future version of pandas all arguments of concat except for the argument 'objs' will be keyword-only\n",
            "  x = pd.concat(x[::order], 1)\n"
          ]
        }
      ]
    },
    {
      "cell_type": "code",
      "source": [
        "residuos_pred=df['logingreso']-misresultados2.predict()"
      ],
      "metadata": {
        "id": "e9qkSzCqfLCz"
      },
      "execution_count": 39,
      "outputs": []
    },
    {
      "cell_type": "code",
      "source": [
        "residuos_pred.hist()"
      ],
      "metadata": {
        "id": "aY5VSniEepYF",
        "outputId": "0efbd478-cafc-4dbe-8624-f3c3dbc1fed4",
        "colab": {
          "base_uri": "https://localhost:8080/",
          "height": 283
        }
      },
      "execution_count": 41,
      "outputs": [
        {
          "output_type": "execute_result",
          "data": {
            "text/plain": [
              "<matplotlib.axes._subplots.AxesSubplot at 0x7f032dfebdd0>"
            ]
          },
          "metadata": {},
          "execution_count": 41
        },
        {
          "output_type": "display_data",
          "data": {
            "text/plain": [
              "<Figure size 432x288 with 1 Axes>"
            ],
            "image/png": "[encoded data removed]"
          },
          "metadata": {
            "needs_background": "light"
          }
        }
      ]
    },
    {
      "cell_type": "code",
      "source": [
        "misresultados2.mse_resid"
      ],
      "metadata": {
        "id": "OrOTnpWriYZ0",
        "outputId": "2cea0b6d-43f9-45a0-988a-e67169b37222",
        "colab": {
          "base_uri": "https://localhost:8080/"
        }
      },
      "execution_count": 42,
      "outputs": [
        {
          "output_type": "execute_result",
          "data": {
            "text/plain": [
              "0.5933966058835762"
            ]
          },
          "metadata": {},
          "execution_count": 42
        }
      ]
    },
    {
      "cell_type": "code",
      "metadata": {
        "id": "X2MRv2sjvlKK",
        "outputId": "28baf949-004b-4e59-e403-e94d84d8d1ed",
        "colab": {
          "base_uri": "https://localhost:8080/",
          "height": 283
        }
      },
      "source": [
        "df.aesc.hist(bins=40)"
      ],
      "execution_count": null,
      "outputs": [
        {
          "output_type": "execute_result",
          "data": {
            "text/plain": [
              "<matplotlib.axes._subplots.AxesSubplot at 0x7faddc149be0>"
            ]
          },
          "metadata": {
            "tags": []
          },
          "execution_count": 42
        },
        {
          "output_type": "display_data",
          "data": {
            "image/png": "[encoded data removed]",
            "text/plain": [
              "<Figure size 432x288 with 1 Axes>"
            ]
          },
          "metadata": {
            "tags": [],
            "needs_background": "light"
          }
        }
      ]
    },
    {
      "cell_type": "code",
      "metadata": {
        "id": "oqCjibXA0viR"
      },
      "source": [
        "def regress(lista, data):\n",
        "  \"\"\" \n",
        "  Funcion que realiza la regresion OLS\n",
        "  La primera variable de la lista es la dependiente, el resto son las explicativas\n",
        "  data es la base de datos\n",
        "  \"\"\"\n",
        "  datos=data[lista]\n",
        "  # el metodo dropna() me permite eliminar las filas que tienen algun valor missing\n",
        "  datos=datos.dropna()\n",
        "  Y=datos[lista[0]]\n",
        "  X=datos[lista[1:]]\n",
        "  X=sm.add_constant(X)\n",
        "  modelo=sm.OLS(Y,X)\n",
        "  resultados=modelo.fit()\n",
        "  print(resultados.summary())\n",
        "  return resultados"
      ],
      "execution_count": null,
      "outputs": []
    },
    {
      "cell_type": "code",
      "metadata": {
        "id": "Sg_K-vCB1F_-",
        "outputId": "8c63ecd7-da31-41d2-9bf0-a3c4d2581a4a",
        "colab": {
          "base_uri": "https://localhost:8080/",
          "height": 475
        }
      },
      "source": [
        "resultados=regress(['logingreso','aesc'],data=df)"
      ],
      "execution_count": null,
      "outputs": [
        {
          "output_type": "stream",
          "text": [
            "                            OLS Regression Results                            \n",
            "==============================================================================\n",
            "Dep. Variable:             logingreso   R-squared:                       0.199\n",
            "Model:                            OLS   Adj. R-squared:                  0.199\n",
            "Method:                 Least Squares   F-statistic:                     2573.\n",
            "Date:                Wed, 14 Oct 2020   Prob (F-statistic):               0.00\n",
            "Time:                        15:46:35   Log-Likelihood:                -11674.\n",
            "No. Observations:               10082   AIC:                         2.335e+04\n",
            "Df Residuals:                   10080   BIC:                         2.337e+04\n",
            "Df Model:                           1                                         \n",
            "Covariance Type:                  HC0                                         \n",
            "==============================================================================\n",
            "                 coef    std err          z      P>|z|      [0.025      0.975]\n",
            "------------------------------------------------------------------------------\n",
            "const          8.0118      0.027    298.103      0.000       7.959       8.064\n",
            "aesc           0.1011      0.002     50.723      0.000       0.097       0.105\n",
            "==============================================================================\n",
            "Omnibus:                     1714.578   Durbin-Watson:                   1.798\n",
            "Prob(Omnibus):                  0.000   Jarque-Bera (JB):             4442.590\n",
            "Skew:                          -0.935   Prob(JB):                         0.00\n",
            "Kurtosis:                       5.660   Cond. No.                         45.7\n",
            "==============================================================================\n",
            "\n",
            "Warnings:\n",
            "[1] Standard Errors are heteroscedasticity robust (HC0)\n"
          ],
          "name": "stdout"
        },
        {
          "output_type": "execute_result",
          "data": {
            "text/plain": [
              "<statsmodels.regression.linear_model.RegressionResultsWrapper at 0x7fade4145d30>"
            ]
          },
          "metadata": {
            "tags": []
          },
          "execution_count": 30
        }
      ]
    },
    {
      "cell_type": "code",
      "metadata": {
        "id": "4jyDpmY40I8-",
        "outputId": "c5a400f6-7ebe-4ff4-f84d-4c1fdce3f1bb",
        "colab": {
          "base_uri": "https://localhost:8080/",
          "height": 35
        }
      },
      "source": [
        "resultados.params['aesc']"
      ],
      "execution_count": null,
      "outputs": [
        {
          "output_type": "execute_result",
          "data": {
            "text/plain": [
              "0.1010826419923894"
            ]
          },
          "metadata": {
            "tags": []
          },
          "execution_count": 32
        }
      ]
    },
    {
      "cell_type": "code",
      "metadata": {
        "id": "mahOOQFj0Thc",
        "outputId": "9e9aca2f-e0d0-4991-fe86-ccc657dd7ade",
        "colab": {
          "base_uri": "https://localhost:8080/",
          "height": 52
        }
      },
      "source": [
        "resultados.predict()"
      ],
      "execution_count": null,
      "outputs": [
        {
          "output_type": "execute_result",
          "data": {
            "text/plain": [
              "array([9.22474501, 9.22474501, 9.22474501, ..., 8.41608388, 9.22474501,\n",
              "       9.12366237])"
            ]
          },
          "metadata": {
            "tags": []
          },
          "execution_count": 35
        }
      ]
    },
    {
      "cell_type": "markdown",
      "metadata": {
        "id": "S9dlbmRICHfI"
      },
      "source": [
        "# Predicción"
      ]
    },
    {
      "cell_type": "markdown",
      "metadata": {
        "id": "ONHB57OpCWiR"
      },
      "source": [
        "$\\hat{Y}=\\hat{\\beta_0}+\\hat{\\beta_1}*X$"
      ]
    },
    {
      "cell_type": "code",
      "metadata": {
        "id": "la4qtvGUCNgJ",
        "outputId": "2d3b9244-a362-40fa-9621-620e667e1ef4",
        "colab": {
          "base_uri": "https://localhost:8080/",
          "height": 35
        }
      },
      "source": [
        "# 10 años de escolaridad\n",
        "8.0118+0.1011*10"
      ],
      "execution_count": null,
      "outputs": [
        {
          "output_type": "execute_result",
          "data": {
            "text/plain": [
              "9.022799999999998"
            ]
          },
          "metadata": {
            "tags": []
          },
          "execution_count": 9
        }
      ]
    },
    {
      "cell_type": "code",
      "metadata": {
        "id": "G60RKQOvCrW5",
        "outputId": "2425377a-ba95-411b-bcc7-46b42192d237",
        "colab": {
          "base_uri": "https://localhost:8080/",
          "height": 35
        }
      },
      "source": [
        "# 10 años de escolaridad levantando los parametros de los resultados del ajuste\n",
        "resultados.params['const']+resultados.params['aesc']*10"
      ],
      "execution_count": null,
      "outputs": [
        {
          "output_type": "execute_result",
          "data": {
            "text/plain": [
              "9.022579730303121"
            ]
          },
          "metadata": {
            "tags": []
          },
          "execution_count": 10
        }
      ]
    },
    {
      "cell_type": "code",
      "metadata": {
        "id": "8PzA4iHtDLSw",
        "outputId": "55cc4d44-64bd-4351-cd6a-80cdc2c2e510",
        "colab": {
          "base_uri": "https://localhost:8080/",
          "height": 228
        }
      },
      "source": [
        "# Predicciones para observaciones en la data\n",
        "resultados.params['const']+resultados.params['aesc']*df.aesc"
      ],
      "execution_count": null,
      "outputs": [
        {
          "output_type": "execute_result",
          "data": {
            "text/plain": [
              "0        9.224745\n",
              "1        9.224745\n",
              "2        9.224745\n",
              "3        9.224745\n",
              "4        9.224745\n",
              "           ...   \n",
              "14507    8.820414\n",
              "14508    9.527993\n",
              "14509    8.416084\n",
              "14510    9.224745\n",
              "14511    9.123662\n",
              "Name: aesc, Length: 10082, dtype: float64"
            ]
          },
          "metadata": {
            "tags": []
          },
          "execution_count": 11
        }
      ]
    },
    {
      "cell_type": "code",
      "metadata": {
        "id": "NWU5mDsvDhBf",
        "outputId": "d69031d7-8e3d-4d77-b57b-cbbd8c26082d",
        "colab": {
          "base_uri": "https://localhost:8080/",
          "height": 52
        }
      },
      "source": [
        "resultados.predict()"
      ],
      "execution_count": null,
      "outputs": [
        {
          "output_type": "execute_result",
          "data": {
            "text/plain": [
              "array([9.22474501, 9.22474501, 9.22474501, ..., 8.41608388, 9.22474501,\n",
              "       9.12366237])"
            ]
          },
          "metadata": {
            "tags": []
          },
          "execution_count": 37
        }
      ]
    },
    {
      "cell_type": "code",
      "metadata": {
        "id": "iMdWCqIh1Lm4",
        "outputId": "8076aa8e-64d4-4bce-d816-8c4d396fe760",
        "colab": {
          "base_uri": "https://localhost:8080/",
          "height": 228
        }
      },
      "source": [
        "df.logingreso-resultados.predict()"
      ],
      "execution_count": null,
      "outputs": [
        {
          "output_type": "execute_result",
          "data": {
            "text/plain": [
              "0       -0.839941\n",
              "1       -0.119766\n",
              "2       -0.742143\n",
              "3        0.391061\n",
              "4        0.391061\n",
              "           ...   \n",
              "14507   -0.072109\n",
              "14508    0.424285\n",
              "14509    0.794257\n",
              "14510   -0.302087\n",
              "14511    0.066476\n",
              "Name: logingreso, Length: 10082, dtype: float64"
            ]
          },
          "metadata": {
            "tags": []
          },
          "execution_count": 39
        }
      ]
    },
    {
      "cell_type": "code",
      "metadata": {
        "id": "Cw17S2gYDrhp",
        "outputId": "45110c3b-b8d8-445d-801f-e340a5b044b8",
        "colab": {
          "base_uri": "https://localhost:8080/",
          "height": 283
        }
      },
      "source": [
        "# Ploteamos prediccion con matplolib\n",
        "plt.scatter(df.aesc, resultados.predict())"
      ],
      "execution_count": null,
      "outputs": [
        {
          "output_type": "execute_result",
          "data": {
            "text/plain": [
              "<matplotlib.collections.PathCollection at 0x7fade4459320>"
            ]
          },
          "metadata": {
            "tags": []
          },
          "execution_count": 13
        },
        {
          "output_type": "display_data",
          "data": {
            "image/png": "[encoded data removed]",
            "text/plain": [
              "<Figure size 432x288 with 1 Axes>"
            ]
          },
          "metadata": {
            "tags": [],
            "needs_background": "light"
          }
        }
      ]
    },
    {
      "cell_type": "code",
      "metadata": {
        "id": "MIFvCC4syPnZ",
        "outputId": "45eff591-3785-427a-d47f-d0f8082af0d1",
        "colab": {
          "base_uri": "https://localhost:8080/",
          "height": 283
        }
      },
      "source": [
        "plt.scatter(df.aesc, df.logingreso, color='green')\n",
        "\n",
        "plt.plot(df.aesc, resultados.predict(), color= \"red\", marker='.', linestyle=':')\n",
        "\n",
        "plt.ylim(0,15)\n"
      ],
      "execution_count": null,
      "outputs": [
        {
          "output_type": "execute_result",
          "data": {
            "text/plain": [
              "(0.0, 15.0)"
            ]
          },
          "metadata": {
            "tags": []
          },
          "execution_count": 53
        },
        {
          "output_type": "display_data",
          "data": {
            "image/png": "[encoded data removed]",
            "text/plain": [
              "<Figure size 432x288 with 1 Axes>"
            ]
          },
          "metadata": {
            "tags": [],
            "needs_background": "light"
          }
        }
      ]
    },
    {
      "cell_type": "code",
      "metadata": {
        "id": "QuoymAZp3_tU",
        "outputId": "bb35e055-aa45-4670-d291-4a78139ef79e",
        "colab": {
          "base_uri": "https://localhost:8080/",
          "height": 52
        }
      },
      "source": [
        "resultados.predict()"
      ],
      "execution_count": null,
      "outputs": [
        {
          "output_type": "execute_result",
          "data": {
            "text/plain": [
              "array([9.22474501, 9.22474501, 9.22474501, ..., 8.41608388, 9.22474501,\n",
              "       9.12366237])"
            ]
          },
          "metadata": {
            "tags": []
          },
          "execution_count": 45
        }
      ]
    },
    {
      "cell_type": "markdown",
      "metadata": {
        "id": "QZRn9Kqu4Kyf"
      },
      "source": [
        "# Error Cuadrático Medio\n"
      ]
    },
    {
      "cell_type": "code",
      "metadata": {
        "id": "kF_enYAB1f8Z",
        "outputId": "cafb11a4-e2bb-49ab-98af-37c33b73b6fe",
        "colab": {
          "base_uri": "https://localhost:8080/",
          "height": 35
        }
      },
      "source": [
        "resultados.mse_resid"
      ],
      "execution_count": null,
      "outputs": [
        {
          "output_type": "execute_result",
          "data": {
            "text/plain": [
              "0.5933965875175048"
            ]
          },
          "metadata": {
            "tags": []
          },
          "execution_count": 15
        }
      ]
    },
    {
      "cell_type": "markdown",
      "metadata": {
        "id": "hl56Qpf43A49"
      },
      "source": [
        "Error Cuadrático Medio (MSE) a mano\n",
        "\n",
        "$MSE=\\sqrt{\\frac{\\sum^n_{i=1} e_i^2}{n-2}}$ donde\n",
        "\n",
        "$e=y-\\hat{y}$\n",
        "\n"
      ]
    },
    {
      "cell_type": "code",
      "metadata": {
        "id": "uQngrpST12tx",
        "outputId": "37fafcda-cffe-4648-e325-d5b3dcf0623d",
        "colab": {
          "base_uri": "https://localhost:8080/",
          "height": 35
        }
      },
      "source": [
        "ypred = resultados.predict()\n",
        "residuos=df.logingreso-ypred\n",
        "rss=np.sum(residuos**2)\n",
        "MSE=(rss/(resultados.nobs-2))\n",
        "MSE"
      ],
      "execution_count": null,
      "outputs": [
        {
          "output_type": "execute_result",
          "data": {
            "text/plain": [
              "0.5933965875175049"
            ]
          },
          "metadata": {
            "tags": []
          },
          "execution_count": 16
        }
      ]
    },
    {
      "cell_type": "code",
      "metadata": {
        "id": "MLzHND1dJzv8",
        "outputId": "f35d0ef8-d26d-4fbf-daf5-c823d1a92960",
        "colab": {
          "base_uri": "https://localhost:8080/",
          "height": 35
        }
      },
      "source": [
        "MSE**0.5"
      ],
      "execution_count": null,
      "outputs": [
        {
          "output_type": "execute_result",
          "data": {
            "text/plain": [
              "0.7703223919356784"
            ]
          },
          "metadata": {
            "tags": []
          },
          "execution_count": 17
        }
      ]
    },
    {
      "cell_type": "code",
      "metadata": {
        "id": "7327gR3F4X0e",
        "outputId": "6e2dc426-a199-4e08-ec34-db259c97fe5d",
        "colab": {
          "base_uri": "https://localhost:8080/",
          "height": 175
        }
      },
      "source": [
        "residuos2=residuos*residuos\n",
        "residuos2.describe()"
      ],
      "execution_count": null,
      "outputs": [
        {
          "output_type": "execute_result",
          "data": {
            "text/plain": [
              "count    1.008200e+04\n",
              "mean     5.932789e-01\n",
              "std      1.280786e+00\n",
              "min      6.906205e-10\n",
              "25%      3.775540e-02\n",
              "50%      1.961224e-01\n",
              "75%      5.991571e-01\n",
              "max      3.779512e+01\n",
              "Name: logingreso, dtype: float64"
            ]
          },
          "metadata": {
            "tags": []
          },
          "execution_count": 18
        }
      ]
    },
    {
      "cell_type": "code",
      "metadata": {
        "id": "BDcE_OXPE3gM",
        "outputId": "a34b90c3-4b8b-4787-83c9-78c5c17c50a7",
        "colab": {
          "base_uri": "https://localhost:8080/",
          "height": 175
        }
      },
      "source": [
        "residuos.describe()"
      ],
      "execution_count": null,
      "outputs": [
        {
          "output_type": "execute_result",
          "data": {
            "text/plain": [
              "count    1.008200e+04\n",
              "mean    -2.794740e-15\n",
              "std      7.702842e-01\n",
              "min     -6.147774e+00\n",
              "25%     -3.715081e-01\n",
              "50%      8.090569e-02\n",
              "75%      4.910087e-01\n",
              "max      2.984093e+00\n",
              "Name: logingreso, dtype: float64"
            ]
          },
          "metadata": {
            "tags": []
          },
          "execution_count": 19
        }
      ]
    },
    {
      "cell_type": "markdown",
      "metadata": {
        "id": "48PRmVlhJxBC"
      },
      "source": [
        "# Propiedades de los estimadores cuando los errores son normales"
      ]
    },
    {
      "cell_type": "markdown",
      "metadata": {
        "id": "7FAwtdmpKN-U"
      },
      "source": [
        "¿Cuál es el beta que espero obtener si los errores de nuestro fueran errores normales?\n",
        "Simulamos las estimaciones de los coeficientes beta en presencia de errores normales  \n",
        "\n"
      ]
    },
    {
      "cell_type": "code",
      "metadata": {
        "id": "JcwYaNioLTFZ",
        "outputId": "84c87e77-e28e-47ba-b516-a071452f5c30",
        "colab": {
          "base_uri": "https://localhost:8080/",
          "height": 371
        }
      },
      "source": [
        "e_simu= np.random.normal(0,0.6,10082)\n",
        "plt.hist(e_simu)\n"
      ],
      "execution_count": null,
      "outputs": [
        {
          "output_type": "execute_result",
          "data": {
            "text/plain": [
              "(array([  23.,  118.,  592., 1698., 2841., 2641., 1555.,  489.,  107.,\n",
              "          18.]),\n",
              " array([-2.21046439, -1.76359567, -1.31672695, -0.86985823, -0.4229895 ,\n",
              "         0.02387922,  0.47074794,  0.91761666,  1.36448538,  1.8113541 ,\n",
              "         2.25822282]),\n",
              " <a list of 10 Patch objects>)"
            ]
          },
          "metadata": {
            "tags": []
          },
          "execution_count": 20
        },
        {
          "output_type": "display_data",
          "data": {
            "image/png": "[encoded data removed]",
            "text/plain": [
              "<Figure size 432x288 with 1 Axes>"
            ]
          },
          "metadata": {
            "tags": [],
            "needs_background": "light"
          }
        }
      ]
    },
    {
      "cell_type": "code",
      "metadata": {
        "id": "xuqh7kr2FGNr",
        "outputId": "1e928745-e028-42cb-8744-588974ccef41",
        "colab": {
          "base_uri": "https://localhost:8080/",
          "height": 35
        }
      },
      "source": [
        "def simu():\n",
        "  e_simu = np.random.normal(0,0.6,10082)\n",
        "  X=df.aesc\n",
        "  y_simu=resultados.params['const']+resultados.params['aesc']*X+e_simu\n",
        "  model_simu=sm.OLS(y_simu,X)\n",
        "  resultados_simu=model_simu.fit()\n",
        "  #print(resultados_simu.summary())\n",
        "  #print(resultados_simu.params['bedrooms'])\n",
        "  return resultados_simu.params['aesc']\n",
        "simu()"
      ],
      "execution_count": null,
      "outputs": [
        {
          "output_type": "execute_result",
          "data": {
            "text/plain": [
              "0.6847614484114757"
            ]
          },
          "metadata": {
            "tags": []
          },
          "execution_count": 21
        }
      ]
    },
    {
      "cell_type": "code",
      "metadata": {
        "id": "xc0V-YE2G5xO",
        "outputId": "0cd0d1f1-8260-4fb1-bbe1-fcc18a25ca42",
        "colab": {
          "base_uri": "https://localhost:8080/",
          "height": 55
        }
      },
      "source": [
        "betacoefs=[]\n",
        "for i in range(0,2000):\n",
        "  beta=simu()\n",
        "  betacoefs.append(beta)\n",
        "print(betacoefs)\n"
      ],
      "execution_count": null,
      "outputs": [
        {
          "output_type": "stream",
          "text": [
            "[0.6845311014290651, 0.6855405528383517, 0.6845970250803701, 0.6844391392156366, 0.6842467897692812, 0.6851939008565336, 0.6853752531052342, 0.684900618112041, 0.6848315931309378, 0.6853539455401021, 0.6843676702684827, 0.6854842966280463, 0.6845485465801637, 0.6854369433626647, 0.6851062132342142, 0.6844969620177919, 0.6844028736805352, 0.6845028881146284, 0.685366812103382, 0.6844168358124, 0.6852452130422002, 0.6843943740569427, 0.6846537756094584, 0.684631999176926, 0.6848220902526749, 0.68458353315933, 0.685225041215229, 0.6848309778830793, 0.685778686450049, 0.685294656722488, 0.6846995485871579, 0.6846710725904506, 0.6847587479711597, 0.6840280766377818, 0.6852345265660149, 0.6850244244847072, 0.6847247542004546, 0.6847945880919954, 0.684531708843608, 0.6848281855779765, 0.6852998206850436, 0.6852039533280967, 0.684263177596024, 0.6848415048397445, 0.6845134623733775, 0.684516432915451, 0.6844058459046483, 0.6845029481226936, 0.684263834723366, 0.6846241576936247, 0.684557130342869, 0.6847076898949519, 0.6850778548266067, 0.6851118357360504, 0.6838635849113989, 0.6839774906848184, 0.6848503571835085, 0.6843704272890586, 0.6837014264828062, 0.6837452150865937, 0.6848448228178472, 0.6846837238419121, 0.6847347019593373, 0.6844141408231503, 0.6838479421215484, 0.6847918369027737, 0.6841786723055034, 0.6847968789649292, 0.6845190168664161, 0.6844535962401859, 0.684505820383403, 0.6847758095849292, 0.6841103699703805, 0.6847947625078745, 0.685306039393133, 0.6828647695900374, 0.6847054005055131, 0.6847007033094517, 0.6842192088113808, 0.6846429206486473, 0.6844519284770176, 0.6845461845349836, 0.6837271899203685, 0.6841708920487852, 0.6842175380750618, 0.6848671204796547, 0.6841346956213619, 0.6847444109596222, 0.684867207219652, 0.6851211609954468, 0.6858618973711084, 0.6849308868385766, 0.6846020960678212, 0.6837202841727112, 0.6844450018313624, 0.6847376179401619, 0.6846251730052123, 0.6846882046560828, 0.6851082407358184, 0.6849914951197388, 0.6846421550001427, 0.6848466334964577, 0.6847916826599709, 0.6853370604431983, 0.6848396263737755, 0.6844203172300327, 0.6842468735664149, 0.6848991508594279, 0.6848237369112028, 0.6844314552721125, 0.684515788090679, 0.6849056225665374, 0.6855936239036924, 0.6848296501917156, 0.6847730158688673, 0.6846853302730456, 0.6848486077652829, 0.6842680301638273, 0.6843992179033683, 0.6847195108636297, 0.6845478277159479, 0.6849295685616651, 0.6848904928894417, 0.6847232531008121, 0.6848478074315985, 0.6843435467110368, 0.6853740911473669, 0.6849935289106942, 0.685250115425662, 0.6844444046695757, 0.6845246795452331, 0.6845610724502301, 0.6845905354449326, 0.684537996479679, 0.6846633263737687, 0.6843558999343194, 0.6836836196087083, 0.6839715669601716, 0.6838308918690323, 0.6847240183281049, 0.6845439835256739, 0.6852930408044534, 0.6849899422998884, 0.6842167260709177, 0.683759746844341, 0.6840390688242266, 0.6840991695015679, 0.6841425332795443, 0.6844512082580182, 0.6848853648346029, 0.6841723270046258, 0.685490491377138, 0.6850008627798119, 0.6844994019971684, 0.6843354855308932, 0.6835738493192757, 0.6849130890835183, 0.6845894133082309, 0.684633142197959, 0.6846447840035093, 0.6845695241011627, 0.6852554574078343, 0.6846183559060501, 0.6850288710167409, 0.6854550009991276, 0.6850581170196002, 0.6852525329107331, 0.6848777389428247, 0.6843321510994476, 0.6853991527739777, 0.6843292830063482, 0.6839495058563172, 0.6844620470758285, 0.6848232781047787, 0.684269700594536, 0.685359554637516, 0.6842589479864613, 0.6850739539745923, 0.6850729829350226, 0.6846562570405232, 0.6843149136647175, 0.6847548899771454, 0.6845892495372133, 0.6851808116186033, 0.6847928661848659, 0.6847211350679594, 0.6837440002505022, 0.6846099237735561, 0.6848401279074148, 0.6854346289327193, 0.6842253039413657, 0.6846692470777267, 0.6855586605710078, 0.6846952852484156, 0.6848264489922493, 0.6843902103389273, 0.6842515833497904, 0.6845719396921008, 0.6834864840092889, 0.6845989519811531, 0.6842014960031448, 0.684768320412143, 0.6854438202662663, 0.6843870863658083, 0.6844073382194515, 0.6847071443516148, 0.6844202684281897, 0.6849958489591146, 0.6846511470449241, 0.6844556634789957, 0.6847439904648478, 0.6847834493923273, 0.6842797167454625, 0.6852830309253826, 0.6838002880935015, 0.6851026917401628, 0.685899179116132, 0.6844254595587962, 0.6849669183307354, 0.6851944352640749, 0.6853216053667994, 0.6848479920160548, 0.6845921541704199, 0.6841863127623181, 0.685140707381638, 0.6850675694479542, 0.684908051474497, 0.684805256130551, 0.6848590950679816, 0.684517921675041, 0.6849565666657886, 0.684892845491605, 0.6853501812792446, 0.6846321268343518, 0.6836258018570258, 0.6840759632449775, 0.6842967287081853, 0.684562731741652, 0.6839307235898799, 0.6842575640399815, 0.6849889111874766, 0.6851553789118436, 0.6850635488806447, 0.6854800927035449, 0.6842908708690669, 0.6848168924125032, 0.6862642573911282, 0.6837418199994841, 0.6843489395392075, 0.6864112403616569, 0.6849329959258307, 0.6841368345159962, 0.6849072143753001, 0.6850290379446193, 0.6853099141818622, 0.6833909707074868, 0.6852902002377856, 0.6845567847853623, 0.6850132802758129, 0.6852526732170698, 0.68462733488568, 0.6846550329743466, 0.6847041923132764, 0.6850632051760064, 0.6847858662217046, 0.6851002352557798, 0.6848227078618803, 0.6846162149583833, 0.6845682813265479, 0.6844416572764735, 0.6844008472601246, 0.6848168589744307, 0.6853339640275125, 0.6855191182269924, 0.6845654232314284, 0.684921962897348, 0.6847195365599088, 0.6834718154514889, 0.6847304582516144, 0.68405474978409, 0.6844858957308657, 0.6843291139176284, 0.6846160054769432, 0.683838180922755, 0.6853288096992475, 0.6849295472431258, 0.6837011740686748, 0.6844125793033575, 0.6846234686791948, 0.6844931096457285, 0.6843862277425969, 0.6842241654866749, 0.6843883478276893, 0.684057032520418, 0.6855034506610498, 0.6849104947012783, 0.6850441427636322, 0.6851653888933472, 0.6839517651237963, 0.6849425944122265, 0.6840919665886014, 0.6854398982370812, 0.6849765283087401, 0.6840943238840753, 0.6840762697591437, 0.6846107676516254, 0.6847119813604572, 0.6853541393461202, 0.684208207998271, 0.68492582289929, 0.6843708014962622, 0.6839810566325621, 0.6844342126546166, 0.6854772944449197, 0.6849530071794903, 0.6848093376973814, 0.6847061369275202, 0.6847416394414139, 0.6849296971574015, 0.6858723449753459, 0.6842323731617148, 0.6851225387728683, 0.6850759290461932, 0.6844514056424063, 0.6853182510514001, 0.6842358865401355, 0.6843429583205012, 0.6853373229665534, 0.6846566060897689, 0.6847911873532393, 0.6847073355839534, 0.6849077579999424, 0.684589304585993, 0.6848814407823978, 0.6853509891275067, 0.684959791269492, 0.6843639739626184, 0.684840291263322, 0.6843381867281071, 0.6836171508375727, 0.6849714399366342, 0.6854998344440784, 0.6843021965870151, 0.6845072261600926, 0.6842652759109518, 0.6850975457632609, 0.6845100392990713, 0.6841897851845239, 0.684331781666579, 0.6845540833844811, 0.6846165171955254, 0.6842470569156045, 0.6850478443308581, 0.6848626773274017, 0.6851517845449332, 0.68482095441409, 0.684885294088251, 0.684347447959345, 0.6842053399619452, 0.6845776814662364, 0.6836118530555193, 0.6842014816202194, 0.6852452254324782, 0.6849431532293142, 0.6852853094673468, 0.6840370326907965, 0.6843838665129528, 0.684461062476768, 0.6840185717844705, 0.6855733175389603, 0.6842796255664498, 0.6833703958358549, 0.684789853126166, 0.6847809482156778, 0.6855128667655974, 0.6846221384793807, 0.6844738739992987, 0.6848302395916834, 0.6844330766570277, 0.6849025000013532, 0.685628372003664, 0.6841117028098123, 0.6844318905225477, 0.6845097297204541, 0.684682505269539, 0.6843639660818, 0.6847841115656577, 0.6847693515328357, 0.6838082450939078, 0.6844424987752189, 0.6838351131699203, 0.6845733380010667, 0.6845834351155611, 0.6846935912420203, 0.6851834154706445, 0.6842620659877259, 0.6846401515491124, 0.6844919189620116, 0.6849637637827016, 0.6847691469024013, 0.6852620492926266, 0.6854931363488852, 0.684857648315719, 0.6850414996739046, 0.6846140830428841, 0.6839798961801569, 0.6855264718017953, 0.684227829279436, 0.685880678006668, 0.6843226846353645, 0.684223665507858, 0.684597338718542, 0.6846465788804765, 0.6850078691818899, 0.6845611141813241, 0.6850885601219407, 0.6845423669319592, 0.6850404162279587, 0.6848077485510653, 0.6854742359445054, 0.6837373411797756, 0.684728904832347, 0.6840805063779991, 0.6839557338979456, 0.6843554460727874, 0.6839620575003393, 0.6847623700540975, 0.6847911123739658, 0.6840052757962833, 0.6835986280576446, 0.6854225284306072, 0.6855904348250887, 0.6851569596307081, 0.6842603722010165, 0.6849069472063872, 0.6848516517746478, 0.6844860256144781, 0.6842192347925771, 0.6848860561163408, 0.6850144813455452, 0.685491747027293, 0.6839081562067528, 0.6847414015214947, 0.6845036061244121, 0.6840221005229208, 0.6844359251852159, 0.6843973754588293, 0.6844781065829594, 0.6845677311376407, 0.6844424295255026, 0.6848344680012828, 0.6840900619840666, 0.6842788931798862, 0.6836691407226261, 0.6852091494275614, 0.6840209124644276, 0.684139167918352, 0.6841212475071954, 0.68457207984597, 0.6849757105017152, 0.6858693370863025, 0.6841752717445141, 0.6850481398801981, 0.6840807846008721, 0.6849651578059384, 0.6844411451670933, 0.6848118584952956, 0.6852427286324849, 0.684210760809971, 0.6849660125853438, 0.6841128337530826, 0.6849529958354946, 0.6842138601215928, 0.6842137339530567, 0.6853606059819453, 0.684826908818198, 0.6845865620040137, 0.6845067275648423, 0.684551755085871, 0.6852091777571496, 0.685050324308867, 0.684524946914399, 0.6848634739848238, 0.6848048525757212, 0.6840935637324792, 0.6852899602700184, 0.6846731248688266, 0.684112557255973, 0.6846646017800102, 0.6842438059660441, 0.6851689497653612, 0.6851297499809045, 0.6849912889743595, 0.6849028022653295, 0.6846077067730356, 0.6848838558365523, 0.6844626531580471, 0.6844283912459338, 0.6841540676879817, 0.6840365213325266, 0.6844756055704732, 0.6845326559490346, 0.6839628165595715, 0.6841872547039856, 0.6843878537623009, 0.6847557898215171, 0.6846691338440858, 0.68459521504423, 0.6842205178036185, 0.6844271634506955, 0.6852240581221787, 0.6846534154074244, 0.6849181668262758, 0.6846235015539268, 0.6845681868126441, 0.6848174290674078, 0.684611872655889, 0.6845539985112619, 0.68500129480824, 0.6843165441271435, 0.6842282975992355, 0.6847158363672357, 0.6854814554901631, 0.6846750628424878, 0.6844225693234534, 0.6843896915725685, 0.6843169819290391, 0.6847377870437505, 0.6847749061534113, 0.684499790599036, 0.6844053622895965, 0.6849691809900662, 0.6844515882982566, 0.6852252165158976, 0.685294064322034, 0.6844286836761053, 0.6844419051846045, 0.6838165643206755, 0.6846525357628879, 0.6845120791199424, 0.6848668103417509, 0.684462398066899, 0.6847760836685228, 0.685032629072934, 0.6850964324227444, 0.6844248774946379, 0.6845403958777565, 0.6849313832369346, 0.6843998420311244, 0.6845063278724248, 0.6843818172844773, 0.6848705374381105, 0.684641636733178, 0.6842680948127124, 0.6849986643789912, 0.6841465384115426, 0.6842483671721353, 0.6837604438664072, 0.6853654269190621, 0.6843289111589831, 0.6838017432479624, 0.6842120177513753, 0.6842396535438722, 0.6839863677404017, 0.6845460795184519, 0.684133091739243, 0.6855823356560737, 0.6849653256562233, 0.6849208588014906, 0.6846165149949164, 0.6840817646066558, 0.68537426225107, 0.6846122707990572, 0.6844403185001755, 0.6846090308594331, 0.6849481130365369, 0.6845525757772702, 0.6851621878471588, 0.6845370451195285, 0.6842404011307419, 0.6851452731388765, 0.68435362885896, 0.6852803512292192, 0.684498323114169, 0.6851929626225766, 0.6848953343304016, 0.6854355257197948, 0.6842621305489176, 0.6843209705813149, 0.6843794377767989, 0.6857620322961568, 0.6845700784651522, 0.6848793794842241, 0.6839251908165901, 0.6856927805419, 0.6849195855843776, 0.6849045212962441, 0.6850502310884062, 0.6841444218913443, 0.685316506277347, 0.6852147302767757, 0.6841943655792606, 0.6852314227101033, 0.6847591448846596, 0.684654583568806, 0.6844756010315185, 0.6848824030999512, 0.683888809152523, 0.6846926874558112, 0.6847877601080379, 0.6848354229603781, 0.685191175899432, 0.6852902426789474, 0.6839503595136025, 0.6837608138478569, 0.6842776895242959, 0.6847322987403237, 0.6850477040993093, 0.684423842130842, 0.6840607729614391, 0.6850963826474175, 0.6839258674671662, 0.6849088261279539, 0.6840471475658416, 0.684295157763896, 0.6851478301335001, 0.684316032842838, 0.6843483289963523, 0.684938560054521, 0.6836250007163422, 0.6846667921805761, 0.6838060618628874, 0.6853967585058569, 0.684378613895431, 0.6847088058536102, 0.6844652382009982, 0.6844748858918767, 0.6840825248405639, 0.6847283103573722, 0.684958408492646, 0.684536991670182, 0.6847946989955295, 0.684836982388089, 0.6846255616785435, 0.6839370666917672, 0.6844455907591224, 0.6856449571101576, 0.6846168761379499, 0.6852697886280691, 0.6841730645592863, 0.684559940029029, 0.6841287749390204, 0.6854487078924316, 0.6840424633586852, 0.6852210465505385, 0.6843849130106074, 0.6846846886234037, 0.6844933002330266, 0.6843838472671726, 0.6848820886543608, 0.684609994192909, 0.684580028648037, 0.6858558102572277, 0.6847707880778771, 0.6845164864846889, 0.6847491906334406, 0.684028891593113, 0.6837495491698922, 0.6847885901656581, 0.6845219121084459, 0.6845045112761297, 0.6853680719673052, 0.6844694925752278, 0.6850155209014872, 0.6844828349587203, 0.6848605055833853, 0.6853670620325658, 0.6852673291006299, 0.6847436123795649, 0.6849375535797866, 0.6849750457584556, 0.6842642857728489, 0.6839809608613161, 0.6847544273583184, 0.6848295734916461, 0.6842253419466229, 0.6846550501513589, 0.6840613107491231, 0.6847227190421648, 0.6843601476651233, 0.6845580139469392, 0.6850654603634228, 0.6842726444067808, 0.6841382192362353, 0.6846465561310613, 0.6848767989335904, 0.6844515169314345, 0.6851987585340833, 0.684643297526768, 0.6844966832445847, 0.6845876023545971, 0.6846399938092573, 0.6849211650609355, 0.6844500148552599, 0.6846715600852298, 0.6843860441884821, 0.6845172201633022, 0.6838183203723085, 0.6853885692547281, 0.6848634198185102, 0.6845879948960749, 0.6847989806846697, 0.6846093554551851, 0.6842276196523787, 0.6847787211351545, 0.6846591206393886, 0.6845864767340656, 0.6845304347579687, 0.6850594399202925, 0.6842938979265678, 0.6840206692209088, 0.6850496065057663, 0.6851783149509594, 0.6837116187925802, 0.6848776976099367, 0.6846015226204565, 0.6848766269817751, 0.6845124162827017, 0.6848099903984277, 0.6850186954638846, 0.6846081393375378, 0.6843014785167678, 0.6841285062491633, 0.6851236537109895, 0.6843948146461935, 0.6851719421549054, 0.6842788202746162, 0.6852581791160859, 0.6845817080598409, 0.6841838675037686, 0.6843379093021567, 0.6839391963036366, 0.6843873533976812, 0.6847014578546697, 0.6842544077513437, 0.6848645237757514, 0.6846685575248568, 0.6847699287078037, 0.6847102079322089, 0.6841469115611729, 0.6843223072569841, 0.6851938177139356, 0.6846957815384906, 0.6849145795649401, 0.6839593714419683, 0.6850017607020098, 0.6854591942809956, 0.6846495182962804, 0.6842701311712511, 0.684746953769763, 0.6847852098238252, 0.6846381282874583, 0.685447150344107, 0.6847077102966503, 0.6835331894784661, 0.684373784602696, 0.6848509098525096, 0.6845506762957976, 0.6840918976599979, 0.684576356767621, 0.6847759042481472, 0.6851008313926764, 0.6851100471143635, 0.6851812549541677, 0.6841399432674756, 0.6850618623856025, 0.6846433816206239, 0.6848043082281914, 0.6843315828509275, 0.6853029133894395, 0.6852208879689505, 0.6846690014999226, 0.6846522629017914, 0.6843152515299412, 0.6847125010624826, 0.6853838017597133, 0.6846829034468411, 0.6847282611555842, 0.6842573325947638, 0.6848256448135166, 0.6846419435644242, 0.684831103214782, 0.6853007053209268, 0.684490063036596, 0.6853433540095877, 0.6841792908757696, 0.6849934226024308, 0.6843428954336266, 0.6843544078526773, 0.6842731721872088, 0.6848375447212437, 0.6848145533441098, 0.684517481076999, 0.6852034228336803, 0.685404472005688, 0.6845186695840277, 0.6855346966266328, 0.6845095871861875, 0.685254625804721, 0.6839125914298352, 0.6843784622878266, 0.6836978945622785, 0.6844606043990793, 0.6853007549627308, 0.6841548574249048, 0.6843058650698053, 0.6846734451615581, 0.6842096372176798, 0.684225255890634, 0.6849380894581144, 0.6846738064947505, 0.684664434090482, 0.6846111935698727, 0.6846070382036462, 0.6846695128003635, 0.6845007533785077, 0.6849264001613564, 0.6849490345304966, 0.6850328036280693, 0.6848019656322408, 0.6844466974540653, 0.6844027250576343, 0.684603777474457, 0.6843898623196552, 0.6850683235990922, 0.6847337599287844, 0.6851061597984085, 0.6850345471181047, 0.6839824033372851, 0.684630719814173, 0.683981247064466, 0.6842044997226648, 0.6853624870373997, 0.6842388439597584, 0.6847744264445305, 0.6845566147269034, 0.6853594499665836, 0.6858574739798524, 0.6848206205358467, 0.6838665033184204, 0.6846102588647407, 0.6856481033681026, 0.6838747295235095, 0.6843724985462791, 0.6852834585521027, 0.6844989303387394, 0.6847249144665599, 0.6848000555282494, 0.684307685127854, 0.6845975299548579, 0.6857850351124659, 0.6843486220156175, 0.6843093884987299, 0.683598563443722, 0.684957884651881, 0.6846840862378594, 0.6841805844903961, 0.6848433438244299, 0.6846572732998515, 0.685414385579849, 0.6845845478992758, 0.6845763590862902, 0.684381079845036, 0.6851168487259316, 0.6845550851795741, 0.6843637041425042, 0.6847860263489947, 0.6846530248022453, 0.6854299540311344, 0.6848632875775117, 0.6849085835787025, 0.6850248640390908, 0.6847084896076022, 0.6847771513872069, 0.6847940881529342, 0.6850675742267919, 0.6846686952134561, 0.6839836111541222, 0.6847528230270297, 0.6836950175219108, 0.6847879140541137, 0.6837116305017459, 0.6841047119680101, 0.6852366980484008, 0.6846181037634024, 0.6850563202896272, 0.6854102367582701, 0.6850998898457636, 0.6855737635549, 0.6840832602657616, 0.6851536376963947, 0.6847587543544772, 0.6845203137225286, 0.6847479286499898, 0.6842307787105958, 0.6845660984953608, 0.6843959418072143, 0.6851467698995946, 0.6845331799670475, 0.6843045561993255, 0.6843532011008795, 0.6847701883056109, 0.6844958462092328, 0.6848936935391696, 0.6843689498317054, 0.6844163702555115, 0.6851542798330863, 0.68459678791359, 0.6846402270481428, 0.6854341236075863, 0.6841323845384435, 0.6846125528105438, 0.6847412761467147, 0.6851232903803505, 0.6846668776196854, 0.684893693150532, 0.6840926153594284, 0.6848297275957269, 0.6851242610391236, 0.6849346333996206, 0.684761419741408, 0.6851943063556698, 0.6846136290992446, 0.6848879208466043, 0.6841041801232908, 0.68425692606973, 0.6842161895724072, 0.6846971580680494, 0.6841977786485722, 0.6841006577907905, 0.6847731746003413, 0.6847740746876412, 0.6847650023196343, 0.684109220379683, 0.6846277954873543, 0.6849232312667566, 0.684263425014387, 0.684694204848497, 0.6850649900707992, 0.6842473021045347, 0.6842837401555634, 0.6846346377466974, 0.684919753597653, 0.6843881860455664, 0.6848516795879469, 0.6844032411919416, 0.6848391952957639, 0.6846237069602098, 0.6840577417303878, 0.685357015644741, 0.6848012252724752, 0.684522441876197, 0.6847906521929134, 0.6838028661414851, 0.6848519374183574, 0.6841909739541245, 0.6854839833689406, 0.6846468476677178, 0.684604282628256, 0.6843902179188168, 0.6843057317444691, 0.684449303373594, 0.684228661105923, 0.684698211505073, 0.6845221346584547, 0.684871459076605, 0.6851409063112057, 0.684523284282207, 0.6850718720241867, 0.6841688889610629, 0.6841608750682784, 0.6842934131506215, 0.6846121262046967, 0.6843546475674744, 0.6852716298350674, 0.6849585138637245, 0.6845679292870435, 0.6850033703843784, 0.6843840916315442, 0.6848357300118721, 0.6848731049814093, 0.6841608223760975, 0.6843311792672153, 0.6855837180499798, 0.6843875743027992, 0.684788516472818, 0.6838227392741212, 0.6852822067000277, 0.6844909748395543, 0.6839481464248824, 0.6844368254223367, 0.6847503266203882, 0.684518648307155, 0.6848196623816754, 0.684602873707145, 0.6848511178187602, 0.6844536619310488, 0.6849515445529466, 0.6848986603072246, 0.6842801586550882, 0.6852380024767948, 0.6851126130542439, 0.6849969541293583, 0.6846563542230402, 0.684771994600248, 0.6837479012567931, 0.6855260538505328, 0.6839698817863047, 0.6845869369888263, 0.6847096982178097, 0.6842958432713795, 0.6842124367517319, 0.684351144809535, 0.6844836540739851, 0.6848713956344992, 0.6847714796966828, 0.6839546912360115, 0.6844035110637232, 0.684455441640978, 0.6842689094746169, 0.6852103433214389, 0.6843512168657331, 0.6852061284500492, 0.6846410788060954, 0.6847669087587462, 0.6848915605965905, 0.6846273619176295, 0.6845510263306352, 0.6850332389017051, 0.6847403809274076, 0.6849624237748494, 0.6845613060110611, 0.6843923362154475, 0.6849538123470009, 0.685300145528037, 0.684808877028271, 0.684434073972972, 0.684702557318033, 0.6849812169946998, 0.6849903830028388, 0.6844663446939565, 0.6845142959452621, 0.6843258646129677, 0.6846429444538569, 0.6840927935500376, 0.6843449854817497, 0.6840006490456516, 0.6843924495384006, 0.6847784162960271, 0.6845966743153775, 0.6856554161700572, 0.6849712578871046, 0.6847493599494954, 0.6854057047325585, 0.68527739265679, 0.6840483370055079, 0.684465707963833, 0.6841820462908615, 0.685087151584511, 0.6847825615951788, 0.6846604082075207, 0.684811256638933, 0.6846666008451092, 0.6845801880451545, 0.6843755317767426, 0.6852485619546185, 0.6849948754066293, 0.6845068042558533, 0.6844463996871735, 0.6850327711656254, 0.6846616053748353, 0.685041745302303, 0.6839604317962776, 0.6839680254762569, 0.6844149799882304, 0.6849316007915514, 0.6847424210538573, 0.6849322752779006, 0.6847687035035912, 0.6850624555882219, 0.6847347562908663, 0.6851779851270143, 0.6844587489037954, 0.6847286605148657, 0.6846155011491446, 0.684382631260535, 0.6843649029855425, 0.6852709504940993, 0.6849027846724636, 0.6852913462068881, 0.6839482643324972, 0.684763573778745, 0.6842477035781929, 0.6842466514053664, 0.6840222778475951, 0.6848032929783342, 0.684908848112747, 0.6855097321807488, 0.6846145666423777, 0.6845868014346169, 0.6845149497276398, 0.6841500933060886, 0.6854949516388023, 0.6841617993246336, 0.6840719054164928, 0.6853531968748189, 0.6843532884697506, 0.6839732615184724, 0.684358002960598, 0.6851529118693288, 0.6846115734605325, 0.6841331721154102, 0.684570600340521, 0.6846378639502761, 0.6840501170245223, 0.684601233348934, 0.6842900630263522, 0.6852986700050359, 0.6847310361904798, 0.6845340094899792, 0.6841648623677792, 0.6847389121469405, 0.6839348906201959, 0.6848842037121123, 0.6841501113719373, 0.6844568233629951, 0.6856121671478504, 0.6846537886957251, 0.685304090287024, 0.6842950822572983, 0.6850392942346251, 0.684550931267276, 0.6853314619040312, 0.684637134562192, 0.6854925608131673, 0.6846055070742835, 0.6843206569384139, 0.6852766916997792, 0.6850098730357824, 0.684533847653455, 0.68537369644427, 0.6840344086242618, 0.6846964105874804, 0.6843674957398663, 0.6848413300584502, 0.6845532110608648, 0.6851132316666257, 0.6843835693257612, 0.6850052048669901, 0.6846036217949141, 0.6845849727780561, 0.6846654176349367, 0.6849552265581866, 0.6847879606348564, 0.684462079811573, 0.6851331292664142, 0.6847632310188909, 0.6845859040656432, 0.6842332592441045, 0.6848387351236355, 0.6850289509567098, 0.684964224061952, 0.6844570584132159, 0.6841935269988197, 0.6848068598023819, 0.6844197703555803, 0.6848937995222311, 0.6854089176528068, 0.6849890135867769, 0.6847638332554256, 0.6848134509757002, 0.6846033020433961, 0.684222799557491, 0.6848551483831145, 0.6845425522469739, 0.6841022346738406, 0.6846067078801461, 0.6842405014150422, 0.6841856103939656, 0.6844149059979419, 0.6845047594535634, 0.6845122509246533, 0.6849726073777522, 0.6853698399529877, 0.6849750001356815, 0.6851358579063158, 0.6843805740768975, 0.6852210544479534, 0.6847801998651032, 0.6848657856741458, 0.6841568846848658, 0.6851983619033915, 0.6845147922459187, 0.6842557768901201, 0.6848776391124926, 0.6848250281459826, 0.6850833978425861, 0.6837311936032219, 0.6842024610361818, 0.6854220833864728, 0.6842388151022487, 0.6850526045501153, 0.6844650713687177, 0.6845975489587621, 0.6840658377581514, 0.6844296712712101, 0.6849013319063308, 0.6840703592488986, 0.6848872345278726, 0.6847414581887064, 0.684503286887469, 0.684051556126548, 0.6846533987071715, 0.6851807963711761, 0.6851465179007625, 0.6848615385496764, 0.6834695539057467, 0.6847100238988086, 0.6848066671970643, 0.684880470456688, 0.685485048485768, 0.684185797401716, 0.6843129656291277, 0.6841077481068197, 0.6844691086339079, 0.6845359349407478, 0.6852294055286487, 0.6852805345483157, 0.6854348033674529, 0.6851130966420867, 0.6850709062504179, 0.6843823386475851, 0.6845967431446293, 0.684499211589124, 0.6854313390454458, 0.6842878770398115, 0.6841659343947093, 0.6842388549083942, 0.684614703351881, 0.6842457492578172, 0.6844136115726229, 0.6848789350791389, 0.6851528874941137, 0.6846755794057464, 0.6844820055579035, 0.6848847842109156, 0.6845843148553936, 0.6851427732264008, 0.6841355974611973, 0.6847922049467249, 0.685420894493854, 0.6843714430220209, 0.6850791932592903, 0.6853921029999759, 0.6843277630520144, 0.6851727681909796, 0.6837788750091897, 0.6849779574432447, 0.6842137513778758, 0.6842970808707685, 0.6858785397694795, 0.6844681548475038, 0.6841574707319075, 0.6846968187780653, 0.6845236938938335, 0.6845742203226773, 0.6840376934729682, 0.6855833288307172, 0.684849383185969, 0.6838154275378214, 0.6849357222781645, 0.6847064494265136, 0.6834481040385227, 0.6842057732922882, 0.6843292624434345, 0.6844835325126741, 0.6845569330053003, 0.6838520826852788, 0.6846572766324499, 0.6840104011515311, 0.6849796095795289, 0.6845846169927041, 0.6844756043054911, 0.6847080506196797, 0.6848592338725925, 0.6852618540161041, 0.6839849273830795, 0.6844191152167678, 0.6848421505896811, 0.6846196462632383, 0.6838978231941828, 0.6851722458478015, 0.6851942110378647, 0.6847841746474079, 0.6851603900713641, 0.6846754776779964, 0.6847270863887468, 0.6850992463471512, 0.6839314677993042, 0.6851539489249117, 0.6847643209006647, 0.6846049620448428, 0.684905120403982, 0.684465937947631, 0.6847925570575939, 0.6853286301541185, 0.683989027938736, 0.684885746058224, 0.6849485930212755, 0.6848986466861466, 0.6850804664583661, 0.6850976991682538, 0.6851246418044298, 0.6857170617905576, 0.684518766284592, 0.6839040089959489, 0.6850218458146886, 0.6848070276168894, 0.6847429286705451, 0.6849003436736723, 0.683941055635932, 0.6847996557561218, 0.6845183519793832, 0.6845316808581726, 0.6848423409117352, 0.6849097994026973, 0.6847109497042252, 0.6849127436311753, 0.6842319809953787, 0.6850184024340533, 0.6842369009535811, 0.6837352709859582, 0.6841675029198799, 0.6847136508642486, 0.684656470852906, 0.6846766587123674, 0.6842502148347468, 0.6830631946747245, 0.6842778830873506, 0.6845942238284635, 0.6840103431538762, 0.6850421171689401, 0.6842927246955008, 0.6849031706206561, 0.6846739596347404, 0.6847524323944569, 0.6848457946245028, 0.6841469643757159, 0.6839268520387827, 0.6844371898074961, 0.6845653603436364, 0.6847264010895775, 0.6841877144196922, 0.6847308792060014, 0.6845538948386869, 0.683631849543641, 0.6843773001388375, 0.6846188128505412, 0.685150036635825, 0.6856512133046959, 0.684992299757041, 0.6845318074360682, 0.6847983596054478, 0.6838650352180295, 0.6858220742508612, 0.6845843079408263, 0.6845919417382389, 0.6836301437275074, 0.6852794385119312, 0.683962689849893, 0.6840772417599222, 0.6845928770457272, 0.6847630932414134, 0.684190273086247, 0.6844845397369154, 0.6847076331881159, 0.6850574905215413, 0.6844395277276216, 0.6835490302144056, 0.6848728192585734, 0.6845650963449521, 0.6845727016898743, 0.6842422079553996, 0.6836390412146204, 0.6846675189005413, 0.6840600357465074, 0.6839296241696569, 0.6845589005623058, 0.6846777001052651, 0.685132861284242, 0.6839490360280586, 0.6847155317767375, 0.685361609960673, 0.6844530803286868, 0.6846626332726811, 0.6848166042218545, 0.6849767791493582, 0.6847447500368906, 0.6837643644822807, 0.6844742460753874, 0.6842504325260245, 0.6839948361821558, 0.6852185892004937, 0.6852442249702585, 0.6845217764820327, 0.684677650209142, 0.6839982683678714, 0.6844951286769178, 0.6843393657314285, 0.6849357802493959, 0.685046620796804, 0.684116948967139, 0.6847566284538454, 0.6836155157785427, 0.6847819211578026, 0.6850845702240609, 0.6839627038054443, 0.6845801826825901, 0.6844581993768206, 0.6843959005474796, 0.6846379480979726, 0.6845942642182805, 0.684201322523373, 0.6844036910349527, 0.6842967918771355, 0.6843211650521934, 0.6852271583702958, 0.6849498655243444, 0.6846290379487026, 0.6843391002667056, 0.6849715416316422, 0.6842198139789428, 0.6841477905676896, 0.6855844523595593, 0.6841018639469317, 0.6848279690500572, 0.6845386052387048, 0.6837058872040124, 0.6849907225503141, 0.6843822163523587, 0.6839653550558814, 0.6835529026971978, 0.6844113815226261, 0.6848556825429184, 0.6845647406637745, 0.6847574451764915, 0.6853424052331387, 0.6848570679199821, 0.6848605299409671, 0.6844358118569076, 0.6855755764336613, 0.68485445985996, 0.6854356473746455, 0.6856577841005328, 0.6847924505020937, 0.6852071052552011, 0.6856907760876776, 0.6858297975678713, 0.6842983908275615, 0.6841683801965847, 0.6838738548606934, 0.6843058396203907, 0.6847349030228949, 0.6851313880961998, 0.6845036747416027, 0.684924209950736, 0.6846072516586246, 0.6845536367410399, 0.6841068791995275, 0.6844977257553791, 0.6853324719235774, 0.6841265432107975, 0.6847714244661317, 0.6846055542698375, 0.6849103943175253, 0.684485614074803, 0.6845988905370101, 0.6851387260391555, 0.6841847004525325, 0.6850184455504089, 0.683519491007986, 0.6847358084343862, 0.6853825977175594, 0.6845185258910629, 0.6858786389841768, 0.6844946860317065, 0.6842569607140346, 0.6852077210772005, 0.6839494996297074, 0.684941129391049, 0.6839278905388639, 0.6845905710772815, 0.6847824421194109, 0.6847094628814523, 0.6846486131473034, 0.6842473372852733, 0.6852018551824717, 0.6850708881138161, 0.6844328712441086, 0.6842605821318611, 0.6839668193570023, 0.6841529343486791, 0.6847078615920649, 0.6844634186812057, 0.6843049116410105, 0.6843563070959622, 0.6840493524355687, 0.6838417659573746, 0.6847635325096728, 0.6845988524461071, 0.6840955880149545, 0.684120909823359, 0.6841825062893845, 0.6848169749384525, 0.6843641568392411, 0.6843418853192971, 0.6844900062939889, 0.6847512737164233, 0.6845272465123126, 0.6846086057976049, 0.6851325837595339, 0.6852457746924899, 0.6850719613596599, 0.6849138068629742, 0.6843713656559586, 0.6840229290447853, 0.6845366161129425, 0.6845190350498926, 0.6845752278779786, 0.6842230478863376, 0.6847120583989463, 0.6842438636771128, 0.684940868538116, 0.6857102131220854, 0.6840287680754944, 0.6844494883051312, 0.6849913633707443, 0.6848602514551605, 0.6845645608010819, 0.6847990614071298, 0.6849625785685656, 0.6847975860029034, 0.6850220543577239, 0.6836575769410154, 0.6839063295970426, 0.6844899512176049, 0.6841240148364374, 0.6839195736382363, 0.6845253912529049, 0.684896776750411, 0.6837591037220923, 0.6847118540351871, 0.6848400980526628, 0.6846098623302834, 0.6844154065552789, 0.6845278842661036, 0.6849479527272768, 0.6849849102240319, 0.6848423142543956, 0.6848795424493497, 0.6839819701733796, 0.6848433259941739, 0.6847444730837757, 0.6843829319334938, 0.6842745416811152, 0.6846722281354198, 0.6845607822078165, 0.6853876210526915, 0.6843975673723379, 0.6844834790155541, 0.6844200383994263, 0.6837229572879839, 0.6849464053932794, 0.6852449612799997, 0.6846482439865995, 0.6841647190848759, 0.6842445818363263, 0.6841301175603541, 0.6839517597184824, 0.6844962197458561, 0.6849414137663942, 0.6842063686509625, 0.6842834513521054, 0.6845496051196319, 0.6856954628397445, 0.6846325308628973, 0.6849591388059657, 0.6858443234416742, 0.6846345175827044, 0.6848252690256564, 0.6850829958568052, 0.6843533725508326, 0.6850036057790965, 0.6844669577418196, 0.6841293266641718, 0.684715905274247, 0.6840803346160421, 0.6843540989546535, 0.6846849008506302, 0.6841496752919941, 0.6850863287416464, 0.6850301693001156, 0.6845805321872247, 0.684773086063775, 0.6841131865391805, 0.6844696484704461, 0.685506825327729, 0.6852017497647862, 0.685173358145909, 0.6845028604872642, 0.6847988073588797, 0.6841690787073977, 0.6854529758276297, 0.6844353023134407, 0.6840132226171427, 0.6845564229490921, 0.6846718778115577, 0.6846261393522284, 0.6847243596538101, 0.6846097886090363, 0.6854410947035132, 0.6849248243370538, 0.6840528191152322, 0.6842348287231746, 0.685121860329218, 0.6849272259905876, 0.6842585459931243, 0.6844442427155266, 0.6840407366539091, 0.684985414689515, 0.6849536817062132, 0.6847740637267451, 0.6850779717746102, 0.6846335586911481, 0.6852190355983478, 0.6838315427251255, 0.6844891112058462, 0.6852366550109104, 0.6845081628951755, 0.6850181157809019, 0.6846183445524767, 0.6851200787874291, 0.6847166640614436, 0.6844494579245282, 0.6842945502043225, 0.6846781152396155, 0.6846136601039716, 0.6842990403734885, 0.6845395072519875, 0.6842284792276658, 0.6844280118222358, 0.6854678617162726, 0.6840382145304709, 0.6851066120992761, 0.6848623340961661, 0.6844977060833037, 0.6854532862065509, 0.6846465522689225, 0.6847569039544563, 0.6849186523247638, 0.6846501807286485, 0.6839232741113122, 0.6840727963825548, 0.6846150079146371, 0.6843714672091599, 0.6839990524607531, 0.6851929649871407, 0.6843723142884643, 0.6852773372788051, 0.6847815226179215, 0.6849790285278956, 0.6849366012478277, 0.684786222576, 0.6853906397992523, 0.6850104900203204, 0.6838095235889926, 0.6844964632318782, 0.6843677175886624, 0.6842239917478836, 0.684387032608003, 0.6850722241664314, 0.684745512383504, 0.6841792212773159, 0.6843399808696274, 0.6846777055840866, 0.6852366025717755, 0.6845514989596582, 0.6850159055786769, 0.6850043472384877, 0.6846767223610146, 0.684413475213187, 0.683892657762841, 0.6835390034452293, 0.6851215378880093, 0.6842604665983469, 0.6845642034908266, 0.6841968658733006, 0.6842700782275006, 0.684306659884492, 0.6844320057729987, 0.684849801528184, 0.6849749837470003, 0.6845242253627772, 0.6849200137134099, 0.6846824238969209, 0.6846705440375203, 0.6846891432286284, 0.6851471326117539, 0.68400515854038, 0.6851361981867556, 0.6844407756410928, 0.6844290104582789, 0.6840571694798179, 0.6848403821657963, 0.6843137842795673, 0.6843618878077489, 0.6848543029638472, 0.6852553433747232, 0.6845270283370033, 0.684825608490921, 0.6849507895586139, 0.6838615933126324, 0.6844676177386988, 0.6840986520766967, 0.68333545693791, 0.6842301152744905, 0.6851410532097113, 0.6845754231938637, 0.6849480273062681, 0.6848213650213191, 0.6843442149803605, 0.6842371437391597, 0.6844442844427516, 0.6848978732298063, 0.6845550101718325, 0.6852910658564747, 0.6847681716133392, 0.6848637766983734, 0.6853307499569024, 0.6843252720124036, 0.6845972979946371, 0.6849255760680294, 0.6859320256762884, 0.6845225198039979, 0.6844050214592348, 0.6850979830613846, 0.684079403799541, 0.6845994608126443, 0.685338344983508, 0.684833398526089, 0.685442429797117, 0.6855931548114014, 0.6841577076809929, 0.6852474343549195, 0.6844865092102579, 0.6848404664666466, 0.6840353997452768, 0.6850959135194354, 0.6850014656153769, 0.6844019053305452, 0.684286089100133, 0.6844305990234942, 0.6845041779583795, 0.6848560563214663, 0.6848533569714138, 0.6847850952651012, 0.6841986458625857, 0.685239311780277, 0.6848265430661054, 0.6844687913116999, 0.6842599409533611, 0.6840077994626927, 0.6840024216242484, 0.6851125897145127, 0.6844972122226574, 0.6851461568002566, 0.6843651630278142, 0.6847899411829605, 0.6847823921941869, 0.6843925460595748, 0.6840466305154183, 0.6850767962683229, 0.6847026753652696, 0.6850759374620321, 0.6845153521434464, 0.6848484392996868, 0.6838060847380054, 0.6845685993482099, 0.6839506176050743, 0.6850118177409044, 0.6839212468337095, 0.6841567135106652, 0.6840698198171709, 0.6853019592023346, 0.6845158096080837, 0.6850929751976158, 0.6841434342698673, 0.6836149025944807, 0.684744163691541, 0.6853708332290592, 0.6851265156960284, 0.6842942856133487, 0.6844261610113891, 0.6849105224832976, 0.6842666687921604, 0.6856303609043921, 0.6843844027411327, 0.6844770870627123, 0.6845398883558766, 0.685390597083518, 0.6843296248092197, 0.6843617461641016, 0.6852673523635817, 0.6854922115213526, 0.68502730371432, 0.684886948824504, 0.684825045832778, 0.6846843006827448, 0.6848061684510085, 0.6842351665758369, 0.6839931411526667, 0.684892090049838, 0.6843859979329501, 0.6848209556918794, 0.6847200114037415, 0.6847550801385904, 0.6845626552748617, 0.6841567548088816, 0.6847805272558751, 0.684437492353299, 0.6836076618643254, 0.6850081431414202, 0.6842372100546168, 0.6840028979302128, 0.6847317124570244, 0.6853555216894966, 0.6846163483508465, 0.6849589956413098, 0.6843537220780918, 0.6842283057181362, 0.6847870912302492, 0.6849901013388686, 0.6850715216340708, 0.6842264272059465, 0.6845522195577501, 0.6845520128124438, 0.6851870611104445, 0.6845246252352928, 0.6846129698698654, 0.6845790142432605, 0.6853345795004506, 0.6845976675185594, 0.6849925482695796, 0.6845652854302247, 0.68519317475668, 0.6845510926264105, 0.6840095395689955, 0.6848857999439437, 0.6848057347479055, 0.6848321296251173, 0.6854159898576406, 0.6843192215179283, 0.6843548679994587, 0.6842294208908242, 0.6848373057788826, 0.6851325286047092, 0.6850184221935667, 0.6843312869506825, 0.6845643719093941, 0.6840924054064206, 0.6842108498154142, 0.6840548200693362, 0.6851513815657865, 0.6851759622243614, 0.6842771835286787, 0.6844074700979288, 0.6846249575192471, 0.6849377474746673, 0.6844786037832742, 0.6843272898321155, 0.6845569614854934, 0.6837803737590513, 0.6845619355131627, 0.6853896908850498, 0.6855728113391059, 0.6839358623168801, 0.684826023958965, 0.6852927192135155, 0.6845912663114373, 0.6847249087224216, 0.6847038336182794, 0.6851143966354221, 0.6841173626107722, 0.6852203232853584, 0.6838253379300974, 0.6849987137161826, 0.6847586780334227, 0.6846347157323442, 0.6846390556432052, 0.6845712447989435, 0.6845928070681472, 0.684488568781492, 0.6849809823852038, 0.6848687065331766, 0.6854262487568804, 0.6844428166894727, 0.6851725769026422, 0.6845480294730052, 0.6847368509441506, 0.6839503430096172, 0.6844456764351197, 0.6842262472191097, 0.6847718709594359, 0.6847083380679431, 0.6839434606450037, 0.6843868223512464, 0.6844123992650766, 0.683956950860286, 0.6844562892369742, 0.6849063242697537, 0.684635599398933, 0.6843808921342112, 0.6850405526315373, 0.6848324319329067, 0.6842119203179226, 0.6839560966930345, 0.6843448527471035, 0.68483465475696, 0.684895488415799, 0.6853950677162153, 0.6840247207064172, 0.684521221485053, 0.685090551524947, 0.6838665817104843, 0.6848762688428001, 0.6850333600308061, 0.684993987940365, 0.6846197532178628, 0.6845389036881919, 0.6848106464158427, 0.685185837974895, 0.6843933874011394, 0.6839988919332904, 0.6849861616625335, 0.6852423257485831, 0.683824668252869, 0.6848252817878908, 0.6848340841351744, 0.684465341374874, 0.6845306552219113, 0.6843303328415251, 0.6847168459523967, 0.6843936508829354, 0.6845028716295107, 0.6841049364046965, 0.6840989607977135, 0.684766833243855, 0.6845346718145007, 0.6841696179430807, 0.6858677092240311, 0.684115151717098, 0.6848142851582636, 0.6852088264376583, 0.6846381542266546, 0.6842891619332689, 0.6836920067400427, 0.6841085344070649, 0.6836157625925503, 0.6842665941457058, 0.6850911677832496, 0.6848148649573644, 0.685486514293467, 0.6856712406025223, 0.6849078945451181, 0.6841245788839798, 0.6843517608664214, 0.6848236246073836, 0.6847016339690328, 0.6847210011197101, 0.6848736021848691, 0.6843670511772376, 0.6846348812631247, 0.6854140805029838, 0.6844610447597781, 0.6843820616347955, 0.684816666107708, 0.6845688696509169, 0.6851775631410993, 0.684260076387999, 0.6846705416294124]\n"
          ],
          "name": "stdout"
        }
      ]
    },
    {
      "cell_type": "code",
      "metadata": {
        "id": "MN6lNag1I1uv",
        "outputId": "3dee12e0-d82f-465a-958c-bd73b4a15405",
        "colab": {
          "base_uri": "https://localhost:8080/",
          "height": 316
        }
      },
      "source": [
        "pd.DataFrame(betacoefs).hist()"
      ],
      "execution_count": null,
      "outputs": [
        {
          "output_type": "execute_result",
          "data": {
            "text/plain": [
              "array([[<matplotlib.axes._subplots.AxesSubplot object at 0x7fade439d0f0>]],\n",
              "      dtype=object)"
            ]
          },
          "metadata": {
            "tags": []
          },
          "execution_count": 23
        },
        {
          "output_type": "display_data",
          "data": {
            "image/png": "[encoded data removed]",
            "text/plain": [
              "<Figure size 432x288 with 1 Axes>"
            ]
          },
          "metadata": {
            "tags": [],
            "needs_background": "light"
          }
        }
      ]
    },
    {
      "cell_type": "code",
      "metadata": {
        "id": "LZcQ70HqJTIu",
        "outputId": "7ec8a4df-db10-4863-9277-f01f3c237f9c",
        "colab": {
          "base_uri": "https://localhost:8080/",
          "height": 353
        }
      },
      "source": [
        "import matplotlib.pyplot as plt\n",
        "plt.hist(betacoefs)"
      ],
      "execution_count": null,
      "outputs": [
        {
          "output_type": "execute_result",
          "data": {
            "text/plain": [
              "(array([  2.,  13.,  83., 326., 589., 569., 286., 111.,  19.,   2.]),\n",
              " array([0.68286477, 0.68321942, 0.68357406, 0.68392871, 0.68428336,\n",
              "        0.684638  , 0.68499265, 0.6853473 , 0.68570195, 0.68605659,\n",
              "        0.68641124]),\n",
              " <a list of 10 Patch objects>)"
            ]
          },
          "metadata": {
            "tags": []
          },
          "execution_count": 24
        },
        {
          "output_type": "display_data",
          "data": {
            "image/png": "[encoded data removed]",
            "text/plain": [
              "<Figure size 432x288 with 1 Axes>"
            ]
          },
          "metadata": {
            "tags": [],
            "needs_background": "light"
          }
        }
      ]
    },
    {
      "cell_type": "markdown",
      "metadata": {
        "id": "l8MelTxsLrzq"
      },
      "source": [
        "# Cómo son los residuos (errores estimados) en mis datos?\n"
      ]
    },
    {
      "cell_type": "code",
      "metadata": {
        "id": "n4sZ7Av3LnnM",
        "outputId": "5c988d9f-efd8-43b7-977f-bfc6864bc4e5",
        "colab": {
          "base_uri": "https://localhost:8080/",
          "height": 283
        }
      },
      "source": [
        "residuos.hist()"
      ],
      "execution_count": null,
      "outputs": [
        {
          "output_type": "execute_result",
          "data": {
            "text/plain": [
              "<matplotlib.axes._subplots.AxesSubplot at 0x7fade41c3390>"
            ]
          },
          "metadata": {
            "tags": []
          },
          "execution_count": 25
        },
        {
          "output_type": "display_data",
          "data": {
            "image/png": "[encoded data removed]",
            "text/plain": [
              "<Figure size 432x288 with 1 Axes>"
            ]
          },
          "metadata": {
            "tags": [],
            "needs_background": "light"
          }
        }
      ]
    },
    {
      "cell_type": "code",
      "metadata": {
        "id": "RpIU-4Iq4ciC"
      },
      "source": [
        "def regress(lista, data):\n",
        "  \"\"\" \n",
        "  Funcion que realiza la regresion OLS\n",
        "  La primera variable de la lista es la dependiente, el resto son las explicativas\n",
        "  data es la base de datos\n",
        "  \"\"\"\n",
        "  datos=data[lista]\n",
        "  # el metodo dropna() me permite eliminar las filas que tienen algun valor missing\n",
        "  datos=datos.dropna()\n",
        "  Y=datos[lista[0]]\n",
        "  X=datos[lista[1:]]\n",
        "  X=sm.add_constant(X)\n",
        "  modelo=sm.OLS(Y,X)\n",
        "  resultados=modelo.fit(cov_type='HC0')\n",
        "  print(resultados.summary())\n",
        "  return resultados"
      ],
      "execution_count": null,
      "outputs": []
    },
    {
      "cell_type": "code",
      "metadata": {
        "id": "6OmqjpVW4miA",
        "outputId": "290d327a-a95f-4c69-ba12-69b1e7d28022",
        "colab": {
          "base_uri": "https://localhost:8080/",
          "height": 475
        }
      },
      "source": [
        "regress(['logingreso','aesc'],data=df)"
      ],
      "execution_count": null,
      "outputs": [
        {
          "output_type": "stream",
          "text": [
            "                            OLS Regression Results                            \n",
            "==============================================================================\n",
            "Dep. Variable:             logingreso   R-squared:                       0.199\n",
            "Model:                            OLS   Adj. R-squared:                  0.199\n",
            "Method:                 Least Squares   F-statistic:                     2573.\n",
            "Date:                Wed, 14 Oct 2020   Prob (F-statistic):               0.00\n",
            "Time:                        15:37:30   Log-Likelihood:                -11674.\n",
            "No. Observations:               10082   AIC:                         2.335e+04\n",
            "Df Residuals:                   10080   BIC:                         2.337e+04\n",
            "Df Model:                           1                                         \n",
            "Covariance Type:                  HC0                                         \n",
            "==============================================================================\n",
            "                 coef    std err          z      P>|z|      [0.025      0.975]\n",
            "------------------------------------------------------------------------------\n",
            "const          8.0118      0.027    298.103      0.000       7.959       8.064\n",
            "aesc           0.1011      0.002     50.723      0.000       0.097       0.105\n",
            "==============================================================================\n",
            "Omnibus:                     1714.578   Durbin-Watson:                   1.798\n",
            "Prob(Omnibus):                  0.000   Jarque-Bera (JB):             4442.590\n",
            "Skew:                          -0.935   Prob(JB):                         0.00\n",
            "Kurtosis:                       5.660   Cond. No.                         45.7\n",
            "==============================================================================\n",
            "\n",
            "Warnings:\n",
            "[1] Standard Errors are heteroscedasticity robust (HC0)\n"
          ],
          "name": "stdout"
        },
        {
          "output_type": "execute_result",
          "data": {
            "text/plain": [
              "<statsmodels.regression.linear_model.RegressionResultsWrapper at 0x7fade4194710>"
            ]
          },
          "metadata": {
            "tags": []
          },
          "execution_count": 27
        }
      ]
    }
  ]
}