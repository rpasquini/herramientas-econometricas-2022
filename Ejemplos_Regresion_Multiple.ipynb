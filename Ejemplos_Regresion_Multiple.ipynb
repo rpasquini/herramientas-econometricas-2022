{
  "nbformat": 4,
  "nbformat_minor": 0,
  "metadata": {
    "colab": {
      "name": "Ejemplos Regresion Multiple.ipynb",
      "provenance": [],
      "toc_visible": true,
      "authorship_tag": "ABX9TyMaOt5snGr7D2DBgVveqQkX",
      "include_colab_link": true
    },
    "kernelspec": {
      "name": "python3",
      "display_name": "Python 3"
    }
  },
  "cells": [
    {
      "cell_type": "markdown",
      "metadata": {
        "id": "view-in-github",
        "colab_type": "text"
      },
      "source": [
        "<a href=\"https://colab.research.google.com/github/rpasquini/herramientas-econometricas-2022/blob/main/Ejemplos_Regresion_Multiple.ipynb\" target=\"_parent\"><img src=\"https://colab.research.google.com/assets/colab-badge.svg\" alt=\"Open In Colab\"/></a>"
      ]
    },
    {
      "cell_type": "code",
      "metadata": {
        "id": "_zCex4wbRiaY"
      },
      "source": [
        "import pandas as pd\n",
        "import statsmodels.api as sm\n",
        "import matplotlib.pyplot as plt\n",
        "import numpy as np"
      ],
      "execution_count": 2,
      "outputs": []
    },
    {
      "cell_type": "code",
      "metadata": {
        "id": "uP68Bf9se7bx"
      },
      "source": [
        "df=pd.read_csv('https://github.com/rpasquini/herramientas-econometricas/blob/main/datos/eah2016_individual.csv?raw=true')"
      ],
      "execution_count": null,
      "outputs": []
    },
    {
      "cell_type": "code",
      "metadata": {
        "id": "TOWsM0BcZUD7"
      },
      "source": [
        "df=df.loc[df.aesc<20]"
      ],
      "execution_count": null,
      "outputs": []
    },
    {
      "cell_type": "code",
      "metadata": {
        "id": "ajk2BYR8Vlrm",
        "outputId": "5d5499f5-d139-4ecf-f557-45748f09e803",
        "colab": {
          "base_uri": "https://localhost:8080/",
          "height": 412
        }
      },
      "source": [
        "df.groupby('m1')['logingreso','aesc'].count()"
      ],
      "execution_count": null,
      "outputs": [
        {
          "output_type": "stream",
          "text": [
            "/usr/local/lib/python3.6/dist-packages/ipykernel_launcher.py:1: FutureWarning: Indexing with multiple keys (implicitly converted to a tuple of keys) will be deprecated, use a list instead.\n",
            "  \"\"\"Entry point for launching an IPython kernel.\n"
          ],
          "name": "stderr"
        },
        {
          "output_type": "execute_result",
          "data": {
            "text/html": [
              "<div>\n",
              "<style scoped>\n",
              "    .dataframe tbody tr th:only-of-type {\n",
              "        vertical-align: middle;\n",
              "    }\n",
              "\n",
              "    .dataframe tbody tr th {\n",
              "        vertical-align: top;\n",
              "    }\n",
              "\n",
              "    .dataframe thead th {\n",
              "        text-align: right;\n",
              "    }\n",
              "</style>\n",
              "<table border=\"1\" class=\"dataframe\">\n",
              "  <thead>\n",
              "    <tr style=\"text-align: right;\">\n",
              "      <th></th>\n",
              "      <th>logingreso</th>\n",
              "      <th>aesc</th>\n",
              "    </tr>\n",
              "    <tr>\n",
              "      <th>m1</th>\n",
              "      <th></th>\n",
              "      <th></th>\n",
              "    </tr>\n",
              "  </thead>\n",
              "  <tbody>\n",
              "    <tr>\n",
              "      <th>0</th>\n",
              "      <td>2</td>\n",
              "      <td>2</td>\n",
              "    </tr>\n",
              "    <tr>\n",
              "      <th>5 País limítrofe</th>\n",
              "      <td>979</td>\n",
              "      <td>1225</td>\n",
              "    </tr>\n",
              "    <tr>\n",
              "      <th>99</th>\n",
              "      <td>2</td>\n",
              "      <td>2</td>\n",
              "    </tr>\n",
              "    <tr>\n",
              "      <th>Ciudad de Bs. As.</th>\n",
              "      <td>5191</td>\n",
              "      <td>8693</td>\n",
              "    </tr>\n",
              "    <tr>\n",
              "      <th>En otra provincia</th>\n",
              "      <td>1688</td>\n",
              "      <td>1899</td>\n",
              "    </tr>\n",
              "    <tr>\n",
              "      <th>Partido del GBA</th>\n",
              "      <td>874</td>\n",
              "      <td>1048</td>\n",
              "    </tr>\n",
              "    <tr>\n",
              "      <th>País no limítrofe</th>\n",
              "      <td>775</td>\n",
              "      <td>963</td>\n",
              "    </tr>\n",
              "    <tr>\n",
              "      <th>Prov. de Bs. As.</th>\n",
              "      <td>566</td>\n",
              "      <td>612</td>\n",
              "    </tr>\n",
              "    <tr>\n",
              "      <th>Prov. de Bs. As. s especif</th>\n",
              "      <td>7</td>\n",
              "      <td>8</td>\n",
              "    </tr>\n",
              "  </tbody>\n",
              "</table>\n",
              "</div>"
            ],
            "text/plain": [
              "                            logingreso  aesc\n",
              "m1                                          \n",
              "0                                    2     2\n",
              "5 País limítrofe                   979  1225\n",
              "99                                   2     2\n",
              "Ciudad de Bs. As.                 5191  8693\n",
              "En otra provincia                 1688  1899\n",
              "Partido del GBA                    874  1048\n",
              "País no limítrofe                  775   963\n",
              "Prov. de Bs. As.                   566   612\n",
              "Prov. de Bs. As. s especif           7     8"
            ]
          },
          "metadata": {
            "tags": []
          },
          "execution_count": 59
        }
      ]
    },
    {
      "cell_type": "code",
      "metadata": {
        "id": "J8mm_3-z9NP1"
      },
      "source": [
        "def regress(lista, data):\n",
        "  \"\"\" \n",
        "  Funcion que realiza la regresion OLS\n",
        "  La primera variable de la lista es la dependiente, el resto son las explicativas\n",
        "  data es la base de datos\n",
        "  \"\"\"\n",
        "  datos=data[lista]\n",
        "  # el metodo dropna() me permite eliminar las filas que tienen algun valor missing\n",
        "  datos=datos.dropna()\n",
        "  Y=datos[lista[0]]\n",
        "  X=datos[lista[1:]]\n",
        "  X=sm.add_constant(X)\n",
        "  modelo=sm.OLS(Y,X)\n",
        "  resultados=modelo.fit()\n",
        "  print(resultados.summary())\n",
        "  return resultados\n"
      ],
      "execution_count": 8,
      "outputs": []
    },
    {
      "cell_type": "markdown",
      "metadata": {
        "id": "06X5RmXWRiik"
      },
      "source": [
        " # Ejemplo multivariado para ver cómo se relacionan las variables\n",
        "Vamos a estimar:\n",
        "\n",
        "$$logingreso_i=\\beta_0+\\beta_1 aesc_i+\\epsilon_i$$\n",
        "\n",
        "Luego evaluaremos agregar dummy inmigrante limitrofe\n",
        "\n",
        "$$logingreso_i=\\beta_0+\\beta_1 aesc_i+\\beta_1 dinmigrantelimit+\\epsilon_i$$"
      ]
    },
    {
      "cell_type": "code",
      "metadata": {
        "id": "xK4sgYB8fEyO",
        "outputId": "9b2c49a4-d7a0-4129-95be-821da5e312ae",
        "colab": {
          "base_uri": "https://localhost:8080/",
          "height": 475
        }
      },
      "source": [
        "regress(['logingreso','aesc'], df)"
      ],
      "execution_count": null,
      "outputs": [
        {
          "output_type": "stream",
          "text": [
            "                            OLS Regression Results                            \n",
            "==============================================================================\n",
            "Dep. Variable:             logingreso   R-squared:                       0.199\n",
            "Model:                            OLS   Adj. R-squared:                  0.199\n",
            "Method:                 Least Squares   F-statistic:                     2507.\n",
            "Date:                Wed, 14 Oct 2020   Prob (F-statistic):               0.00\n",
            "Time:                        18:36:00   Log-Likelihood:                -11674.\n",
            "No. Observations:               10082   AIC:                         2.335e+04\n",
            "Df Residuals:                   10080   BIC:                         2.337e+04\n",
            "Df Model:                           1                                         \n",
            "Covariance Type:            nonrobust                                         \n",
            "==============================================================================\n",
            "                 coef    std err          t      P>|t|      [0.025      0.975]\n",
            "------------------------------------------------------------------------------\n",
            "const          8.0118      0.027    301.990      0.000       7.960       8.064\n",
            "aesc           0.1011      0.002     50.075      0.000       0.097       0.105\n",
            "==============================================================================\n",
            "Omnibus:                     1714.578   Durbin-Watson:                   1.798\n",
            "Prob(Omnibus):                  0.000   Jarque-Bera (JB):             4442.590\n",
            "Skew:                          -0.935   Prob(JB):                         0.00\n",
            "Kurtosis:                       5.660   Cond. No.                         45.7\n",
            "==============================================================================\n",
            "\n",
            "Warnings:\n",
            "[1] Standard Errors assume that the covariance matrix of the errors is correctly specified.\n"
          ],
          "name": "stdout"
        },
        {
          "output_type": "execute_result",
          "data": {
            "text/plain": [
              "<statsmodels.regression.linear_model.RegressionResultsWrapper at 0x7fd074310e48>"
            ]
          },
          "metadata": {
            "tags": []
          },
          "execution_count": 51
        }
      ]
    },
    {
      "cell_type": "code",
      "metadata": {
        "id": "Dkj1GlGQSFoF"
      },
      "source": [
        "df['dinmigrantelimit']=0\n",
        "df.loc[df.m1=='5 País limítrofe','dinmigrantelimit']=1"
      ],
      "execution_count": null,
      "outputs": []
    },
    {
      "cell_type": "code",
      "metadata": {
        "id": "YykmAaRyY5RE",
        "outputId": "a007fba5-c50b-477d-808d-3e39b8c1401b",
        "colab": {
          "base_uri": "https://localhost:8080/",
          "height": 492
        }
      },
      "source": [
        "regress(['logingreso','aesc','dinmigrantelimit'], df)"
      ],
      "execution_count": null,
      "outputs": [
        {
          "output_type": "stream",
          "text": [
            "                            OLS Regression Results                            \n",
            "==============================================================================\n",
            "Dep. Variable:             logingreso   R-squared:                       0.208\n",
            "Model:                            OLS   Adj. R-squared:                  0.208\n",
            "Method:                 Least Squares   F-statistic:                     1325.\n",
            "Date:                Wed, 14 Oct 2020   Prob (F-statistic):               0.00\n",
            "Time:                        18:41:48   Log-Likelihood:                -11734.\n",
            "No. Observations:               10084   AIC:                         2.347e+04\n",
            "Df Residuals:                   10081   BIC:                         2.349e+04\n",
            "Df Model:                           2                                         \n",
            "Covariance Type:            nonrobust                                         \n",
            "====================================================================================\n",
            "                       coef    std err          t      P>|t|      [0.025      0.975]\n",
            "------------------------------------------------------------------------------------\n",
            "const                8.0732      0.028    289.665      0.000       8.019       8.128\n",
            "aesc                 0.0981      0.002     47.259      0.000       0.094       0.102\n",
            "dinmigrantelimit    -0.2631      0.027     -9.863      0.000      -0.315      -0.211\n",
            "==============================================================================\n",
            "Omnibus:                     2515.705   Durbin-Watson:                   1.788\n",
            "Prob(Omnibus):                  0.000   Jarque-Bera (JB):            11865.525\n",
            "Skew:                          -1.134   Prob(JB):                         0.00\n",
            "Kurtosis:                       7.806   Cond. No.                         53.1\n",
            "==============================================================================\n",
            "\n",
            "Warnings:\n",
            "[1] Standard Errors assume that the covariance matrix of the errors is correctly specified.\n"
          ],
          "name": "stdout"
        },
        {
          "output_type": "execute_result",
          "data": {
            "text/plain": [
              "<statsmodels.regression.linear_model.RegressionResultsWrapper at 0x7fd0742efb70>"
            ]
          },
          "metadata": {
            "tags": []
          },
          "execution_count": 68
        }
      ]
    },
    {
      "cell_type": "code",
      "metadata": {
        "id": "ZgnFmPVCYtJc",
        "outputId": "0407951a-fda3-40fe-bcc2-464f81a5fb47",
        "colab": {
          "base_uri": "https://localhost:8080/",
          "height": 70
        }
      },
      "source": [
        "df.m1.unique()"
      ],
      "execution_count": null,
      "outputs": [
        {
          "output_type": "execute_result",
          "data": {
            "text/plain": [
              "array(['Ciudad de Bs. As.', '5 País limítrofe', 'Partido del GBA',\n",
              "       'En otra provincia', 'Prov. de Bs. As.', '99', 'País no limítrofe',\n",
              "       'Prov. de Bs. As. s especif', 0], dtype=object)"
            ]
          },
          "metadata": {
            "tags": []
          },
          "execution_count": 39
        }
      ]
    },
    {
      "cell_type": "code",
      "metadata": {
        "id": "s7A9AW7dWbBy",
        "outputId": "96f5829f-c6cf-447f-b34f-dde328f439ed",
        "colab": {
          "base_uri": "https://localhost:8080/",
          "height": 110
        }
      },
      "source": [
        "df[['aesc','dinmigrantelimit']].corr()"
      ],
      "execution_count": null,
      "outputs": [
        {
          "output_type": "execute_result",
          "data": {
            "text/html": [
              "<div>\n",
              "<style scoped>\n",
              "    .dataframe tbody tr th:only-of-type {\n",
              "        vertical-align: middle;\n",
              "    }\n",
              "\n",
              "    .dataframe tbody tr th {\n",
              "        vertical-align: top;\n",
              "    }\n",
              "\n",
              "    .dataframe thead th {\n",
              "        text-align: right;\n",
              "    }\n",
              "</style>\n",
              "<table border=\"1\" class=\"dataframe\">\n",
              "  <thead>\n",
              "    <tr style=\"text-align: right;\">\n",
              "      <th></th>\n",
              "      <th>aesc</th>\n",
              "      <th>dinmigrantelimit</th>\n",
              "    </tr>\n",
              "  </thead>\n",
              "  <tbody>\n",
              "    <tr>\n",
              "      <th>aesc</th>\n",
              "      <td>1.000000</td>\n",
              "      <td>-0.046946</td>\n",
              "    </tr>\n",
              "    <tr>\n",
              "      <th>dinmigrantelimit</th>\n",
              "      <td>-0.046946</td>\n",
              "      <td>1.000000</td>\n",
              "    </tr>\n",
              "  </tbody>\n",
              "</table>\n",
              "</div>"
            ],
            "text/plain": [
              "                      aesc  dinmigrantelimit\n",
              "aesc              1.000000         -0.046946\n",
              "dinmigrantelimit -0.046946          1.000000"
            ]
          },
          "metadata": {
            "tags": []
          },
          "execution_count": 69
        }
      ]
    },
    {
      "cell_type": "code",
      "metadata": {
        "id": "Kp3PxMRNSY-9",
        "outputId": "e79f5ae7-5b48-4cbc-82a6-2622c9c78999",
        "colab": {
          "base_uri": "https://localhost:8080/",
          "height": 475
        }
      },
      "source": [
        "regress(['logingreso', 'dinmigrante'], df)"
      ],
      "execution_count": null,
      "outputs": [
        {
          "output_type": "stream",
          "text": [
            "                            OLS Regression Results                            \n",
            "==============================================================================\n",
            "Dep. Variable:             logingreso   R-squared:                       0.018\n",
            "Model:                            OLS   Adj. R-squared:                  0.018\n",
            "Method:                 Least Squares   F-statistic:                     189.6\n",
            "Date:                Wed, 14 Oct 2020   Prob (F-statistic):           9.46e-43\n",
            "Time:                        18:18:42   Log-Likelihood:                -12742.\n",
            "No. Observations:               10111   AIC:                         2.549e+04\n",
            "Df Residuals:                   10109   BIC:                         2.550e+04\n",
            "Df Model:                           1                                         \n",
            "Covariance Type:            nonrobust                                         \n",
            "===============================================================================\n",
            "                  coef    std err          t      P>|t|      [0.025      0.975]\n",
            "-------------------------------------------------------------------------------\n",
            "const           9.3516      0.010    947.430      0.000       9.332       9.371\n",
            "dinmigrante    -0.2661      0.019    -13.769      0.000      -0.304      -0.228\n",
            "==============================================================================\n",
            "Omnibus:                     1143.435   Durbin-Watson:                   1.548\n",
            "Prob(Omnibus):                  0.000   Jarque-Bera (JB):             2434.064\n",
            "Skew:                          -0.705   Prob(JB):                         0.00\n",
            "Kurtosis:                       4.947   Cond. No.                         2.47\n",
            "==============================================================================\n",
            "\n",
            "Warnings:\n",
            "[1] Standard Errors assume that the covariance matrix of the errors is correctly specified.\n"
          ],
          "name": "stdout"
        },
        {
          "output_type": "execute_result",
          "data": {
            "text/plain": [
              "<statsmodels.regression.linear_model.RegressionResultsWrapper at 0x7fd07452eb00>"
            ]
          },
          "metadata": {
            "tags": []
          },
          "execution_count": 20
        }
      ]
    },
    {
      "cell_type": "code",
      "metadata": {
        "id": "ZxoAB9RoSdtr",
        "outputId": "6e53151a-bb4d-4bfa-e89a-e7850a229df0",
        "colab": {
          "base_uri": "https://localhost:8080/",
          "height": 492
        }
      },
      "source": [
        "regress(['logingreso', 'dmujer', 'aesc'], df)"
      ],
      "execution_count": null,
      "outputs": [
        {
          "output_type": "stream",
          "text": [
            "                            OLS Regression Results                            \n",
            "==============================================================================\n",
            "Dep. Variable:             logingreso   R-squared:                       0.095\n",
            "Model:                            OLS   Adj. R-squared:                  0.094\n",
            "Method:                 Least Squares   F-statistic:                     528.6\n",
            "Date:                Wed, 14 Oct 2020   Prob (F-statistic):          4.58e-219\n",
            "Time:                        18:16:07   Log-Likelihood:                -12335.\n",
            "No. Observations:               10113   AIC:                         2.468e+04\n",
            "Df Residuals:                   10110   BIC:                         2.470e+04\n",
            "Df Model:                           2                                         \n",
            "Covariance Type:            nonrobust                                         \n",
            "==============================================================================\n",
            "                 coef    std err          t      P>|t|      [0.025      0.975]\n",
            "------------------------------------------------------------------------------\n",
            "const          8.9839      0.021    427.290      0.000       8.943       9.025\n",
            "dmujer        -0.2972      0.016    -18.202      0.000      -0.329      -0.265\n",
            "aesc           0.0354      0.001     26.488      0.000       0.033       0.038\n",
            "==============================================================================\n",
            "Omnibus:                     2014.180   Durbin-Watson:                   1.626\n",
            "Prob(Omnibus):                  0.000   Jarque-Bera (JB):             6291.756\n",
            "Skew:                          -1.020   Prob(JB):                         0.00\n",
            "Kurtosis:                       6.282   Cond. No.                         40.1\n",
            "==============================================================================\n",
            "\n",
            "Warnings:\n",
            "[1] Standard Errors assume that the covariance matrix of the errors is correctly specified.\n"
          ],
          "name": "stdout"
        },
        {
          "output_type": "execute_result",
          "data": {
            "text/plain": [
              "<statsmodels.regression.linear_model.RegressionResultsWrapper at 0x7fd07452eeb8>"
            ]
          },
          "metadata": {
            "tags": []
          },
          "execution_count": 18
        }
      ]
    },
    {
      "cell_type": "markdown",
      "metadata": {
        "id": "4HbYqws-Xjm_"
      },
      "source": [
        "# Ejemplo OVB\n"
      ]
    },
    {
      "cell_type": "markdown",
      "source": [
        "Modelo Verdadero\n",
        "$y=\\beta_0+\\beta_1 x_1+\\beta_2 x_2+\\epsilon$\n",
        "\n",
        "Modelo estimo\n",
        "$y=\\beta_0+\\beta_1 x_1+\\epsilon$\n",
        "\n",
        "Mi objetivo es entender $\\beta_1$\n",
        "\n",
        "Tengo un problema si:\n",
        "\n",
        "* $x_2$ explica $y$\n",
        "* Si $x_1$ y $x_2$ estan relacionados\n",
        " "
      ],
      "metadata": {
        "id": "RJYZGQ-pkU2Z"
      }
    },
    {
      "cell_type": "markdown",
      "source": [
        "Caso variable irrelevante\n",
        "\n",
        "Modelo Verdadero\n",
        "$y=\\beta_0+\\beta_1 x_1+0  x_2+\\epsilon$\n",
        "\n",
        "Modelo estimo\n",
        "$y=\\beta_0+\\beta_1 x_1+\\beta_2 x_2+\\epsilon$\n",
        "\n",
        "Mi objetivo es entender $\\beta_1$\n",
        "\n",
        "No es grave. \n",
        "El costo es inflar el s.error\n",
        "\n"
      ],
      "metadata": {
        "id": "Reghy2m877GR"
      }
    },
    {
      "cell_type": "code",
      "metadata": {
        "id": "9yt1pkXzR-yG"
      },
      "source": [
        "datosedu=pd.read_csv('https://raw.githubusercontent.com/rpasquini/urban-econometrics/master/data/estadistica-educativa.csv')"
      ],
      "execution_count": 3,
      "outputs": []
    },
    {
      "cell_type": "code",
      "source": [
        "datosedu"
      ],
      "metadata": {
        "id": "AGlNzxHcrWep",
        "outputId": "38dbd980-f554-4a91-d3f2-eae5339d7167",
        "colab": {
          "base_uri": "https://localhost:8080/",
          "height": 488
        }
      },
      "execution_count": 4,
      "outputs": [
        {
          "output_type": "execute_result",
          "data": {
            "text/plain": [
              "      id tipo_gestion  nivel_educ_madre    iecep  one_alto_cs_nat  \\\n",
              "0      1      Privada              5.79  6.65855            0.290   \n",
              "1      2      Privada              6.25  6.43845            0.000   \n",
              "2      3      Privada              5.53  7.19646            0.300   \n",
              "3      4      Estatal              6.06  6.95247            0.265   \n",
              "4      5      Estatal              4.65  3.95331            0.054   \n",
              "..   ...          ...               ...      ...              ...   \n",
              "303  304      Privada              5.79  3.64162            0.000   \n",
              "304  305      Estatal              4.83  5.92635            0.229   \n",
              "305  306      Estatal              4.83  5.36956            0.047   \n",
              "306  307      Privada              6.23  7.13024            0.214   \n",
              "307  308      Estatal              5.04  5.86089            0.163   \n",
              "\n",
              "     one_bajo_cs_nat  one_medio_cs_nat  one_alto_cs_soc  one_bajo_cs_soc  \\\n",
              "0              0.097             0.613            0.519            0.037   \n",
              "1              0.214             0.786            0.227            0.227   \n",
              "2              0.025             0.675            0.561            0.073   \n",
              "3              0.229             0.506            0.463            0.053   \n",
              "4              0.518             0.429            0.182            0.109   \n",
              "..               ...               ...              ...              ...   \n",
              "303            0.548             0.452            0.152            0.485   \n",
              "304            0.271             0.500            0.140            0.281   \n",
              "305            0.313             0.641            0.134            0.269   \n",
              "306            0.143             0.643            0.345            0.172   \n",
              "307            0.286             0.551            0.164            0.164   \n",
              "\n",
              "     one_medio_cs_soc  ...  one_medio_mat  tasa_repeticion_2012  \\\n",
              "0               0.444  ...          0.615             16.509400   \n",
              "1               0.545  ...          0.714              0.000000   \n",
              "2               0.366  ...          0.561              2.061860   \n",
              "3               0.484  ...          0.671              3.278690   \n",
              "4               0.709  ...          0.547             21.496300   \n",
              "..                ...  ...            ...                   ...   \n",
              "303             0.364  ...          0.441              0.000000   \n",
              "304             0.579  ...          0.643             10.545100   \n",
              "305             0.597  ...          0.641             19.207300   \n",
              "306             0.483  ...          0.333              0.966184   \n",
              "307             0.672  ...          0.667              6.469500   \n",
              "\n",
              "     tasa_sobreedad_2012  tasa_sobreedad_avanzada_2012  promocionados_2011  \\\n",
              "0               17.45280                      2.358490             83.1818   \n",
              "1               60.14490                      9.420290             61.7188   \n",
              "2                6.95876                      2.061860             92.2078   \n",
              "3               13.93440                      1.311480             87.2659   \n",
              "4               70.81140                     44.362500             72.1358   \n",
              "..                   ...                           ...                 ...   \n",
              "303             13.10680                      1.456310             92.4883   \n",
              "304             41.28690                     25.290400             70.7477   \n",
              "305             48.62800                     19.969500             62.8788   \n",
              "306              2.89855                      0.483092             91.6667   \n",
              "307             27.72640                      6.839190             73.0453   \n",
              "\n",
              "     salidos_sin_pase_2011  ive_2011  domiciliados_pba  extranjeros_2013  \\\n",
              "0                 1.293100  0.131480               0.0          5.172410   \n",
              "1                 0.000000  0.076608               0.0          2.290080   \n",
              "2                 2.784810  0.067712               0.0          4.639180   \n",
              "3                 1.654410  0.074672               3.5          5.871560   \n",
              "4                20.140500  0.553109              17.4         10.756100   \n",
              "..                     ...       ...               ...               ...   \n",
              "303               0.934579  0.027336               0.0          1.860470   \n",
              "304               8.133560  0.226170              21.0          9.444990   \n",
              "305               0.000000  0.255610               6.5         17.749600   \n",
              "306               0.460829  0.020934               0.0          0.483092   \n",
              "307               6.225680  0.168129              28.4          5.871210   \n",
              "\n",
              "     inversion_alumnos_2013  \n",
              "0                   24340.9  \n",
              "1                   26374.0  \n",
              "2                   15561.5  \n",
              "3                   20568.4  \n",
              "4                   25034.3  \n",
              "..                      ...  \n",
              "303                 23411.7  \n",
              "304                 34052.7  \n",
              "305                 21198.8  \n",
              "306                 14344.5  \n",
              "307                 29772.7  \n",
              "\n",
              "[308 rows x 25 columns]"
            ],
            "text/html": [
              "\n",
              "  <div id=\"df-255899cf-2a2b-4756-a185-eb5f783f4675\">\n",
              "    <div class=\"colab-df-container\">\n",
              "      <div>\n",
              "<style scoped>\n",
              "    .dataframe tbody tr th:only-of-type {\n",
              "        vertical-align: middle;\n",
              "    }\n",
              "\n",
              "    .dataframe tbody tr th {\n",
              "        vertical-align: top;\n",
              "    }\n",
              "\n",
              "    .dataframe thead th {\n",
              "        text-align: right;\n",
              "    }\n",
              "</style>\n",
              "<table border=\"1\" class=\"dataframe\">\n",
              "  <thead>\n",
              "    <tr style=\"text-align: right;\">\n",
              "      <th></th>\n",
              "      <th>id</th>\n",
              "      <th>tipo_gestion</th>\n",
              "      <th>nivel_educ_madre</th>\n",
              "      <th>iecep</th>\n",
              "      <th>one_alto_cs_nat</th>\n",
              "      <th>one_bajo_cs_nat</th>\n",
              "      <th>one_medio_cs_nat</th>\n",
              "      <th>one_alto_cs_soc</th>\n",
              "      <th>one_bajo_cs_soc</th>\n",
              "      <th>one_medio_cs_soc</th>\n",
              "      <th>...</th>\n",
              "      <th>one_medio_mat</th>\n",
              "      <th>tasa_repeticion_2012</th>\n",
              "      <th>tasa_sobreedad_2012</th>\n",
              "      <th>tasa_sobreedad_avanzada_2012</th>\n",
              "      <th>promocionados_2011</th>\n",
              "      <th>salidos_sin_pase_2011</th>\n",
              "      <th>ive_2011</th>\n",
              "      <th>domiciliados_pba</th>\n",
              "      <th>extranjeros_2013</th>\n",
              "      <th>inversion_alumnos_2013</th>\n",
              "    </tr>\n",
              "  </thead>\n",
              "  <tbody>\n",
              "    <tr>\n",
              "      <th>0</th>\n",
              "      <td>1</td>\n",
              "      <td>Privada</td>\n",
              "      <td>5.79</td>\n",
              "      <td>6.65855</td>\n",
              "      <td>0.290</td>\n",
              "      <td>0.097</td>\n",
              "      <td>0.613</td>\n",
              "      <td>0.519</td>\n",
              "      <td>0.037</td>\n",
              "      <td>0.444</td>\n",
              "      <td>...</td>\n",
              "      <td>0.615</td>\n",
              "      <td>16.509400</td>\n",
              "      <td>17.45280</td>\n",
              "      <td>2.358490</td>\n",
              "      <td>83.1818</td>\n",
              "      <td>1.293100</td>\n",
              "      <td>0.131480</td>\n",
              "      <td>0.0</td>\n",
              "      <td>5.172410</td>\n",
              "      <td>24340.9</td>\n",
              "    </tr>\n",
              "    <tr>\n",
              "      <th>1</th>\n",
              "      <td>2</td>\n",
              "      <td>Privada</td>\n",
              "      <td>6.25</td>\n",
              "      <td>6.43845</td>\n",
              "      <td>0.000</td>\n",
              "      <td>0.214</td>\n",
              "      <td>0.786</td>\n",
              "      <td>0.227</td>\n",
              "      <td>0.227</td>\n",
              "      <td>0.545</td>\n",
              "      <td>...</td>\n",
              "      <td>0.714</td>\n",
              "      <td>0.000000</td>\n",
              "      <td>60.14490</td>\n",
              "      <td>9.420290</td>\n",
              "      <td>61.7188</td>\n",
              "      <td>0.000000</td>\n",
              "      <td>0.076608</td>\n",
              "      <td>0.0</td>\n",
              "      <td>2.290080</td>\n",
              "      <td>26374.0</td>\n",
              "    </tr>\n",
              "    <tr>\n",
              "      <th>2</th>\n",
              "      <td>3</td>\n",
              "      <td>Privada</td>\n",
              "      <td>5.53</td>\n",
              "      <td>7.19646</td>\n",
              "      <td>0.300</td>\n",
              "      <td>0.025</td>\n",
              "      <td>0.675</td>\n",
              "      <td>0.561</td>\n",
              "      <td>0.073</td>\n",
              "      <td>0.366</td>\n",
              "      <td>...</td>\n",
              "      <td>0.561</td>\n",
              "      <td>2.061860</td>\n",
              "      <td>6.95876</td>\n",
              "      <td>2.061860</td>\n",
              "      <td>92.2078</td>\n",
              "      <td>2.784810</td>\n",
              "      <td>0.067712</td>\n",
              "      <td>0.0</td>\n",
              "      <td>4.639180</td>\n",
              "      <td>15561.5</td>\n",
              "    </tr>\n",
              "    <tr>\n",
              "      <th>3</th>\n",
              "      <td>4</td>\n",
              "      <td>Estatal</td>\n",
              "      <td>6.06</td>\n",
              "      <td>6.95247</td>\n",
              "      <td>0.265</td>\n",
              "      <td>0.229</td>\n",
              "      <td>0.506</td>\n",
              "      <td>0.463</td>\n",
              "      <td>0.053</td>\n",
              "      <td>0.484</td>\n",
              "      <td>...</td>\n",
              "      <td>0.671</td>\n",
              "      <td>3.278690</td>\n",
              "      <td>13.93440</td>\n",
              "      <td>1.311480</td>\n",
              "      <td>87.2659</td>\n",
              "      <td>1.654410</td>\n",
              "      <td>0.074672</td>\n",
              "      <td>3.5</td>\n",
              "      <td>5.871560</td>\n",
              "      <td>20568.4</td>\n",
              "    </tr>\n",
              "    <tr>\n",
              "      <th>4</th>\n",
              "      <td>5</td>\n",
              "      <td>Estatal</td>\n",
              "      <td>4.65</td>\n",
              "      <td>3.95331</td>\n",
              "      <td>0.054</td>\n",
              "      <td>0.518</td>\n",
              "      <td>0.429</td>\n",
              "      <td>0.182</td>\n",
              "      <td>0.109</td>\n",
              "      <td>0.709</td>\n",
              "      <td>...</td>\n",
              "      <td>0.547</td>\n",
              "      <td>21.496300</td>\n",
              "      <td>70.81140</td>\n",
              "      <td>44.362500</td>\n",
              "      <td>72.1358</td>\n",
              "      <td>20.140500</td>\n",
              "      <td>0.553109</td>\n",
              "      <td>17.4</td>\n",
              "      <td>10.756100</td>\n",
              "      <td>25034.3</td>\n",
              "    </tr>\n",
              "    <tr>\n",
              "      <th>...</th>\n",
              "      <td>...</td>\n",
              "      <td>...</td>\n",
              "      <td>...</td>\n",
              "      <td>...</td>\n",
              "      <td>...</td>\n",
              "      <td>...</td>\n",
              "      <td>...</td>\n",
              "      <td>...</td>\n",
              "      <td>...</td>\n",
              "      <td>...</td>\n",
              "      <td>...</td>\n",
              "      <td>...</td>\n",
              "      <td>...</td>\n",
              "      <td>...</td>\n",
              "      <td>...</td>\n",
              "      <td>...</td>\n",
              "      <td>...</td>\n",
              "      <td>...</td>\n",
              "      <td>...</td>\n",
              "      <td>...</td>\n",
              "      <td>...</td>\n",
              "    </tr>\n",
              "    <tr>\n",
              "      <th>303</th>\n",
              "      <td>304</td>\n",
              "      <td>Privada</td>\n",
              "      <td>5.79</td>\n",
              "      <td>3.64162</td>\n",
              "      <td>0.000</td>\n",
              "      <td>0.548</td>\n",
              "      <td>0.452</td>\n",
              "      <td>0.152</td>\n",
              "      <td>0.485</td>\n",
              "      <td>0.364</td>\n",
              "      <td>...</td>\n",
              "      <td>0.441</td>\n",
              "      <td>0.000000</td>\n",
              "      <td>13.10680</td>\n",
              "      <td>1.456310</td>\n",
              "      <td>92.4883</td>\n",
              "      <td>0.934579</td>\n",
              "      <td>0.027336</td>\n",
              "      <td>0.0</td>\n",
              "      <td>1.860470</td>\n",
              "      <td>23411.7</td>\n",
              "    </tr>\n",
              "    <tr>\n",
              "      <th>304</th>\n",
              "      <td>305</td>\n",
              "      <td>Estatal</td>\n",
              "      <td>4.83</td>\n",
              "      <td>5.92635</td>\n",
              "      <td>0.229</td>\n",
              "      <td>0.271</td>\n",
              "      <td>0.500</td>\n",
              "      <td>0.140</td>\n",
              "      <td>0.281</td>\n",
              "      <td>0.579</td>\n",
              "      <td>...</td>\n",
              "      <td>0.643</td>\n",
              "      <td>10.545100</td>\n",
              "      <td>41.28690</td>\n",
              "      <td>25.290400</td>\n",
              "      <td>70.7477</td>\n",
              "      <td>8.133560</td>\n",
              "      <td>0.226170</td>\n",
              "      <td>21.0</td>\n",
              "      <td>9.444990</td>\n",
              "      <td>34052.7</td>\n",
              "    </tr>\n",
              "    <tr>\n",
              "      <th>305</th>\n",
              "      <td>306</td>\n",
              "      <td>Estatal</td>\n",
              "      <td>4.83</td>\n",
              "      <td>5.36956</td>\n",
              "      <td>0.047</td>\n",
              "      <td>0.313</td>\n",
              "      <td>0.641</td>\n",
              "      <td>0.134</td>\n",
              "      <td>0.269</td>\n",
              "      <td>0.597</td>\n",
              "      <td>...</td>\n",
              "      <td>0.641</td>\n",
              "      <td>19.207300</td>\n",
              "      <td>48.62800</td>\n",
              "      <td>19.969500</td>\n",
              "      <td>62.8788</td>\n",
              "      <td>0.000000</td>\n",
              "      <td>0.255610</td>\n",
              "      <td>6.5</td>\n",
              "      <td>17.749600</td>\n",
              "      <td>21198.8</td>\n",
              "    </tr>\n",
              "    <tr>\n",
              "      <th>306</th>\n",
              "      <td>307</td>\n",
              "      <td>Privada</td>\n",
              "      <td>6.23</td>\n",
              "      <td>7.13024</td>\n",
              "      <td>0.214</td>\n",
              "      <td>0.143</td>\n",
              "      <td>0.643</td>\n",
              "      <td>0.345</td>\n",
              "      <td>0.172</td>\n",
              "      <td>0.483</td>\n",
              "      <td>...</td>\n",
              "      <td>0.333</td>\n",
              "      <td>0.966184</td>\n",
              "      <td>2.89855</td>\n",
              "      <td>0.483092</td>\n",
              "      <td>91.6667</td>\n",
              "      <td>0.460829</td>\n",
              "      <td>0.020934</td>\n",
              "      <td>0.0</td>\n",
              "      <td>0.483092</td>\n",
              "      <td>14344.5</td>\n",
              "    </tr>\n",
              "    <tr>\n",
              "      <th>307</th>\n",
              "      <td>308</td>\n",
              "      <td>Estatal</td>\n",
              "      <td>5.04</td>\n",
              "      <td>5.86089</td>\n",
              "      <td>0.163</td>\n",
              "      <td>0.286</td>\n",
              "      <td>0.551</td>\n",
              "      <td>0.164</td>\n",
              "      <td>0.164</td>\n",
              "      <td>0.672</td>\n",
              "      <td>...</td>\n",
              "      <td>0.667</td>\n",
              "      <td>6.469500</td>\n",
              "      <td>27.72640</td>\n",
              "      <td>6.839190</td>\n",
              "      <td>73.0453</td>\n",
              "      <td>6.225680</td>\n",
              "      <td>0.168129</td>\n",
              "      <td>28.4</td>\n",
              "      <td>5.871210</td>\n",
              "      <td>29772.7</td>\n",
              "    </tr>\n",
              "  </tbody>\n",
              "</table>\n",
              "<p>308 rows × 25 columns</p>\n",
              "</div>\n",
              "      <button class=\"colab-df-convert\" onclick=\"convertToInteractive('df-255899cf-2a2b-4756-a185-eb5f783f4675')\"\n",
              "              title=\"Convert this dataframe to an interactive table.\"\n",
              "              style=\"display:none;\">\n",
              "        \n",
              "  <svg xmlns=\"http://www.w3.org/2000/svg\" height=\"24px\"viewBox=\"0 0 24 24\"\n",
              "       width=\"24px\">\n",
              "    <path d=\"M0 0h24v24H0V0z\" fill=\"none\"/>\n",
              "    <path d=\"M18.56 5.44l.94 2.06.94-2.06 2.06-.94-2.06-.94-.94-2.06-.94 2.06-2.06.94zm-11 1L8.5 8.5l.94-2.06 2.06-.94-2.06-.94L8.5 2.5l-.94 2.06-2.06.94zm10 10l.94 2.06.94-2.06 2.06-.94-2.06-.94-.94-2.06-.94 2.06-2.06.94z\"/><path d=\"M17.41 7.96l-1.37-1.37c-.4-.4-.92-.59-1.43-.59-.52 0-1.04.2-1.43.59L10.3 9.45l-7.72 7.72c-.78.78-.78 2.05 0 2.83L4 21.41c.39.39.9.59 1.41.59.51 0 1.02-.2 1.41-.59l7.78-7.78 2.81-2.81c.8-.78.8-2.07 0-2.86zM5.41 20L4 18.59l7.72-7.72 1.47 1.35L5.41 20z\"/>\n",
              "  </svg>\n",
              "      </button>\n",
              "      \n",
              "  <style>\n",
              "    .colab-df-container {\n",
              "      display:flex;\n",
              "      flex-wrap:wrap;\n",
              "      gap: 12px;\n",
              "    }\n",
              "\n",
              "    .colab-df-convert {\n",
              "      background-color: #E8F0FE;\n",
              "      border: none;\n",
              "      border-radius: 50%;\n",
              "      cursor: pointer;\n",
              "      display: none;\n",
              "      fill: #1967D2;\n",
              "      height: 32px;\n",
              "      padding: 0 0 0 0;\n",
              "      width: 32px;\n",
              "    }\n",
              "\n",
              "    .colab-df-convert:hover {\n",
              "      background-color: #E2EBFA;\n",
              "      box-shadow: 0px 1px 2px rgba(60, 64, 67, 0.3), 0px 1px 3px 1px rgba(60, 64, 67, 0.15);\n",
              "      fill: #174EA6;\n",
              "    }\n",
              "\n",
              "    [theme=dark] .colab-df-convert {\n",
              "      background-color: #3B4455;\n",
              "      fill: #D2E3FC;\n",
              "    }\n",
              "\n",
              "    [theme=dark] .colab-df-convert:hover {\n",
              "      background-color: #434B5C;\n",
              "      box-shadow: 0px 1px 3px 1px rgba(0, 0, 0, 0.15);\n",
              "      filter: drop-shadow(0px 1px 2px rgba(0, 0, 0, 0.3));\n",
              "      fill: #FFFFFF;\n",
              "    }\n",
              "  </style>\n",
              "\n",
              "      <script>\n",
              "        const buttonEl =\n",
              "          document.querySelector('#df-255899cf-2a2b-4756-a185-eb5f783f4675 button.colab-df-convert');\n",
              "        buttonEl.style.display =\n",
              "          google.colab.kernel.accessAllowed ? 'block' : 'none';\n",
              "\n",
              "        async function convertToInteractive(key) {\n",
              "          const element = document.querySelector('#df-255899cf-2a2b-4756-a185-eb5f783f4675');\n",
              "          const dataTable =\n",
              "            await google.colab.kernel.invokeFunction('convertToInteractive',\n",
              "                                                     [key], {});\n",
              "          if (!dataTable) return;\n",
              "\n",
              "          const docLinkHtml = 'Like what you see? Visit the ' +\n",
              "            '<a target=\"_blank\" href=https://colab.research.google.com/notebooks/data_table.ipynb>data table notebook</a>'\n",
              "            + ' to learn more about interactive tables.';\n",
              "          element.innerHTML = '';\n",
              "          dataTable['output_type'] = 'display_data';\n",
              "          await google.colab.output.renderOutput(dataTable, element);\n",
              "          const docLink = document.createElement('div');\n",
              "          docLink.innerHTML = docLinkHtml;\n",
              "          element.appendChild(docLink);\n",
              "        }\n",
              "      </script>\n",
              "    </div>\n",
              "  </div>\n",
              "  "
            ]
          },
          "metadata": {},
          "execution_count": 4
        }
      ]
    },
    {
      "cell_type": "code",
      "source": [
        "datosedu['iecep'].hist()"
      ],
      "metadata": {
        "id": "J7IdAN2AsBj2",
        "outputId": "ce1b62d3-a5a9-4d6e-833c-876ab3d8d46d",
        "colab": {
          "base_uri": "https://localhost:8080/",
          "height": 283
        }
      },
      "execution_count": 5,
      "outputs": [
        {
          "output_type": "execute_result",
          "data": {
            "text/plain": [
              "<matplotlib.axes._subplots.AxesSubplot at 0x7fae3c695d50>"
            ]
          },
          "metadata": {},
          "execution_count": 5
        },
        {
          "output_type": "display_data",
          "data": {
            "text/plain": [
              "<Figure size 432x288 with 1 Axes>"
            ],
            "image/png": "[encoded data removed]"
          },
          "metadata": {
            "needs_background": "light"
          }
        }
      ]
    },
    {
      "cell_type": "code",
      "source": [],
      "metadata": {
        "id": "PNzX5mnVr_UX"
      },
      "execution_count": null,
      "outputs": []
    },
    {
      "cell_type": "markdown",
      "source": [
        "$iecep=\\beta_0+\\beta_1 dpublico+\\epsilon$"
      ],
      "metadata": {
        "id": "_9TqYaXjss8j"
      }
    },
    {
      "cell_type": "code",
      "source": [
        "datosedu['dpublico']=0\n",
        "datosedu.loc[datosedu['tipo_gestion']==\"Estatal\",'dpublico']=1"
      ],
      "metadata": {
        "id": "MXjZgtYks_1B"
      },
      "execution_count": 6,
      "outputs": []
    },
    {
      "cell_type": "code",
      "source": [
        "datosedu[['tipo_gestion','dpublico']]"
      ],
      "metadata": {
        "id": "61qrVM93tsLe",
        "outputId": "75638a53-310a-4294-c82a-00a23f50afbc",
        "colab": {
          "base_uri": "https://localhost:8080/",
          "height": 424
        }
      },
      "execution_count": 7,
      "outputs": [
        {
          "output_type": "execute_result",
          "data": {
            "text/plain": [
              "    tipo_gestion  dpublico\n",
              "0        Privada         0\n",
              "1        Privada         0\n",
              "2        Privada         0\n",
              "3        Estatal         1\n",
              "4        Estatal         1\n",
              "..           ...       ...\n",
              "303      Privada         0\n",
              "304      Estatal         1\n",
              "305      Estatal         1\n",
              "306      Privada         0\n",
              "307      Estatal         1\n",
              "\n",
              "[308 rows x 2 columns]"
            ],
            "text/html": [
              "\n",
              "  <div id=\"df-ff71b4c5-c508-4c28-8b2a-8d9c7a102734\">\n",
              "    <div class=\"colab-df-container\">\n",
              "      <div>\n",
              "<style scoped>\n",
              "    .dataframe tbody tr th:only-of-type {\n",
              "        vertical-align: middle;\n",
              "    }\n",
              "\n",
              "    .dataframe tbody tr th {\n",
              "        vertical-align: top;\n",
              "    }\n",
              "\n",
              "    .dataframe thead th {\n",
              "        text-align: right;\n",
              "    }\n",
              "</style>\n",
              "<table border=\"1\" class=\"dataframe\">\n",
              "  <thead>\n",
              "    <tr style=\"text-align: right;\">\n",
              "      <th></th>\n",
              "      <th>tipo_gestion</th>\n",
              "      <th>dpublico</th>\n",
              "    </tr>\n",
              "  </thead>\n",
              "  <tbody>\n",
              "    <tr>\n",
              "      <th>0</th>\n",
              "      <td>Privada</td>\n",
              "      <td>0</td>\n",
              "    </tr>\n",
              "    <tr>\n",
              "      <th>1</th>\n",
              "      <td>Privada</td>\n",
              "      <td>0</td>\n",
              "    </tr>\n",
              "    <tr>\n",
              "      <th>2</th>\n",
              "      <td>Privada</td>\n",
              "      <td>0</td>\n",
              "    </tr>\n",
              "    <tr>\n",
              "      <th>3</th>\n",
              "      <td>Estatal</td>\n",
              "      <td>1</td>\n",
              "    </tr>\n",
              "    <tr>\n",
              "      <th>4</th>\n",
              "      <td>Estatal</td>\n",
              "      <td>1</td>\n",
              "    </tr>\n",
              "    <tr>\n",
              "      <th>...</th>\n",
              "      <td>...</td>\n",
              "      <td>...</td>\n",
              "    </tr>\n",
              "    <tr>\n",
              "      <th>303</th>\n",
              "      <td>Privada</td>\n",
              "      <td>0</td>\n",
              "    </tr>\n",
              "    <tr>\n",
              "      <th>304</th>\n",
              "      <td>Estatal</td>\n",
              "      <td>1</td>\n",
              "    </tr>\n",
              "    <tr>\n",
              "      <th>305</th>\n",
              "      <td>Estatal</td>\n",
              "      <td>1</td>\n",
              "    </tr>\n",
              "    <tr>\n",
              "      <th>306</th>\n",
              "      <td>Privada</td>\n",
              "      <td>0</td>\n",
              "    </tr>\n",
              "    <tr>\n",
              "      <th>307</th>\n",
              "      <td>Estatal</td>\n",
              "      <td>1</td>\n",
              "    </tr>\n",
              "  </tbody>\n",
              "</table>\n",
              "<p>308 rows × 2 columns</p>\n",
              "</div>\n",
              "      <button class=\"colab-df-convert\" onclick=\"convertToInteractive('df-ff71b4c5-c508-4c28-8b2a-8d9c7a102734')\"\n",
              "              title=\"Convert this dataframe to an interactive table.\"\n",
              "              style=\"display:none;\">\n",
              "        \n",
              "  <svg xmlns=\"http://www.w3.org/2000/svg\" height=\"24px\"viewBox=\"0 0 24 24\"\n",
              "       width=\"24px\">\n",
              "    <path d=\"M0 0h24v24H0V0z\" fill=\"none\"/>\n",
              "    <path d=\"M18.56 5.44l.94 2.06.94-2.06 2.06-.94-2.06-.94-.94-2.06-.94 2.06-2.06.94zm-11 1L8.5 8.5l.94-2.06 2.06-.94-2.06-.94L8.5 2.5l-.94 2.06-2.06.94zm10 10l.94 2.06.94-2.06 2.06-.94-2.06-.94-.94-2.06-.94 2.06-2.06.94z\"/><path d=\"M17.41 7.96l-1.37-1.37c-.4-.4-.92-.59-1.43-.59-.52 0-1.04.2-1.43.59L10.3 9.45l-7.72 7.72c-.78.78-.78 2.05 0 2.83L4 21.41c.39.39.9.59 1.41.59.51 0 1.02-.2 1.41-.59l7.78-7.78 2.81-2.81c.8-.78.8-2.07 0-2.86zM5.41 20L4 18.59l7.72-7.72 1.47 1.35L5.41 20z\"/>\n",
              "  </svg>\n",
              "      </button>\n",
              "      \n",
              "  <style>\n",
              "    .colab-df-container {\n",
              "      display:flex;\n",
              "      flex-wrap:wrap;\n",
              "      gap: 12px;\n",
              "    }\n",
              "\n",
              "    .colab-df-convert {\n",
              "      background-color: #E8F0FE;\n",
              "      border: none;\n",
              "      border-radius: 50%;\n",
              "      cursor: pointer;\n",
              "      display: none;\n",
              "      fill: #1967D2;\n",
              "      height: 32px;\n",
              "      padding: 0 0 0 0;\n",
              "      width: 32px;\n",
              "    }\n",
              "\n",
              "    .colab-df-convert:hover {\n",
              "      background-color: #E2EBFA;\n",
              "      box-shadow: 0px 1px 2px rgba(60, 64, 67, 0.3), 0px 1px 3px 1px rgba(60, 64, 67, 0.15);\n",
              "      fill: #174EA6;\n",
              "    }\n",
              "\n",
              "    [theme=dark] .colab-df-convert {\n",
              "      background-color: #3B4455;\n",
              "      fill: #D2E3FC;\n",
              "    }\n",
              "\n",
              "    [theme=dark] .colab-df-convert:hover {\n",
              "      background-color: #434B5C;\n",
              "      box-shadow: 0px 1px 3px 1px rgba(0, 0, 0, 0.15);\n",
              "      filter: drop-shadow(0px 1px 2px rgba(0, 0, 0, 0.3));\n",
              "      fill: #FFFFFF;\n",
              "    }\n",
              "  </style>\n",
              "\n",
              "      <script>\n",
              "        const buttonEl =\n",
              "          document.querySelector('#df-ff71b4c5-c508-4c28-8b2a-8d9c7a102734 button.colab-df-convert');\n",
              "        buttonEl.style.display =\n",
              "          google.colab.kernel.accessAllowed ? 'block' : 'none';\n",
              "\n",
              "        async function convertToInteractive(key) {\n",
              "          const element = document.querySelector('#df-ff71b4c5-c508-4c28-8b2a-8d9c7a102734');\n",
              "          const dataTable =\n",
              "            await google.colab.kernel.invokeFunction('convertToInteractive',\n",
              "                                                     [key], {});\n",
              "          if (!dataTable) return;\n",
              "\n",
              "          const docLinkHtml = 'Like what you see? Visit the ' +\n",
              "            '<a target=\"_blank\" href=https://colab.research.google.com/notebooks/data_table.ipynb>data table notebook</a>'\n",
              "            + ' to learn more about interactive tables.';\n",
              "          element.innerHTML = '';\n",
              "          dataTable['output_type'] = 'display_data';\n",
              "          await google.colab.output.renderOutput(dataTable, element);\n",
              "          const docLink = document.createElement('div');\n",
              "          docLink.innerHTML = docLinkHtml;\n",
              "          element.appendChild(docLink);\n",
              "        }\n",
              "      </script>\n",
              "    </div>\n",
              "  </div>\n",
              "  "
            ]
          },
          "metadata": {},
          "execution_count": 7
        }
      ]
    },
    {
      "cell_type": "code",
      "source": [
        "regress(['iecep','dpublico'],datosedu)"
      ],
      "metadata": {
        "id": "MLV7xoH2uFow",
        "outputId": "c9443856-3d35-4524-8d15-ba356e93fc28",
        "colab": {
          "base_uri": "https://localhost:8080/"
        }
      },
      "execution_count": 9,
      "outputs": [
        {
          "output_type": "stream",
          "name": "stdout",
          "text": [
            "                            OLS Regression Results                            \n",
            "==============================================================================\n",
            "Dep. Variable:                  iecep   R-squared:                       0.203\n",
            "Model:                            OLS   Adj. R-squared:                  0.200\n",
            "Method:                 Least Squares   F-statistic:                     77.79\n",
            "Date:                Fri, 14 Oct 2022   Prob (F-statistic):           8.89e-17\n",
            "Time:                        13:39:33   Log-Likelihood:                -487.24\n",
            "No. Observations:                 308   AIC:                             978.5\n",
            "Df Residuals:                     306   BIC:                             985.9\n",
            "Df Model:                           1                                         \n",
            "Covariance Type:            nonrobust                                         \n",
            "==============================================================================\n",
            "                 coef    std err          t      P>|t|      [0.025      0.975]\n",
            "------------------------------------------------------------------------------\n",
            "const          6.4499      0.085     75.682      0.000       6.282       6.618\n",
            "dpublico      -1.2248      0.139     -8.820      0.000      -1.498      -0.952\n",
            "==============================================================================\n",
            "Omnibus:                       40.664   Durbin-Watson:                   1.866\n",
            "Prob(Omnibus):                  0.000   Jarque-Bera (JB):               53.439\n",
            "Skew:                          -0.924   Prob(JB):                     2.49e-12\n",
            "Kurtosis:                       3.864   Cond. No.                         2.43\n",
            "==============================================================================\n",
            "\n",
            "Notes:\n",
            "[1] Standard Errors assume that the covariance matrix of the errors is correctly specified.\n"
          ]
        },
        {
          "output_type": "stream",
          "name": "stderr",
          "text": [
            "/usr/local/lib/python3.7/dist-packages/statsmodels/tsa/tsatools.py:142: FutureWarning: In a future version of pandas all arguments of concat except for the argument 'objs' will be keyword-only\n",
            "  x = pd.concat(x[::order], 1)\n"
          ]
        },
        {
          "output_type": "execute_result",
          "data": {
            "text/plain": [
              "<statsmodels.regression.linear_model.RegressionResultsWrapper at 0x7fae3a82bd50>"
            ]
          },
          "metadata": {},
          "execution_count": 9
        }
      ]
    },
    {
      "cell_type": "code",
      "source": [
        "regress(['iecep','dpublico','nivel_educ_madre'],datosedu)"
      ],
      "metadata": {
        "id": "96ZsCLBat0aN",
        "outputId": "9e238edc-5a97-4221-ca93-f571ac091217",
        "colab": {
          "base_uri": "https://localhost:8080/"
        }
      },
      "execution_count": 10,
      "outputs": [
        {
          "output_type": "stream",
          "name": "stdout",
          "text": [
            "                            OLS Regression Results                            \n",
            "==============================================================================\n",
            "Dep. Variable:                  iecep   R-squared:                       0.461\n",
            "Model:                            OLS   Adj. R-squared:                  0.458\n",
            "Method:                 Least Squares   F-statistic:                     130.5\n",
            "Date:                Fri, 14 Oct 2022   Prob (F-statistic):           1.12e-41\n",
            "Time:                        13:56:27   Log-Likelihood:                -426.90\n",
            "No. Observations:                 308   AIC:                             859.8\n",
            "Df Residuals:                     305   BIC:                             871.0\n",
            "Df Model:                           2                                         \n",
            "Covariance Type:            nonrobust                                         \n",
            "====================================================================================\n",
            "                       coef    std err          t      P>|t|      [0.025      0.975]\n",
            "------------------------------------------------------------------------------------\n",
            "const                0.7852      0.474      1.658      0.098      -0.147       1.717\n",
            "dpublico            -0.0898      0.148     -0.607      0.544      -0.381       0.201\n",
            "nivel_educ_madre     0.9668      0.080     12.095      0.000       0.810       1.124\n",
            "==============================================================================\n",
            "Omnibus:                       64.377   Durbin-Watson:                   2.045\n",
            "Prob(Omnibus):                  0.000   Jarque-Bera (JB):              113.996\n",
            "Skew:                          -1.148   Prob(JB):                     1.76e-25\n",
            "Kurtosis:                       4.900   Cond. No.                         49.6\n",
            "==============================================================================\n",
            "\n",
            "Notes:\n",
            "[1] Standard Errors assume that the covariance matrix of the errors is correctly specified.\n"
          ]
        },
        {
          "output_type": "stream",
          "name": "stderr",
          "text": [
            "/usr/local/lib/python3.7/dist-packages/statsmodels/tsa/tsatools.py:142: FutureWarning: In a future version of pandas all arguments of concat except for the argument 'objs' will be keyword-only\n",
            "  x = pd.concat(x[::order], 1)\n"
          ]
        },
        {
          "output_type": "execute_result",
          "data": {
            "text/plain": [
              "<statsmodels.regression.linear_model.RegressionResultsWrapper at 0x7fae3a2c5890>"
            ]
          },
          "metadata": {},
          "execution_count": 10
        }
      ]
    },
    {
      "cell_type": "code",
      "metadata": {
        "id": "vO0cacNYYR8n"
      },
      "source": [
        "dummiesgestion=pd.get_dummies(datosedu.tipo_gestion)"
      ],
      "execution_count": null,
      "outputs": []
    },
    {
      "cell_type": "code",
      "metadata": {
        "id": "FiLl_MM7XplM"
      },
      "source": [
        "datosedu=pd.concat([ datosedu, dummiesgestion],axis=1)"
      ],
      "execution_count": null,
      "outputs": []
    },
    {
      "cell_type": "code",
      "metadata": {
        "id": "-QX5Q3grYaEi",
        "outputId": "57b12a16-0497-4ddf-fb09-d22d4bb43fb1",
        "colab": {
          "base_uri": "https://localhost:8080/",
          "height": 475
        }
      },
      "source": [
        "regress(['iecep', 'Privada'], datosedu)"
      ],
      "execution_count": null,
      "outputs": [
        {
          "output_type": "stream",
          "text": [
            "                            OLS Regression Results                            \n",
            "==============================================================================\n",
            "Dep. Variable:                  iecep   R-squared:                       0.203\n",
            "Model:                            OLS   Adj. R-squared:                  0.200\n",
            "Method:                 Least Squares   F-statistic:                     77.79\n",
            "Date:                Wed, 14 Oct 2020   Prob (F-statistic):           8.89e-17\n",
            "Time:                        18:43:25   Log-Likelihood:                -487.24\n",
            "No. Observations:                 308   AIC:                             978.5\n",
            "Df Residuals:                     306   BIC:                             985.9\n",
            "Df Model:                           1                                         \n",
            "Covariance Type:            nonrobust                                         \n",
            "==============================================================================\n",
            "                 coef    std err          t      P>|t|      [0.025      0.975]\n",
            "------------------------------------------------------------------------------\n",
            "const          5.2251      0.110     47.656      0.000       5.009       5.441\n",
            "Privada        1.2248      0.139      8.820      0.000       0.952       1.498\n",
            "==============================================================================\n",
            "Omnibus:                       40.664   Durbin-Watson:                   1.866\n",
            "Prob(Omnibus):                  0.000   Jarque-Bera (JB):               53.439\n",
            "Skew:                          -0.924   Prob(JB):                     2.49e-12\n",
            "Kurtosis:                       3.864   Cond. No.                         3.02\n",
            "==============================================================================\n",
            "\n",
            "Warnings:\n",
            "[1] Standard Errors assume that the covariance matrix of the errors is correctly specified.\n"
          ],
          "name": "stdout"
        },
        {
          "output_type": "execute_result",
          "data": {
            "text/plain": [
              "<statsmodels.regression.linear_model.RegressionResultsWrapper at 0x7fd0744829e8>"
            ]
          },
          "metadata": {
            "tags": []
          },
          "execution_count": 73
        }
      ]
    },
    {
      "cell_type": "markdown",
      "metadata": {
        "id": "PSVVqNSrStmm"
      },
      "source": [
        "# Ejemplos Colinealidad\n"
      ]
    },
    {
      "cell_type": "code",
      "metadata": {
        "id": "oCRRO-RuOehL"
      },
      "source": [
        "df['aesc2']=df.aesc**2"
      ],
      "execution_count": null,
      "outputs": []
    },
    {
      "cell_type": "code",
      "metadata": {
        "id": "OS7b9nr9OxoJ",
        "outputId": "c70ffa29-5789-48ab-9959-e9195f9dbe66",
        "colab": {
          "base_uri": "https://localhost:8080/",
          "height": 527
        }
      },
      "source": [
        "regress(['logingreso', 'aesc', 'aesc2'], df)"
      ],
      "execution_count": null,
      "outputs": [
        {
          "output_type": "stream",
          "text": [
            "                            OLS Regression Results                            \n",
            "==============================================================================\n",
            "Dep. Variable:             logingreso   R-squared:                       0.217\n",
            "Model:                            OLS   Adj. R-squared:                  0.217\n",
            "Method:                 Least Squares   F-statistic:                     1398.\n",
            "Date:                Wed, 14 Oct 2020   Prob (F-statistic):               0.00\n",
            "Time:                        18:44:40   Log-Likelihood:                -11676.\n",
            "No. Observations:               10084   AIC:                         2.336e+04\n",
            "Df Residuals:                   10081   BIC:                         2.338e+04\n",
            "Df Model:                           2                                         \n",
            "Covariance Type:            nonrobust                                         \n",
            "==============================================================================\n",
            "                 coef    std err          t      P>|t|      [0.025      0.975]\n",
            "------------------------------------------------------------------------------\n",
            "const          8.7384      0.057    152.174      0.000       8.626       8.851\n",
            "aesc          -0.0417      0.010     -4.146      0.000      -0.061      -0.022\n",
            "aesc2          0.0062      0.000     14.635      0.000       0.005       0.007\n",
            "==============================================================================\n",
            "Omnibus:                     2746.043   Durbin-Watson:                   1.782\n",
            "Prob(Omnibus):                  0.000   Jarque-Bera (JB):            15703.763\n",
            "Skew:                          -1.185   Prob(JB):                         0.00\n",
            "Kurtosis:                       8.636   Cond. No.                     1.48e+03\n",
            "==============================================================================\n",
            "\n",
            "Warnings:\n",
            "[1] Standard Errors assume that the covariance matrix of the errors is correctly specified.\n",
            "[2] The condition number is large, 1.48e+03. This might indicate that there are\n",
            "strong multicollinearity or other numerical problems.\n"
          ],
          "name": "stdout"
        },
        {
          "output_type": "execute_result",
          "data": {
            "text/plain": [
              "<statsmodels.regression.linear_model.RegressionResultsWrapper at 0x7fd074476240>"
            ]
          },
          "metadata": {
            "tags": []
          },
          "execution_count": 77
        }
      ]
    },
    {
      "cell_type": "code",
      "metadata": {
        "id": "FzmI1XxabeD7",
        "outputId": "0b4b4918-a981-4c32-a056-d8255c047381",
        "colab": {
          "base_uri": "https://localhost:8080/",
          "height": 475
        }
      },
      "source": [
        "regress(['logingreso', 'aesc'], df)"
      ],
      "execution_count": null,
      "outputs": [
        {
          "output_type": "stream",
          "text": [
            "                            OLS Regression Results                            \n",
            "==============================================================================\n",
            "Dep. Variable:             logingreso   R-squared:                       0.201\n",
            "Model:                            OLS   Adj. R-squared:                  0.200\n",
            "Method:                 Least Squares   F-statistic:                     2528.\n",
            "Date:                Wed, 14 Oct 2020   Prob (F-statistic):               0.00\n",
            "Time:                        18:44:59   Log-Likelihood:                -11782.\n",
            "No. Observations:               10084   AIC:                         2.357e+04\n",
            "Df Residuals:                   10082   BIC:                         2.358e+04\n",
            "Df Model:                           1                                         \n",
            "Covariance Type:            nonrobust                                         \n",
            "==============================================================================\n",
            "                 coef    std err          t      P>|t|      [0.025      0.975]\n",
            "------------------------------------------------------------------------------\n",
            "const          7.9928      0.027    298.484      0.000       7.940       8.045\n",
            "aesc           0.1025      0.002     50.284      0.000       0.098       0.106\n",
            "==============================================================================\n",
            "Omnibus:                     2443.682   Durbin-Watson:                   1.772\n",
            "Prob(Omnibus):                  0.000   Jarque-Bera (JB):            11043.784\n",
            "Skew:                          -1.113   Prob(JB):                         0.00\n",
            "Kurtosis:                       7.618   Cond. No.                         45.6\n",
            "==============================================================================\n",
            "\n",
            "Warnings:\n",
            "[1] Standard Errors assume that the covariance matrix of the errors is correctly specified.\n"
          ],
          "name": "stdout"
        },
        {
          "output_type": "execute_result",
          "data": {
            "text/plain": [
              "<statsmodels.regression.linear_model.RegressionResultsWrapper at 0x7fd074476ac8>"
            ]
          },
          "metadata": {
            "tags": []
          },
          "execution_count": 78
        }
      ]
    },
    {
      "cell_type": "markdown",
      "metadata": {
        "id": "3Kt0R0BDbo7w"
      },
      "source": [
        "Ejemplo en datos de educacion\n"
      ]
    },
    {
      "cell_type": "code",
      "metadata": {
        "id": "V5HhKlmpSGAt",
        "outputId": "f4fd41dc-04ef-4af0-a319-463adfec5e9b",
        "colab": {
          "base_uri": "https://localhost:8080/"
        }
      },
      "source": [
        "regress(['tasa_repeticion_2012', 'one_alto_mat'], datosedu)"
      ],
      "execution_count": 11,
      "outputs": [
        {
          "output_type": "stream",
          "name": "stdout",
          "text": [
            "                             OLS Regression Results                             \n",
            "================================================================================\n",
            "Dep. Variable:     tasa_repeticion_2012   R-squared:                       0.179\n",
            "Model:                              OLS   Adj. R-squared:                  0.177\n",
            "Method:                   Least Squares   F-statistic:                     66.84\n",
            "Date:                  Fri, 14 Oct 2022   Prob (F-statistic):           7.90e-15\n",
            "Time:                          14:48:05   Log-Likelihood:                -1119.3\n",
            "No. Observations:                   308   AIC:                             2243.\n",
            "Df Residuals:                       306   BIC:                             2250.\n",
            "Df Model:                             1                                         \n",
            "Covariance Type:              nonrobust                                         \n",
            "================================================================================\n",
            "                   coef    std err          t      P>|t|      [0.025      0.975]\n",
            "--------------------------------------------------------------------------------\n",
            "const           15.2180      0.901     16.886      0.000      13.445      16.991\n",
            "one_alto_mat   -23.5385      2.879     -8.176      0.000     -29.204     -17.873\n",
            "==============================================================================\n",
            "Omnibus:                       59.030   Durbin-Watson:                   1.930\n",
            "Prob(Omnibus):                  0.000   Jarque-Bera (JB):               91.831\n",
            "Skew:                           1.147   Prob(JB):                     1.15e-20\n",
            "Kurtosis:                       4.378   Cond. No.                         5.87\n",
            "==============================================================================\n",
            "\n",
            "Notes:\n",
            "[1] Standard Errors assume that the covariance matrix of the errors is correctly specified.\n"
          ]
        },
        {
          "output_type": "stream",
          "name": "stderr",
          "text": [
            "/usr/local/lib/python3.7/dist-packages/statsmodels/tsa/tsatools.py:142: FutureWarning: In a future version of pandas all arguments of concat except for the argument 'objs' will be keyword-only\n",
            "  x = pd.concat(x[::order], 1)\n"
          ]
        },
        {
          "output_type": "execute_result",
          "data": {
            "text/plain": [
              "<statsmodels.regression.linear_model.RegressionResultsWrapper at 0x7fae3c0db210>"
            ]
          },
          "metadata": {},
          "execution_count": 11
        }
      ]
    },
    {
      "cell_type": "code",
      "metadata": {
        "id": "jqyC3a_KSR-n",
        "outputId": "000794d8-d8c4-4562-bc6a-79623ea1eff4",
        "colab": {
          "base_uri": "https://localhost:8080/"
        }
      },
      "source": [
        "regress(['tasa_repeticion_2012', 'one_alto_cs_nat'], datosedu)"
      ],
      "execution_count": 12,
      "outputs": [
        {
          "output_type": "stream",
          "name": "stdout",
          "text": [
            "                             OLS Regression Results                             \n",
            "================================================================================\n",
            "Dep. Variable:     tasa_repeticion_2012   R-squared:                       0.179\n",
            "Model:                              OLS   Adj. R-squared:                  0.177\n",
            "Method:                   Least Squares   F-statistic:                     66.93\n",
            "Date:                  Fri, 14 Oct 2022   Prob (F-statistic):           7.61e-15\n",
            "Time:                          14:50:50   Log-Likelihood:                -1119.2\n",
            "No. Observations:                   308   AIC:                             2242.\n",
            "Df Residuals:                       306   BIC:                             2250.\n",
            "Df Model:                             1                                         \n",
            "Covariance Type:              nonrobust                                         \n",
            "===================================================================================\n",
            "                      coef    std err          t      P>|t|      [0.025      0.975]\n",
            "-----------------------------------------------------------------------------------\n",
            "const              15.3143      0.910     16.822      0.000      13.523      17.106\n",
            "one_alto_cs_nat   -30.1352      3.683     -8.181      0.000     -37.383     -22.887\n",
            "==============================================================================\n",
            "Omnibus:                       55.703   Durbin-Watson:                   1.985\n",
            "Prob(Omnibus):                  0.000   Jarque-Bera (JB):               84.013\n",
            "Skew:                           1.108   Prob(JB):                     5.71e-19\n",
            "Kurtosis:                       4.281   Cond. No.                         7.33\n",
            "==============================================================================\n",
            "\n",
            "Notes:\n",
            "[1] Standard Errors assume that the covariance matrix of the errors is correctly specified.\n"
          ]
        },
        {
          "output_type": "stream",
          "name": "stderr",
          "text": [
            "/usr/local/lib/python3.7/dist-packages/statsmodels/tsa/tsatools.py:142: FutureWarning: In a future version of pandas all arguments of concat except for the argument 'objs' will be keyword-only\n",
            "  x = pd.concat(x[::order], 1)\n"
          ]
        },
        {
          "output_type": "execute_result",
          "data": {
            "text/plain": [
              "<statsmodels.regression.linear_model.RegressionResultsWrapper at 0x7fae3a2c5310>"
            ]
          },
          "metadata": {},
          "execution_count": 12
        }
      ]
    },
    {
      "cell_type": "code",
      "metadata": {
        "id": "kL8II8X9SWR7",
        "outputId": "6d8762d9-99c4-4655-92b6-97d40142bfc2",
        "colab": {
          "base_uri": "https://localhost:8080/",
          "height": 457
        }
      },
      "source": [
        "regress(['tasa_repeticion_2012', 'one_alto_cs_soc'], datosedu)"
      ],
      "execution_count": null,
      "outputs": [
        {
          "output_type": "stream",
          "text": [
            "                             OLS Regression Results                             \n",
            "================================================================================\n",
            "Dep. Variable:     tasa_repeticion_2012   R-squared:                       0.190\n",
            "Model:                              OLS   Adj. R-squared:                  0.188\n",
            "Method:                   Least Squares   F-statistic:                     71.94\n",
            "Date:                  Thu, 02 Jul 2020   Prob (F-statistic):           9.62e-16\n",
            "Time:                          20:48:21   Log-Likelihood:                -1117.2\n",
            "No. Observations:                   308   AIC:                             2238.\n",
            "Df Residuals:                       306   BIC:                             2246.\n",
            "Df Model:                             1                                         \n",
            "Covariance Type:              nonrobust                                         \n",
            "===================================================================================\n",
            "                      coef    std err          t      P>|t|      [0.025      0.975]\n",
            "-----------------------------------------------------------------------------------\n",
            "const              16.9993      1.054     16.125      0.000      14.925      19.074\n",
            "one_alto_cs_soc   -26.9200      3.174     -8.482      0.000     -33.165     -20.674\n",
            "==============================================================================\n",
            "Omnibus:                       58.859   Durbin-Watson:                   1.989\n",
            "Prob(Omnibus):                  0.000   Jarque-Bera (JB):               92.739\n",
            "Skew:                           1.131   Prob(JB):                     7.28e-21\n",
            "Kurtosis:                       4.453   Cond. No.                         6.62\n",
            "==============================================================================\n",
            "\n",
            "Warnings:\n",
            "[1] Standard Errors assume that the covariance matrix of the errors is correctly specified.\n"
          ],
          "name": "stdout"
        }
      ]
    },
    {
      "cell_type": "code",
      "metadata": {
        "id": "zRH5THsOSaoa",
        "outputId": "4bab2577-ed74-43ee-8de1-5234e94fed1c",
        "colab": {
          "base_uri": "https://localhost:8080/"
        }
      },
      "source": [
        "regress(['tasa_repeticion_2012',  'one_alto_mat', 'one_alto_cs_nat', 'one_alto_cs_soc'], datosedu)"
      ],
      "execution_count": 13,
      "outputs": [
        {
          "output_type": "stream",
          "name": "stdout",
          "text": [
            "                             OLS Regression Results                             \n",
            "================================================================================\n",
            "Dep. Variable:     tasa_repeticion_2012   R-squared:                       0.228\n",
            "Model:                              OLS   Adj. R-squared:                  0.220\n",
            "Method:                   Least Squares   F-statistic:                     29.89\n",
            "Date:                  Fri, 14 Oct 2022   Prob (F-statistic):           5.80e-17\n",
            "Time:                          14:51:42   Log-Likelihood:                -1109.9\n",
            "No. Observations:                   308   AIC:                             2228.\n",
            "Df Residuals:                       304   BIC:                             2243.\n",
            "Df Model:                             3                                         \n",
            "Covariance Type:              nonrobust                                         \n",
            "===================================================================================\n",
            "                      coef    std err          t      P>|t|      [0.025      0.975]\n",
            "-----------------------------------------------------------------------------------\n",
            "const              17.5814      1.044     16.839      0.000      15.527      19.636\n",
            "one_alto_mat       -9.4725      4.373     -2.166      0.031     -18.078      -0.867\n",
            "one_alto_cs_nat   -10.0345      5.878     -1.707      0.089     -21.601       1.531\n",
            "one_alto_cs_soc   -13.5609      4.698     -2.886      0.004     -22.806      -4.316\n",
            "==============================================================================\n",
            "Omnibus:                       53.961   Durbin-Watson:                   1.978\n",
            "Prob(Omnibus):                  0.000   Jarque-Bera (JB):               81.254\n",
            "Skew:                           1.072   Prob(JB):                     2.27e-18\n",
            "Kurtosis:                       4.316   Cond. No.                         14.3\n",
            "==============================================================================\n",
            "\n",
            "Notes:\n",
            "[1] Standard Errors assume that the covariance matrix of the errors is correctly specified.\n"
          ]
        },
        {
          "output_type": "stream",
          "name": "stderr",
          "text": [
            "/usr/local/lib/python3.7/dist-packages/statsmodels/tsa/tsatools.py:142: FutureWarning: In a future version of pandas all arguments of concat except for the argument 'objs' will be keyword-only\n",
            "  x = pd.concat(x[::order], 1)\n"
          ]
        },
        {
          "output_type": "execute_result",
          "data": {
            "text/plain": [
              "<statsmodels.regression.linear_model.RegressionResultsWrapper at 0x7fae3a2c5a90>"
            ]
          },
          "metadata": {},
          "execution_count": 13
        }
      ]
    },
    {
      "cell_type": "code",
      "source": [
        "regress(['tasa_repeticion_2012',  'one_alto_mat', 'one_alto_cs_nat', 'one_alto_cs_soc', 'one_alto_lengua'], datosedu)"
      ],
      "metadata": {
        "id": "DJ4Q8YKA_u4L",
        "outputId": "0d0d984b-1cdc-4197-f5fd-6f3b83867ec7",
        "colab": {
          "base_uri": "https://localhost:8080/"
        }
      },
      "execution_count": 15,
      "outputs": [
        {
          "output_type": "stream",
          "name": "stdout",
          "text": [
            "                             OLS Regression Results                             \n",
            "================================================================================\n",
            "Dep. Variable:     tasa_repeticion_2012   R-squared:                       0.299\n",
            "Model:                              OLS   Adj. R-squared:                  0.290\n",
            "Method:                   Least Squares   F-statistic:                     32.38\n",
            "Date:                  Fri, 14 Oct 2022   Prob (F-statistic):           1.78e-22\n",
            "Time:                          14:56:49   Log-Likelihood:                -1094.9\n",
            "No. Observations:                   308   AIC:                             2200.\n",
            "Df Residuals:                       303   BIC:                             2218.\n",
            "Df Model:                             4                                         \n",
            "Covariance Type:              nonrobust                                         \n",
            "===================================================================================\n",
            "                      coef    std err          t      P>|t|      [0.025      0.975]\n",
            "-----------------------------------------------------------------------------------\n",
            "const              19.6309      1.062     18.485      0.000      17.541      21.721\n",
            "one_alto_mat       -3.1510      4.324     -0.729      0.467     -11.660       5.358\n",
            "one_alto_cs_nat     1.0505      5.951      0.177      0.860     -10.659      12.760\n",
            "one_alto_cs_soc    -0.9054      5.026     -0.180      0.857     -10.795       8.985\n",
            "one_alto_lengua   -25.5946      4.598     -5.566      0.000     -34.643     -16.546\n",
            "==============================================================================\n",
            "Omnibus:                       50.789   Durbin-Watson:                   1.976\n",
            "Prob(Omnibus):                  0.000   Jarque-Bera (JB):               82.986\n",
            "Skew:                           0.957   Prob(JB):                     9.55e-19\n",
            "Kurtosis:                       4.674   Cond. No.                         15.5\n",
            "==============================================================================\n",
            "\n",
            "Notes:\n",
            "[1] Standard Errors assume that the covariance matrix of the errors is correctly specified.\n"
          ]
        },
        {
          "output_type": "stream",
          "name": "stderr",
          "text": [
            "/usr/local/lib/python3.7/dist-packages/statsmodels/tsa/tsatools.py:142: FutureWarning: In a future version of pandas all arguments of concat except for the argument 'objs' will be keyword-only\n",
            "  x = pd.concat(x[::order], 1)\n"
          ]
        },
        {
          "output_type": "execute_result",
          "data": {
            "text/plain": [
              "<statsmodels.regression.linear_model.RegressionResultsWrapper at 0x7fae3c0e9110>"
            ]
          },
          "metadata": {},
          "execution_count": 15
        }
      ]
    }
  ]
}